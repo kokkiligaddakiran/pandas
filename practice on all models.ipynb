{
 "cells": [
  {
   "cell_type": "code",
   "execution_count": 106,
   "metadata": {},
   "outputs": [],
   "source": [
    "import numpy as np"
   ]
  },
  {
   "cell_type": "code",
   "execution_count": 107,
   "metadata": {},
   "outputs": [],
   "source": [
    "a=np.array([1,2,3,'kiran','kumar'])"
   ]
  },
  {
   "cell_type": "code",
   "execution_count": 108,
   "metadata": {},
   "outputs": [
    {
     "data": {
      "text/plain": [
       "array(['1', '2', '3', 'kiran', 'kumar'], dtype='<U21')"
      ]
     },
     "execution_count": 108,
     "metadata": {},
     "output_type": "execute_result"
    }
   ],
   "source": [
    "a"
   ]
  },
  {
   "cell_type": "code",
   "execution_count": 4,
   "metadata": {},
   "outputs": [],
   "source": [
    "#more than one dimensional"
   ]
  },
  {
   "cell_type": "code",
   "execution_count": 5,
   "metadata": {},
   "outputs": [],
   "source": [
    "a=np.array([[1,2,2,4,5,6], [1,2,3,1,6,4,6]])"
   ]
  },
  {
   "cell_type": "code",
   "execution_count": 6,
   "metadata": {},
   "outputs": [
    {
     "data": {
      "text/plain": [
       "array([list([1, 2, 2, 4, 5, 6]), list([1, 2, 3, 1, 6, 4, 6])],\n",
       "      dtype=object)"
      ]
     },
     "execution_count": 6,
     "metadata": {},
     "output_type": "execute_result"
    }
   ],
   "source": [
    "a"
   ]
  },
  {
   "cell_type": "code",
   "execution_count": 7,
   "metadata": {},
   "outputs": [],
   "source": [
    "#miminum dimensions"
   ]
  },
  {
   "cell_type": "code",
   "execution_count": 109,
   "metadata": {},
   "outputs": [],
   "source": [
    "a=np.array([1,2,3,4,6,45,2],ndmin=2)"
   ]
  },
  {
   "cell_type": "code",
   "execution_count": 110,
   "metadata": {},
   "outputs": [
    {
     "data": {
      "text/plain": [
       "array([[ 1,  2,  3,  4,  6, 45,  2]])"
      ]
     },
     "execution_count": 110,
     "metadata": {},
     "output_type": "execute_result"
    }
   ],
   "source": [
    "a"
   ]
  },
  {
   "cell_type": "code",
   "execution_count": 10,
   "metadata": {},
   "outputs": [],
   "source": [
    "#data type parameter(dtype)"
   ]
  },
  {
   "cell_type": "code",
   "execution_count": 11,
   "metadata": {},
   "outputs": [],
   "source": [
    "a=np.array([1,2,3,4,6,4,5,3,4], dtype=np.intc)"
   ]
  },
  {
   "cell_type": "code",
   "execution_count": 12,
   "metadata": {},
   "outputs": [
    {
     "data": {
      "text/plain": [
       "array([1, 2, 3, 4, 6, 4, 5, 3, 4], dtype=int32)"
      ]
     },
     "execution_count": 12,
     "metadata": {},
     "output_type": "execute_result"
    }
   ],
   "source": [
    "a"
   ]
  },
  {
   "cell_type": "code",
   "execution_count": 13,
   "metadata": {},
   "outputs": [],
   "source": [
    "#using array -scalar type"
   ]
  },
  {
   "cell_type": "code",
   "execution_count": 16,
   "metadata": {},
   "outputs": [],
   "source": [
    "dt=np.dtype(np.int32) or dt=np.dtype('i4'= int32,'i8'=int64,'i1'=int8,'i2'=int16)"
   ]
  },
  {
   "cell_type": "code",
   "execution_count": 17,
   "metadata": {},
   "outputs": [
    {
     "data": {
      "text/plain": [
       "dtype('int32')"
      ]
     },
     "execution_count": 17,
     "metadata": {},
     "output_type": "execute_result"
    }
   ],
   "source": [
    "dt"
   ]
  },
  {
   "cell_type": "code",
   "execution_count": 18,
   "metadata": {},
   "outputs": [],
   "source": [
    "dt=np.dtype('i2')"
   ]
  },
  {
   "cell_type": "code",
   "execution_count": 19,
   "metadata": {},
   "outputs": [
    {
     "data": {
      "text/plain": [
       "dtype('int16')"
      ]
     },
     "execution_count": 19,
     "metadata": {},
     "output_type": "execute_result"
    }
   ],
   "source": [
    "dt"
   ]
  },
  {
   "cell_type": "code",
   "execution_count": 20,
   "metadata": {},
   "outputs": [],
   "source": [
    "#using endian notation"
   ]
  },
  {
   "cell_type": "code",
   "execution_count": 21,
   "metadata": {},
   "outputs": [],
   "source": [
    "dt=np.dtype('<i4') #(\"<\" means the encoding is little -endian(least significant is stored in smallest address)) and \n",
    "#(\">\" means the encoding is big -endian(most significant is stored in smallest address))"
   ]
  },
  {
   "cell_type": "code",
   "execution_count": 22,
   "metadata": {},
   "outputs": [
    {
     "data": {
      "text/plain": [
       "dtype('int32')"
      ]
     },
     "execution_count": 22,
     "metadata": {},
     "output_type": "execute_result"
    }
   ],
   "source": [
    "dt"
   ]
  },
  {
   "cell_type": "code",
   "execution_count": 23,
   "metadata": {},
   "outputs": [],
   "source": [
    "dt=np.dtype([('age','m')])"
   ]
  },
  {
   "cell_type": "code",
   "execution_count": 24,
   "metadata": {},
   "outputs": [
    {
     "data": {
      "text/plain": [
       "dtype([('age', '<m8')])"
      ]
     },
     "execution_count": 24,
     "metadata": {},
     "output_type": "execute_result"
    }
   ],
   "source": [
    "dt"
   ]
  },
  {
   "cell_type": "code",
   "execution_count": 25,
   "metadata": {},
   "outputs": [],
   "source": [
    "a=np.array([(10),(20),(30)],dtype=dt)"
   ]
  },
  {
   "cell_type": "code",
   "execution_count": 26,
   "metadata": {},
   "outputs": [
    {
     "data": {
      "text/plain": [
       "array([10, 20, 30], dtype=timedelta64)"
      ]
     },
     "execution_count": 26,
     "metadata": {},
     "output_type": "execute_result"
    }
   ],
   "source": [
    "a['age']"
   ]
  },
  {
   "cell_type": "code",
   "execution_count": 27,
   "metadata": {},
   "outputs": [],
   "source": [
    "stud=np.dtype([('name','S10'),('age','i4'),('marks','c')])"
   ]
  },
  {
   "cell_type": "code",
   "execution_count": 28,
   "metadata": {},
   "outputs": [
    {
     "data": {
      "text/plain": [
       "dtype([('name', 'S10'), ('age', '<i4'), ('marks', 'S1')])"
      ]
     },
     "execution_count": 28,
     "metadata": {},
     "output_type": "execute_result"
    }
   ],
   "source": [
    "stud"
   ]
  },
  {
   "cell_type": "code",
   "execution_count": 29,
   "metadata": {},
   "outputs": [],
   "source": [
    "a=np.array([('abs',22,55),('kkk',55,888),('ppp',78,44)],dtype=stud)"
   ]
  },
  {
   "cell_type": "code",
   "execution_count": 30,
   "metadata": {},
   "outputs": [
    {
     "data": {
      "text/plain": [
       "array([(b'abs', 22, b'5'), (b'kkk', 55, b'8'), (b'ppp', 78, b'4')],\n",
       "      dtype=[('name', 'S10'), ('age', '<i4'), ('marks', 'S1')])"
      ]
     },
     "execution_count": 30,
     "metadata": {},
     "output_type": "execute_result"
    }
   ],
   "source": [
    "a"
   ]
  },
  {
   "cell_type": "code",
   "execution_count": 31,
   "metadata": {},
   "outputs": [],
   "source": [
    "#Array attributes to numpy"
   ]
  },
  {
   "cell_type": "code",
   "execution_count": 32,
   "metadata": {},
   "outputs": [],
   "source": [
    "a=np.array([[1,2,3,6,4,6,5,5],[4,6,7,9,4,8,6,10],[4,5,6,7,6,7,9,5]])      "
   ]
  },
  {
   "cell_type": "code",
   "execution_count": 33,
   "metadata": {},
   "outputs": [
    {
     "data": {
      "text/plain": [
       "(3, 8)"
      ]
     },
     "execution_count": 33,
     "metadata": {},
     "output_type": "execute_result"
    }
   ],
   "source": [
    "a.shape"
   ]
  },
  {
   "cell_type": "code",
   "execution_count": 34,
   "metadata": {},
   "outputs": [
    {
     "data": {
      "text/plain": [
       "array([[ 1,  2,  3,  6],\n",
       "       [ 4,  6,  5,  5],\n",
       "       [ 4,  6,  7,  9],\n",
       "       [ 4,  8,  6, 10],\n",
       "       [ 4,  5,  6,  7],\n",
       "       [ 6,  7,  9,  5]])"
      ]
     },
     "execution_count": 34,
     "metadata": {},
     "output_type": "execute_result"
    }
   ],
   "source": [
    "a.reshape(6,4)"
   ]
  },
  {
   "cell_type": "code",
   "execution_count": 35,
   "metadata": {},
   "outputs": [],
   "source": [
    "a=np.arange(100)"
   ]
  },
  {
   "cell_type": "code",
   "execution_count": 36,
   "metadata": {},
   "outputs": [
    {
     "data": {
      "text/plain": [
       "array([ 0,  1,  2,  3,  4,  5,  6,  7,  8,  9, 10, 11, 12, 13, 14, 15, 16,\n",
       "       17, 18, 19, 20, 21, 22, 23, 24, 25, 26, 27, 28, 29, 30, 31, 32, 33,\n",
       "       34, 35, 36, 37, 38, 39, 40, 41, 42, 43, 44, 45, 46, 47, 48, 49, 50,\n",
       "       51, 52, 53, 54, 55, 56, 57, 58, 59, 60, 61, 62, 63, 64, 65, 66, 67,\n",
       "       68, 69, 70, 71, 72, 73, 74, 75, 76, 77, 78, 79, 80, 81, 82, 83, 84,\n",
       "       85, 86, 87, 88, 89, 90, 91, 92, 93, 94, 95, 96, 97, 98, 99])"
      ]
     },
     "execution_count": 36,
     "metadata": {},
     "output_type": "execute_result"
    }
   ],
   "source": [
    "a"
   ]
  },
  {
   "cell_type": "code",
   "execution_count": 37,
   "metadata": {},
   "outputs": [
    {
     "data": {
      "text/plain": [
       "1"
      ]
     },
     "execution_count": 37,
     "metadata": {},
     "output_type": "execute_result"
    }
   ],
   "source": [
    "a.ndim"
   ]
  },
  {
   "cell_type": "code",
   "execution_count": 38,
   "metadata": {},
   "outputs": [
    {
     "data": {
      "text/plain": [
       "(100,)"
      ]
     },
     "execution_count": 38,
     "metadata": {},
     "output_type": "execute_result"
    }
   ],
   "source": [
    "a.shape"
   ]
  },
  {
   "cell_type": "code",
   "execution_count": 39,
   "metadata": {},
   "outputs": [
    {
     "data": {
      "text/plain": [
       "array([[[ 0,  1],\n",
       "        [ 2,  3],\n",
       "        [ 4,  5],\n",
       "        [ 6,  7],\n",
       "        [ 8,  9]],\n",
       "\n",
       "       [[10, 11],\n",
       "        [12, 13],\n",
       "        [14, 15],\n",
       "        [16, 17],\n",
       "        [18, 19]],\n",
       "\n",
       "       [[20, 21],\n",
       "        [22, 23],\n",
       "        [24, 25],\n",
       "        [26, 27],\n",
       "        [28, 29]],\n",
       "\n",
       "       [[30, 31],\n",
       "        [32, 33],\n",
       "        [34, 35],\n",
       "        [36, 37],\n",
       "        [38, 39]],\n",
       "\n",
       "       [[40, 41],\n",
       "        [42, 43],\n",
       "        [44, 45],\n",
       "        [46, 47],\n",
       "        [48, 49]],\n",
       "\n",
       "       [[50, 51],\n",
       "        [52, 53],\n",
       "        [54, 55],\n",
       "        [56, 57],\n",
       "        [58, 59]],\n",
       "\n",
       "       [[60, 61],\n",
       "        [62, 63],\n",
       "        [64, 65],\n",
       "        [66, 67],\n",
       "        [68, 69]],\n",
       "\n",
       "       [[70, 71],\n",
       "        [72, 73],\n",
       "        [74, 75],\n",
       "        [76, 77],\n",
       "        [78, 79]],\n",
       "\n",
       "       [[80, 81],\n",
       "        [82, 83],\n",
       "        [84, 85],\n",
       "        [86, 87],\n",
       "        [88, 89]],\n",
       "\n",
       "       [[90, 91],\n",
       "        [92, 93],\n",
       "        [94, 95],\n",
       "        [96, 97],\n",
       "        [98, 99]]])"
      ]
     },
     "execution_count": 39,
     "metadata": {},
     "output_type": "execute_result"
    }
   ],
   "source": [
    "a.reshape(10,5,2)"
   ]
  },
  {
   "cell_type": "code",
   "execution_count": 40,
   "metadata": {},
   "outputs": [],
   "source": [
    "#numpy.itemsize"
   ]
  },
  {
   "cell_type": "code",
   "execution_count": 41,
   "metadata": {},
   "outputs": [],
   "source": [
    "a=np.array([1,2,3,1,3,4,3],dtype=np.int32)"
   ]
  },
  {
   "cell_type": "code",
   "execution_count": 42,
   "metadata": {},
   "outputs": [
    {
     "data": {
      "text/plain": [
       "array([1, 2, 3, 1, 3, 4, 3], dtype=int32)"
      ]
     },
     "execution_count": 42,
     "metadata": {},
     "output_type": "execute_result"
    }
   ],
   "source": [
    "a"
   ]
  },
  {
   "cell_type": "code",
   "execution_count": 43,
   "metadata": {},
   "outputs": [
    {
     "data": {
      "text/plain": [
       "4"
      ]
     },
     "execution_count": 43,
     "metadata": {},
     "output_type": "execute_result"
    }
   ],
   "source": [
    "a.itemsize"
   ]
  },
  {
   "cell_type": "code",
   "execution_count": 45,
   "metadata": {},
   "outputs": [],
   "source": [
    "a=np.array([1,2,3,46,7,8,9,7,9],dtype=np.float32)"
   ]
  },
  {
   "cell_type": "code",
   "execution_count": 46,
   "metadata": {},
   "outputs": [
    {
     "data": {
      "text/plain": [
       "array([ 1.,  2.,  3., 46.,  7.,  8.,  9.,  7.,  9.], dtype=float32)"
      ]
     },
     "execution_count": 46,
     "metadata": {},
     "output_type": "execute_result"
    }
   ],
   "source": [
    "a"
   ]
  },
  {
   "cell_type": "code",
   "execution_count": 47,
   "metadata": {},
   "outputs": [
    {
     "data": {
      "text/plain": [
       "4"
      ]
     },
     "execution_count": 47,
     "metadata": {},
     "output_type": "execute_result"
    }
   ],
   "source": [
    "a.itemsize"
   ]
  },
  {
   "cell_type": "code",
   "execution_count": 48,
   "metadata": {},
   "outputs": [
    {
     "data": {
      "text/plain": [
       "  C_CONTIGUOUS : True\n",
       "  F_CONTIGUOUS : True\n",
       "  OWNDATA : True\n",
       "  WRITEABLE : True\n",
       "  ALIGNED : True\n",
       "  WRITEBACKIFCOPY : False\n",
       "  UPDATEIFCOPY : False"
      ]
     },
     "execution_count": 48,
     "metadata": {},
     "output_type": "execute_result"
    }
   ],
   "source": [
    "a.flags"
   ]
  },
  {
   "cell_type": "code",
   "execution_count": 49,
   "metadata": {},
   "outputs": [],
   "source": [
    "#6.Numpy -Array Creation Routines"
   ]
  },
  {
   "cell_type": "code",
   "execution_count": 50,
   "metadata": {},
   "outputs": [],
   "source": [
    "#numpy.empty:\n",
    "            #it will create an unintialized array of specified shape and dtype.It uses the following constructor:"
   ]
  },
  {
   "cell_type": "code",
   "execution_count": 111,
   "metadata": {},
   "outputs": [],
   "source": [
    "a=np.empty([5,3], dtype=np.float64)"
   ]
  },
  {
   "cell_type": "code",
   "execution_count": 112,
   "metadata": {},
   "outputs": [
    {
     "data": {
      "text/plain": [
       "array([[4.e-323, 4.e-323, 4.e-323],\n",
       "       [4.e-323, 4.e-323, 4.e-323],\n",
       "       [4.e-323, 4.e-323, 4.e-323],\n",
       "       [4.e-323, 4.e-323, 4.e-323],\n",
       "       [4.e-323, 4.e-323, 4.e-323]])"
      ]
     },
     "execution_count": 112,
     "metadata": {},
     "output_type": "execute_result"
    }
   ],
   "source": [
    "a"
   ]
  },
  {
   "cell_type": "code",
   "execution_count": 55,
   "metadata": {},
   "outputs": [],
   "source": [
    "a=np.zeros([10,10],dtype=np.float)"
   ]
  },
  {
   "cell_type": "code",
   "execution_count": 56,
   "metadata": {},
   "outputs": [
    {
     "data": {
      "text/plain": [
       "array([[0., 0., 0., 0., 0., 0., 0., 0., 0., 0.],\n",
       "       [0., 0., 0., 0., 0., 0., 0., 0., 0., 0.],\n",
       "       [0., 0., 0., 0., 0., 0., 0., 0., 0., 0.],\n",
       "       [0., 0., 0., 0., 0., 0., 0., 0., 0., 0.],\n",
       "       [0., 0., 0., 0., 0., 0., 0., 0., 0., 0.],\n",
       "       [0., 0., 0., 0., 0., 0., 0., 0., 0., 0.],\n",
       "       [0., 0., 0., 0., 0., 0., 0., 0., 0., 0.],\n",
       "       [0., 0., 0., 0., 0., 0., 0., 0., 0., 0.],\n",
       "       [0., 0., 0., 0., 0., 0., 0., 0., 0., 0.],\n",
       "       [0., 0., 0., 0., 0., 0., 0., 0., 0., 0.]])"
      ]
     },
     "execution_count": 56,
     "metadata": {},
     "output_type": "execute_result"
    }
   ],
   "source": [
    "a"
   ]
  },
  {
   "cell_type": "code",
   "execution_count": 57,
   "metadata": {},
   "outputs": [
    {
     "data": {
      "text/plain": [
       "(10, 10)"
      ]
     },
     "execution_count": 57,
     "metadata": {},
     "output_type": "execute_result"
    }
   ],
   "source": [
    "a.shape"
   ]
  },
  {
   "cell_type": "code",
   "execution_count": 58,
   "metadata": {},
   "outputs": [
    {
     "data": {
      "text/plain": [
       "2"
      ]
     },
     "execution_count": 58,
     "metadata": {},
     "output_type": "execute_result"
    }
   ],
   "source": [
    "a.ndim"
   ]
  },
  {
   "cell_type": "code",
   "execution_count": 114,
   "metadata": {},
   "outputs": [],
   "source": [
    "a=np.ones([4,4],dtype=np.complex)"
   ]
  },
  {
   "cell_type": "code",
   "execution_count": 115,
   "metadata": {},
   "outputs": [
    {
     "data": {
      "text/plain": [
       "array([[1.+0.j, 1.+0.j, 1.+0.j, 1.+0.j],\n",
       "       [1.+0.j, 1.+0.j, 1.+0.j, 1.+0.j],\n",
       "       [1.+0.j, 1.+0.j, 1.+0.j, 1.+0.j],\n",
       "       [1.+0.j, 1.+0.j, 1.+0.j, 1.+0.j]])"
      ]
     },
     "execution_count": 115,
     "metadata": {},
     "output_type": "execute_result"
    }
   ],
   "source": [
    "a"
   ]
  },
  {
   "cell_type": "code",
   "execution_count": 61,
   "metadata": {},
   "outputs": [],
   "source": [
    "#7.NUMPY- ARRAY FROM EXISTING DATA"
   ]
  },
  {
   "cell_type": "code",
   "execution_count": 116,
   "metadata": {},
   "outputs": [
    {
     "data": {
      "text/plain": [
       "  C_CONTIGUOUS : True\n",
       "  F_CONTIGUOUS : False\n",
       "  OWNDATA : True\n",
       "  WRITEABLE : True\n",
       "  ALIGNED : True\n",
       "  WRITEBACKIFCOPY : False\n",
       "  UPDATEIFCOPY : False"
      ]
     },
     "execution_count": 116,
     "metadata": {},
     "output_type": "execute_result"
    }
   ],
   "source": [
    "a.flags"
   ]
  },
  {
   "cell_type": "code",
   "execution_count": 63,
   "metadata": {},
   "outputs": [],
   "source": [
    "a=np.full((5,5),7)"
   ]
  },
  {
   "cell_type": "code",
   "execution_count": 64,
   "metadata": {},
   "outputs": [
    {
     "data": {
      "text/plain": [
       "array([[7, 7, 7, 7, 7],\n",
       "       [7, 7, 7, 7, 7],\n",
       "       [7, 7, 7, 7, 7],\n",
       "       [7, 7, 7, 7, 7],\n",
       "       [7, 7, 7, 7, 7]])"
      ]
     },
     "execution_count": 64,
     "metadata": {},
     "output_type": "execute_result"
    }
   ],
   "source": [
    "a"
   ]
  },
  {
   "cell_type": "code",
   "execution_count": 65,
   "metadata": {},
   "outputs": [],
   "source": [
    "a=np.eye(5)             #the o/p will be identity matrix"
   ]
  },
  {
   "cell_type": "code",
   "execution_count": 66,
   "metadata": {},
   "outputs": [
    {
     "data": {
      "text/plain": [
       "array([[1., 0., 0., 0., 0.],\n",
       "       [0., 1., 0., 0., 0.],\n",
       "       [0., 0., 1., 0., 0.],\n",
       "       [0., 0., 0., 1., 0.],\n",
       "       [0., 0., 0., 0., 1.]])"
      ]
     },
     "execution_count": 66,
     "metadata": {},
     "output_type": "execute_result"
    }
   ],
   "source": [
    "a"
   ]
  },
  {
   "cell_type": "code",
   "execution_count": 123,
   "metadata": {},
   "outputs": [],
   "source": [
    "a=np.random.randint(5)"
   ]
  },
  {
   "cell_type": "code",
   "execution_count": 124,
   "metadata": {},
   "outputs": [
    {
     "data": {
      "text/plain": [
       "1"
      ]
     },
     "execution_count": 124,
     "metadata": {},
     "output_type": "execute_result"
    }
   ],
   "source": [
    "a"
   ]
  },
  {
   "cell_type": "code",
   "execution_count": 125,
   "metadata": {},
   "outputs": [],
   "source": [
    "a=np.random.random((2,3))"
   ]
  },
  {
   "cell_type": "code",
   "execution_count": 126,
   "metadata": {},
   "outputs": [
    {
     "data": {
      "text/plain": [
       "array([[0.23963412, 0.48291465, 0.16964795],\n",
       "       [0.52030879, 0.63109964, 0.98251758]])"
      ]
     },
     "execution_count": 126,
     "metadata": {},
     "output_type": "execute_result"
    }
   ],
   "source": [
    "a"
   ]
  },
  {
   "cell_type": "code",
   "execution_count": 76,
   "metadata": {},
   "outputs": [],
   "source": [
    "a=np.arange(12)"
   ]
  },
  {
   "cell_type": "code",
   "execution_count": 77,
   "metadata": {},
   "outputs": [
    {
     "data": {
      "text/plain": [
       "array([ 0,  1,  2,  3,  4,  5,  6,  7,  8,  9, 10, 11])"
      ]
     },
     "execution_count": 77,
     "metadata": {},
     "output_type": "execute_result"
    }
   ],
   "source": [
    "a"
   ]
  },
  {
   "cell_type": "code",
   "execution_count": 78,
   "metadata": {},
   "outputs": [
    {
     "data": {
      "text/plain": [
       "array([[ 0,  1,  2,  3],\n",
       "       [ 4,  5,  6,  7],\n",
       "       [ 8,  9, 10, 11]])"
      ]
     },
     "execution_count": 78,
     "metadata": {},
     "output_type": "execute_result"
    }
   ],
   "source": [
    "a.reshape(3,4)"
   ]
  },
  {
   "cell_type": "code",
   "execution_count": 79,
   "metadata": {},
   "outputs": [],
   "source": [
    "a=([[ 0,  1,  2,  3],[ 4,  5,  6,  7],[ 8,  9, 10, 11]])"
   ]
  },
  {
   "cell_type": "code",
   "execution_count": 83,
   "metadata": {},
   "outputs": [
    {
     "data": {
      "text/plain": [
       "[[0, 1, 2, 3], [4, 5, 6, 7], [8, 9, 10, 11]]"
      ]
     },
     "execution_count": 83,
     "metadata": {},
     "output_type": "execute_result"
    }
   ],
   "source": [
    "a"
   ]
  },
  {
   "cell_type": "code",
   "execution_count": 84,
   "metadata": {},
   "outputs": [
    {
     "data": {
      "text/plain": [
       "array([ 0,  1,  2,  3,  4,  5,  6,  7,  8,  9, 10, 11])"
      ]
     },
     "execution_count": 84,
     "metadata": {},
     "output_type": "execute_result"
    }
   ],
   "source": [
    "np.ravel(a)"
   ]
  },
  {
   "cell_type": "code",
   "execution_count": 85,
   "metadata": {},
   "outputs": [
    {
     "data": {
      "text/plain": [
       "[[0, 1, 2, 3], [4, 5, 6, 7], [8, 9, 10, 11]]"
      ]
     },
     "execution_count": 85,
     "metadata": {},
     "output_type": "execute_result"
    }
   ],
   "source": [
    "a"
   ]
  },
  {
   "cell_type": "code",
   "execution_count": 86,
   "metadata": {},
   "outputs": [
    {
     "data": {
      "text/plain": [
       "[4, 5, 6, 7]"
      ]
     },
     "execution_count": 86,
     "metadata": {},
     "output_type": "execute_result"
    }
   ],
   "source": [
    "a[1]"
   ]
  },
  {
   "cell_type": "code",
   "execution_count": 87,
   "metadata": {},
   "outputs": [
    {
     "data": {
      "text/plain": [
       "[[0, 1, 2, 3], [4, 5, 6, 7]]"
      ]
     },
     "execution_count": 87,
     "metadata": {},
     "output_type": "execute_result"
    }
   ],
   "source": [
    "a[:2]"
   ]
  },
  {
   "cell_type": "code",
   "execution_count": 90,
   "metadata": {},
   "outputs": [
    {
     "data": {
      "text/plain": [
       "[[4, 5, 6, 7], [8, 9, 10, 11]]"
      ]
     },
     "execution_count": 90,
     "metadata": {},
     "output_type": "execute_result"
    }
   ],
   "source": [
    "a[1:3]"
   ]
  },
  {
   "cell_type": "code",
   "execution_count": 127,
   "metadata": {},
   "outputs": [
    {
     "data": {
      "text/plain": [
       "array([[0.48291465],\n",
       "       [0.63109964]])"
      ]
     },
     "execution_count": 127,
     "metadata": {},
     "output_type": "execute_result"
    }
   ],
   "source": [
    "a[: , 1:2]"
   ]
  },
  {
   "cell_type": "code",
   "execution_count": 93,
   "metadata": {},
   "outputs": [],
   "source": [
    "x = np.array([[1,2],[3,4]])\n",
    "y = np.array([[5,6],[7,8]])\n",
    "v = np.array([9,10])\n",
    "w = np.array([11, 12])\n"
   ]
  },
  {
   "cell_type": "code",
   "execution_count": 94,
   "metadata": {},
   "outputs": [
    {
     "data": {
      "text/plain": [
       "array([29, 67])"
      ]
     },
     "execution_count": 94,
     "metadata": {},
     "output_type": "execute_result"
    }
   ],
   "source": [
    "x.dot(v)"
   ]
  },
  {
   "cell_type": "code",
   "execution_count": 95,
   "metadata": {},
   "outputs": [
    {
     "data": {
      "text/plain": [
       "array([127, 173])"
      ]
     },
     "execution_count": 95,
     "metadata": {},
     "output_type": "execute_result"
    }
   ],
   "source": [
    "y.dot(w)"
   ]
  },
  {
   "cell_type": "code",
   "execution_count": 129,
   "metadata": {},
   "outputs": [],
   "source": [
    "from scipy.misc import imread, imsave, imresize\n",
    "import matplotlib.pyplot as plt"
   ]
  },
  {
   "cell_type": "code",
   "execution_count": 130,
   "metadata": {},
   "outputs": [
    {
     "name": "stderr",
     "output_type": "stream",
     "text": [
      "/home/kiran/.local/lib/python3.5/site-packages/ipykernel_launcher.py:1: DeprecationWarning: `imread` is deprecated!\n",
      "`imread` is deprecated in SciPy 1.0.0, and will be removed in 1.2.0.\n",
      "Use ``imageio.imread`` instead.\n",
      "  \"\"\"Entry point for launching an IPython kernel.\n"
     ]
    }
   ],
   "source": [
    "img = imread('cat.jpg')"
   ]
  },
  {
   "cell_type": "code",
   "execution_count": 98,
   "metadata": {},
   "outputs": [
    {
     "data": {
      "text/plain": [
       "dtype('uint8')"
      ]
     },
     "execution_count": 98,
     "metadata": {},
     "output_type": "execute_result"
    }
   ],
   "source": [
    "img.dtype"
   ]
  },
  {
   "cell_type": "code",
   "execution_count": 99,
   "metadata": {},
   "outputs": [
    {
     "data": {
      "text/plain": [
       "(400, 248, 3)"
      ]
     },
     "execution_count": 99,
     "metadata": {},
     "output_type": "execute_result"
    }
   ],
   "source": [
    "img.shape"
   ]
  },
  {
   "cell_type": "code",
   "execution_count": 131,
   "metadata": {},
   "outputs": [
    {
     "ename": "TypeError",
     "evalue": "only integer scalar arrays can be converted to a scalar index",
     "output_type": "error",
     "traceback": [
      "\u001b[0;31m---------------------------------------------------------------------------\u001b[0m",
      "\u001b[0;31mTypeError\u001b[0m                                 Traceback (most recent call last)",
      "\u001b[0;32m<ipython-input-131-980a4d7d95a4>\u001b[0m in \u001b[0;36m<module>\u001b[0;34m()\u001b[0m\n\u001b[1;32m      1\u001b[0m \u001b[0mimg_tinted\u001b[0m \u001b[0;34m=\u001b[0m \u001b[0mimg\u001b[0m \u001b[0;34m*\u001b[0m \u001b[0;34m[\u001b[0m\u001b[0;36m1\u001b[0m\u001b[0;34m,\u001b[0m \u001b[0;36m0.95\u001b[0m\u001b[0;34m,\u001b[0m \u001b[0;36m0.9\u001b[0m\u001b[0;34m]\u001b[0m\u001b[0;34m\u001b[0m\u001b[0m\n\u001b[0;32m----> 2\u001b[0;31m \u001b[0mimg_tinted\u001b[0m\u001b[0;34m=\u001b[0m\u001b[0mimg\u001b[0m\u001b[0;34m.\u001b[0m\u001b[0mresize\u001b[0m\u001b[0;34m(\u001b[0m\u001b[0mimg_tinted\u001b[0m\u001b[0;34m,\u001b[0m\u001b[0;34m(\u001b[0m\u001b[0;36m300\u001b[0m\u001b[0;34m,\u001b[0m\u001b[0;36m300\u001b[0m\u001b[0;34m)\u001b[0m\u001b[0;34m)\u001b[0m\u001b[0;34m\u001b[0m\u001b[0m\n\u001b[0m",
      "\u001b[0;31mTypeError\u001b[0m: only integer scalar arrays can be converted to a scalar index"
     ]
    }
   ],
   "source": [
    "img_tinted = img * [1, 0.95, 0.9]\n",
    "img_tinted=img.resize(img_tinted,(300,300))"
   ]
  },
  {
   "cell_type": "code",
   "execution_count": null,
   "metadata": {},
   "outputs": [],
   "source": [
    "imsave('cat_tinted.jpg',img_tinted)"
   ]
  },
  {
   "cell_type": "code",
   "execution_count": null,
   "metadata": {},
   "outputs": [],
   "source": [
    "plt.show"
   ]
  },
  {
   "cell_type": "code",
   "execution_count": 101,
   "metadata": {},
   "outputs": [
    {
     "data": {
      "text/plain": [
       "<matplotlib.image.AxesImage at 0x7fd097b87e80>"
      ]
     },
     "execution_count": 101,
     "metadata": {},
     "output_type": "execute_result"
    },
    {
     "data": {
      "image/png": "[encoded data removed]",
      "text/plain": [
       "<Figure size 432x288 with 1 Axes>"
      ]
     },
     "metadata": {},
     "output_type": "display_data"
    }
   ],
   "source": [
    "plt.subplot(1, 6, 1)\n",
    "plt.imshow(img)"
   ]
  },
  {
   "cell_type": "code",
   "execution_count": 102,
   "metadata": {},
   "outputs": [],
   "source": [
    "x = np.arange(0, 3 * np.pi, 0.1)\n",
    "y = np.sin(x)\n"
   ]
  },
  {
   "cell_type": "code",
   "execution_count": 103,
   "metadata": {},
   "outputs": [
    {
     "data": {
      "image/png": "[encoded data removed]",
      "text/plain": [
       "<Figure size 432x288 with 1 Axes>"
      ]
     },
     "metadata": {},
     "output_type": "display_data"
    }
   ],
   "source": [
    "plt.plot(x, y)\n",
    "plt.show()"
   ]
  },
  {
   "cell_type": "code",
   "execution_count": 104,
   "metadata": {},
   "outputs": [
    {
     "data": {
      "image/png": "[encoded data removed]",
      "text/plain": [
       "<Figure size 432x288 with 1 Axes>"
      ]
     },
     "metadata": {},
     "output_type": "display_data"
    }
   ],
   "source": [
    "x = np.arange(0, 3 * np.pi, 0.1)\n",
    "y_sin = np.sin(x)\n",
    "y_cos = np.cos(x)\n",
    "plt.plot(x, y_sin)\n",
    "plt.plot(x, y_cos)\n",
    "plt.xlabel('x axis label')\n",
    "plt.ylabel('y axis label')\n",
    "plt.title('Sine and Cosine')\n",
    "plt.legend(['Sine', 'Cosine'])\n",
    "plt.show()"
   ]
  },
  {
   "cell_type": "code",
   "execution_count": 105,
   "metadata": {},
   "outputs": [
    {
     "data": {
      "text/plain": [
       "array([[ 0,  1,  2,  3],\n",
       "       [ 4,  5,  6,  7],\n",
       "       [ 8,  9, 10, 11]])"
      ]
     },
     "execution_count": 105,
     "metadata": {},
     "output_type": "execute_result"
    }
   ],
   "source": [
    "np.vstack(a)"
   ]
  },
  {
   "cell_type": "code",
   "execution_count": 106,
   "metadata": {},
   "outputs": [
    {
     "data": {
      "text/plain": [
       "array([ 0,  1,  2,  3,  4,  5,  6,  7,  8,  9, 10, 11])"
      ]
     },
     "execution_count": 106,
     "metadata": {},
     "output_type": "execute_result"
    }
   ],
   "source": [
    "np.hstack(a)"
   ]
  },
  {
   "cell_type": "code",
   "execution_count": 107,
   "metadata": {},
   "outputs": [
    {
     "data": {
      "text/plain": [
       "array([[ 0,  1,  2,  3],\n",
       "       [ 4,  5,  6,  7],\n",
       "       [ 8,  9, 10, 11]])"
      ]
     },
     "execution_count": 107,
     "metadata": {},
     "output_type": "execute_result"
    }
   ],
   "source": [
    "np.sort(a)"
   ]
  },
  {
   "cell_type": "code",
   "execution_count": 108,
   "metadata": {},
   "outputs": [
    {
     "data": {
      "text/plain": [
       "[[0, 1, 2, 3], [4, 5, 6, 7], [8, 9, 10, 11]]"
      ]
     },
     "execution_count": 108,
     "metadata": {},
     "output_type": "execute_result"
    }
   ],
   "source": [
    "a"
   ]
  },
  {
   "cell_type": "code",
   "execution_count": 109,
   "metadata": {},
   "outputs": [
    {
     "data": {
      "text/plain": [
       "array([4, 5, 6, 7])"
      ]
     },
     "execution_count": 109,
     "metadata": {},
     "output_type": "execute_result"
    }
   ],
   "source": [
    "np.sort(a[1])"
   ]
  },
  {
   "cell_type": "code",
   "execution_count": 110,
   "metadata": {},
   "outputs": [
    {
     "data": {
      "text/plain": [
       "array([0, 1, 2, 3])"
      ]
     },
     "execution_count": 110,
     "metadata": {},
     "output_type": "execute_result"
    }
   ],
   "source": [
    "np.argsort(a[1])"
   ]
  },
  {
   "cell_type": "code",
   "execution_count": 111,
   "metadata": {},
   "outputs": [
    {
     "data": {
      "text/plain": [
       "0"
      ]
     },
     "execution_count": 111,
     "metadata": {},
     "output_type": "execute_result"
    }
   ],
   "source": [
    "np.lexsort(a[1])"
   ]
  },
  {
   "cell_type": "code",
   "execution_count": 112,
   "metadata": {},
   "outputs": [
    {
     "data": {
      "text/plain": [
       "(array([0, 1, 2, 3]),)"
      ]
     },
     "execution_count": 112,
     "metadata": {},
     "output_type": "execute_result"
    }
   ],
   "source": [
    "np.nonzero(a[1])"
   ]
  },
  {
   "cell_type": "markdown",
   "metadata": {},
   "source": [
    "# PANDAS"
   ]
  },
  {
   "cell_type": "code",
   "execution_count": 117,
   "metadata": {},
   "outputs": [],
   "source": [
    "import pandas as pd"
   ]
  },
  {
   "cell_type": "code",
   "execution_count": 118,
   "metadata": {},
   "outputs": [],
   "source": [
    "a=pd.Series()"
   ]
  },
  {
   "cell_type": "code",
   "execution_count": 119,
   "metadata": {},
   "outputs": [
    {
     "data": {
      "text/plain": [
       "Series([], dtype: float64)"
      ]
     },
     "execution_count": 119,
     "metadata": {},
     "output_type": "execute_result"
    }
   ],
   "source": [
    "a"
   ]
  },
  {
   "cell_type": "code",
   "execution_count": 120,
   "metadata": {},
   "outputs": [],
   "source": [
    "a=pd.Series(a)"
   ]
  },
  {
   "cell_type": "code",
   "execution_count": 121,
   "metadata": {},
   "outputs": [
    {
     "data": {
      "text/plain": [
       "Series([], dtype: float64)"
      ]
     },
     "execution_count": 121,
     "metadata": {},
     "output_type": "execute_result"
    }
   ],
   "source": [
    "a"
   ]
  },
  {
   "cell_type": "code",
   "execution_count": 122,
   "metadata": {},
   "outputs": [],
   "source": [
    "a=pd.Series(a,index=[10,20,30,40])"
   ]
  },
  {
   "cell_type": "code",
   "execution_count": 123,
   "metadata": {},
   "outputs": [
    {
     "data": {
      "text/plain": [
       "10   NaN\n",
       "20   NaN\n",
       "30   NaN\n",
       "40   NaN\n",
       "dtype: float64"
      ]
     },
     "execution_count": 123,
     "metadata": {},
     "output_type": "execute_result"
    }
   ],
   "source": [
    "a"
   ]
  },
  {
   "cell_type": "code",
   "execution_count": 124,
   "metadata": {},
   "outputs": [],
   "source": [
    "a={'a':10,'b':20,'c':40}"
   ]
  },
  {
   "cell_type": "code",
   "execution_count": 125,
   "metadata": {},
   "outputs": [],
   "source": [
    "a=pd.Series(a)"
   ]
  },
  {
   "cell_type": "code",
   "execution_count": 126,
   "metadata": {},
   "outputs": [
    {
     "data": {
      "text/plain": [
       "a    10\n",
       "b    20\n",
       "c    40\n",
       "dtype: int64"
      ]
     },
     "execution_count": 126,
     "metadata": {},
     "output_type": "execute_result"
    }
   ],
   "source": [
    "a"
   ]
  },
  {
   "cell_type": "code",
   "execution_count": 127,
   "metadata": {},
   "outputs": [],
   "source": [
    "#dictionary keys are used to construct index."
   ]
  },
  {
   "cell_type": "code",
   "execution_count": 128,
   "metadata": {},
   "outputs": [],
   "source": [
    "a={'a':10,'b':20,'c':40,'d':1, 'e':4,'f':5}"
   ]
  },
  {
   "cell_type": "code",
   "execution_count": 129,
   "metadata": {},
   "outputs": [],
   "source": [
    "a=pd.Series(a,index=['c','d','e','a','e','r','f','b','g'])"
   ]
  },
  {
   "cell_type": "code",
   "execution_count": 130,
   "metadata": {},
   "outputs": [
    {
     "data": {
      "text/plain": [
       "c    40.0\n",
       "d     1.0\n",
       "e     4.0\n",
       "a    10.0\n",
       "e     4.0\n",
       "r     NaN\n",
       "f     5.0\n",
       "b    20.0\n",
       "g     NaN\n",
       "dtype: float64"
      ]
     },
     "execution_count": 130,
     "metadata": {},
     "output_type": "execute_result"
    }
   ],
   "source": [
    "a"
   ]
  },
  {
   "cell_type": "code",
   "execution_count": 131,
   "metadata": {},
   "outputs": [],
   "source": [
    "#Observe − Index order is persisted and the missing element is filled with NaN (Not a Number)."
   ]
  },
  {
   "cell_type": "code",
   "execution_count": 132,
   "metadata": {},
   "outputs": [],
   "source": [
    "#Create a Series from Scalar:\n",
    "#If data is a scalar value, an index must be provided. The value will be repeated to match the length of index"
   ]
  },
  {
   "cell_type": "code",
   "execution_count": 133,
   "metadata": {},
   "outputs": [],
   "source": [
    "a=pd.Series(5,index=[0,2 ,3,5,6,4,69,8])"
   ]
  },
  {
   "cell_type": "code",
   "execution_count": 134,
   "metadata": {},
   "outputs": [
    {
     "data": {
      "text/plain": [
       "0     5\n",
       "2     5\n",
       "3     5\n",
       "5     5\n",
       "6     5\n",
       "4     5\n",
       "69    5\n",
       "8     5\n",
       "dtype: int64"
      ]
     },
     "execution_count": 134,
     "metadata": {},
     "output_type": "execute_result"
    }
   ],
   "source": [
    "a"
   ]
  },
  {
   "cell_type": "code",
   "execution_count": 135,
   "metadata": {},
   "outputs": [],
   "source": [
    "a=[1,2,3,4,6,99,8,4,9,4,2,9,8,17,9,5,1,6,79,2]"
   ]
  },
  {
   "cell_type": "code",
   "execution_count": 136,
   "metadata": {},
   "outputs": [],
   "source": [
    "a=pd.Series(a)"
   ]
  },
  {
   "cell_type": "code",
   "execution_count": 137,
   "metadata": {},
   "outputs": [
    {
     "data": {
      "text/plain": [
       "0      1\n",
       "1      2\n",
       "2      3\n",
       "3      4\n",
       "4      6\n",
       "5     99\n",
       "6      8\n",
       "7      4\n",
       "8      9\n",
       "9      4\n",
       "10     2\n",
       "11     9\n",
       "12     8\n",
       "13    17\n",
       "14     9\n",
       "15     5\n",
       "16     1\n",
       "17     6\n",
       "18    79\n",
       "19     2\n",
       "dtype: int64"
      ]
     },
     "execution_count": 137,
     "metadata": {},
     "output_type": "execute_result"
    }
   ],
   "source": [
    "a"
   ]
  },
  {
   "cell_type": "code",
   "execution_count": 138,
   "metadata": {},
   "outputs": [
    {
     "data": {
      "text/plain": [
       "9"
      ]
     },
     "execution_count": 138,
     "metadata": {},
     "output_type": "execute_result"
    }
   ],
   "source": [
    "a[11]"
   ]
  },
  {
   "cell_type": "code",
   "execution_count": 139,
   "metadata": {},
   "outputs": [
    {
     "data": {
      "text/plain": [
       "0     1\n",
       "1     2\n",
       "2     3\n",
       "3     4\n",
       "4     6\n",
       "5    99\n",
       "dtype: int64"
      ]
     },
     "execution_count": 139,
     "metadata": {},
     "output_type": "execute_result"
    }
   ],
   "source": [
    "a[:6]"
   ]
  },
  {
   "cell_type": "code",
   "execution_count": 140,
   "metadata": {},
   "outputs": [
    {
     "data": {
      "text/plain": [
       "11     9\n",
       "12     8\n",
       "13    17\n",
       "14     9\n",
       "15     5\n",
       "16     1\n",
       "17     6\n",
       "18    79\n",
       "19     2\n",
       "dtype: int64"
      ]
     },
     "execution_count": 140,
     "metadata": {},
     "output_type": "execute_result"
    }
   ],
   "source": [
    "a[-9:]"
   ]
  },
  {
   "cell_type": "code",
   "execution_count": 141,
   "metadata": {},
   "outputs": [
    {
     "data": {
      "text/plain": [
       "19     2\n",
       "18    79\n",
       "17     6\n",
       "16     1\n",
       "15     5\n",
       "14     9\n",
       "13    17\n",
       "12     8\n",
       "11     9\n",
       "10     2\n",
       "9      4\n",
       "8      9\n",
       "7      4\n",
       "6      8\n",
       "5     99\n",
       "4      6\n",
       "3      4\n",
       "2      3\n",
       "1      2\n",
       "0      1\n",
       "dtype: int64"
      ]
     },
     "execution_count": 141,
     "metadata": {},
     "output_type": "execute_result"
    }
   ],
   "source": [
    "a[::-1]"
   ]
  },
  {
   "cell_type": "code",
   "execution_count": 142,
   "metadata": {},
   "outputs": [],
   "source": [
    "#If a label is not contained, an exception is raised."
   ]
  },
  {
   "cell_type": "code",
   "execution_count": 143,
   "metadata": {},
   "outputs": [],
   "source": [
    "                #DATA FRAME"
   ]
  },
  {
   "cell_type": "code",
   "execution_count": 144,
   "metadata": {},
   "outputs": [],
   "source": [
    "d=pd.DataFrame()"
   ]
  },
  {
   "cell_type": "code",
   "execution_count": 145,
   "metadata": {},
   "outputs": [
    {
     "data": {
      "text/html": [
       "<div>\n",
       "<style scoped>\n",
       "    .dataframe tbody tr th:only-of-type {\n",
       "        vertical-align: middle;\n",
       "    }\n",
       "\n",
       "    .dataframe tbody tr th {\n",
       "        vertical-align: top;\n",
       "    }\n",
       "\n",
       "    .dataframe thead th {\n",
       "        text-align: right;\n",
       "    }\n",
       "</style>\n",
       "<table border=\"1\" class=\"dataframe\">\n",
       "  <thead>\n",
       "    <tr style=\"text-align: right;\">\n",
       "      <th></th>\n",
       "    </tr>\n",
       "  </thead>\n",
       "  <tbody>\n",
       "  </tbody>\n",
       "</table>\n",
       "</div>"
      ],
      "text/plain": [
       "Empty DataFrame\n",
       "Columns: []\n",
       "Index: []"
      ]
     },
     "execution_count": 145,
     "metadata": {},
     "output_type": "execute_result"
    }
   ],
   "source": [
    "d"
   ]
  },
  {
   "cell_type": "code",
   "execution_count": 146,
   "metadata": {},
   "outputs": [],
   "source": [
    "a=pd.DataFrame(a)"
   ]
  },
  {
   "cell_type": "code",
   "execution_count": 147,
   "metadata": {},
   "outputs": [
    {
     "data": {
      "text/html": [
       "<div>\n",
       "<style scoped>\n",
       "    .dataframe tbody tr th:only-of-type {\n",
       "        vertical-align: middle;\n",
       "    }\n",
       "\n",
       "    .dataframe tbody tr th {\n",
       "        vertical-align: top;\n",
       "    }\n",
       "\n",
       "    .dataframe thead th {\n",
       "        text-align: right;\n",
       "    }\n",
       "</style>\n",
       "<table border=\"1\" class=\"dataframe\">\n",
       "  <thead>\n",
       "    <tr style=\"text-align: right;\">\n",
       "      <th></th>\n",
       "      <th>0</th>\n",
       "    </tr>\n",
       "  </thead>\n",
       "  <tbody>\n",
       "    <tr>\n",
       "      <th>0</th>\n",
       "      <td>1</td>\n",
       "    </tr>\n",
       "    <tr>\n",
       "      <th>1</th>\n",
       "      <td>2</td>\n",
       "    </tr>\n",
       "    <tr>\n",
       "      <th>2</th>\n",
       "      <td>3</td>\n",
       "    </tr>\n",
       "    <tr>\n",
       "      <th>3</th>\n",
       "      <td>4</td>\n",
       "    </tr>\n",
       "    <tr>\n",
       "      <th>4</th>\n",
       "      <td>6</td>\n",
       "    </tr>\n",
       "    <tr>\n",
       "      <th>5</th>\n",
       "      <td>99</td>\n",
       "    </tr>\n",
       "    <tr>\n",
       "      <th>6</th>\n",
       "      <td>8</td>\n",
       "    </tr>\n",
       "    <tr>\n",
       "      <th>7</th>\n",
       "      <td>4</td>\n",
       "    </tr>\n",
       "    <tr>\n",
       "      <th>8</th>\n",
       "      <td>9</td>\n",
       "    </tr>\n",
       "    <tr>\n",
       "      <th>9</th>\n",
       "      <td>4</td>\n",
       "    </tr>\n",
       "    <tr>\n",
       "      <th>10</th>\n",
       "      <td>2</td>\n",
       "    </tr>\n",
       "    <tr>\n",
       "      <th>11</th>\n",
       "      <td>9</td>\n",
       "    </tr>\n",
       "    <tr>\n",
       "      <th>12</th>\n",
       "      <td>8</td>\n",
       "    </tr>\n",
       "    <tr>\n",
       "      <th>13</th>\n",
       "      <td>17</td>\n",
       "    </tr>\n",
       "    <tr>\n",
       "      <th>14</th>\n",
       "      <td>9</td>\n",
       "    </tr>\n",
       "    <tr>\n",
       "      <th>15</th>\n",
       "      <td>5</td>\n",
       "    </tr>\n",
       "    <tr>\n",
       "      <th>16</th>\n",
       "      <td>1</td>\n",
       "    </tr>\n",
       "    <tr>\n",
       "      <th>17</th>\n",
       "      <td>6</td>\n",
       "    </tr>\n",
       "    <tr>\n",
       "      <th>18</th>\n",
       "      <td>79</td>\n",
       "    </tr>\n",
       "    <tr>\n",
       "      <th>19</th>\n",
       "      <td>2</td>\n",
       "    </tr>\n",
       "  </tbody>\n",
       "</table>\n",
       "</div>"
      ],
      "text/plain": [
       "     0\n",
       "0    1\n",
       "1    2\n",
       "2    3\n",
       "3    4\n",
       "4    6\n",
       "5   99\n",
       "6    8\n",
       "7    4\n",
       "8    9\n",
       "9    4\n",
       "10   2\n",
       "11   9\n",
       "12   8\n",
       "13  17\n",
       "14   9\n",
       "15   5\n",
       "16   1\n",
       "17   6\n",
       "18  79\n",
       "19   2"
      ]
     },
     "execution_count": 147,
     "metadata": {},
     "output_type": "execute_result"
    }
   ],
   "source": [
    "a"
   ]
  },
  {
   "cell_type": "code",
   "execution_count": 148,
   "metadata": {},
   "outputs": [],
   "source": [
    "data=[['kiran',25],['nagaraju',30],['pravallika',27],['yeswith varma',2]]"
   ]
  },
  {
   "cell_type": "code",
   "execution_count": 149,
   "metadata": {},
   "outputs": [
    {
     "data": {
      "text/html": [
       "<div>\n",
       "<style scoped>\n",
       "    .dataframe tbody tr th:only-of-type {\n",
       "        vertical-align: middle;\n",
       "    }\n",
       "\n",
       "    .dataframe tbody tr th {\n",
       "        vertical-align: top;\n",
       "    }\n",
       "\n",
       "    .dataframe thead th {\n",
       "        text-align: right;\n",
       "    }\n",
       "</style>\n",
       "<table border=\"1\" class=\"dataframe\">\n",
       "  <thead>\n",
       "    <tr style=\"text-align: right;\">\n",
       "      <th></th>\n",
       "      <th>name</th>\n",
       "      <th>age</th>\n",
       "    </tr>\n",
       "  </thead>\n",
       "  <tbody>\n",
       "    <tr>\n",
       "      <th>0</th>\n",
       "      <td>kiran</td>\n",
       "      <td>25.0</td>\n",
       "    </tr>\n",
       "    <tr>\n",
       "      <th>1</th>\n",
       "      <td>nagaraju</td>\n",
       "      <td>30.0</td>\n",
       "    </tr>\n",
       "    <tr>\n",
       "      <th>2</th>\n",
       "      <td>pravallika</td>\n",
       "      <td>27.0</td>\n",
       "    </tr>\n",
       "    <tr>\n",
       "      <th>3</th>\n",
       "      <td>yeswith varma</td>\n",
       "      <td>2.0</td>\n",
       "    </tr>\n",
       "  </tbody>\n",
       "</table>\n",
       "</div>"
      ],
      "text/plain": [
       "            name   age\n",
       "0          kiran  25.0\n",
       "1       nagaraju  30.0\n",
       "2     pravallika  27.0\n",
       "3  yeswith varma   2.0"
      ]
     },
     "execution_count": 149,
     "metadata": {},
     "output_type": "execute_result"
    }
   ],
   "source": [
    "pd.DataFrame(data, columns=['name','age'],dtype=float)"
   ]
  },
  {
   "cell_type": "code",
   "execution_count": 150,
   "metadata": {},
   "outputs": [],
   "source": [
    "#Create a DataFrame from Dict of ndarrays / Lists\n",
    "\n",
    "#All the ndarrays must be of same length. If index is passed, then the length of the index should equal to the \n",
    "#length of the arrays.\n",
    "\n",
    "#If no index is passed, then by default, index will be range(n), where n is the array length.\n"
   ]
  },
  {
   "cell_type": "code",
   "execution_count": 151,
   "metadata": {},
   "outputs": [],
   "source": [
    "data={'Name':['kiran','nagaraju','pravallika','yeswith','bhikshalarao','vijayalakshmi'],'Age':[24,30,27,2,46,40]}"
   ]
  },
  {
   "cell_type": "code",
   "execution_count": 152,
   "metadata": {},
   "outputs": [],
   "source": [
    "data1=pd.DataFrame(data,index=[10,20,30,40,50,60])"
   ]
  },
  {
   "cell_type": "code",
   "execution_count": 153,
   "metadata": {},
   "outputs": [
    {
     "data": {
      "text/html": [
       "<div>\n",
       "<style scoped>\n",
       "    .dataframe tbody tr th:only-of-type {\n",
       "        vertical-align: middle;\n",
       "    }\n",
       "\n",
       "    .dataframe tbody tr th {\n",
       "        vertical-align: top;\n",
       "    }\n",
       "\n",
       "    .dataframe thead th {\n",
       "        text-align: right;\n",
       "    }\n",
       "</style>\n",
       "<table border=\"1\" class=\"dataframe\">\n",
       "  <thead>\n",
       "    <tr style=\"text-align: right;\">\n",
       "      <th></th>\n",
       "      <th>Age</th>\n",
       "      <th>Name</th>\n",
       "    </tr>\n",
       "  </thead>\n",
       "  <tbody>\n",
       "    <tr>\n",
       "      <th>10</th>\n",
       "      <td>24</td>\n",
       "      <td>kiran</td>\n",
       "    </tr>\n",
       "    <tr>\n",
       "      <th>20</th>\n",
       "      <td>30</td>\n",
       "      <td>nagaraju</td>\n",
       "    </tr>\n",
       "    <tr>\n",
       "      <th>30</th>\n",
       "      <td>27</td>\n",
       "      <td>pravallika</td>\n",
       "    </tr>\n",
       "    <tr>\n",
       "      <th>40</th>\n",
       "      <td>2</td>\n",
       "      <td>yeswith</td>\n",
       "    </tr>\n",
       "    <tr>\n",
       "      <th>50</th>\n",
       "      <td>46</td>\n",
       "      <td>bhikshalarao</td>\n",
       "    </tr>\n",
       "    <tr>\n",
       "      <th>60</th>\n",
       "      <td>40</td>\n",
       "      <td>vijayalakshmi</td>\n",
       "    </tr>\n",
       "  </tbody>\n",
       "</table>\n",
       "</div>"
      ],
      "text/plain": [
       "    Age           Name\n",
       "10   24          kiran\n",
       "20   30       nagaraju\n",
       "30   27     pravallika\n",
       "40    2        yeswith\n",
       "50   46   bhikshalarao\n",
       "60   40  vijayalakshmi"
      ]
     },
     "execution_count": 153,
     "metadata": {},
     "output_type": "execute_result"
    }
   ],
   "source": [
    "data1"
   ]
  },
  {
   "cell_type": "code",
   "execution_count": 154,
   "metadata": {},
   "outputs": [],
   "source": [
    "#Create a DataFrame from List of Dicts\n",
    "data=[{'a':1,'b':5},{'a':5,'b':6,'c':99}]   "
   ]
  },
  {
   "cell_type": "code",
   "execution_count": 156,
   "metadata": {},
   "outputs": [],
   "source": [
    "data1=pd.DataFrame(data)"
   ]
  },
  {
   "cell_type": "code",
   "execution_count": 157,
   "metadata": {},
   "outputs": [
    {
     "data": {
      "text/html": [
       "<div>\n",
       "<style scoped>\n",
       "    .dataframe tbody tr th:only-of-type {\n",
       "        vertical-align: middle;\n",
       "    }\n",
       "\n",
       "    .dataframe tbody tr th {\n",
       "        vertical-align: top;\n",
       "    }\n",
       "\n",
       "    .dataframe thead th {\n",
       "        text-align: right;\n",
       "    }\n",
       "</style>\n",
       "<table border=\"1\" class=\"dataframe\">\n",
       "  <thead>\n",
       "    <tr style=\"text-align: right;\">\n",
       "      <th></th>\n",
       "      <th>a</th>\n",
       "      <th>b</th>\n",
       "      <th>c</th>\n",
       "    </tr>\n",
       "  </thead>\n",
       "  <tbody>\n",
       "    <tr>\n",
       "      <th>0</th>\n",
       "      <td>1</td>\n",
       "      <td>5</td>\n",
       "      <td>NaN</td>\n",
       "    </tr>\n",
       "    <tr>\n",
       "      <th>1</th>\n",
       "      <td>5</td>\n",
       "      <td>6</td>\n",
       "      <td>99.0</td>\n",
       "    </tr>\n",
       "  </tbody>\n",
       "</table>\n",
       "</div>"
      ],
      "text/plain": [
       "   a  b     c\n",
       "0  1  5   NaN\n",
       "1  5  6  99.0"
      ]
     },
     "execution_count": 157,
     "metadata": {},
     "output_type": "execute_result"
    }
   ],
   "source": [
    "data1     NaN means (Not a Number)"
   ]
  },
  {
   "cell_type": "code",
   "execution_count": 419,
   "metadata": {},
   "outputs": [],
   "source": [
    "#Create a DataFrame from Dict of Series"
   ]
  },
  {
   "cell_type": "code",
   "execution_count": 165,
   "metadata": {},
   "outputs": [],
   "source": [
    "data= {'one': pd.Series([1,2,3,4,6]),\n",
    "          'two':pd.Series([5,6,8,6,8,6])}"
   ]
  },
  {
   "cell_type": "code",
   "execution_count": 166,
   "metadata": {},
   "outputs": [
    {
     "data": {
      "text/plain": [
       "{'one': 0    1\n",
       " 1    2\n",
       " 2    3\n",
       " 3    4\n",
       " 4    6\n",
       " dtype: int64, 'two': 0    5\n",
       " 1    6\n",
       " 2    8\n",
       " 3    6\n",
       " 4    8\n",
       " 5    6\n",
       " dtype: int64}"
      ]
     },
     "execution_count": 166,
     "metadata": {},
     "output_type": "execute_result"
    }
   ],
   "source": [
    "data"
   ]
  },
  {
   "cell_type": "code",
   "execution_count": 167,
   "metadata": {},
   "outputs": [],
   "source": [
    "data=pd.DataFrame(data)"
   ]
  },
  {
   "cell_type": "code",
   "execution_count": 168,
   "metadata": {},
   "outputs": [
    {
     "data": {
      "text/html": [
       "<div>\n",
       "<style scoped>\n",
       "    .dataframe tbody tr th:only-of-type {\n",
       "        vertical-align: middle;\n",
       "    }\n",
       "\n",
       "    .dataframe tbody tr th {\n",
       "        vertical-align: top;\n",
       "    }\n",
       "\n",
       "    .dataframe thead th {\n",
       "        text-align: right;\n",
       "    }\n",
       "</style>\n",
       "<table border=\"1\" class=\"dataframe\">\n",
       "  <thead>\n",
       "    <tr style=\"text-align: right;\">\n",
       "      <th></th>\n",
       "      <th>one</th>\n",
       "      <th>two</th>\n",
       "    </tr>\n",
       "  </thead>\n",
       "  <tbody>\n",
       "    <tr>\n",
       "      <th>0</th>\n",
       "      <td>1.0</td>\n",
       "      <td>5</td>\n",
       "    </tr>\n",
       "    <tr>\n",
       "      <th>1</th>\n",
       "      <td>2.0</td>\n",
       "      <td>6</td>\n",
       "    </tr>\n",
       "    <tr>\n",
       "      <th>2</th>\n",
       "      <td>3.0</td>\n",
       "      <td>8</td>\n",
       "    </tr>\n",
       "    <tr>\n",
       "      <th>3</th>\n",
       "      <td>4.0</td>\n",
       "      <td>6</td>\n",
       "    </tr>\n",
       "    <tr>\n",
       "      <th>4</th>\n",
       "      <td>6.0</td>\n",
       "      <td>8</td>\n",
       "    </tr>\n",
       "    <tr>\n",
       "      <th>5</th>\n",
       "      <td>NaN</td>\n",
       "      <td>6</td>\n",
       "    </tr>\n",
       "  </tbody>\n",
       "</table>\n",
       "</div>"
      ],
      "text/plain": [
       "   one  two\n",
       "0  1.0    5\n",
       "1  2.0    6\n",
       "2  3.0    8\n",
       "3  4.0    6\n",
       "4  6.0    8\n",
       "5  NaN    6"
      ]
     },
     "execution_count": 168,
     "metadata": {},
     "output_type": "execute_result"
    }
   ],
   "source": [
    "data"
   ]
  },
  {
   "cell_type": "code",
   "execution_count": 169,
   "metadata": {},
   "outputs": [
    {
     "data": {
      "text/plain": [
       "0    5\n",
       "1    6\n",
       "2    8\n",
       "3    6\n",
       "4    8\n",
       "5    6\n",
       "Name: two, dtype: int64"
      ]
     },
     "execution_count": 169,
     "metadata": {},
     "output_type": "execute_result"
    }
   ],
   "source": [
    "data['two']"
   ]
  },
  {
   "cell_type": "code",
   "execution_count": 170,
   "metadata": {},
   "outputs": [],
   "source": [
    "data['three']=pd.Series([10,20,30])"
   ]
  },
  {
   "cell_type": "code",
   "execution_count": 171,
   "metadata": {},
   "outputs": [],
   "source": [
    "data=pd.DataFrame(data)"
   ]
  },
  {
   "cell_type": "code",
   "execution_count": 172,
   "metadata": {},
   "outputs": [
    {
     "data": {
      "text/html": [
       "<div>\n",
       "<style scoped>\n",
       "    .dataframe tbody tr th:only-of-type {\n",
       "        vertical-align: middle;\n",
       "    }\n",
       "\n",
       "    .dataframe tbody tr th {\n",
       "        vertical-align: top;\n",
       "    }\n",
       "\n",
       "    .dataframe thead th {\n",
       "        text-align: right;\n",
       "    }\n",
       "</style>\n",
       "<table border=\"1\" class=\"dataframe\">\n",
       "  <thead>\n",
       "    <tr style=\"text-align: right;\">\n",
       "      <th></th>\n",
       "      <th>one</th>\n",
       "      <th>two</th>\n",
       "      <th>three</th>\n",
       "    </tr>\n",
       "  </thead>\n",
       "  <tbody>\n",
       "    <tr>\n",
       "      <th>0</th>\n",
       "      <td>1.0</td>\n",
       "      <td>5</td>\n",
       "      <td>10.0</td>\n",
       "    </tr>\n",
       "    <tr>\n",
       "      <th>1</th>\n",
       "      <td>2.0</td>\n",
       "      <td>6</td>\n",
       "      <td>20.0</td>\n",
       "    </tr>\n",
       "    <tr>\n",
       "      <th>2</th>\n",
       "      <td>3.0</td>\n",
       "      <td>8</td>\n",
       "      <td>30.0</td>\n",
       "    </tr>\n",
       "    <tr>\n",
       "      <th>3</th>\n",
       "      <td>4.0</td>\n",
       "      <td>6</td>\n",
       "      <td>NaN</td>\n",
       "    </tr>\n",
       "    <tr>\n",
       "      <th>4</th>\n",
       "      <td>6.0</td>\n",
       "      <td>8</td>\n",
       "      <td>NaN</td>\n",
       "    </tr>\n",
       "    <tr>\n",
       "      <th>5</th>\n",
       "      <td>NaN</td>\n",
       "      <td>6</td>\n",
       "      <td>NaN</td>\n",
       "    </tr>\n",
       "  </tbody>\n",
       "</table>\n",
       "</div>"
      ],
      "text/plain": [
       "   one  two  three\n",
       "0  1.0    5   10.0\n",
       "1  2.0    6   20.0\n",
       "2  3.0    8   30.0\n",
       "3  4.0    6    NaN\n",
       "4  6.0    8    NaN\n",
       "5  NaN    6    NaN"
      ]
     },
     "execution_count": 172,
     "metadata": {},
     "output_type": "execute_result"
    }
   ],
   "source": [
    "data"
   ]
  },
  {
   "cell_type": "code",
   "execution_count": 173,
   "metadata": {},
   "outputs": [],
   "source": [
    "data['four']=data['one']+data['one']"
   ]
  },
  {
   "cell_type": "code",
   "execution_count": 174,
   "metadata": {},
   "outputs": [
    {
     "data": {
      "text/plain": [
       "0     2.0\n",
       "1     4.0\n",
       "2     6.0\n",
       "3     8.0\n",
       "4    12.0\n",
       "5     NaN\n",
       "Name: four, dtype: float64"
      ]
     },
     "execution_count": 174,
     "metadata": {},
     "output_type": "execute_result"
    }
   ],
   "source": [
    "data['four']"
   ]
  },
  {
   "cell_type": "code",
   "execution_count": 175,
   "metadata": {},
   "outputs": [],
   "source": [
    "import pandas as pd"
   ]
  },
  {
   "cell_type": "code",
   "execution_count": 176,
   "metadata": {},
   "outputs": [],
   "source": [
    "data={'one':pd.Series([1,2,3,1,2,3]),\n",
    "         'two':pd.Series([5,10,9,8,8,9,8,9,6])}"
   ]
  },
  {
   "cell_type": "code",
   "execution_count": 177,
   "metadata": {},
   "outputs": [],
   "source": [
    "data1=pd.DataFrame(data)"
   ]
  },
  {
   "cell_type": "code",
   "execution_count": 178,
   "metadata": {},
   "outputs": [
    {
     "data": {
      "text/html": [
       "<div>\n",
       "<style scoped>\n",
       "    .dataframe tbody tr th:only-of-type {\n",
       "        vertical-align: middle;\n",
       "    }\n",
       "\n",
       "    .dataframe tbody tr th {\n",
       "        vertical-align: top;\n",
       "    }\n",
       "\n",
       "    .dataframe thead th {\n",
       "        text-align: right;\n",
       "    }\n",
       "</style>\n",
       "<table border=\"1\" class=\"dataframe\">\n",
       "  <thead>\n",
       "    <tr style=\"text-align: right;\">\n",
       "      <th></th>\n",
       "      <th>one</th>\n",
       "      <th>two</th>\n",
       "    </tr>\n",
       "  </thead>\n",
       "  <tbody>\n",
       "    <tr>\n",
       "      <th>0</th>\n",
       "      <td>1.0</td>\n",
       "      <td>5</td>\n",
       "    </tr>\n",
       "    <tr>\n",
       "      <th>1</th>\n",
       "      <td>2.0</td>\n",
       "      <td>10</td>\n",
       "    </tr>\n",
       "    <tr>\n",
       "      <th>2</th>\n",
       "      <td>3.0</td>\n",
       "      <td>9</td>\n",
       "    </tr>\n",
       "    <tr>\n",
       "      <th>3</th>\n",
       "      <td>1.0</td>\n",
       "      <td>8</td>\n",
       "    </tr>\n",
       "    <tr>\n",
       "      <th>4</th>\n",
       "      <td>2.0</td>\n",
       "      <td>8</td>\n",
       "    </tr>\n",
       "    <tr>\n",
       "      <th>5</th>\n",
       "      <td>3.0</td>\n",
       "      <td>9</td>\n",
       "    </tr>\n",
       "    <tr>\n",
       "      <th>6</th>\n",
       "      <td>NaN</td>\n",
       "      <td>8</td>\n",
       "    </tr>\n",
       "    <tr>\n",
       "      <th>7</th>\n",
       "      <td>NaN</td>\n",
       "      <td>9</td>\n",
       "    </tr>\n",
       "    <tr>\n",
       "      <th>8</th>\n",
       "      <td>NaN</td>\n",
       "      <td>6</td>\n",
       "    </tr>\n",
       "  </tbody>\n",
       "</table>\n",
       "</div>"
      ],
      "text/plain": [
       "   one  two\n",
       "0  1.0    5\n",
       "1  2.0   10\n",
       "2  3.0    9\n",
       "3  1.0    8\n",
       "4  2.0    8\n",
       "5  3.0    9\n",
       "6  NaN    8\n",
       "7  NaN    9\n",
       "8  NaN    6"
      ]
     },
     "execution_count": 178,
     "metadata": {},
     "output_type": "execute_result"
    }
   ],
   "source": [
    "data1"
   ]
  },
  {
   "cell_type": "code",
   "execution_count": 179,
   "metadata": {},
   "outputs": [],
   "source": [
    "data['three']=pd.Series([1,2,34,6,3,54,6,45])"
   ]
  },
  {
   "cell_type": "code",
   "execution_count": 180,
   "metadata": {},
   "outputs": [],
   "source": [
    "data1=pd.DataFrame(data)"
   ]
  },
  {
   "cell_type": "code",
   "execution_count": 181,
   "metadata": {},
   "outputs": [
    {
     "data": {
      "text/html": [
       "<div>\n",
       "<style scoped>\n",
       "    .dataframe tbody tr th:only-of-type {\n",
       "        vertical-align: middle;\n",
       "    }\n",
       "\n",
       "    .dataframe tbody tr th {\n",
       "        vertical-align: top;\n",
       "    }\n",
       "\n",
       "    .dataframe thead th {\n",
       "        text-align: right;\n",
       "    }\n",
       "</style>\n",
       "<table border=\"1\" class=\"dataframe\">\n",
       "  <thead>\n",
       "    <tr style=\"text-align: right;\">\n",
       "      <th></th>\n",
       "      <th>one</th>\n",
       "      <th>three</th>\n",
       "      <th>two</th>\n",
       "    </tr>\n",
       "  </thead>\n",
       "  <tbody>\n",
       "    <tr>\n",
       "      <th>0</th>\n",
       "      <td>1.0</td>\n",
       "      <td>1.0</td>\n",
       "      <td>5</td>\n",
       "    </tr>\n",
       "    <tr>\n",
       "      <th>1</th>\n",
       "      <td>2.0</td>\n",
       "      <td>2.0</td>\n",
       "      <td>10</td>\n",
       "    </tr>\n",
       "    <tr>\n",
       "      <th>2</th>\n",
       "      <td>3.0</td>\n",
       "      <td>34.0</td>\n",
       "      <td>9</td>\n",
       "    </tr>\n",
       "    <tr>\n",
       "      <th>3</th>\n",
       "      <td>1.0</td>\n",
       "      <td>6.0</td>\n",
       "      <td>8</td>\n",
       "    </tr>\n",
       "    <tr>\n",
       "      <th>4</th>\n",
       "      <td>2.0</td>\n",
       "      <td>3.0</td>\n",
       "      <td>8</td>\n",
       "    </tr>\n",
       "    <tr>\n",
       "      <th>5</th>\n",
       "      <td>3.0</td>\n",
       "      <td>54.0</td>\n",
       "      <td>9</td>\n",
       "    </tr>\n",
       "    <tr>\n",
       "      <th>6</th>\n",
       "      <td>NaN</td>\n",
       "      <td>6.0</td>\n",
       "      <td>8</td>\n",
       "    </tr>\n",
       "    <tr>\n",
       "      <th>7</th>\n",
       "      <td>NaN</td>\n",
       "      <td>45.0</td>\n",
       "      <td>9</td>\n",
       "    </tr>\n",
       "    <tr>\n",
       "      <th>8</th>\n",
       "      <td>NaN</td>\n",
       "      <td>NaN</td>\n",
       "      <td>6</td>\n",
       "    </tr>\n",
       "  </tbody>\n",
       "</table>\n",
       "</div>"
      ],
      "text/plain": [
       "   one  three  two\n",
       "0  1.0    1.0    5\n",
       "1  2.0    2.0   10\n",
       "2  3.0   34.0    9\n",
       "3  1.0    6.0    8\n",
       "4  2.0    3.0    8\n",
       "5  3.0   54.0    9\n",
       "6  NaN    6.0    8\n",
       "7  NaN   45.0    9\n",
       "8  NaN    NaN    6"
      ]
     },
     "execution_count": 181,
     "metadata": {},
     "output_type": "execute_result"
    }
   ],
   "source": [
    "data1"
   ]
  },
  {
   "cell_type": "code",
   "execution_count": 182,
   "metadata": {},
   "outputs": [],
   "source": [
    "del data1['three']"
   ]
  },
  {
   "cell_type": "code",
   "execution_count": 183,
   "metadata": {},
   "outputs": [
    {
     "data": {
      "text/html": [
       "<div>\n",
       "<style scoped>\n",
       "    .dataframe tbody tr th:only-of-type {\n",
       "        vertical-align: middle;\n",
       "    }\n",
       "\n",
       "    .dataframe tbody tr th {\n",
       "        vertical-align: top;\n",
       "    }\n",
       "\n",
       "    .dataframe thead th {\n",
       "        text-align: right;\n",
       "    }\n",
       "</style>\n",
       "<table border=\"1\" class=\"dataframe\">\n",
       "  <thead>\n",
       "    <tr style=\"text-align: right;\">\n",
       "      <th></th>\n",
       "      <th>one</th>\n",
       "      <th>two</th>\n",
       "    </tr>\n",
       "  </thead>\n",
       "  <tbody>\n",
       "    <tr>\n",
       "      <th>0</th>\n",
       "      <td>1.0</td>\n",
       "      <td>5</td>\n",
       "    </tr>\n",
       "    <tr>\n",
       "      <th>1</th>\n",
       "      <td>2.0</td>\n",
       "      <td>10</td>\n",
       "    </tr>\n",
       "    <tr>\n",
       "      <th>2</th>\n",
       "      <td>3.0</td>\n",
       "      <td>9</td>\n",
       "    </tr>\n",
       "    <tr>\n",
       "      <th>3</th>\n",
       "      <td>1.0</td>\n",
       "      <td>8</td>\n",
       "    </tr>\n",
       "    <tr>\n",
       "      <th>4</th>\n",
       "      <td>2.0</td>\n",
       "      <td>8</td>\n",
       "    </tr>\n",
       "    <tr>\n",
       "      <th>5</th>\n",
       "      <td>3.0</td>\n",
       "      <td>9</td>\n",
       "    </tr>\n",
       "    <tr>\n",
       "      <th>6</th>\n",
       "      <td>NaN</td>\n",
       "      <td>8</td>\n",
       "    </tr>\n",
       "    <tr>\n",
       "      <th>7</th>\n",
       "      <td>NaN</td>\n",
       "      <td>9</td>\n",
       "    </tr>\n",
       "    <tr>\n",
       "      <th>8</th>\n",
       "      <td>NaN</td>\n",
       "      <td>6</td>\n",
       "    </tr>\n",
       "  </tbody>\n",
       "</table>\n",
       "</div>"
      ],
      "text/plain": [
       "   one  two\n",
       "0  1.0    5\n",
       "1  2.0   10\n",
       "2  3.0    9\n",
       "3  1.0    8\n",
       "4  2.0    8\n",
       "5  3.0    9\n",
       "6  NaN    8\n",
       "7  NaN    9\n",
       "8  NaN    6"
      ]
     },
     "execution_count": 183,
     "metadata": {},
     "output_type": "execute_result"
    }
   ],
   "source": [
    "data1"
   ]
  },
  {
   "cell_type": "code",
   "execution_count": 184,
   "metadata": {},
   "outputs": [],
   "source": [
    "#Row Selection, Addition, and Deletion"
   ]
  },
  {
   "cell_type": "code",
   "execution_count": 185,
   "metadata": {},
   "outputs": [],
   "source": [
    "a = {'one':pd.Series([11,2,3,4,6,0,4,10],index=['a','b','c','d','e','f','g','h']),\n",
    "      'two':pd.Series([5,6,7,6,8,6,8,6,7,6,8],index=['a','b','c','d','e','f','g','h','i','j','k'],dtype=int)}"
   ]
  },
  {
   "cell_type": "code",
   "execution_count": 186,
   "metadata": {},
   "outputs": [],
   "source": [
    "b=pd.DataFrame(a)"
   ]
  },
  {
   "cell_type": "code",
   "execution_count": 187,
   "metadata": {},
   "outputs": [
    {
     "data": {
      "text/html": [
       "<div>\n",
       "<style scoped>\n",
       "    .dataframe tbody tr th:only-of-type {\n",
       "        vertical-align: middle;\n",
       "    }\n",
       "\n",
       "    .dataframe tbody tr th {\n",
       "        vertical-align: top;\n",
       "    }\n",
       "\n",
       "    .dataframe thead th {\n",
       "        text-align: right;\n",
       "    }\n",
       "</style>\n",
       "<table border=\"1\" class=\"dataframe\">\n",
       "  <thead>\n",
       "    <tr style=\"text-align: right;\">\n",
       "      <th></th>\n",
       "      <th>one</th>\n",
       "      <th>two</th>\n",
       "    </tr>\n",
       "  </thead>\n",
       "  <tbody>\n",
       "    <tr>\n",
       "      <th>a</th>\n",
       "      <td>11.0</td>\n",
       "      <td>5</td>\n",
       "    </tr>\n",
       "    <tr>\n",
       "      <th>b</th>\n",
       "      <td>2.0</td>\n",
       "      <td>6</td>\n",
       "    </tr>\n",
       "    <tr>\n",
       "      <th>c</th>\n",
       "      <td>3.0</td>\n",
       "      <td>7</td>\n",
       "    </tr>\n",
       "    <tr>\n",
       "      <th>d</th>\n",
       "      <td>4.0</td>\n",
       "      <td>6</td>\n",
       "    </tr>\n",
       "    <tr>\n",
       "      <th>e</th>\n",
       "      <td>6.0</td>\n",
       "      <td>8</td>\n",
       "    </tr>\n",
       "    <tr>\n",
       "      <th>f</th>\n",
       "      <td>0.0</td>\n",
       "      <td>6</td>\n",
       "    </tr>\n",
       "    <tr>\n",
       "      <th>g</th>\n",
       "      <td>4.0</td>\n",
       "      <td>8</td>\n",
       "    </tr>\n",
       "    <tr>\n",
       "      <th>h</th>\n",
       "      <td>10.0</td>\n",
       "      <td>6</td>\n",
       "    </tr>\n",
       "    <tr>\n",
       "      <th>i</th>\n",
       "      <td>NaN</td>\n",
       "      <td>7</td>\n",
       "    </tr>\n",
       "    <tr>\n",
       "      <th>j</th>\n",
       "      <td>NaN</td>\n",
       "      <td>6</td>\n",
       "    </tr>\n",
       "    <tr>\n",
       "      <th>k</th>\n",
       "      <td>NaN</td>\n",
       "      <td>8</td>\n",
       "    </tr>\n",
       "  </tbody>\n",
       "</table>\n",
       "</div>"
      ],
      "text/plain": [
       "    one  two\n",
       "a  11.0    5\n",
       "b   2.0    6\n",
       "c   3.0    7\n",
       "d   4.0    6\n",
       "e   6.0    8\n",
       "f   0.0    6\n",
       "g   4.0    8\n",
       "h  10.0    6\n",
       "i   NaN    7\n",
       "j   NaN    6\n",
       "k   NaN    8"
      ]
     },
     "execution_count": 187,
     "metadata": {},
     "output_type": "execute_result"
    }
   ],
   "source": [
    "b"
   ]
  },
  {
   "cell_type": "code",
   "execution_count": 190,
   "metadata": {},
   "outputs": [
    {
     "data": {
      "text/plain": [
       "one    NaN\n",
       "two    8.0\n",
       "Name: k, dtype: float64"
      ]
     },
     "execution_count": 190,
     "metadata": {},
     "output_type": "execute_result"
    }
   ],
   "source": [
    "b.loc['k']"
   ]
  },
  {
   "cell_type": "code",
   "execution_count": 191,
   "metadata": {},
   "outputs": [
    {
     "data": {
      "text/plain": [
       "one    11.0\n",
       "two     5.0\n",
       "Name: a, dtype: float64"
      ]
     },
     "execution_count": 191,
     "metadata": {},
     "output_type": "execute_result"
    }
   ],
   "source": [
    "b.loc['a']"
   ]
  },
  {
   "cell_type": "code",
   "execution_count": 192,
   "metadata": {},
   "outputs": [
    {
     "data": {
      "text/plain": [
       "one    NaN\n",
       "two    7.0\n",
       "Name: i, dtype: float64"
      ]
     },
     "execution_count": 192,
     "metadata": {},
     "output_type": "execute_result"
    }
   ],
   "source": [
    "b.iloc[8]"
   ]
  },
  {
   "cell_type": "code",
   "execution_count": 193,
   "metadata": {},
   "outputs": [
    {
     "data": {
      "text/plain": [
       "one    3.0\n",
       "two    7.0\n",
       "Name: c, dtype: float64"
      ]
     },
     "execution_count": 193,
     "metadata": {},
     "output_type": "execute_result"
    }
   ],
   "source": [
    "b.iloc[2]"
   ]
  },
  {
   "cell_type": "code",
   "execution_count": 194,
   "metadata": {},
   "outputs": [
    {
     "data": {
      "text/html": [
       "<div>\n",
       "<style scoped>\n",
       "    .dataframe tbody tr th:only-of-type {\n",
       "        vertical-align: middle;\n",
       "    }\n",
       "\n",
       "    .dataframe tbody tr th {\n",
       "        vertical-align: top;\n",
       "    }\n",
       "\n",
       "    .dataframe thead th {\n",
       "        text-align: right;\n",
       "    }\n",
       "</style>\n",
       "<table border=\"1\" class=\"dataframe\">\n",
       "  <thead>\n",
       "    <tr style=\"text-align: right;\">\n",
       "      <th></th>\n",
       "      <th>one</th>\n",
       "      <th>two</th>\n",
       "    </tr>\n",
       "  </thead>\n",
       "  <tbody>\n",
       "    <tr>\n",
       "      <th>c</th>\n",
       "      <td>3.0</td>\n",
       "      <td>7</td>\n",
       "    </tr>\n",
       "    <tr>\n",
       "      <th>d</th>\n",
       "      <td>4.0</td>\n",
       "      <td>6</td>\n",
       "    </tr>\n",
       "    <tr>\n",
       "      <th>e</th>\n",
       "      <td>6.0</td>\n",
       "      <td>8</td>\n",
       "    </tr>\n",
       "  </tbody>\n",
       "</table>\n",
       "</div>"
      ],
      "text/plain": [
       "   one  two\n",
       "c  3.0    7\n",
       "d  4.0    6\n",
       "e  6.0    8"
      ]
     },
     "execution_count": 194,
     "metadata": {},
     "output_type": "execute_result"
    }
   ],
   "source": [
    "b[2:5]"
   ]
  },
  {
   "cell_type": "code",
   "execution_count": 195,
   "metadata": {},
   "outputs": [
    {
     "data": {
      "text/html": [
       "<div>\n",
       "<style scoped>\n",
       "    .dataframe tbody tr th:only-of-type {\n",
       "        vertical-align: middle;\n",
       "    }\n",
       "\n",
       "    .dataframe tbody tr th {\n",
       "        vertical-align: top;\n",
       "    }\n",
       "\n",
       "    .dataframe thead th {\n",
       "        text-align: right;\n",
       "    }\n",
       "</style>\n",
       "<table border=\"1\" class=\"dataframe\">\n",
       "  <thead>\n",
       "    <tr style=\"text-align: right;\">\n",
       "      <th></th>\n",
       "      <th>one</th>\n",
       "      <th>two</th>\n",
       "    </tr>\n",
       "  </thead>\n",
       "  <tbody>\n",
       "    <tr>\n",
       "      <th>b</th>\n",
       "      <td>2.0</td>\n",
       "      <td>6</td>\n",
       "    </tr>\n",
       "  </tbody>\n",
       "</table>\n",
       "</div>"
      ],
      "text/plain": [
       "   one  two\n",
       "b  2.0    6"
      ]
     },
     "execution_count": 195,
     "metadata": {},
     "output_type": "execute_result"
    }
   ],
   "source": [
    "b[1:2]"
   ]
  },
  {
   "cell_type": "code",
   "execution_count": 196,
   "metadata": {},
   "outputs": [],
   "source": [
    "df=pd.DataFrame([[1,2,3],[1,2,3]],columns=[0,1,5])"
   ]
  },
  {
   "cell_type": "code",
   "execution_count": 197,
   "metadata": {},
   "outputs": [],
   "source": [
    "df1=pd.DataFrame([[4,5,6],[5,6,7]],columns=[0,1,2])\n"
   ]
  },
  {
   "cell_type": "code",
   "execution_count": 198,
   "metadata": {},
   "outputs": [],
   "source": [
    "d=df.append(df1)"
   ]
  },
  {
   "cell_type": "code",
   "execution_count": 199,
   "metadata": {},
   "outputs": [
    {
     "data": {
      "text/html": [
       "<div>\n",
       "<style scoped>\n",
       "    .dataframe tbody tr th:only-of-type {\n",
       "        vertical-align: middle;\n",
       "    }\n",
       "\n",
       "    .dataframe tbody tr th {\n",
       "        vertical-align: top;\n",
       "    }\n",
       "\n",
       "    .dataframe thead th {\n",
       "        text-align: right;\n",
       "    }\n",
       "</style>\n",
       "<table border=\"1\" class=\"dataframe\">\n",
       "  <thead>\n",
       "    <tr style=\"text-align: right;\">\n",
       "      <th></th>\n",
       "      <th>0</th>\n",
       "      <th>1</th>\n",
       "      <th>2</th>\n",
       "      <th>5</th>\n",
       "    </tr>\n",
       "  </thead>\n",
       "  <tbody>\n",
       "    <tr>\n",
       "      <th>0</th>\n",
       "      <td>1</td>\n",
       "      <td>2</td>\n",
       "      <td>NaN</td>\n",
       "      <td>3.0</td>\n",
       "    </tr>\n",
       "    <tr>\n",
       "      <th>1</th>\n",
       "      <td>1</td>\n",
       "      <td>2</td>\n",
       "      <td>NaN</td>\n",
       "      <td>3.0</td>\n",
       "    </tr>\n",
       "    <tr>\n",
       "      <th>0</th>\n",
       "      <td>4</td>\n",
       "      <td>5</td>\n",
       "      <td>6.0</td>\n",
       "      <td>NaN</td>\n",
       "    </tr>\n",
       "    <tr>\n",
       "      <th>1</th>\n",
       "      <td>5</td>\n",
       "      <td>6</td>\n",
       "      <td>7.0</td>\n",
       "      <td>NaN</td>\n",
       "    </tr>\n",
       "  </tbody>\n",
       "</table>\n",
       "</div>"
      ],
      "text/plain": [
       "   0  1    2    5\n",
       "0  1  2  NaN  3.0\n",
       "1  1  2  NaN  3.0\n",
       "0  4  5  6.0  NaN\n",
       "1  5  6  7.0  NaN"
      ]
     },
     "execution_count": 199,
     "metadata": {},
     "output_type": "execute_result"
    }
   ],
   "source": [
    "d"
   ]
  },
  {
   "cell_type": "code",
   "execution_count": 202,
   "metadata": {},
   "outputs": [
    {
     "data": {
      "text/html": [
       "<div>\n",
       "<style scoped>\n",
       "    .dataframe tbody tr th:only-of-type {\n",
       "        vertical-align: middle;\n",
       "    }\n",
       "\n",
       "    .dataframe tbody tr th {\n",
       "        vertical-align: top;\n",
       "    }\n",
       "\n",
       "    .dataframe thead th {\n",
       "        text-align: right;\n",
       "    }\n",
       "</style>\n",
       "<table border=\"1\" class=\"dataframe\">\n",
       "  <thead>\n",
       "    <tr style=\"text-align: right;\">\n",
       "      <th></th>\n",
       "      <th>0</th>\n",
       "      <th>1</th>\n",
       "      <th>2</th>\n",
       "      <th>5</th>\n",
       "    </tr>\n",
       "  </thead>\n",
       "  <tbody>\n",
       "    <tr>\n",
       "      <th>1</th>\n",
       "      <td>1</td>\n",
       "      <td>2</td>\n",
       "      <td>NaN</td>\n",
       "      <td>3.0</td>\n",
       "    </tr>\n",
       "    <tr>\n",
       "      <th>1</th>\n",
       "      <td>5</td>\n",
       "      <td>6</td>\n",
       "      <td>7.0</td>\n",
       "      <td>NaN</td>\n",
       "    </tr>\n",
       "  </tbody>\n",
       "</table>\n",
       "</div>"
      ],
      "text/plain": [
       "   0  1    2    5\n",
       "1  1  2  NaN  3.0\n",
       "1  5  6  7.0  NaN"
      ]
     },
     "execution_count": 202,
     "metadata": {},
     "output_type": "execute_result"
    }
   ],
   "source": [
    "d.drop(0)"
   ]
  },
  {
   "cell_type": "code",
   "execution_count": 203,
   "metadata": {},
   "outputs": [],
   "source": [
    "import numpy as np\n",
    "data=np.random.rand(1,6,9)\n"
   ]
  },
  {
   "cell_type": "code",
   "execution_count": 204,
   "metadata": {},
   "outputs": [],
   "source": [
    "dt=pd.Panel(data)"
   ]
  },
  {
   "cell_type": "code",
   "execution_count": 205,
   "metadata": {},
   "outputs": [
    {
     "data": {
      "text/plain": [
       "<class 'pandas.core.panel.Panel'>\n",
       "Dimensions: 1 (items) x 6 (major_axis) x 9 (minor_axis)\n",
       "Items axis: 0 to 0\n",
       "Major_axis axis: 0 to 5\n",
       "Minor_axis axis: 0 to 8"
      ]
     },
     "execution_count": 205,
     "metadata": {},
     "output_type": "execute_result"
    }
   ],
   "source": [
    "dt"
   ]
  },
  {
   "cell_type": "code",
   "execution_count": 206,
   "metadata": {},
   "outputs": [],
   "source": [
    "data={'item1':pd.DataFrame(np.random.rand(1,3)),\n",
    "         'item2':pd.DataFrame(np.random.rand(5,6))}"
   ]
  },
  {
   "cell_type": "code",
   "execution_count": 207,
   "metadata": {},
   "outputs": [],
   "source": [
    "d=pd.Panel(data)"
   ]
  },
  {
   "cell_type": "code",
   "execution_count": 208,
   "metadata": {},
   "outputs": [
    {
     "data": {
      "text/plain": [
       "<class 'pandas.core.panel.Panel'>\n",
       "Dimensions: 2 (items) x 5 (major_axis) x 6 (minor_axis)\n",
       "Items axis: item1 to item2\n",
       "Major_axis axis: 0 to 4\n",
       "Minor_axis axis: 0 to 5"
      ]
     },
     "execution_count": 208,
     "metadata": {},
     "output_type": "execute_result"
    }
   ],
   "source": [
    "d"
   ]
  },
  {
   "cell_type": "code",
   "execution_count": 460,
   "metadata": {},
   "outputs": [
    {
     "data": {
      "text/html": [
       "<div>\n",
       "<style scoped>\n",
       "    .dataframe tbody tr th:only-of-type {\n",
       "        vertical-align: middle;\n",
       "    }\n",
       "\n",
       "    .dataframe tbody tr th {\n",
       "        vertical-align: top;\n",
       "    }\n",
       "\n",
       "    .dataframe thead th {\n",
       "        text-align: right;\n",
       "    }\n",
       "</style>\n",
       "<table border=\"1\" class=\"dataframe\">\n",
       "  <thead>\n",
       "    <tr style=\"text-align: right;\">\n",
       "      <th></th>\n",
       "      <th>0</th>\n",
       "      <th>1</th>\n",
       "      <th>2</th>\n",
       "      <th>3</th>\n",
       "      <th>4</th>\n",
       "      <th>5</th>\n",
       "    </tr>\n",
       "  </thead>\n",
       "  <tbody>\n",
       "    <tr>\n",
       "      <th>0</th>\n",
       "      <td>0.301579</td>\n",
       "      <td>0.516008</td>\n",
       "      <td>0.612991</td>\n",
       "      <td>NaN</td>\n",
       "      <td>NaN</td>\n",
       "      <td>NaN</td>\n",
       "    </tr>\n",
       "    <tr>\n",
       "      <th>1</th>\n",
       "      <td>NaN</td>\n",
       "      <td>NaN</td>\n",
       "      <td>NaN</td>\n",
       "      <td>NaN</td>\n",
       "      <td>NaN</td>\n",
       "      <td>NaN</td>\n",
       "    </tr>\n",
       "    <tr>\n",
       "      <th>2</th>\n",
       "      <td>NaN</td>\n",
       "      <td>NaN</td>\n",
       "      <td>NaN</td>\n",
       "      <td>NaN</td>\n",
       "      <td>NaN</td>\n",
       "      <td>NaN</td>\n",
       "    </tr>\n",
       "    <tr>\n",
       "      <th>3</th>\n",
       "      <td>NaN</td>\n",
       "      <td>NaN</td>\n",
       "      <td>NaN</td>\n",
       "      <td>NaN</td>\n",
       "      <td>NaN</td>\n",
       "      <td>NaN</td>\n",
       "    </tr>\n",
       "    <tr>\n",
       "      <th>4</th>\n",
       "      <td>NaN</td>\n",
       "      <td>NaN</td>\n",
       "      <td>NaN</td>\n",
       "      <td>NaN</td>\n",
       "      <td>NaN</td>\n",
       "      <td>NaN</td>\n",
       "    </tr>\n",
       "  </tbody>\n",
       "</table>\n",
       "</div>"
      ],
      "text/plain": [
       "          0         1         2   3   4   5\n",
       "0  0.301579  0.516008  0.612991 NaN NaN NaN\n",
       "1       NaN       NaN       NaN NaN NaN NaN\n",
       "2       NaN       NaN       NaN NaN NaN NaN\n",
       "3       NaN       NaN       NaN NaN NaN NaN\n",
       "4       NaN       NaN       NaN NaN NaN NaN"
      ]
     },
     "execution_count": 460,
     "metadata": {},
     "output_type": "execute_result"
    }
   ],
   "source": [
    "d['item1']"
   ]
  },
  {
   "cell_type": "code",
   "execution_count": 461,
   "metadata": {},
   "outputs": [
    {
     "data": {
      "text/html": [
       "<div>\n",
       "<style scoped>\n",
       "    .dataframe tbody tr th:only-of-type {\n",
       "        vertical-align: middle;\n",
       "    }\n",
       "\n",
       "    .dataframe tbody tr th {\n",
       "        vertical-align: top;\n",
       "    }\n",
       "\n",
       "    .dataframe thead th {\n",
       "        text-align: right;\n",
       "    }\n",
       "</style>\n",
       "<table border=\"1\" class=\"dataframe\">\n",
       "  <thead>\n",
       "    <tr style=\"text-align: right;\">\n",
       "      <th></th>\n",
       "      <th>0</th>\n",
       "      <th>1</th>\n",
       "      <th>2</th>\n",
       "      <th>3</th>\n",
       "      <th>4</th>\n",
       "      <th>5</th>\n",
       "    </tr>\n",
       "  </thead>\n",
       "  <tbody>\n",
       "    <tr>\n",
       "      <th>0</th>\n",
       "      <td>0.234877</td>\n",
       "      <td>0.906794</td>\n",
       "      <td>0.422038</td>\n",
       "      <td>0.854465</td>\n",
       "      <td>0.076326</td>\n",
       "      <td>0.953992</td>\n",
       "    </tr>\n",
       "    <tr>\n",
       "      <th>1</th>\n",
       "      <td>0.799713</td>\n",
       "      <td>0.571733</td>\n",
       "      <td>0.029113</td>\n",
       "      <td>0.122687</td>\n",
       "      <td>0.101685</td>\n",
       "      <td>0.071029</td>\n",
       "    </tr>\n",
       "    <tr>\n",
       "      <th>2</th>\n",
       "      <td>0.766246</td>\n",
       "      <td>0.198052</td>\n",
       "      <td>0.664642</td>\n",
       "      <td>0.459802</td>\n",
       "      <td>0.457152</td>\n",
       "      <td>0.750984</td>\n",
       "    </tr>\n",
       "    <tr>\n",
       "      <th>3</th>\n",
       "      <td>0.579796</td>\n",
       "      <td>0.143953</td>\n",
       "      <td>0.330080</td>\n",
       "      <td>0.519705</td>\n",
       "      <td>0.268511</td>\n",
       "      <td>0.255503</td>\n",
       "    </tr>\n",
       "    <tr>\n",
       "      <th>4</th>\n",
       "      <td>0.205011</td>\n",
       "      <td>0.693543</td>\n",
       "      <td>0.927315</td>\n",
       "      <td>0.683039</td>\n",
       "      <td>0.984662</td>\n",
       "      <td>0.768570</td>\n",
       "    </tr>\n",
       "  </tbody>\n",
       "</table>\n",
       "</div>"
      ],
      "text/plain": [
       "          0         1         2         3         4         5\n",
       "0  0.234877  0.906794  0.422038  0.854465  0.076326  0.953992\n",
       "1  0.799713  0.571733  0.029113  0.122687  0.101685  0.071029\n",
       "2  0.766246  0.198052  0.664642  0.459802  0.457152  0.750984\n",
       "3  0.579796  0.143953  0.330080  0.519705  0.268511  0.255503\n",
       "4  0.205011  0.693543  0.927315  0.683039  0.984662  0.768570"
      ]
     },
     "execution_count": 461,
     "metadata": {},
     "output_type": "execute_result"
    }
   ],
   "source": [
    "d['item2']"
   ]
  },
  {
   "cell_type": "code",
   "execution_count": 209,
   "metadata": {},
   "outputs": [
    {
     "data": {
      "text/html": [
       "<div>\n",
       "<style scoped>\n",
       "    .dataframe tbody tr th:only-of-type {\n",
       "        vertical-align: middle;\n",
       "    }\n",
       "\n",
       "    .dataframe tbody tr th {\n",
       "        vertical-align: top;\n",
       "    }\n",
       "\n",
       "    .dataframe thead th {\n",
       "        text-align: right;\n",
       "    }\n",
       "</style>\n",
       "<table border=\"1\" class=\"dataframe\">\n",
       "  <thead>\n",
       "    <tr style=\"text-align: right;\">\n",
       "      <th></th>\n",
       "      <th>item1</th>\n",
       "      <th>item2</th>\n",
       "    </tr>\n",
       "  </thead>\n",
       "  <tbody>\n",
       "    <tr>\n",
       "      <th>0</th>\n",
       "      <td>0.907532</td>\n",
       "      <td>0.790010</td>\n",
       "    </tr>\n",
       "    <tr>\n",
       "      <th>1</th>\n",
       "      <td>0.331346</td>\n",
       "      <td>0.098009</td>\n",
       "    </tr>\n",
       "    <tr>\n",
       "      <th>2</th>\n",
       "      <td>0.320976</td>\n",
       "      <td>0.510763</td>\n",
       "    </tr>\n",
       "    <tr>\n",
       "      <th>3</th>\n",
       "      <td>NaN</td>\n",
       "      <td>0.409128</td>\n",
       "    </tr>\n",
       "    <tr>\n",
       "      <th>4</th>\n",
       "      <td>NaN</td>\n",
       "      <td>0.932293</td>\n",
       "    </tr>\n",
       "    <tr>\n",
       "      <th>5</th>\n",
       "      <td>NaN</td>\n",
       "      <td>0.117396</td>\n",
       "    </tr>\n",
       "  </tbody>\n",
       "</table>\n",
       "</div>"
      ],
      "text/plain": [
       "      item1     item2\n",
       "0  0.907532  0.790010\n",
       "1  0.331346  0.098009\n",
       "2  0.320976  0.510763\n",
       "3       NaN  0.409128\n",
       "4       NaN  0.932293\n",
       "5       NaN  0.117396"
      ]
     },
     "execution_count": 209,
     "metadata": {},
     "output_type": "execute_result"
    }
   ],
   "source": [
    "d.major_xs(0)"
   ]
  },
  {
   "cell_type": "code",
   "execution_count": 210,
   "metadata": {},
   "outputs": [
    {
     "data": {
      "text/html": [
       "<div>\n",
       "<style scoped>\n",
       "    .dataframe tbody tr th:only-of-type {\n",
       "        vertical-align: middle;\n",
       "    }\n",
       "\n",
       "    .dataframe tbody tr th {\n",
       "        vertical-align: top;\n",
       "    }\n",
       "\n",
       "    .dataframe thead th {\n",
       "        text-align: right;\n",
       "    }\n",
       "</style>\n",
       "<table border=\"1\" class=\"dataframe\">\n",
       "  <thead>\n",
       "    <tr style=\"text-align: right;\">\n",
       "      <th></th>\n",
       "      <th>item1</th>\n",
       "      <th>item2</th>\n",
       "    </tr>\n",
       "  </thead>\n",
       "  <tbody>\n",
       "    <tr>\n",
       "      <th>0</th>\n",
       "      <td>0.320976</td>\n",
       "      <td>0.510763</td>\n",
       "    </tr>\n",
       "    <tr>\n",
       "      <th>1</th>\n",
       "      <td>NaN</td>\n",
       "      <td>0.520625</td>\n",
       "    </tr>\n",
       "    <tr>\n",
       "      <th>2</th>\n",
       "      <td>NaN</td>\n",
       "      <td>0.311310</td>\n",
       "    </tr>\n",
       "    <tr>\n",
       "      <th>3</th>\n",
       "      <td>NaN</td>\n",
       "      <td>0.564575</td>\n",
       "    </tr>\n",
       "    <tr>\n",
       "      <th>4</th>\n",
       "      <td>NaN</td>\n",
       "      <td>0.944732</td>\n",
       "    </tr>\n",
       "  </tbody>\n",
       "</table>\n",
       "</div>"
      ],
      "text/plain": [
       "      item1     item2\n",
       "0  0.320976  0.510763\n",
       "1       NaN  0.520625\n",
       "2       NaN  0.311310\n",
       "3       NaN  0.564575\n",
       "4       NaN  0.944732"
      ]
     },
     "execution_count": 210,
     "metadata": {},
     "output_type": "execute_result"
    }
   ],
   "source": [
    "d.minor_xs(2)"
   ]
  },
  {
   "cell_type": "code",
   "execution_count": 464,
   "metadata": {},
   "outputs": [
    {
     "data": {
      "text/html": [
       "<div>\n",
       "<style scoped>\n",
       "    .dataframe tbody tr th:only-of-type {\n",
       "        vertical-align: middle;\n",
       "    }\n",
       "\n",
       "    .dataframe tbody tr th {\n",
       "        vertical-align: top;\n",
       "    }\n",
       "\n",
       "    .dataframe thead th {\n",
       "        text-align: right;\n",
       "    }\n",
       "</style>\n",
       "<table border=\"1\" class=\"dataframe\">\n",
       "  <thead>\n",
       "    <tr style=\"text-align: right;\">\n",
       "      <th></th>\n",
       "      <th>item1</th>\n",
       "      <th>item2</th>\n",
       "    </tr>\n",
       "  </thead>\n",
       "  <tbody>\n",
       "    <tr>\n",
       "      <th>0</th>\n",
       "      <td>0.516008</td>\n",
       "      <td>0.906794</td>\n",
       "    </tr>\n",
       "    <tr>\n",
       "      <th>1</th>\n",
       "      <td>NaN</td>\n",
       "      <td>0.571733</td>\n",
       "    </tr>\n",
       "    <tr>\n",
       "      <th>2</th>\n",
       "      <td>NaN</td>\n",
       "      <td>0.198052</td>\n",
       "    </tr>\n",
       "    <tr>\n",
       "      <th>3</th>\n",
       "      <td>NaN</td>\n",
       "      <td>0.143953</td>\n",
       "    </tr>\n",
       "    <tr>\n",
       "      <th>4</th>\n",
       "      <td>NaN</td>\n",
       "      <td>0.693543</td>\n",
       "    </tr>\n",
       "  </tbody>\n",
       "</table>\n",
       "</div>"
      ],
      "text/plain": [
       "      item1     item2\n",
       "0  0.516008  0.906794\n",
       "1       NaN  0.571733\n",
       "2       NaN  0.198052\n",
       "3       NaN  0.143953\n",
       "4       NaN  0.693543"
      ]
     },
     "execution_count": 464,
     "metadata": {},
     "output_type": "execute_result"
    }
   ],
   "source": [
    "d.minor_xs(1)"
   ]
  },
  {
   "cell_type": "code",
   "execution_count": 465,
   "metadata": {},
   "outputs": [],
   "source": [
    "k=pd.DataFrame(np.random.randn(5))"
   ]
  },
  {
   "cell_type": "code",
   "execution_count": 466,
   "metadata": {},
   "outputs": [
    {
     "data": {
      "text/html": [
       "<div>\n",
       "<style scoped>\n",
       "    .dataframe tbody tr th:only-of-type {\n",
       "        vertical-align: middle;\n",
       "    }\n",
       "\n",
       "    .dataframe tbody tr th {\n",
       "        vertical-align: top;\n",
       "    }\n",
       "\n",
       "    .dataframe thead th {\n",
       "        text-align: right;\n",
       "    }\n",
       "</style>\n",
       "<table border=\"1\" class=\"dataframe\">\n",
       "  <thead>\n",
       "    <tr style=\"text-align: right;\">\n",
       "      <th></th>\n",
       "      <th>0</th>\n",
       "    </tr>\n",
       "  </thead>\n",
       "  <tbody>\n",
       "    <tr>\n",
       "      <th>0</th>\n",
       "      <td>0.493463</td>\n",
       "    </tr>\n",
       "    <tr>\n",
       "      <th>1</th>\n",
       "      <td>0.395054</td>\n",
       "    </tr>\n",
       "    <tr>\n",
       "      <th>2</th>\n",
       "      <td>-0.496831</td>\n",
       "    </tr>\n",
       "    <tr>\n",
       "      <th>3</th>\n",
       "      <td>0.748757</td>\n",
       "    </tr>\n",
       "    <tr>\n",
       "      <th>4</th>\n",
       "      <td>-1.032536</td>\n",
       "    </tr>\n",
       "  </tbody>\n",
       "</table>\n",
       "</div>"
      ],
      "text/plain": [
       "          0\n",
       "0  0.493463\n",
       "1  0.395054\n",
       "2 -0.496831\n",
       "3  0.748757\n",
       "4 -1.032536"
      ]
     },
     "execution_count": 466,
     "metadata": {},
     "output_type": "execute_result"
    }
   ],
   "source": [
    "k.head()"
   ]
  },
  {
   "cell_type": "code",
   "execution_count": 467,
   "metadata": {},
   "outputs": [
    {
     "data": {
      "text/html": [
       "<div>\n",
       "<style scoped>\n",
       "    .dataframe tbody tr th:only-of-type {\n",
       "        vertical-align: middle;\n",
       "    }\n",
       "\n",
       "    .dataframe tbody tr th {\n",
       "        vertical-align: top;\n",
       "    }\n",
       "\n",
       "    .dataframe thead th {\n",
       "        text-align: right;\n",
       "    }\n",
       "</style>\n",
       "<table border=\"1\" class=\"dataframe\">\n",
       "  <thead>\n",
       "    <tr style=\"text-align: right;\">\n",
       "      <th></th>\n",
       "      <th>0</th>\n",
       "    </tr>\n",
       "  </thead>\n",
       "  <tbody>\n",
       "    <tr>\n",
       "      <th>0</th>\n",
       "      <td>0.493463</td>\n",
       "    </tr>\n",
       "    <tr>\n",
       "      <th>1</th>\n",
       "      <td>0.395054</td>\n",
       "    </tr>\n",
       "    <tr>\n",
       "      <th>2</th>\n",
       "      <td>-0.496831</td>\n",
       "    </tr>\n",
       "    <tr>\n",
       "      <th>3</th>\n",
       "      <td>0.748757</td>\n",
       "    </tr>\n",
       "    <tr>\n",
       "      <th>4</th>\n",
       "      <td>-1.032536</td>\n",
       "    </tr>\n",
       "  </tbody>\n",
       "</table>\n",
       "</div>"
      ],
      "text/plain": [
       "          0\n",
       "0  0.493463\n",
       "1  0.395054\n",
       "2 -0.496831\n",
       "3  0.748757\n",
       "4 -1.032536"
      ]
     },
     "execution_count": 467,
     "metadata": {},
     "output_type": "execute_result"
    }
   ],
   "source": [
    "k.tail()"
   ]
  },
  {
   "cell_type": "code",
   "execution_count": 345,
   "metadata": {},
   "outputs": [],
   "source": [
    "data={'name':pd.Series(['kiran','nagaraju','pravallika','yeswith']),\n",
    "             'age':pd.Series([24,30,27,2]),\n",
    "              'work':pd.Series(['reading','scientist','homemaker','playing'])}"
   ]
  },
  {
   "cell_type": "code",
   "execution_count": 212,
   "metadata": {},
   "outputs": [],
   "source": [
    "d=pd.DataFrame(data)"
   ]
  },
  {
   "cell_type": "code",
   "execution_count": 213,
   "metadata": {},
   "outputs": [
    {
     "data": {
      "text/html": [
       "<div>\n",
       "<style scoped>\n",
       "    .dataframe tbody tr th:only-of-type {\n",
       "        vertical-align: middle;\n",
       "    }\n",
       "\n",
       "    .dataframe tbody tr th {\n",
       "        vertical-align: top;\n",
       "    }\n",
       "\n",
       "    .dataframe thead th {\n",
       "        text-align: right;\n",
       "    }\n",
       "</style>\n",
       "<table border=\"1\" class=\"dataframe\">\n",
       "  <thead>\n",
       "    <tr style=\"text-align: right;\">\n",
       "      <th></th>\n",
       "      <th>age</th>\n",
       "      <th>name</th>\n",
       "      <th>work</th>\n",
       "    </tr>\n",
       "  </thead>\n",
       "  <tbody>\n",
       "    <tr>\n",
       "      <th>0</th>\n",
       "      <td>24</td>\n",
       "      <td>kiran</td>\n",
       "      <td>reading</td>\n",
       "    </tr>\n",
       "    <tr>\n",
       "      <th>1</th>\n",
       "      <td>30</td>\n",
       "      <td>nagaraju</td>\n",
       "      <td>scientist</td>\n",
       "    </tr>\n",
       "    <tr>\n",
       "      <th>2</th>\n",
       "      <td>27</td>\n",
       "      <td>pravallika</td>\n",
       "      <td>homemaker</td>\n",
       "    </tr>\n",
       "    <tr>\n",
       "      <th>3</th>\n",
       "      <td>2</td>\n",
       "      <td>yeswith</td>\n",
       "      <td>playing</td>\n",
       "    </tr>\n",
       "  </tbody>\n",
       "</table>\n",
       "</div>"
      ],
      "text/plain": [
       "   age        name       work\n",
       "0   24       kiran    reading\n",
       "1   30    nagaraju  scientist\n",
       "2   27  pravallika  homemaker\n",
       "3    2     yeswith    playing"
      ]
     },
     "execution_count": 213,
     "metadata": {},
     "output_type": "execute_result"
    }
   ],
   "source": [
    "d"
   ]
  },
  {
   "cell_type": "code",
   "execution_count": 214,
   "metadata": {},
   "outputs": [],
   "source": [
    "del d['age']"
   ]
  },
  {
   "cell_type": "code",
   "execution_count": 215,
   "metadata": {},
   "outputs": [
    {
     "data": {
      "text/html": [
       "<div>\n",
       "<style scoped>\n",
       "    .dataframe tbody tr th:only-of-type {\n",
       "        vertical-align: middle;\n",
       "    }\n",
       "\n",
       "    .dataframe tbody tr th {\n",
       "        vertical-align: top;\n",
       "    }\n",
       "\n",
       "    .dataframe thead th {\n",
       "        text-align: right;\n",
       "    }\n",
       "</style>\n",
       "<table border=\"1\" class=\"dataframe\">\n",
       "  <thead>\n",
       "    <tr style=\"text-align: right;\">\n",
       "      <th></th>\n",
       "      <th>name</th>\n",
       "      <th>work</th>\n",
       "    </tr>\n",
       "  </thead>\n",
       "  <tbody>\n",
       "    <tr>\n",
       "      <th>0</th>\n",
       "      <td>kiran</td>\n",
       "      <td>reading</td>\n",
       "    </tr>\n",
       "    <tr>\n",
       "      <th>1</th>\n",
       "      <td>nagaraju</td>\n",
       "      <td>scientist</td>\n",
       "    </tr>\n",
       "    <tr>\n",
       "      <th>2</th>\n",
       "      <td>pravallika</td>\n",
       "      <td>homemaker</td>\n",
       "    </tr>\n",
       "    <tr>\n",
       "      <th>3</th>\n",
       "      <td>yeswith</td>\n",
       "      <td>playing</td>\n",
       "    </tr>\n",
       "  </tbody>\n",
       "</table>\n",
       "</div>"
      ],
      "text/plain": [
       "         name       work\n",
       "0       kiran    reading\n",
       "1    nagaraju  scientist\n",
       "2  pravallika  homemaker\n",
       "3     yeswith    playing"
      ]
     },
     "execution_count": 215,
     "metadata": {},
     "output_type": "execute_result"
    }
   ],
   "source": [
    "d"
   ]
  },
  {
   "cell_type": "code",
   "execution_count": 223,
   "metadata": {},
   "outputs": [
    {
     "data": {
      "text/plain": [
       "name     nagaraju\n",
       "work    scientist\n",
       "Name: 1, dtype: object"
      ]
     },
     "execution_count": 223,
     "metadata": {},
     "output_type": "execute_result"
    }
   ],
   "source": [
    "d.loc[1]"
   ]
  },
  {
   "cell_type": "code",
   "execution_count": 224,
   "metadata": {},
   "outputs": [
    {
     "data": {
      "text/html": [
       "<div>\n",
       "<style scoped>\n",
       "    .dataframe tbody tr th:only-of-type {\n",
       "        vertical-align: middle;\n",
       "    }\n",
       "\n",
       "    .dataframe tbody tr th {\n",
       "        vertical-align: top;\n",
       "    }\n",
       "\n",
       "    .dataframe thead th {\n",
       "        text-align: right;\n",
       "    }\n",
       "</style>\n",
       "<table border=\"1\" class=\"dataframe\">\n",
       "  <thead>\n",
       "    <tr style=\"text-align: right;\">\n",
       "      <th></th>\n",
       "      <th>name</th>\n",
       "      <th>work</th>\n",
       "    </tr>\n",
       "  </thead>\n",
       "  <tbody>\n",
       "    <tr>\n",
       "      <th>0</th>\n",
       "      <td>kiran</td>\n",
       "      <td>reading</td>\n",
       "    </tr>\n",
       "    <tr>\n",
       "      <th>1</th>\n",
       "      <td>nagaraju</td>\n",
       "      <td>scientist</td>\n",
       "    </tr>\n",
       "    <tr>\n",
       "      <th>2</th>\n",
       "      <td>pravallika</td>\n",
       "      <td>homemaker</td>\n",
       "    </tr>\n",
       "  </tbody>\n",
       "</table>\n",
       "</div>"
      ],
      "text/plain": [
       "         name       work\n",
       "0       kiran    reading\n",
       "1    nagaraju  scientist\n",
       "2  pravallika  homemaker"
      ]
     },
     "execution_count": 224,
     "metadata": {},
     "output_type": "execute_result"
    }
   ],
   "source": [
    "d.drop(3)"
   ]
  },
  {
   "cell_type": "code",
   "execution_count": 225,
   "metadata": {},
   "outputs": [
    {
     "data": {
      "text/html": [
       "<div>\n",
       "<style scoped>\n",
       "    .dataframe tbody tr th:only-of-type {\n",
       "        vertical-align: middle;\n",
       "    }\n",
       "\n",
       "    .dataframe tbody tr th {\n",
       "        vertical-align: top;\n",
       "    }\n",
       "\n",
       "    .dataframe thead th {\n",
       "        text-align: right;\n",
       "    }\n",
       "</style>\n",
       "<table border=\"1\" class=\"dataframe\">\n",
       "  <thead>\n",
       "    <tr style=\"text-align: right;\">\n",
       "      <th></th>\n",
       "      <th>0</th>\n",
       "      <th>1</th>\n",
       "      <th>2</th>\n",
       "      <th>3</th>\n",
       "    </tr>\n",
       "  </thead>\n",
       "  <tbody>\n",
       "    <tr>\n",
       "      <th>name</th>\n",
       "      <td>kiran</td>\n",
       "      <td>nagaraju</td>\n",
       "      <td>pravallika</td>\n",
       "      <td>yeswith</td>\n",
       "    </tr>\n",
       "    <tr>\n",
       "      <th>work</th>\n",
       "      <td>reading</td>\n",
       "      <td>scientist</td>\n",
       "      <td>homemaker</td>\n",
       "      <td>playing</td>\n",
       "    </tr>\n",
       "  </tbody>\n",
       "</table>\n",
       "</div>"
      ],
      "text/plain": [
       "            0          1           2        3\n",
       "name    kiran   nagaraju  pravallika  yeswith\n",
       "work  reading  scientist   homemaker  playing"
      ]
     },
     "execution_count": 225,
     "metadata": {},
     "output_type": "execute_result"
    }
   ],
   "source": [
    "d.T"
   ]
  },
  {
   "cell_type": "code",
   "execution_count": 226,
   "metadata": {},
   "outputs": [
    {
     "data": {
      "text/plain": [
       "[RangeIndex(start=0, stop=4, step=1), Index(['name', 'work'], dtype='object')]"
      ]
     },
     "execution_count": 226,
     "metadata": {},
     "output_type": "execute_result"
    }
   ],
   "source": [
    "d.axes"
   ]
  },
  {
   "cell_type": "code",
   "execution_count": 227,
   "metadata": {},
   "outputs": [
    {
     "data": {
      "text/plain": [
       "name    object\n",
       "work    object\n",
       "dtype: object"
      ]
     },
     "execution_count": 227,
     "metadata": {},
     "output_type": "execute_result"
    }
   ],
   "source": [
    "d.dtypes"
   ]
  },
  {
   "cell_type": "code",
   "execution_count": 228,
   "metadata": {},
   "outputs": [
    {
     "data": {
      "text/plain": [
       "False"
      ]
     },
     "execution_count": 228,
     "metadata": {},
     "output_type": "execute_result"
    }
   ],
   "source": [
    "df.empty"
   ]
  },
  {
   "cell_type": "code",
   "execution_count": 229,
   "metadata": {},
   "outputs": [
    {
     "data": {
      "text/plain": [
       "2"
      ]
     },
     "execution_count": 229,
     "metadata": {},
     "output_type": "execute_result"
    }
   ],
   "source": [
    "d.ndim"
   ]
  },
  {
   "cell_type": "code",
   "execution_count": 230,
   "metadata": {},
   "outputs": [
    {
     "data": {
      "text/plain": [
       "(4, 2)"
      ]
     },
     "execution_count": 230,
     "metadata": {},
     "output_type": "execute_result"
    }
   ],
   "source": [
    "d.shape"
   ]
  },
  {
   "cell_type": "code",
   "execution_count": 231,
   "metadata": {},
   "outputs": [
    {
     "data": {
      "text/plain": [
       "8"
      ]
     },
     "execution_count": 231,
     "metadata": {},
     "output_type": "execute_result"
    }
   ],
   "source": [
    "d.size"
   ]
  },
  {
   "cell_type": "code",
   "execution_count": 232,
   "metadata": {},
   "outputs": [
    {
     "data": {
      "text/plain": [
       "array([['kiran', 'reading'],\n",
       "       ['nagaraju', 'scientist'],\n",
       "       ['pravallika', 'homemaker'],\n",
       "       ['yeswith', 'playing']], dtype=object)"
      ]
     },
     "execution_count": 232,
     "metadata": {},
     "output_type": "execute_result"
    }
   ],
   "source": [
    "d.values"
   ]
  },
  {
   "cell_type": "code",
   "execution_count": 233,
   "metadata": {},
   "outputs": [],
   "source": [
    "data1={'Name':pd.Series(['nagaraju','pravallika','yeswith','bhikshalarao','vijayalakshmi','kiran']),\n",
    "          'age':pd.Series([30,27,2,42,37,24]),\n",
    "              'occupation':pd.Series(['scientist','homemaker','playing','farmer','homemaker','student'])}"
   ]
  },
  {
   "cell_type": "code",
   "execution_count": 234,
   "metadata": {},
   "outputs": [],
   "source": [
    "data=pd.DataFrame(data1)"
   ]
  },
  {
   "cell_type": "code",
   "execution_count": 235,
   "metadata": {},
   "outputs": [
    {
     "data": {
      "text/html": [
       "<div>\n",
       "<style scoped>\n",
       "    .dataframe tbody tr th:only-of-type {\n",
       "        vertical-align: middle;\n",
       "    }\n",
       "\n",
       "    .dataframe tbody tr th {\n",
       "        vertical-align: top;\n",
       "    }\n",
       "\n",
       "    .dataframe thead th {\n",
       "        text-align: right;\n",
       "    }\n",
       "</style>\n",
       "<table border=\"1\" class=\"dataframe\">\n",
       "  <thead>\n",
       "    <tr style=\"text-align: right;\">\n",
       "      <th></th>\n",
       "      <th>Name</th>\n",
       "      <th>age</th>\n",
       "      <th>occupation</th>\n",
       "    </tr>\n",
       "  </thead>\n",
       "  <tbody>\n",
       "    <tr>\n",
       "      <th>0</th>\n",
       "      <td>nagaraju</td>\n",
       "      <td>30</td>\n",
       "      <td>scientist</td>\n",
       "    </tr>\n",
       "    <tr>\n",
       "      <th>1</th>\n",
       "      <td>pravallika</td>\n",
       "      <td>27</td>\n",
       "      <td>homemaker</td>\n",
       "    </tr>\n",
       "    <tr>\n",
       "      <th>2</th>\n",
       "      <td>yeswith</td>\n",
       "      <td>2</td>\n",
       "      <td>playing</td>\n",
       "    </tr>\n",
       "    <tr>\n",
       "      <th>3</th>\n",
       "      <td>bhikshalarao</td>\n",
       "      <td>42</td>\n",
       "      <td>farmer</td>\n",
       "    </tr>\n",
       "    <tr>\n",
       "      <th>4</th>\n",
       "      <td>vijayalakshmi</td>\n",
       "      <td>37</td>\n",
       "      <td>homemaker</td>\n",
       "    </tr>\n",
       "    <tr>\n",
       "      <th>5</th>\n",
       "      <td>kiran</td>\n",
       "      <td>24</td>\n",
       "      <td>student</td>\n",
       "    </tr>\n",
       "  </tbody>\n",
       "</table>\n",
       "</div>"
      ],
      "text/plain": [
       "            Name  age occupation\n",
       "0       nagaraju   30  scientist\n",
       "1     pravallika   27  homemaker\n",
       "2        yeswith    2    playing\n",
       "3   bhikshalarao   42     farmer\n",
       "4  vijayalakshmi   37  homemaker\n",
       "5          kiran   24    student"
      ]
     },
     "execution_count": 235,
     "metadata": {},
     "output_type": "execute_result"
    }
   ],
   "source": [
    "data"
   ]
  },
  {
   "cell_type": "code",
   "execution_count": 236,
   "metadata": {},
   "outputs": [
    {
     "data": {
      "text/plain": [
       "Name          nagarajupravallikayeswithbhikshalaraovijayalak...\n",
       "age                                                         162\n",
       "occupation      scientisthomemakerplayingfarmerhomemakerstudent\n",
       "dtype: object"
      ]
     },
     "execution_count": 236,
     "metadata": {},
     "output_type": "execute_result"
    }
   ],
   "source": [
    "data.sum()"
   ]
  },
  {
   "cell_type": "code",
   "execution_count": 237,
   "metadata": {},
   "outputs": [
    {
     "data": {
      "text/plain": [
       "0    30\n",
       "1    27\n",
       "2     2\n",
       "3    42\n",
       "4    37\n",
       "5    24\n",
       "dtype: int64"
      ]
     },
     "execution_count": 237,
     "metadata": {},
     "output_type": "execute_result"
    }
   ],
   "source": [
    "data.sum(1)"
   ]
  },
  {
   "cell_type": "code",
   "execution_count": 238,
   "metadata": {},
   "outputs": [
    {
     "data": {
      "text/plain": [
       "age    27.0\n",
       "dtype: float64"
      ]
     },
     "execution_count": 238,
     "metadata": {},
     "output_type": "execute_result"
    }
   ],
   "source": [
    "data.mean()"
   ]
  },
  {
   "cell_type": "code",
   "execution_count": 239,
   "metadata": {},
   "outputs": [
    {
     "data": {
      "text/plain": [
       "age    13.914022\n",
       "dtype: float64"
      ]
     },
     "execution_count": 239,
     "metadata": {},
     "output_type": "execute_result"
    }
   ],
   "source": [
    "data.std()"
   ]
  },
  {
   "cell_type": "code",
   "execution_count": 240,
   "metadata": {},
   "outputs": [
    {
     "data": {
      "text/plain": [
       "Name          6\n",
       "age           6\n",
       "occupation    6\n",
       "dtype: int64"
      ]
     },
     "execution_count": 240,
     "metadata": {},
     "output_type": "execute_result"
    }
   ],
   "source": [
    "data.count()"
   ]
  },
  {
   "cell_type": "code",
   "execution_count": 241,
   "metadata": {},
   "outputs": [
    {
     "data": {
      "text/plain": [
       "age    60419520\n",
       "dtype: int64"
      ]
     },
     "execution_count": 241,
     "metadata": {},
     "output_type": "execute_result"
    }
   ],
   "source": [
    "data.prod()"
   ]
  },
  {
   "cell_type": "code",
   "execution_count": 242,
   "metadata": {},
   "outputs": [
    {
     "data": {
      "text/html": [
       "<div>\n",
       "<style scoped>\n",
       "    .dataframe tbody tr th:only-of-type {\n",
       "        vertical-align: middle;\n",
       "    }\n",
       "\n",
       "    .dataframe tbody tr th {\n",
       "        vertical-align: top;\n",
       "    }\n",
       "\n",
       "    .dataframe thead th {\n",
       "        text-align: right;\n",
       "    }\n",
       "</style>\n",
       "<table border=\"1\" class=\"dataframe\">\n",
       "  <thead>\n",
       "    <tr style=\"text-align: right;\">\n",
       "      <th></th>\n",
       "      <th>Name</th>\n",
       "      <th>age</th>\n",
       "      <th>occupation</th>\n",
       "    </tr>\n",
       "  </thead>\n",
       "  <tbody>\n",
       "    <tr>\n",
       "      <th>0</th>\n",
       "      <td>nagaraju</td>\n",
       "      <td>30</td>\n",
       "      <td>scientist</td>\n",
       "    </tr>\n",
       "    <tr>\n",
       "      <th>1</th>\n",
       "      <td>nagarajupravallika</td>\n",
       "      <td>57</td>\n",
       "      <td>scientisthomemaker</td>\n",
       "    </tr>\n",
       "    <tr>\n",
       "      <th>2</th>\n",
       "      <td>nagarajupravallikayeswith</td>\n",
       "      <td>59</td>\n",
       "      <td>scientisthomemakerplaying</td>\n",
       "    </tr>\n",
       "    <tr>\n",
       "      <th>3</th>\n",
       "      <td>nagarajupravallikayeswithbhikshalarao</td>\n",
       "      <td>101</td>\n",
       "      <td>scientisthomemakerplayingfarmer</td>\n",
       "    </tr>\n",
       "    <tr>\n",
       "      <th>4</th>\n",
       "      <td>nagarajupravallikayeswithbhikshalaraovijayalak...</td>\n",
       "      <td>138</td>\n",
       "      <td>scientisthomemakerplayingfarmerhomemaker</td>\n",
       "    </tr>\n",
       "    <tr>\n",
       "      <th>5</th>\n",
       "      <td>nagarajupravallikayeswithbhikshalaraovijayalak...</td>\n",
       "      <td>162</td>\n",
       "      <td>scientisthomemakerplayingfarmerhomemakerstudent</td>\n",
       "    </tr>\n",
       "  </tbody>\n",
       "</table>\n",
       "</div>"
      ],
      "text/plain": [
       "                                                Name  age  \\\n",
       "0                                           nagaraju   30   \n",
       "1                                 nagarajupravallika   57   \n",
       "2                          nagarajupravallikayeswith   59   \n",
       "3              nagarajupravallikayeswithbhikshalarao  101   \n",
       "4  nagarajupravallikayeswithbhikshalaraovijayalak...  138   \n",
       "5  nagarajupravallikayeswithbhikshalaraovijayalak...  162   \n",
       "\n",
       "                                        occupation  \n",
       "0                                        scientist  \n",
       "1                               scientisthomemaker  \n",
       "2                        scientisthomemakerplaying  \n",
       "3                  scientisthomemakerplayingfarmer  \n",
       "4         scientisthomemakerplayingfarmerhomemaker  \n",
       "5  scientisthomemakerplayingfarmerhomemakerstudent  "
      ]
     },
     "execution_count": 242,
     "metadata": {},
     "output_type": "execute_result"
    }
   ],
   "source": [
    "data.cumsum()"
   ]
  },
  {
   "cell_type": "code",
   "execution_count": 243,
   "metadata": {},
   "outputs": [
    {
     "data": {
      "text/html": [
       "<div>\n",
       "<style scoped>\n",
       "    .dataframe tbody tr th:only-of-type {\n",
       "        vertical-align: middle;\n",
       "    }\n",
       "\n",
       "    .dataframe tbody tr th {\n",
       "        vertical-align: top;\n",
       "    }\n",
       "\n",
       "    .dataframe thead th {\n",
       "        text-align: right;\n",
       "    }\n",
       "</style>\n",
       "<table border=\"1\" class=\"dataframe\">\n",
       "  <thead>\n",
       "    <tr style=\"text-align: right;\">\n",
       "      <th></th>\n",
       "      <th>Name</th>\n",
       "      <th>age</th>\n",
       "      <th>occupation</th>\n",
       "    </tr>\n",
       "  </thead>\n",
       "  <tbody>\n",
       "    <tr>\n",
       "      <th>0</th>\n",
       "      <td>bhikshalarao</td>\n",
       "      <td>2</td>\n",
       "      <td>homemaker</td>\n",
       "    </tr>\n",
       "    <tr>\n",
       "      <th>1</th>\n",
       "      <td>kiran</td>\n",
       "      <td>24</td>\n",
       "      <td>NaN</td>\n",
       "    </tr>\n",
       "    <tr>\n",
       "      <th>2</th>\n",
       "      <td>nagaraju</td>\n",
       "      <td>27</td>\n",
       "      <td>NaN</td>\n",
       "    </tr>\n",
       "    <tr>\n",
       "      <th>3</th>\n",
       "      <td>pravallika</td>\n",
       "      <td>30</td>\n",
       "      <td>NaN</td>\n",
       "    </tr>\n",
       "    <tr>\n",
       "      <th>4</th>\n",
       "      <td>vijayalakshmi</td>\n",
       "      <td>37</td>\n",
       "      <td>NaN</td>\n",
       "    </tr>\n",
       "    <tr>\n",
       "      <th>5</th>\n",
       "      <td>yeswith</td>\n",
       "      <td>42</td>\n",
       "      <td>NaN</td>\n",
       "    </tr>\n",
       "  </tbody>\n",
       "</table>\n",
       "</div>"
      ],
      "text/plain": [
       "            Name  age occupation\n",
       "0   bhikshalarao    2  homemaker\n",
       "1          kiran   24        NaN\n",
       "2       nagaraju   27        NaN\n",
       "3     pravallika   30        NaN\n",
       "4  vijayalakshmi   37        NaN\n",
       "5        yeswith   42        NaN"
      ]
     },
     "execution_count": 243,
     "metadata": {},
     "output_type": "execute_result"
    }
   ],
   "source": [
    "data.mode()"
   ]
  },
  {
   "cell_type": "code",
   "execution_count": 244,
   "metadata": {},
   "outputs": [
    {
     "data": {
      "text/plain": [
       "age    28.5\n",
       "dtype: float64"
      ]
     },
     "execution_count": 244,
     "metadata": {},
     "output_type": "execute_result"
    }
   ],
   "source": [
    "data.median()"
   ]
  },
  {
   "cell_type": "code",
   "execution_count": 245,
   "metadata": {},
   "outputs": [
    {
     "data": {
      "text/plain": [
       "Name          bhikshalarao\n",
       "age                      2\n",
       "occupation          farmer\n",
       "dtype: object"
      ]
     },
     "execution_count": 245,
     "metadata": {},
     "output_type": "execute_result"
    }
   ],
   "source": [
    "data.min()"
   ]
  },
  {
   "cell_type": "code",
   "execution_count": 246,
   "metadata": {},
   "outputs": [
    {
     "data": {
      "text/plain": [
       "Name          yeswith\n",
       "age                42\n",
       "occupation    student\n",
       "dtype: object"
      ]
     },
     "execution_count": 246,
     "metadata": {},
     "output_type": "execute_result"
    }
   ],
   "source": [
    "data.max()"
   ]
  },
  {
   "cell_type": "code",
   "execution_count": 247,
   "metadata": {},
   "outputs": [
    {
     "data": {
      "text/html": [
       "<div>\n",
       "<style scoped>\n",
       "    .dataframe tbody tr th:only-of-type {\n",
       "        vertical-align: middle;\n",
       "    }\n",
       "\n",
       "    .dataframe tbody tr th {\n",
       "        vertical-align: top;\n",
       "    }\n",
       "\n",
       "    .dataframe thead th {\n",
       "        text-align: right;\n",
       "    }\n",
       "</style>\n",
       "<table border=\"1\" class=\"dataframe\">\n",
       "  <thead>\n",
       "    <tr style=\"text-align: right;\">\n",
       "      <th></th>\n",
       "      <th>age</th>\n",
       "    </tr>\n",
       "  </thead>\n",
       "  <tbody>\n",
       "    <tr>\n",
       "      <th>count</th>\n",
       "      <td>6.000000</td>\n",
       "    </tr>\n",
       "    <tr>\n",
       "      <th>mean</th>\n",
       "      <td>27.000000</td>\n",
       "    </tr>\n",
       "    <tr>\n",
       "      <th>std</th>\n",
       "      <td>13.914022</td>\n",
       "    </tr>\n",
       "    <tr>\n",
       "      <th>min</th>\n",
       "      <td>2.000000</td>\n",
       "    </tr>\n",
       "    <tr>\n",
       "      <th>25%</th>\n",
       "      <td>24.750000</td>\n",
       "    </tr>\n",
       "    <tr>\n",
       "      <th>50%</th>\n",
       "      <td>28.500000</td>\n",
       "    </tr>\n",
       "    <tr>\n",
       "      <th>75%</th>\n",
       "      <td>35.250000</td>\n",
       "    </tr>\n",
       "    <tr>\n",
       "      <th>max</th>\n",
       "      <td>42.000000</td>\n",
       "    </tr>\n",
       "  </tbody>\n",
       "</table>\n",
       "</div>"
      ],
      "text/plain": [
       "             age\n",
       "count   6.000000\n",
       "mean   27.000000\n",
       "std    13.914022\n",
       "min     2.000000\n",
       "25%    24.750000\n",
       "50%    28.500000\n",
       "75%    35.250000\n",
       "max    42.000000"
      ]
     },
     "execution_count": 247,
     "metadata": {},
     "output_type": "execute_result"
    }
   ],
   "source": [
    "data.describe()"
   ]
  },
  {
   "cell_type": "code",
   "execution_count": 248,
   "metadata": {},
   "outputs": [
    {
     "data": {
      "text/html": [
       "<div>\n",
       "<style scoped>\n",
       "    .dataframe tbody tr th:only-of-type {\n",
       "        vertical-align: middle;\n",
       "    }\n",
       "\n",
       "    .dataframe tbody tr th {\n",
       "        vertical-align: top;\n",
       "    }\n",
       "\n",
       "    .dataframe thead th {\n",
       "        text-align: right;\n",
       "    }\n",
       "</style>\n",
       "<table border=\"1\" class=\"dataframe\">\n",
       "  <thead>\n",
       "    <tr style=\"text-align: right;\">\n",
       "      <th></th>\n",
       "      <th>Name</th>\n",
       "      <th>age</th>\n",
       "      <th>occupation</th>\n",
       "    </tr>\n",
       "  </thead>\n",
       "  <tbody>\n",
       "    <tr>\n",
       "      <th>count</th>\n",
       "      <td>6</td>\n",
       "      <td>6.000000</td>\n",
       "      <td>6</td>\n",
       "    </tr>\n",
       "    <tr>\n",
       "      <th>unique</th>\n",
       "      <td>6</td>\n",
       "      <td>NaN</td>\n",
       "      <td>5</td>\n",
       "    </tr>\n",
       "    <tr>\n",
       "      <th>top</th>\n",
       "      <td>vijayalakshmi</td>\n",
       "      <td>NaN</td>\n",
       "      <td>homemaker</td>\n",
       "    </tr>\n",
       "    <tr>\n",
       "      <th>freq</th>\n",
       "      <td>1</td>\n",
       "      <td>NaN</td>\n",
       "      <td>2</td>\n",
       "    </tr>\n",
       "    <tr>\n",
       "      <th>mean</th>\n",
       "      <td>NaN</td>\n",
       "      <td>27.000000</td>\n",
       "      <td>NaN</td>\n",
       "    </tr>\n",
       "    <tr>\n",
       "      <th>std</th>\n",
       "      <td>NaN</td>\n",
       "      <td>13.914022</td>\n",
       "      <td>NaN</td>\n",
       "    </tr>\n",
       "    <tr>\n",
       "      <th>min</th>\n",
       "      <td>NaN</td>\n",
       "      <td>2.000000</td>\n",
       "      <td>NaN</td>\n",
       "    </tr>\n",
       "    <tr>\n",
       "      <th>25%</th>\n",
       "      <td>NaN</td>\n",
       "      <td>24.750000</td>\n",
       "      <td>NaN</td>\n",
       "    </tr>\n",
       "    <tr>\n",
       "      <th>50%</th>\n",
       "      <td>NaN</td>\n",
       "      <td>28.500000</td>\n",
       "      <td>NaN</td>\n",
       "    </tr>\n",
       "    <tr>\n",
       "      <th>75%</th>\n",
       "      <td>NaN</td>\n",
       "      <td>35.250000</td>\n",
       "      <td>NaN</td>\n",
       "    </tr>\n",
       "    <tr>\n",
       "      <th>max</th>\n",
       "      <td>NaN</td>\n",
       "      <td>42.000000</td>\n",
       "      <td>NaN</td>\n",
       "    </tr>\n",
       "  </tbody>\n",
       "</table>\n",
       "</div>"
      ],
      "text/plain": [
       "                 Name        age occupation\n",
       "count               6   6.000000          6\n",
       "unique              6        NaN          5\n",
       "top     vijayalakshmi        NaN  homemaker\n",
       "freq                1        NaN          2\n",
       "mean              NaN  27.000000        NaN\n",
       "std               NaN  13.914022        NaN\n",
       "min               NaN   2.000000        NaN\n",
       "25%               NaN  24.750000        NaN\n",
       "50%               NaN  28.500000        NaN\n",
       "75%               NaN  35.250000        NaN\n",
       "max               NaN  42.000000        NaN"
      ]
     },
     "execution_count": 248,
     "metadata": {},
     "output_type": "execute_result"
    }
   ],
   "source": [
    "data.describe(include='all')"
   ]
  },
  {
   "cell_type": "code",
   "execution_count": 249,
   "metadata": {},
   "outputs": [
    {
     "data": {
      "text/html": [
       "<div>\n",
       "<style scoped>\n",
       "    .dataframe tbody tr th:only-of-type {\n",
       "        vertical-align: middle;\n",
       "    }\n",
       "\n",
       "    .dataframe tbody tr th {\n",
       "        vertical-align: top;\n",
       "    }\n",
       "\n",
       "    .dataframe thead th {\n",
       "        text-align: right;\n",
       "    }\n",
       "</style>\n",
       "<table border=\"1\" class=\"dataframe\">\n",
       "  <thead>\n",
       "    <tr style=\"text-align: right;\">\n",
       "      <th></th>\n",
       "      <th>Name</th>\n",
       "      <th>occupation</th>\n",
       "    </tr>\n",
       "  </thead>\n",
       "  <tbody>\n",
       "    <tr>\n",
       "      <th>count</th>\n",
       "      <td>6</td>\n",
       "      <td>6</td>\n",
       "    </tr>\n",
       "    <tr>\n",
       "      <th>unique</th>\n",
       "      <td>6</td>\n",
       "      <td>5</td>\n",
       "    </tr>\n",
       "    <tr>\n",
       "      <th>top</th>\n",
       "      <td>vijayalakshmi</td>\n",
       "      <td>homemaker</td>\n",
       "    </tr>\n",
       "    <tr>\n",
       "      <th>freq</th>\n",
       "      <td>1</td>\n",
       "      <td>2</td>\n",
       "    </tr>\n",
       "  </tbody>\n",
       "</table>\n",
       "</div>"
      ],
      "text/plain": [
       "                 Name occupation\n",
       "count               6          6\n",
       "unique              6          5\n",
       "top     vijayalakshmi  homemaker\n",
       "freq                1          2"
      ]
     },
     "execution_count": 249,
     "metadata": {},
     "output_type": "execute_result"
    }
   ],
   "source": [
    "data.describe(include=['object'])"
   ]
  },
  {
   "cell_type": "code",
   "execution_count": 250,
   "metadata": {},
   "outputs": [],
   "source": [
    "def adder(a1,a2):\n",
    "    return a1+a2\n",
    "df=pd.DataFrame(np.random.randn(5,3),columns=['a','b','c'])"
   ]
  },
  {
   "cell_type": "code",
   "execution_count": 251,
   "metadata": {},
   "outputs": [
    {
     "data": {
      "text/html": [
       "<div>\n",
       "<style scoped>\n",
       "    .dataframe tbody tr th:only-of-type {\n",
       "        vertical-align: middle;\n",
       "    }\n",
       "\n",
       "    .dataframe tbody tr th {\n",
       "        vertical-align: top;\n",
       "    }\n",
       "\n",
       "    .dataframe thead th {\n",
       "        text-align: right;\n",
       "    }\n",
       "</style>\n",
       "<table border=\"1\" class=\"dataframe\">\n",
       "  <thead>\n",
       "    <tr style=\"text-align: right;\">\n",
       "      <th></th>\n",
       "      <th>a</th>\n",
       "      <th>b</th>\n",
       "      <th>c</th>\n",
       "    </tr>\n",
       "  </thead>\n",
       "  <tbody>\n",
       "    <tr>\n",
       "      <th>0</th>\n",
       "      <td>1.651615</td>\n",
       "      <td>1.706348</td>\n",
       "      <td>2.847928</td>\n",
       "    </tr>\n",
       "    <tr>\n",
       "      <th>1</th>\n",
       "      <td>1.692293</td>\n",
       "      <td>1.224527</td>\n",
       "      <td>3.060975</td>\n",
       "    </tr>\n",
       "    <tr>\n",
       "      <th>2</th>\n",
       "      <td>3.596391</td>\n",
       "      <td>1.898084</td>\n",
       "      <td>2.529165</td>\n",
       "    </tr>\n",
       "    <tr>\n",
       "      <th>3</th>\n",
       "      <td>2.456901</td>\n",
       "      <td>1.894216</td>\n",
       "      <td>3.690851</td>\n",
       "    </tr>\n",
       "    <tr>\n",
       "      <th>4</th>\n",
       "      <td>3.994515</td>\n",
       "      <td>1.083655</td>\n",
       "      <td>1.375188</td>\n",
       "    </tr>\n",
       "  </tbody>\n",
       "</table>\n",
       "</div>"
      ],
      "text/plain": [
       "          a         b         c\n",
       "0  1.651615  1.706348  2.847928\n",
       "1  1.692293  1.224527  3.060975\n",
       "2  3.596391  1.898084  2.529165\n",
       "3  2.456901  1.894216  3.690851\n",
       "4  3.994515  1.083655  1.375188"
      ]
     },
     "execution_count": 251,
     "metadata": {},
     "output_type": "execute_result"
    }
   ],
   "source": [
    "df.pipe(adder,2)"
   ]
  },
  {
   "cell_type": "code",
   "execution_count": 252,
   "metadata": {},
   "outputs": [
    {
     "data": {
      "text/plain": [
       "a    0.678343\n",
       "b   -0.438634\n",
       "c    0.700821\n",
       "dtype: float64"
      ]
     },
     "execution_count": 252,
     "metadata": {},
     "output_type": "execute_result"
    }
   ],
   "source": [
    "df.apply(np.mean)"
   ]
  },
  {
   "cell_type": "code",
   "execution_count": 253,
   "metadata": {},
   "outputs": [
    {
     "data": {
      "text/plain": [
       "a    0.678343\n",
       "b   -0.438634\n",
       "c    0.700821\n",
       "dtype: float64"
      ]
     },
     "execution_count": 253,
     "metadata": {},
     "output_type": "execute_result"
    }
   ],
   "source": [
    "df.apply(np.mean,axis=0)"
   ]
  },
  {
   "cell_type": "code",
   "execution_count": 254,
   "metadata": {},
   "outputs": [
    {
     "data": {
      "text/plain": [
       "0    0.068630\n",
       "1   -0.007401\n",
       "2    0.674547\n",
       "3    0.680656\n",
       "4    0.151119\n",
       "dtype: float64"
      ]
     },
     "execution_count": 254,
     "metadata": {},
     "output_type": "execute_result"
    }
   ],
   "source": [
    "df.apply(np.mean,axis=1)"
   ]
  },
  {
   "cell_type": "code",
   "execution_count": 255,
   "metadata": {},
   "outputs": [
    {
     "data": {
      "text/plain": [
       "a    1.994515\n",
       "b   -0.101916\n",
       "c    1.690851\n",
       "dtype: float64"
      ]
     },
     "execution_count": 255,
     "metadata": {},
     "output_type": "execute_result"
    }
   ],
   "source": [
    "df.apply(lambda x: x.max())"
   ]
  },
  {
   "cell_type": "code",
   "execution_count": 256,
   "metadata": {},
   "outputs": [
    {
     "data": {
      "text/plain": [
       "a   -0.348385\n",
       "b   -0.916345\n",
       "c   -0.624812\n",
       "dtype: float64"
      ]
     },
     "execution_count": 256,
     "metadata": {},
     "output_type": "execute_result"
    }
   ],
   "source": [
    "df.apply(lambda x: x.min())"
   ]
  },
  {
   "cell_type": "code",
   "execution_count": 257,
   "metadata": {},
   "outputs": [
    {
     "data": {
      "text/plain": [
       "0    -69.676964\n",
       "1    -61.541341\n",
       "2    319.278269\n",
       "3     91.380297\n",
       "4    398.903071\n",
       "Name: a, dtype: float64"
      ]
     },
     "execution_count": 257,
     "metadata": {},
     "output_type": "execute_result"
    }
   ],
   "source": [
    "df ['a'].map(lambda x :x*200)"
   ]
  },
  {
   "cell_type": "code",
   "execution_count": 258,
   "metadata": {},
   "outputs": [
    {
     "data": {
      "text/html": [
       "<div>\n",
       "<style scoped>\n",
       "    .dataframe tbody tr th:only-of-type {\n",
       "        vertical-align: middle;\n",
       "    }\n",
       "\n",
       "    .dataframe tbody tr th {\n",
       "        vertical-align: top;\n",
       "    }\n",
       "\n",
       "    .dataframe thead th {\n",
       "        text-align: right;\n",
       "    }\n",
       "</style>\n",
       "<table border=\"1\" class=\"dataframe\">\n",
       "  <thead>\n",
       "    <tr style=\"text-align: right;\">\n",
       "      <th></th>\n",
       "      <th>a</th>\n",
       "      <th>b</th>\n",
       "      <th>c</th>\n",
       "    </tr>\n",
       "  </thead>\n",
       "  <tbody>\n",
       "    <tr>\n",
       "      <th>0</th>\n",
       "      <td>-69.676964</td>\n",
       "      <td>-58.730433</td>\n",
       "      <td>169.585671</td>\n",
       "    </tr>\n",
       "    <tr>\n",
       "      <th>1</th>\n",
       "      <td>-61.541341</td>\n",
       "      <td>-155.094580</td>\n",
       "      <td>212.195065</td>\n",
       "    </tr>\n",
       "    <tr>\n",
       "      <th>2</th>\n",
       "      <td>319.278269</td>\n",
       "      <td>-20.383129</td>\n",
       "      <td>105.832925</td>\n",
       "    </tr>\n",
       "    <tr>\n",
       "      <th>3</th>\n",
       "      <td>91.380297</td>\n",
       "      <td>-21.156802</td>\n",
       "      <td>338.170219</td>\n",
       "    </tr>\n",
       "    <tr>\n",
       "      <th>4</th>\n",
       "      <td>398.903071</td>\n",
       "      <td>-183.269091</td>\n",
       "      <td>-124.962448</td>\n",
       "    </tr>\n",
       "  </tbody>\n",
       "</table>\n",
       "</div>"
      ],
      "text/plain": [
       "            a           b           c\n",
       "0  -69.676964  -58.730433  169.585671\n",
       "1  -61.541341 -155.094580  212.195065\n",
       "2  319.278269  -20.383129  105.832925\n",
       "3   91.380297  -21.156802  338.170219\n",
       "4  398.903071 -183.269091 -124.962448"
      ]
     },
     "execution_count": 258,
     "metadata": {},
     "output_type": "execute_result"
    }
   ],
   "source": [
    "df.applymap (lambda x:x*200)"
   ]
  },
  {
   "cell_type": "code",
   "execution_count": 259,
   "metadata": {},
   "outputs": [],
   "source": [
    "N=20\n",
    "\n",
    "df = pd.DataFrame({\n",
    "   'A': pd.date_range(start='2018-01-01',periods=N,freq='D'),\n",
    "   'x': np.linspace(0,stop=N-1,num=N),\n",
    "   'y': np.random.rand(N),\n",
    "   'C': np.random.choice(['Low','Medium','High'],N).tolist(),\n",
    "   'D': np.random.normal(100, 10, size=(N)).tolist()\n",
    "})\n"
   ]
  },
  {
   "cell_type": "code",
   "execution_count": 260,
   "metadata": {},
   "outputs": [
    {
     "data": {
      "text/html": [
       "<div>\n",
       "<style scoped>\n",
       "    .dataframe tbody tr th:only-of-type {\n",
       "        vertical-align: middle;\n",
       "    }\n",
       "\n",
       "    .dataframe tbody tr th {\n",
       "        vertical-align: top;\n",
       "    }\n",
       "\n",
       "    .dataframe thead th {\n",
       "        text-align: right;\n",
       "    }\n",
       "</style>\n",
       "<table border=\"1\" class=\"dataframe\">\n",
       "  <thead>\n",
       "    <tr style=\"text-align: right;\">\n",
       "      <th></th>\n",
       "      <th>A</th>\n",
       "      <th>C</th>\n",
       "      <th>D</th>\n",
       "      <th>x</th>\n",
       "      <th>y</th>\n",
       "    </tr>\n",
       "  </thead>\n",
       "  <tbody>\n",
       "    <tr>\n",
       "      <th>0</th>\n",
       "      <td>2018-01-01</td>\n",
       "      <td>Medium</td>\n",
       "      <td>97.078731</td>\n",
       "      <td>0.0</td>\n",
       "      <td>0.187461</td>\n",
       "    </tr>\n",
       "    <tr>\n",
       "      <th>1</th>\n",
       "      <td>2018-01-02</td>\n",
       "      <td>Medium</td>\n",
       "      <td>93.770230</td>\n",
       "      <td>1.0</td>\n",
       "      <td>0.369093</td>\n",
       "    </tr>\n",
       "    <tr>\n",
       "      <th>2</th>\n",
       "      <td>2018-01-03</td>\n",
       "      <td>High</td>\n",
       "      <td>95.254353</td>\n",
       "      <td>2.0</td>\n",
       "      <td>0.436972</td>\n",
       "    </tr>\n",
       "    <tr>\n",
       "      <th>3</th>\n",
       "      <td>2018-01-04</td>\n",
       "      <td>Low</td>\n",
       "      <td>96.151990</td>\n",
       "      <td>3.0</td>\n",
       "      <td>0.784309</td>\n",
       "    </tr>\n",
       "    <tr>\n",
       "      <th>4</th>\n",
       "      <td>2018-01-05</td>\n",
       "      <td>Low</td>\n",
       "      <td>107.846218</td>\n",
       "      <td>4.0</td>\n",
       "      <td>0.418602</td>\n",
       "    </tr>\n",
       "    <tr>\n",
       "      <th>5</th>\n",
       "      <td>2018-01-06</td>\n",
       "      <td>Low</td>\n",
       "      <td>96.339673</td>\n",
       "      <td>5.0</td>\n",
       "      <td>0.544299</td>\n",
       "    </tr>\n",
       "    <tr>\n",
       "      <th>6</th>\n",
       "      <td>2018-01-07</td>\n",
       "      <td>High</td>\n",
       "      <td>91.354657</td>\n",
       "      <td>6.0</td>\n",
       "      <td>0.912095</td>\n",
       "    </tr>\n",
       "    <tr>\n",
       "      <th>7</th>\n",
       "      <td>2018-01-08</td>\n",
       "      <td>Low</td>\n",
       "      <td>122.192586</td>\n",
       "      <td>7.0</td>\n",
       "      <td>0.875265</td>\n",
       "    </tr>\n",
       "    <tr>\n",
       "      <th>8</th>\n",
       "      <td>2018-01-09</td>\n",
       "      <td>Medium</td>\n",
       "      <td>106.384587</td>\n",
       "      <td>8.0</td>\n",
       "      <td>0.817703</td>\n",
       "    </tr>\n",
       "    <tr>\n",
       "      <th>9</th>\n",
       "      <td>2018-01-10</td>\n",
       "      <td>Low</td>\n",
       "      <td>96.062010</td>\n",
       "      <td>9.0</td>\n",
       "      <td>0.934154</td>\n",
       "    </tr>\n",
       "    <tr>\n",
       "      <th>10</th>\n",
       "      <td>2018-01-11</td>\n",
       "      <td>Low</td>\n",
       "      <td>97.624943</td>\n",
       "      <td>10.0</td>\n",
       "      <td>0.950296</td>\n",
       "    </tr>\n",
       "    <tr>\n",
       "      <th>11</th>\n",
       "      <td>2018-01-12</td>\n",
       "      <td>High</td>\n",
       "      <td>92.550656</td>\n",
       "      <td>11.0</td>\n",
       "      <td>0.565641</td>\n",
       "    </tr>\n",
       "    <tr>\n",
       "      <th>12</th>\n",
       "      <td>2018-01-13</td>\n",
       "      <td>High</td>\n",
       "      <td>117.070187</td>\n",
       "      <td>12.0</td>\n",
       "      <td>0.198073</td>\n",
       "    </tr>\n",
       "    <tr>\n",
       "      <th>13</th>\n",
       "      <td>2018-01-14</td>\n",
       "      <td>Low</td>\n",
       "      <td>92.668712</td>\n",
       "      <td>13.0</td>\n",
       "      <td>0.118769</td>\n",
       "    </tr>\n",
       "    <tr>\n",
       "      <th>14</th>\n",
       "      <td>2018-01-15</td>\n",
       "      <td>High</td>\n",
       "      <td>92.590766</td>\n",
       "      <td>14.0</td>\n",
       "      <td>0.574636</td>\n",
       "    </tr>\n",
       "    <tr>\n",
       "      <th>15</th>\n",
       "      <td>2018-01-16</td>\n",
       "      <td>Medium</td>\n",
       "      <td>91.022124</td>\n",
       "      <td>15.0</td>\n",
       "      <td>0.497949</td>\n",
       "    </tr>\n",
       "    <tr>\n",
       "      <th>16</th>\n",
       "      <td>2018-01-17</td>\n",
       "      <td>High</td>\n",
       "      <td>111.360931</td>\n",
       "      <td>16.0</td>\n",
       "      <td>0.203853</td>\n",
       "    </tr>\n",
       "    <tr>\n",
       "      <th>17</th>\n",
       "      <td>2018-01-18</td>\n",
       "      <td>Medium</td>\n",
       "      <td>109.947394</td>\n",
       "      <td>17.0</td>\n",
       "      <td>0.448591</td>\n",
       "    </tr>\n",
       "    <tr>\n",
       "      <th>18</th>\n",
       "      <td>2018-01-19</td>\n",
       "      <td>Medium</td>\n",
       "      <td>103.815340</td>\n",
       "      <td>18.0</td>\n",
       "      <td>0.205696</td>\n",
       "    </tr>\n",
       "    <tr>\n",
       "      <th>19</th>\n",
       "      <td>2018-01-20</td>\n",
       "      <td>High</td>\n",
       "      <td>103.266921</td>\n",
       "      <td>19.0</td>\n",
       "      <td>0.693999</td>\n",
       "    </tr>\n",
       "  </tbody>\n",
       "</table>\n",
       "</div>"
      ],
      "text/plain": [
       "            A       C           D     x         y\n",
       "0  2018-01-01  Medium   97.078731   0.0  0.187461\n",
       "1  2018-01-02  Medium   93.770230   1.0  0.369093\n",
       "2  2018-01-03    High   95.254353   2.0  0.436972\n",
       "3  2018-01-04     Low   96.151990   3.0  0.784309\n",
       "4  2018-01-05     Low  107.846218   4.0  0.418602\n",
       "5  2018-01-06     Low   96.339673   5.0  0.544299\n",
       "6  2018-01-07    High   91.354657   6.0  0.912095\n",
       "7  2018-01-08     Low  122.192586   7.0  0.875265\n",
       "8  2018-01-09  Medium  106.384587   8.0  0.817703\n",
       "9  2018-01-10     Low   96.062010   9.0  0.934154\n",
       "10 2018-01-11     Low   97.624943  10.0  0.950296\n",
       "11 2018-01-12    High   92.550656  11.0  0.565641\n",
       "12 2018-01-13    High  117.070187  12.0  0.198073\n",
       "13 2018-01-14     Low   92.668712  13.0  0.118769\n",
       "14 2018-01-15    High   92.590766  14.0  0.574636\n",
       "15 2018-01-16  Medium   91.022124  15.0  0.497949\n",
       "16 2018-01-17    High  111.360931  16.0  0.203853\n",
       "17 2018-01-18  Medium  109.947394  17.0  0.448591\n",
       "18 2018-01-19  Medium  103.815340  18.0  0.205696\n",
       "19 2018-01-20    High  103.266921  19.0  0.693999"
      ]
     },
     "execution_count": 260,
     "metadata": {},
     "output_type": "execute_result"
    }
   ],
   "source": [
    "df"
   ]
  },
  {
   "cell_type": "code",
   "execution_count": 261,
   "metadata": {},
   "outputs": [],
   "source": [
    "df_reindexed = df.reindex(index=[0,2,17], columns=['A', 'C', 'B'])\n"
   ]
  },
  {
   "cell_type": "code",
   "execution_count": 262,
   "metadata": {},
   "outputs": [
    {
     "data": {
      "text/html": [
       "<div>\n",
       "<style scoped>\n",
       "    .dataframe tbody tr th:only-of-type {\n",
       "        vertical-align: middle;\n",
       "    }\n",
       "\n",
       "    .dataframe tbody tr th {\n",
       "        vertical-align: top;\n",
       "    }\n",
       "\n",
       "    .dataframe thead th {\n",
       "        text-align: right;\n",
       "    }\n",
       "</style>\n",
       "<table border=\"1\" class=\"dataframe\">\n",
       "  <thead>\n",
       "    <tr style=\"text-align: right;\">\n",
       "      <th></th>\n",
       "      <th>A</th>\n",
       "      <th>C</th>\n",
       "      <th>B</th>\n",
       "    </tr>\n",
       "  </thead>\n",
       "  <tbody>\n",
       "    <tr>\n",
       "      <th>0</th>\n",
       "      <td>2018-01-01</td>\n",
       "      <td>Medium</td>\n",
       "      <td>NaN</td>\n",
       "    </tr>\n",
       "    <tr>\n",
       "      <th>2</th>\n",
       "      <td>2018-01-03</td>\n",
       "      <td>High</td>\n",
       "      <td>NaN</td>\n",
       "    </tr>\n",
       "    <tr>\n",
       "      <th>17</th>\n",
       "      <td>2018-01-18</td>\n",
       "      <td>Medium</td>\n",
       "      <td>NaN</td>\n",
       "    </tr>\n",
       "  </tbody>\n",
       "</table>\n",
       "</div>"
      ],
      "text/plain": [
       "            A       C   B\n",
       "0  2018-01-01  Medium NaN\n",
       "2  2018-01-03    High NaN\n",
       "17 2018-01-18  Medium NaN"
      ]
     },
     "execution_count": 262,
     "metadata": {},
     "output_type": "execute_result"
    }
   ],
   "source": [
    "df_reindexed"
   ]
  },
  {
   "cell_type": "code",
   "execution_count": 263,
   "metadata": {},
   "outputs": [
    {
     "name": "stdout",
     "output_type": "stream",
     "text": [
      "A\n",
      "C\n",
      "D\n",
      "x\n",
      "y\n"
     ]
    }
   ],
   "source": [
    "for col in df:\n",
    "    print (col)"
   ]
  },
  {
   "cell_type": "code",
   "execution_count": 264,
   "metadata": {},
   "outputs": [
    {
     "name": "stdout",
     "output_type": "stream",
     "text": [
      "A 0    2018-01-01\n",
      "1    2018-01-02\n",
      "2    2018-01-03\n",
      "3    2018-01-04\n",
      "4    2018-01-05\n",
      "5    2018-01-06\n",
      "6    2018-01-07\n",
      "7    2018-01-08\n",
      "8    2018-01-09\n",
      "9    2018-01-10\n",
      "10   2018-01-11\n",
      "11   2018-01-12\n",
      "12   2018-01-13\n",
      "13   2018-01-14\n",
      "14   2018-01-15\n",
      "15   2018-01-16\n",
      "16   2018-01-17\n",
      "17   2018-01-18\n",
      "18   2018-01-19\n",
      "19   2018-01-20\n",
      "Name: A, dtype: datetime64[ns]\n",
      "C 0     Medium\n",
      "1     Medium\n",
      "2       High\n",
      "3        Low\n",
      "4        Low\n",
      "5        Low\n",
      "6       High\n",
      "7        Low\n",
      "8     Medium\n",
      "9        Low\n",
      "10       Low\n",
      "11      High\n",
      "12      High\n",
      "13       Low\n",
      "14      High\n",
      "15    Medium\n",
      "16      High\n",
      "17    Medium\n",
      "18    Medium\n",
      "19      High\n",
      "Name: C, dtype: object\n",
      "D 0      97.078731\n",
      "1      93.770230\n",
      "2      95.254353\n",
      "3      96.151990\n",
      "4     107.846218\n",
      "5      96.339673\n",
      "6      91.354657\n",
      "7     122.192586\n",
      "8     106.384587\n",
      "9      96.062010\n",
      "10     97.624943\n",
      "11     92.550656\n",
      "12    117.070187\n",
      "13     92.668712\n",
      "14     92.590766\n",
      "15     91.022124\n",
      "16    111.360931\n",
      "17    109.947394\n",
      "18    103.815340\n",
      "19    103.266921\n",
      "Name: D, dtype: float64\n",
      "x 0      0.0\n",
      "1      1.0\n",
      "2      2.0\n",
      "3      3.0\n",
      "4      4.0\n",
      "5      5.0\n",
      "6      6.0\n",
      "7      7.0\n",
      "8      8.0\n",
      "9      9.0\n",
      "10    10.0\n",
      "11    11.0\n",
      "12    12.0\n",
      "13    13.0\n",
      "14    14.0\n",
      "15    15.0\n",
      "16    16.0\n",
      "17    17.0\n",
      "18    18.0\n",
      "19    19.0\n",
      "Name: x, dtype: float64\n",
      "y 0     0.187461\n",
      "1     0.369093\n",
      "2     0.436972\n",
      "3     0.784309\n",
      "4     0.418602\n",
      "5     0.544299\n",
      "6     0.912095\n",
      "7     0.875265\n",
      "8     0.817703\n",
      "9     0.934154\n",
      "10    0.950296\n",
      "11    0.565641\n",
      "12    0.198073\n",
      "13    0.118769\n",
      "14    0.574636\n",
      "15    0.497949\n",
      "16    0.203853\n",
      "17    0.448591\n",
      "18    0.205696\n",
      "19    0.693999\n",
      "Name: y, dtype: float64\n"
     ]
    }
   ],
   "source": [
    "for key,i in df.iteritems():\n",
    "    print (key,i)"
   ]
  },
  {
   "cell_type": "code",
   "execution_count": 265,
   "metadata": {},
   "outputs": [
    {
     "name": "stdout",
     "output_type": "stream",
     "text": [
      "0 A    2018-01-01 00:00:00\n",
      "C                 Medium\n",
      "D                97.0787\n",
      "x                      0\n",
      "y               0.187461\n",
      "Name: 0, dtype: object\n",
      "1 A    2018-01-02 00:00:00\n",
      "C                 Medium\n",
      "D                93.7702\n",
      "x                      1\n",
      "y               0.369093\n",
      "Name: 1, dtype: object\n",
      "2 A    2018-01-03 00:00:00\n",
      "C                   High\n",
      "D                95.2544\n",
      "x                      2\n",
      "y               0.436972\n",
      "Name: 2, dtype: object\n",
      "3 A    2018-01-04 00:00:00\n",
      "C                    Low\n",
      "D                 96.152\n",
      "x                      3\n",
      "y               0.784309\n",
      "Name: 3, dtype: object\n",
      "4 A    2018-01-05 00:00:00\n",
      "C                    Low\n",
      "D                107.846\n",
      "x                      4\n",
      "y               0.418602\n",
      "Name: 4, dtype: object\n",
      "5 A    2018-01-06 00:00:00\n",
      "C                    Low\n",
      "D                96.3397\n",
      "x                      5\n",
      "y               0.544299\n",
      "Name: 5, dtype: object\n",
      "6 A    2018-01-07 00:00:00\n",
      "C                   High\n",
      "D                91.3547\n",
      "x                      6\n",
      "y               0.912095\n",
      "Name: 6, dtype: object\n",
      "7 A    2018-01-08 00:00:00\n",
      "C                    Low\n",
      "D                122.193\n",
      "x                      7\n",
      "y               0.875265\n",
      "Name: 7, dtype: object\n",
      "8 A    2018-01-09 00:00:00\n",
      "C                 Medium\n",
      "D                106.385\n",
      "x                      8\n",
      "y               0.817703\n",
      "Name: 8, dtype: object\n",
      "9 A    2018-01-10 00:00:00\n",
      "C                    Low\n",
      "D                 96.062\n",
      "x                      9\n",
      "y               0.934154\n",
      "Name: 9, dtype: object\n",
      "10 A    2018-01-11 00:00:00\n",
      "C                    Low\n",
      "D                97.6249\n",
      "x                     10\n",
      "y               0.950296\n",
      "Name: 10, dtype: object\n",
      "11 A    2018-01-12 00:00:00\n",
      "C                   High\n",
      "D                92.5507\n",
      "x                     11\n",
      "y               0.565641\n",
      "Name: 11, dtype: object\n",
      "12 A    2018-01-13 00:00:00\n",
      "C                   High\n",
      "D                 117.07\n",
      "x                     12\n",
      "y               0.198073\n",
      "Name: 12, dtype: object\n",
      "13 A    2018-01-14 00:00:00\n",
      "C                    Low\n",
      "D                92.6687\n",
      "x                     13\n",
      "y               0.118769\n",
      "Name: 13, dtype: object\n",
      "14 A    2018-01-15 00:00:00\n",
      "C                   High\n",
      "D                92.5908\n",
      "x                     14\n",
      "y               0.574636\n",
      "Name: 14, dtype: object\n",
      "15 A    2018-01-16 00:00:00\n",
      "C                 Medium\n",
      "D                91.0221\n",
      "x                     15\n",
      "y               0.497949\n",
      "Name: 15, dtype: object\n",
      "16 A    2018-01-17 00:00:00\n",
      "C                   High\n",
      "D                111.361\n",
      "x                     16\n",
      "y               0.203853\n",
      "Name: 16, dtype: object\n",
      "17 A    2018-01-18 00:00:00\n",
      "C                 Medium\n",
      "D                109.947\n",
      "x                     17\n",
      "y               0.448591\n",
      "Name: 17, dtype: object\n",
      "18 A    2018-01-19 00:00:00\n",
      "C                 Medium\n",
      "D                103.815\n",
      "x                     18\n",
      "y               0.205696\n",
      "Name: 18, dtype: object\n",
      "19 A    2018-01-20 00:00:00\n",
      "C                   High\n",
      "D                103.267\n",
      "x                     19\n",
      "y               0.693999\n",
      "Name: 19, dtype: object\n"
     ]
    }
   ],
   "source": [
    "for row_index,row in df.iterrows():\n",
    "    print (row_index,row)"
   ]
  },
  {
   "cell_type": "raw",
   "metadata": {},
   "source": [
    "for i in df.itertuples():\n",
    "    print (i)\n",
    "                   "
   ]
  },
  {
   "cell_type": "code",
   "execution_count": 266,
   "metadata": {},
   "outputs": [
    {
     "data": {
      "text/html": [
       "<div>\n",
       "<style scoped>\n",
       "    .dataframe tbody tr th:only-of-type {\n",
       "        vertical-align: middle;\n",
       "    }\n",
       "\n",
       "    .dataframe tbody tr th {\n",
       "        vertical-align: top;\n",
       "    }\n",
       "\n",
       "    .dataframe thead th {\n",
       "        text-align: right;\n",
       "    }\n",
       "</style>\n",
       "<table border=\"1\" class=\"dataframe\">\n",
       "  <thead>\n",
       "    <tr style=\"text-align: right;\">\n",
       "      <th></th>\n",
       "      <th>Name</th>\n",
       "      <th>age</th>\n",
       "      <th>occupation</th>\n",
       "    </tr>\n",
       "  </thead>\n",
       "  <tbody>\n",
       "    <tr>\n",
       "      <th>0</th>\n",
       "      <td>nagaraju</td>\n",
       "      <td>30</td>\n",
       "      <td>scientist</td>\n",
       "    </tr>\n",
       "    <tr>\n",
       "      <th>1</th>\n",
       "      <td>pravallika</td>\n",
       "      <td>27</td>\n",
       "      <td>homemaker</td>\n",
       "    </tr>\n",
       "    <tr>\n",
       "      <th>2</th>\n",
       "      <td>yeswith</td>\n",
       "      <td>2</td>\n",
       "      <td>playing</td>\n",
       "    </tr>\n",
       "    <tr>\n",
       "      <th>3</th>\n",
       "      <td>bhikshalarao</td>\n",
       "      <td>42</td>\n",
       "      <td>farmer</td>\n",
       "    </tr>\n",
       "    <tr>\n",
       "      <th>4</th>\n",
       "      <td>vijayalakshmi</td>\n",
       "      <td>37</td>\n",
       "      <td>homemaker</td>\n",
       "    </tr>\n",
       "    <tr>\n",
       "      <th>5</th>\n",
       "      <td>kiran</td>\n",
       "      <td>24</td>\n",
       "      <td>student</td>\n",
       "    </tr>\n",
       "  </tbody>\n",
       "</table>\n",
       "</div>"
      ],
      "text/plain": [
       "            Name  age occupation\n",
       "0       nagaraju   30  scientist\n",
       "1     pravallika   27  homemaker\n",
       "2        yeswith    2    playing\n",
       "3   bhikshalarao   42     farmer\n",
       "4  vijayalakshmi   37  homemaker\n",
       "5          kiran   24    student"
      ]
     },
     "execution_count": 266,
     "metadata": {},
     "output_type": "execute_result"
    }
   ],
   "source": [
    "data"
   ]
  },
  {
   "cell_type": "code",
   "execution_count": 267,
   "metadata": {},
   "outputs": [],
   "source": [
    "sorted=data.sort_index"
   ]
  },
  {
   "cell_type": "code",
   "execution_count": 268,
   "metadata": {},
   "outputs": [
    {
     "data": {
      "text/plain": [
       "<bound method DataFrame.sort_index of             Name  age occupation\n",
       "0       nagaraju   30  scientist\n",
       "1     pravallika   27  homemaker\n",
       "2        yeswith    2    playing\n",
       "3   bhikshalarao   42     farmer\n",
       "4  vijayalakshmi   37  homemaker\n",
       "5          kiran   24    student>"
      ]
     },
     "execution_count": 268,
     "metadata": {},
     "output_type": "execute_result"
    }
   ],
   "source": [
    "sorted"
   ]
  },
  {
   "cell_type": "code",
   "execution_count": 269,
   "metadata": {},
   "outputs": [],
   "source": [
    "sorted1=data.sort_values"
   ]
  },
  {
   "cell_type": "code",
   "execution_count": 270,
   "metadata": {},
   "outputs": [
    {
     "data": {
      "text/plain": [
       "<bound method DataFrame.sort_index of             Name  age occupation\n",
       "0       nagaraju   30  scientist\n",
       "1     pravallika   27  homemaker\n",
       "2        yeswith    2    playing\n",
       "3   bhikshalarao   42     farmer\n",
       "4  vijayalakshmi   37  homemaker\n",
       "5          kiran   24    student>"
      ]
     },
     "execution_count": 270,
     "metadata": {},
     "output_type": "execute_result"
    }
   ],
   "source": [
    "sorted"
   ]
  },
  {
   "cell_type": "code",
   "execution_count": 271,
   "metadata": {},
   "outputs": [],
   "source": [
    "data2=pd.DataFrame(np.random.randn(11,2),index=[1,4,5,67,9,2,4,8,2,8,10],columns=['a','b'])"
   ]
  },
  {
   "cell_type": "code",
   "execution_count": 272,
   "metadata": {},
   "outputs": [
    {
     "data": {
      "text/html": [
       "<div>\n",
       "<style scoped>\n",
       "    .dataframe tbody tr th:only-of-type {\n",
       "        vertical-align: middle;\n",
       "    }\n",
       "\n",
       "    .dataframe tbody tr th {\n",
       "        vertical-align: top;\n",
       "    }\n",
       "\n",
       "    .dataframe thead th {\n",
       "        text-align: right;\n",
       "    }\n",
       "</style>\n",
       "<table border=\"1\" class=\"dataframe\">\n",
       "  <thead>\n",
       "    <tr style=\"text-align: right;\">\n",
       "      <th></th>\n",
       "      <th>a</th>\n",
       "      <th>b</th>\n",
       "    </tr>\n",
       "  </thead>\n",
       "  <tbody>\n",
       "    <tr>\n",
       "      <th>1</th>\n",
       "      <td>-0.921624</td>\n",
       "      <td>1.456537</td>\n",
       "    </tr>\n",
       "    <tr>\n",
       "      <th>4</th>\n",
       "      <td>-1.447421</td>\n",
       "      <td>0.020577</td>\n",
       "    </tr>\n",
       "    <tr>\n",
       "      <th>5</th>\n",
       "      <td>1.582967</td>\n",
       "      <td>0.323763</td>\n",
       "    </tr>\n",
       "    <tr>\n",
       "      <th>67</th>\n",
       "      <td>-1.463666</td>\n",
       "      <td>0.313017</td>\n",
       "    </tr>\n",
       "    <tr>\n",
       "      <th>9</th>\n",
       "      <td>1.563099</td>\n",
       "      <td>0.465309</td>\n",
       "    </tr>\n",
       "    <tr>\n",
       "      <th>2</th>\n",
       "      <td>-0.025587</td>\n",
       "      <td>0.457448</td>\n",
       "    </tr>\n",
       "    <tr>\n",
       "      <th>4</th>\n",
       "      <td>0.207273</td>\n",
       "      <td>-0.917122</td>\n",
       "    </tr>\n",
       "    <tr>\n",
       "      <th>8</th>\n",
       "      <td>0.660660</td>\n",
       "      <td>-0.152326</td>\n",
       "    </tr>\n",
       "    <tr>\n",
       "      <th>2</th>\n",
       "      <td>-1.156433</td>\n",
       "      <td>0.507976</td>\n",
       "    </tr>\n",
       "    <tr>\n",
       "      <th>8</th>\n",
       "      <td>0.334731</td>\n",
       "      <td>0.057300</td>\n",
       "    </tr>\n",
       "    <tr>\n",
       "      <th>10</th>\n",
       "      <td>-0.280033</td>\n",
       "      <td>-0.082285</td>\n",
       "    </tr>\n",
       "  </tbody>\n",
       "</table>\n",
       "</div>"
      ],
      "text/plain": [
       "           a         b\n",
       "1  -0.921624  1.456537\n",
       "4  -1.447421  0.020577\n",
       "5   1.582967  0.323763\n",
       "67 -1.463666  0.313017\n",
       "9   1.563099  0.465309\n",
       "2  -0.025587  0.457448\n",
       "4   0.207273 -0.917122\n",
       "8   0.660660 -0.152326\n",
       "2  -1.156433  0.507976\n",
       "8   0.334731  0.057300\n",
       "10 -0.280033 -0.082285"
      ]
     },
     "execution_count": 272,
     "metadata": {},
     "output_type": "execute_result"
    }
   ],
   "source": [
    "data2"
   ]
  },
  {
   "cell_type": "code",
   "execution_count": 273,
   "metadata": {},
   "outputs": [],
   "source": [
    "p=data2.sort_index"
   ]
  },
  {
   "cell_type": "code",
   "execution_count": 274,
   "metadata": {},
   "outputs": [
    {
     "data": {
      "text/plain": [
       "<bound method DataFrame.sort_index of            a         b\n",
       "1  -0.921624  1.456537\n",
       "4  -1.447421  0.020577\n",
       "5   1.582967  0.323763\n",
       "67 -1.463666  0.313017\n",
       "9   1.563099  0.465309\n",
       "2  -0.025587  0.457448\n",
       "4   0.207273 -0.917122\n",
       "8   0.660660 -0.152326\n",
       "2  -1.156433  0.507976\n",
       "8   0.334731  0.057300\n",
       "10 -0.280033 -0.082285>"
      ]
     },
     "execution_count": 274,
     "metadata": {},
     "output_type": "execute_result"
    }
   ],
   "source": [
    "p"
   ]
  },
  {
   "cell_type": "code",
   "execution_count": 275,
   "metadata": {},
   "outputs": [],
   "source": [
    "data=data2.sort_index(ascending=True)"
   ]
  },
  {
   "cell_type": "code",
   "execution_count": 276,
   "metadata": {},
   "outputs": [
    {
     "data": {
      "text/html": [
       "<div>\n",
       "<style scoped>\n",
       "    .dataframe tbody tr th:only-of-type {\n",
       "        vertical-align: middle;\n",
       "    }\n",
       "\n",
       "    .dataframe tbody tr th {\n",
       "        vertical-align: top;\n",
       "    }\n",
       "\n",
       "    .dataframe thead th {\n",
       "        text-align: right;\n",
       "    }\n",
       "</style>\n",
       "<table border=\"1\" class=\"dataframe\">\n",
       "  <thead>\n",
       "    <tr style=\"text-align: right;\">\n",
       "      <th></th>\n",
       "      <th>a</th>\n",
       "      <th>b</th>\n",
       "    </tr>\n",
       "  </thead>\n",
       "  <tbody>\n",
       "    <tr>\n",
       "      <th>1</th>\n",
       "      <td>-0.921624</td>\n",
       "      <td>1.456537</td>\n",
       "    </tr>\n",
       "    <tr>\n",
       "      <th>2</th>\n",
       "      <td>-0.025587</td>\n",
       "      <td>0.457448</td>\n",
       "    </tr>\n",
       "    <tr>\n",
       "      <th>2</th>\n",
       "      <td>-1.156433</td>\n",
       "      <td>0.507976</td>\n",
       "    </tr>\n",
       "    <tr>\n",
       "      <th>4</th>\n",
       "      <td>-1.447421</td>\n",
       "      <td>0.020577</td>\n",
       "    </tr>\n",
       "    <tr>\n",
       "      <th>4</th>\n",
       "      <td>0.207273</td>\n",
       "      <td>-0.917122</td>\n",
       "    </tr>\n",
       "    <tr>\n",
       "      <th>5</th>\n",
       "      <td>1.582967</td>\n",
       "      <td>0.323763</td>\n",
       "    </tr>\n",
       "    <tr>\n",
       "      <th>8</th>\n",
       "      <td>0.660660</td>\n",
       "      <td>-0.152326</td>\n",
       "    </tr>\n",
       "    <tr>\n",
       "      <th>8</th>\n",
       "      <td>0.334731</td>\n",
       "      <td>0.057300</td>\n",
       "    </tr>\n",
       "    <tr>\n",
       "      <th>9</th>\n",
       "      <td>1.563099</td>\n",
       "      <td>0.465309</td>\n",
       "    </tr>\n",
       "    <tr>\n",
       "      <th>10</th>\n",
       "      <td>-0.280033</td>\n",
       "      <td>-0.082285</td>\n",
       "    </tr>\n",
       "    <tr>\n",
       "      <th>67</th>\n",
       "      <td>-1.463666</td>\n",
       "      <td>0.313017</td>\n",
       "    </tr>\n",
       "  </tbody>\n",
       "</table>\n",
       "</div>"
      ],
      "text/plain": [
       "           a         b\n",
       "1  -0.921624  1.456537\n",
       "2  -0.025587  0.457448\n",
       "2  -1.156433  0.507976\n",
       "4  -1.447421  0.020577\n",
       "4   0.207273 -0.917122\n",
       "5   1.582967  0.323763\n",
       "8   0.660660 -0.152326\n",
       "8   0.334731  0.057300\n",
       "9   1.563099  0.465309\n",
       "10 -0.280033 -0.082285\n",
       "67 -1.463666  0.313017"
      ]
     },
     "execution_count": 276,
     "metadata": {},
     "output_type": "execute_result"
    }
   ],
   "source": [
    "data\n"
   ]
  },
  {
   "cell_type": "code",
   "execution_count": 277,
   "metadata": {},
   "outputs": [
    {
     "data": {
      "text/html": [
       "<div>\n",
       "<style scoped>\n",
       "    .dataframe tbody tr th:only-of-type {\n",
       "        vertical-align: middle;\n",
       "    }\n",
       "\n",
       "    .dataframe tbody tr th {\n",
       "        vertical-align: top;\n",
       "    }\n",
       "\n",
       "    .dataframe thead th {\n",
       "        text-align: right;\n",
       "    }\n",
       "</style>\n",
       "<table border=\"1\" class=\"dataframe\">\n",
       "  <thead>\n",
       "    <tr style=\"text-align: right;\">\n",
       "      <th></th>\n",
       "      <th>a</th>\n",
       "      <th>b</th>\n",
       "    </tr>\n",
       "  </thead>\n",
       "  <tbody>\n",
       "    <tr>\n",
       "      <th>1</th>\n",
       "      <td>-0.921624</td>\n",
       "      <td>1.456537</td>\n",
       "    </tr>\n",
       "    <tr>\n",
       "      <th>2</th>\n",
       "      <td>-0.025587</td>\n",
       "      <td>0.457448</td>\n",
       "    </tr>\n",
       "    <tr>\n",
       "      <th>2</th>\n",
       "      <td>-1.156433</td>\n",
       "      <td>0.507976</td>\n",
       "    </tr>\n",
       "    <tr>\n",
       "      <th>4</th>\n",
       "      <td>-1.447421</td>\n",
       "      <td>0.020577</td>\n",
       "    </tr>\n",
       "    <tr>\n",
       "      <th>4</th>\n",
       "      <td>0.207273</td>\n",
       "      <td>-0.917122</td>\n",
       "    </tr>\n",
       "    <tr>\n",
       "      <th>5</th>\n",
       "      <td>1.582967</td>\n",
       "      <td>0.323763</td>\n",
       "    </tr>\n",
       "    <tr>\n",
       "      <th>8</th>\n",
       "      <td>0.660660</td>\n",
       "      <td>-0.152326</td>\n",
       "    </tr>\n",
       "    <tr>\n",
       "      <th>8</th>\n",
       "      <td>0.334731</td>\n",
       "      <td>0.057300</td>\n",
       "    </tr>\n",
       "    <tr>\n",
       "      <th>9</th>\n",
       "      <td>1.563099</td>\n",
       "      <td>0.465309</td>\n",
       "    </tr>\n",
       "    <tr>\n",
       "      <th>10</th>\n",
       "      <td>-0.280033</td>\n",
       "      <td>-0.082285</td>\n",
       "    </tr>\n",
       "    <tr>\n",
       "      <th>67</th>\n",
       "      <td>-1.463666</td>\n",
       "      <td>0.313017</td>\n",
       "    </tr>\n",
       "  </tbody>\n",
       "</table>\n",
       "</div>"
      ],
      "text/plain": [
       "           a         b\n",
       "1  -0.921624  1.456537\n",
       "2  -0.025587  0.457448\n",
       "2  -1.156433  0.507976\n",
       "4  -1.447421  0.020577\n",
       "4   0.207273 -0.917122\n",
       "5   1.582967  0.323763\n",
       "8   0.660660 -0.152326\n",
       "8   0.334731  0.057300\n",
       "9   1.563099  0.465309\n",
       "10 -0.280033 -0.082285\n",
       "67 -1.463666  0.313017"
      ]
     },
     "execution_count": 277,
     "metadata": {},
     "output_type": "execute_result"
    }
   ],
   "source": [
    "data2.sort_index(axis=0)"
   ]
  },
  {
   "cell_type": "code",
   "execution_count": 278,
   "metadata": {},
   "outputs": [
    {
     "data": {
      "text/html": [
       "<div>\n",
       "<style scoped>\n",
       "    .dataframe tbody tr th:only-of-type {\n",
       "        vertical-align: middle;\n",
       "    }\n",
       "\n",
       "    .dataframe tbody tr th {\n",
       "        vertical-align: top;\n",
       "    }\n",
       "\n",
       "    .dataframe thead th {\n",
       "        text-align: right;\n",
       "    }\n",
       "</style>\n",
       "<table border=\"1\" class=\"dataframe\">\n",
       "  <thead>\n",
       "    <tr style=\"text-align: right;\">\n",
       "      <th></th>\n",
       "      <th>a</th>\n",
       "      <th>b</th>\n",
       "    </tr>\n",
       "  </thead>\n",
       "  <tbody>\n",
       "    <tr>\n",
       "      <th>1</th>\n",
       "      <td>-0.921624</td>\n",
       "      <td>1.456537</td>\n",
       "    </tr>\n",
       "    <tr>\n",
       "      <th>4</th>\n",
       "      <td>-1.447421</td>\n",
       "      <td>0.020577</td>\n",
       "    </tr>\n",
       "    <tr>\n",
       "      <th>5</th>\n",
       "      <td>1.582967</td>\n",
       "      <td>0.323763</td>\n",
       "    </tr>\n",
       "    <tr>\n",
       "      <th>67</th>\n",
       "      <td>-1.463666</td>\n",
       "      <td>0.313017</td>\n",
       "    </tr>\n",
       "    <tr>\n",
       "      <th>9</th>\n",
       "      <td>1.563099</td>\n",
       "      <td>0.465309</td>\n",
       "    </tr>\n",
       "    <tr>\n",
       "      <th>2</th>\n",
       "      <td>-0.025587</td>\n",
       "      <td>0.457448</td>\n",
       "    </tr>\n",
       "    <tr>\n",
       "      <th>4</th>\n",
       "      <td>0.207273</td>\n",
       "      <td>-0.917122</td>\n",
       "    </tr>\n",
       "    <tr>\n",
       "      <th>8</th>\n",
       "      <td>0.660660</td>\n",
       "      <td>-0.152326</td>\n",
       "    </tr>\n",
       "    <tr>\n",
       "      <th>2</th>\n",
       "      <td>-1.156433</td>\n",
       "      <td>0.507976</td>\n",
       "    </tr>\n",
       "    <tr>\n",
       "      <th>8</th>\n",
       "      <td>0.334731</td>\n",
       "      <td>0.057300</td>\n",
       "    </tr>\n",
       "    <tr>\n",
       "      <th>10</th>\n",
       "      <td>-0.280033</td>\n",
       "      <td>-0.082285</td>\n",
       "    </tr>\n",
       "  </tbody>\n",
       "</table>\n",
       "</div>"
      ],
      "text/plain": [
       "           a         b\n",
       "1  -0.921624  1.456537\n",
       "4  -1.447421  0.020577\n",
       "5   1.582967  0.323763\n",
       "67 -1.463666  0.313017\n",
       "9   1.563099  0.465309\n",
       "2  -0.025587  0.457448\n",
       "4   0.207273 -0.917122\n",
       "8   0.660660 -0.152326\n",
       "2  -1.156433  0.507976\n",
       "8   0.334731  0.057300\n",
       "10 -0.280033 -0.082285"
      ]
     },
     "execution_count": 278,
     "metadata": {},
     "output_type": "execute_result"
    }
   ],
   "source": [
    "data2.sort_index(axis=1)"
   ]
  },
  {
   "cell_type": "code",
   "execution_count": 279,
   "metadata": {},
   "outputs": [
    {
     "data": {
      "text/html": [
       "<div>\n",
       "<style scoped>\n",
       "    .dataframe tbody tr th:only-of-type {\n",
       "        vertical-align: middle;\n",
       "    }\n",
       "\n",
       "    .dataframe tbody tr th {\n",
       "        vertical-align: top;\n",
       "    }\n",
       "\n",
       "    .dataframe thead th {\n",
       "        text-align: right;\n",
       "    }\n",
       "</style>\n",
       "<table border=\"1\" class=\"dataframe\">\n",
       "  <thead>\n",
       "    <tr style=\"text-align: right;\">\n",
       "      <th></th>\n",
       "      <th>a</th>\n",
       "      <th>b</th>\n",
       "    </tr>\n",
       "  </thead>\n",
       "  <tbody>\n",
       "    <tr>\n",
       "      <th>67</th>\n",
       "      <td>-1.463666</td>\n",
       "      <td>0.313017</td>\n",
       "    </tr>\n",
       "    <tr>\n",
       "      <th>4</th>\n",
       "      <td>-1.447421</td>\n",
       "      <td>0.020577</td>\n",
       "    </tr>\n",
       "    <tr>\n",
       "      <th>2</th>\n",
       "      <td>-1.156433</td>\n",
       "      <td>0.507976</td>\n",
       "    </tr>\n",
       "    <tr>\n",
       "      <th>1</th>\n",
       "      <td>-0.921624</td>\n",
       "      <td>1.456537</td>\n",
       "    </tr>\n",
       "    <tr>\n",
       "      <th>10</th>\n",
       "      <td>-0.280033</td>\n",
       "      <td>-0.082285</td>\n",
       "    </tr>\n",
       "    <tr>\n",
       "      <th>2</th>\n",
       "      <td>-0.025587</td>\n",
       "      <td>0.457448</td>\n",
       "    </tr>\n",
       "    <tr>\n",
       "      <th>4</th>\n",
       "      <td>0.207273</td>\n",
       "      <td>-0.917122</td>\n",
       "    </tr>\n",
       "    <tr>\n",
       "      <th>8</th>\n",
       "      <td>0.334731</td>\n",
       "      <td>0.057300</td>\n",
       "    </tr>\n",
       "    <tr>\n",
       "      <th>8</th>\n",
       "      <td>0.660660</td>\n",
       "      <td>-0.152326</td>\n",
       "    </tr>\n",
       "    <tr>\n",
       "      <th>9</th>\n",
       "      <td>1.563099</td>\n",
       "      <td>0.465309</td>\n",
       "    </tr>\n",
       "    <tr>\n",
       "      <th>5</th>\n",
       "      <td>1.582967</td>\n",
       "      <td>0.323763</td>\n",
       "    </tr>\n",
       "  </tbody>\n",
       "</table>\n",
       "</div>"
      ],
      "text/plain": [
       "           a         b\n",
       "67 -1.463666  0.313017\n",
       "4  -1.447421  0.020577\n",
       "2  -1.156433  0.507976\n",
       "1  -0.921624  1.456537\n",
       "10 -0.280033 -0.082285\n",
       "2  -0.025587  0.457448\n",
       "4   0.207273 -0.917122\n",
       "8   0.334731  0.057300\n",
       "8   0.660660 -0.152326\n",
       "9   1.563099  0.465309\n",
       "5   1.582967  0.323763"
      ]
     },
     "execution_count": 279,
     "metadata": {},
     "output_type": "execute_result"
    }
   ],
   "source": [
    "data2.sort_values(by='a' ,kind ='mergesort')"
   ]
  },
  {
   "cell_type": "code",
   "execution_count": 280,
   "metadata": {},
   "outputs": [
    {
     "data": {
      "text/html": [
       "<div>\n",
       "<style scoped>\n",
       "    .dataframe tbody tr th:only-of-type {\n",
       "        vertical-align: middle;\n",
       "    }\n",
       "\n",
       "    .dataframe tbody tr th {\n",
       "        vertical-align: top;\n",
       "    }\n",
       "\n",
       "    .dataframe thead th {\n",
       "        text-align: right;\n",
       "    }\n",
       "</style>\n",
       "<table border=\"1\" class=\"dataframe\">\n",
       "  <thead>\n",
       "    <tr style=\"text-align: right;\">\n",
       "      <th></th>\n",
       "      <th>a</th>\n",
       "      <th>b</th>\n",
       "    </tr>\n",
       "  </thead>\n",
       "  <tbody>\n",
       "    <tr>\n",
       "      <th>67</th>\n",
       "      <td>-1.463666</td>\n",
       "      <td>0.313017</td>\n",
       "    </tr>\n",
       "    <tr>\n",
       "      <th>4</th>\n",
       "      <td>-1.447421</td>\n",
       "      <td>0.020577</td>\n",
       "    </tr>\n",
       "    <tr>\n",
       "      <th>2</th>\n",
       "      <td>-1.156433</td>\n",
       "      <td>0.507976</td>\n",
       "    </tr>\n",
       "    <tr>\n",
       "      <th>1</th>\n",
       "      <td>-0.921624</td>\n",
       "      <td>1.456537</td>\n",
       "    </tr>\n",
       "    <tr>\n",
       "      <th>10</th>\n",
       "      <td>-0.280033</td>\n",
       "      <td>-0.082285</td>\n",
       "    </tr>\n",
       "    <tr>\n",
       "      <th>2</th>\n",
       "      <td>-0.025587</td>\n",
       "      <td>0.457448</td>\n",
       "    </tr>\n",
       "    <tr>\n",
       "      <th>4</th>\n",
       "      <td>0.207273</td>\n",
       "      <td>-0.917122</td>\n",
       "    </tr>\n",
       "    <tr>\n",
       "      <th>8</th>\n",
       "      <td>0.334731</td>\n",
       "      <td>0.057300</td>\n",
       "    </tr>\n",
       "    <tr>\n",
       "      <th>8</th>\n",
       "      <td>0.660660</td>\n",
       "      <td>-0.152326</td>\n",
       "    </tr>\n",
       "    <tr>\n",
       "      <th>9</th>\n",
       "      <td>1.563099</td>\n",
       "      <td>0.465309</td>\n",
       "    </tr>\n",
       "    <tr>\n",
       "      <th>5</th>\n",
       "      <td>1.582967</td>\n",
       "      <td>0.323763</td>\n",
       "    </tr>\n",
       "  </tbody>\n",
       "</table>\n",
       "</div>"
      ],
      "text/plain": [
       "           a         b\n",
       "67 -1.463666  0.313017\n",
       "4  -1.447421  0.020577\n",
       "2  -1.156433  0.507976\n",
       "1  -0.921624  1.456537\n",
       "10 -0.280033 -0.082285\n",
       "2  -0.025587  0.457448\n",
       "4   0.207273 -0.917122\n",
       "8   0.334731  0.057300\n",
       "8   0.660660 -0.152326\n",
       "9   1.563099  0.465309\n",
       "5   1.582967  0.323763"
      ]
     },
     "execution_count": 280,
     "metadata": {},
     "output_type": "execute_result"
    }
   ],
   "source": [
    "data2.sort_values(by='a' ,kind ='map')"
   ]
  },
  {
   "cell_type": "code",
   "execution_count": 281,
   "metadata": {},
   "outputs": [],
   "source": [
    "s = pd.Series(['Tom ''/', ' William Rick''/', 'John''/', 'Alber@t'])"
   ]
  },
  {
   "cell_type": "code",
   "execution_count": 282,
   "metadata": {},
   "outputs": [
    {
     "data": {
      "text/plain": [
       "0             Tom /\n",
       "1     William Rick/\n",
       "2             John/\n",
       "3           Alber@t\n",
       "dtype: object"
      ]
     },
     "execution_count": 282,
     "metadata": {},
     "output_type": "execute_result"
    }
   ],
   "source": [
    "s"
   ]
  },
  {
   "cell_type": "code",
   "execution_count": 283,
   "metadata": {},
   "outputs": [
    {
     "data": {
      "text/plain": [
       "0             Tom \n",
       "1     William Rick\n",
       "2             John\n",
       "3          Alber@t\n",
       "dtype: object"
      ]
     },
     "execution_count": 283,
     "metadata": {},
     "output_type": "execute_result"
    }
   ],
   "source": [
    "s.str.strip('/')"
   ]
  },
  {
   "cell_type": "code",
   "execution_count": 284,
   "metadata": {},
   "outputs": [
    {
     "data": {
      "text/html": [
       "<div>\n",
       "<style scoped>\n",
       "    .dataframe tbody tr th:only-of-type {\n",
       "        vertical-align: middle;\n",
       "    }\n",
       "\n",
       "    .dataframe tbody tr th {\n",
       "        vertical-align: top;\n",
       "    }\n",
       "\n",
       "    .dataframe thead th {\n",
       "        text-align: right;\n",
       "    }\n",
       "</style>\n",
       "<table border=\"1\" class=\"dataframe\">\n",
       "  <thead>\n",
       "    <tr style=\"text-align: right;\">\n",
       "      <th></th>\n",
       "      <th>William Rick/</th>\n",
       "      <th>Alber@t</th>\n",
       "      <th>John/</th>\n",
       "      <th>Tom /</th>\n",
       "    </tr>\n",
       "  </thead>\n",
       "  <tbody>\n",
       "    <tr>\n",
       "      <th>0</th>\n",
       "      <td>0</td>\n",
       "      <td>0</td>\n",
       "      <td>0</td>\n",
       "      <td>1</td>\n",
       "    </tr>\n",
       "    <tr>\n",
       "      <th>1</th>\n",
       "      <td>1</td>\n",
       "      <td>0</td>\n",
       "      <td>0</td>\n",
       "      <td>0</td>\n",
       "    </tr>\n",
       "    <tr>\n",
       "      <th>2</th>\n",
       "      <td>0</td>\n",
       "      <td>0</td>\n",
       "      <td>1</td>\n",
       "      <td>0</td>\n",
       "    </tr>\n",
       "    <tr>\n",
       "      <th>3</th>\n",
       "      <td>0</td>\n",
       "      <td>1</td>\n",
       "      <td>0</td>\n",
       "      <td>0</td>\n",
       "    </tr>\n",
       "  </tbody>\n",
       "</table>\n",
       "</div>"
      ],
      "text/plain": [
       "    William Rick/  Alber@t  John/  Tom /\n",
       "0               0        0      0      1\n",
       "1               1        0      0      0\n",
       "2               0        0      1      0\n",
       "3               0        1      0      0"
      ]
     },
     "execution_count": 284,
     "metadata": {},
     "output_type": "execute_result"
    }
   ],
   "source": [
    "s.str.get_dummies()"
   ]
  },
  {
   "cell_type": "code",
   "execution_count": 289,
   "metadata": {},
   "outputs": [
    {
     "data": {
      "text/plain": [
       "100"
      ]
     },
     "execution_count": 289,
     "metadata": {},
     "output_type": "execute_result"
    }
   ],
   "source": [
    "pd.get_option(\"display.max_rows\")"
   ]
  },
  {
   "cell_type": "code",
   "execution_count": 290,
   "metadata": {},
   "outputs": [
    {
     "data": {
      "text/plain": [
       "20"
      ]
     },
     "execution_count": 290,
     "metadata": {},
     "output_type": "execute_result"
    }
   ],
   "source": [
    "pd.get_option(\"display.max_columns\")"
   ]
  },
  {
   "cell_type": "code",
   "execution_count": 291,
   "metadata": {},
   "outputs": [],
   "source": [
    "a=pd.set_option(\"display.max_rows\",100)"
   ]
  },
  {
   "cell_type": "code",
   "execution_count": 292,
   "metadata": {},
   "outputs": [
    {
     "data": {
      "text/plain": [
       "100"
      ]
     },
     "execution_count": 292,
     "metadata": {},
     "output_type": "execute_result"
    }
   ],
   "source": [
    "pd.get_option(\"display.max_rows\")"
   ]
  },
  {
   "cell_type": "code",
   "execution_count": 293,
   "metadata": {},
   "outputs": [],
   "source": [
    "pd.set_option(\"display.max_columns\",200)"
   ]
  },
  {
   "cell_type": "code",
   "execution_count": 294,
   "metadata": {},
   "outputs": [
    {
     "data": {
      "text/plain": [
       "200"
      ]
     },
     "execution_count": 294,
     "metadata": {},
     "output_type": "execute_result"
    }
   ],
   "source": [
    "pd.get_option(\"display.max_columns\")"
   ]
  },
  {
   "cell_type": "code",
   "execution_count": 295,
   "metadata": {},
   "outputs": [],
   "source": [
    "pd.reset_option(\"display.max_columns\")"
   ]
  },
  {
   "cell_type": "code",
   "execution_count": 296,
   "metadata": {},
   "outputs": [
    {
     "data": {
      "text/plain": [
       "20"
      ]
     },
     "execution_count": 296,
     "metadata": {},
     "output_type": "execute_result"
    }
   ],
   "source": [
    "pd.get_option(\"display.max_columns\")"
   ]
  },
  {
   "cell_type": "code",
   "execution_count": 297,
   "metadata": {},
   "outputs": [
    {
     "name": "stdout",
     "output_type": "stream",
     "text": [
      "display.max_rows : int\n",
      "    If max_rows is exceeded, switch to truncate view. Depending on\n",
      "    `large_repr`, objects are either centrally truncated or printed as\n",
      "    a summary view. 'None' value means unlimited.\n",
      "\n",
      "    In case python/IPython is running in a terminal and `large_repr`\n",
      "    equals 'truncate' this can be set to 0 and pandas will auto-detect\n",
      "    the height of the terminal and print a truncated object which fits\n",
      "    the screen height. The IPython notebook, IPython qtconsole, or\n",
      "    IDLE do not run in a terminal and hence it is not possible to do\n",
      "    correct auto-detection.\n",
      "    [default: 60] [currently: 100]\n",
      "\n",
      "\n"
     ]
    }
   ],
   "source": [
    "pd.describe_option(\"display.max_rows\")"
   ]
  },
  {
   "cell_type": "code",
   "execution_count": 298,
   "metadata": {},
   "outputs": [
    {
     "data": {
      "text/plain": [
       "<pandas.core.config.option_context at 0x7fd092de0cf8>"
      ]
     },
     "execution_count": 298,
     "metadata": {},
     "output_type": "execute_result"
    }
   ],
   "source": [
    "pd.option_context('display.max_rows',10)"
   ]
  },
  {
   "cell_type": "code",
   "execution_count": 299,
   "metadata": {},
   "outputs": [
    {
     "data": {
      "text/plain": [
       "100"
      ]
     },
     "execution_count": 299,
     "metadata": {},
     "output_type": "execute_result"
    }
   ],
   "source": [
    "pd.get_option(\"display.max_rows\")"
   ]
  },
  {
   "cell_type": "code",
   "execution_count": 300,
   "metadata": {},
   "outputs": [],
   "source": [
    "pd.reset_option(\"display.max_rows\")"
   ]
  },
  {
   "cell_type": "code",
   "execution_count": 301,
   "metadata": {},
   "outputs": [
    {
     "data": {
      "text/plain": [
       "60"
      ]
     },
     "execution_count": 301,
     "metadata": {},
     "output_type": "execute_result"
    }
   ],
   "source": [
    "pd.get_option('display.max_rows')"
   ]
  },
  {
   "cell_type": "code",
   "execution_count": 303,
   "metadata": {},
   "outputs": [
    {
     "data": {
      "text/plain": [
       "60"
      ]
     },
     "execution_count": 303,
     "metadata": {},
     "output_type": "execute_result"
    }
   ],
   "source": [
    "pd.get_option('display.max_rows')"
   ]
  },
  {
   "cell_type": "code",
   "execution_count": 304,
   "metadata": {},
   "outputs": [
    {
     "name": "stdout",
     "output_type": "stream",
     "text": [
      "10\n"
     ]
    }
   ],
   "source": [
    "with pd.option_context(\"display.max_rows\",10):\n",
    "    print (pd.get_option('display.max_rows'))\n",
    "    pd.get_option('display.max_rows')"
   ]
  },
  {
   "cell_type": "code",
   "execution_count": 305,
   "metadata": {},
   "outputs": [
    {
     "data": {
      "text/plain": [
       "60"
      ]
     },
     "execution_count": 305,
     "metadata": {},
     "output_type": "execute_result"
    }
   ],
   "source": [
    "pd.get_option('display.max_rows')"
   ]
  },
  {
   "cell_type": "markdown",
   "metadata": {},
   "source": [
    "# S.No \tParameter \tDescription\n",
    "1 \tdisplay.max_rows \tDisplays maximum number of rows to display\n",
    "2 \t2 display.max_columns \tDisplays maximum number of columns to display\n",
    "3 \tdisplay.expand_frame_repr \tDisplays DataFrames to Stretch Pages\n",
    "4 \tdisplay.max_colwidth \tDisplays maximum column width\n",
    "5 \tdisplay.precision \tDisplays precision for decimal numbers"
   ]
  },
  {
   "cell_type": "code",
   "execution_count": 308,
   "metadata": {},
   "outputs": [],
   "source": [
    "a=pd.DataFrame(np.random.randn(10,5),index=[1,2,3,4,5,6,7,8,9,10],columns=['a','b','c','d','e'])"
   ]
  },
  {
   "cell_type": "code",
   "execution_count": 314,
   "metadata": {},
   "outputs": [
    {
     "data": {
      "text/plain": [
       "a    1.080091\n",
       "b    1.584624\n",
       "c    0.103014\n",
       "d   -0.565678\n",
       "e   -1.580894\n",
       "Name: 2, dtype: float64"
      ]
     },
     "execution_count": 314,
     "metadata": {},
     "output_type": "execute_result"
    }
   ],
   "source": [
    "a.loc[2]"
   ]
  },
  {
   "cell_type": "code",
   "execution_count": 312,
   "metadata": {},
   "outputs": [
    {
     "data": {
      "text/html": [
       "<div>\n",
       "<style scoped>\n",
       "    .dataframe tbody tr th:only-of-type {\n",
       "        vertical-align: middle;\n",
       "    }\n",
       "\n",
       "    .dataframe tbody tr th {\n",
       "        vertical-align: top;\n",
       "    }\n",
       "\n",
       "    .dataframe thead th {\n",
       "        text-align: right;\n",
       "    }\n",
       "</style>\n",
       "<table border=\"1\" class=\"dataframe\">\n",
       "  <thead>\n",
       "    <tr style=\"text-align: right;\">\n",
       "      <th></th>\n",
       "      <th>a</th>\n",
       "      <th>b</th>\n",
       "      <th>c</th>\n",
       "      <th>d</th>\n",
       "      <th>e</th>\n",
       "    </tr>\n",
       "  </thead>\n",
       "  <tbody>\n",
       "    <tr>\n",
       "      <th>1</th>\n",
       "      <td>-0.291974</td>\n",
       "      <td>0.552248</td>\n",
       "      <td>0.124185</td>\n",
       "      <td>-1.586012</td>\n",
       "      <td>0.600212</td>\n",
       "    </tr>\n",
       "    <tr>\n",
       "      <th>2</th>\n",
       "      <td>1.080091</td>\n",
       "      <td>1.584624</td>\n",
       "      <td>0.103014</td>\n",
       "      <td>-0.565678</td>\n",
       "      <td>-1.580894</td>\n",
       "    </tr>\n",
       "    <tr>\n",
       "      <th>3</th>\n",
       "      <td>-0.062647</td>\n",
       "      <td>0.042003</td>\n",
       "      <td>0.298301</td>\n",
       "      <td>0.654825</td>\n",
       "      <td>-0.109413</td>\n",
       "    </tr>\n",
       "    <tr>\n",
       "      <th>4</th>\n",
       "      <td>0.085786</td>\n",
       "      <td>-0.454790</td>\n",
       "      <td>-0.658926</td>\n",
       "      <td>-0.939112</td>\n",
       "      <td>-0.883428</td>\n",
       "    </tr>\n",
       "    <tr>\n",
       "      <th>5</th>\n",
       "      <td>-0.169879</td>\n",
       "      <td>0.427104</td>\n",
       "      <td>-1.517982</td>\n",
       "      <td>-0.282447</td>\n",
       "      <td>0.681808</td>\n",
       "    </tr>\n",
       "    <tr>\n",
       "      <th>6</th>\n",
       "      <td>-0.286896</td>\n",
       "      <td>0.102722</td>\n",
       "      <td>0.788265</td>\n",
       "      <td>-1.014527</td>\n",
       "      <td>0.218458</td>\n",
       "    </tr>\n",
       "    <tr>\n",
       "      <th>7</th>\n",
       "      <td>0.234143</td>\n",
       "      <td>-0.632120</td>\n",
       "      <td>1.175716</td>\n",
       "      <td>0.391867</td>\n",
       "      <td>0.666666</td>\n",
       "    </tr>\n",
       "    <tr>\n",
       "      <th>8</th>\n",
       "      <td>-2.434176</td>\n",
       "      <td>-0.120671</td>\n",
       "      <td>0.241367</td>\n",
       "      <td>0.584049</td>\n",
       "      <td>-0.562097</td>\n",
       "    </tr>\n",
       "    <tr>\n",
       "      <th>9</th>\n",
       "      <td>0.562449</td>\n",
       "      <td>0.932509</td>\n",
       "      <td>0.089598</td>\n",
       "      <td>-0.538835</td>\n",
       "      <td>-0.197041</td>\n",
       "    </tr>\n",
       "    <tr>\n",
       "      <th>10</th>\n",
       "      <td>0.576629</td>\n",
       "      <td>-2.083112</td>\n",
       "      <td>0.783011</td>\n",
       "      <td>0.395719</td>\n",
       "      <td>-0.901761</td>\n",
       "    </tr>\n",
       "  </tbody>\n",
       "</table>\n",
       "</div>"
      ],
      "text/plain": [
       "           a         b         c         d         e\n",
       "1  -0.291974  0.552248  0.124185 -1.586012  0.600212\n",
       "2   1.080091  1.584624  0.103014 -0.565678 -1.580894\n",
       "3  -0.062647  0.042003  0.298301  0.654825 -0.109413\n",
       "4   0.085786 -0.454790 -0.658926 -0.939112 -0.883428\n",
       "5  -0.169879  0.427104 -1.517982 -0.282447  0.681808\n",
       "6  -0.286896  0.102722  0.788265 -1.014527  0.218458\n",
       "7   0.234143 -0.632120  1.175716  0.391867  0.666666\n",
       "8  -2.434176 -0.120671  0.241367  0.584049 -0.562097\n",
       "9   0.562449  0.932509  0.089598 -0.538835 -0.197041\n",
       "10  0.576629 -2.083112  0.783011  0.395719 -0.901761"
      ]
     },
     "execution_count": 312,
     "metadata": {},
     "output_type": "execute_result"
    }
   ],
   "source": [
    "a"
   ]
  },
  {
   "cell_type": "code",
   "execution_count": 315,
   "metadata": {},
   "outputs": [
    {
     "data": {
      "text/plain": [
       "a    0.085786\n",
       "b   -0.454790\n",
       "c   -0.658926\n",
       "d   -0.939112\n",
       "e   -0.883428\n",
       "Name: 4, dtype: float64"
      ]
     },
     "execution_count": 315,
     "metadata": {},
     "output_type": "execute_result"
    }
   ],
   "source": [
    "a.loc[4]"
   ]
  },
  {
   "cell_type": "code",
   "execution_count": 316,
   "metadata": {},
   "outputs": [
    {
     "data": {
      "text/plain": [
       "a   -0.169879\n",
       "b    0.427104\n",
       "c   -1.517982\n",
       "d   -0.282447\n",
       "e    0.681808\n",
       "Name: 5, dtype: float64"
      ]
     },
     "execution_count": 316,
     "metadata": {},
     "output_type": "execute_result"
    }
   ],
   "source": [
    "a.iloc[4]"
   ]
  },
  {
   "cell_type": "code",
   "execution_count": 561,
   "metadata": {},
   "outputs": [
    {
     "data": {
      "text/plain": [
       "1     0.514278\n",
       "2     0.282691\n",
       "3     0.963375\n",
       "4     2.115402\n",
       "5     0.476790\n",
       "6     1.536390\n",
       "7     0.909252\n",
       "8     0.462293\n",
       "9    -0.787155\n",
       "10    0.631219\n",
       "Name: b, dtype: float64"
      ]
     },
     "execution_count": 561,
     "metadata": {},
     "output_type": "execute_result"
    }
   ],
   "source": [
    "a.loc[:,'b']"
   ]
  },
  {
   "cell_type": "code",
   "execution_count": 574,
   "metadata": {},
   "outputs": [
    {
     "data": {
      "text/html": [
       "<div>\n",
       "<style scoped>\n",
       "    .dataframe tbody tr th:only-of-type {\n",
       "        vertical-align: middle;\n",
       "    }\n",
       "\n",
       "    .dataframe tbody tr th {\n",
       "        vertical-align: top;\n",
       "    }\n",
       "\n",
       "    .dataframe thead th {\n",
       "        text-align: right;\n",
       "    }\n",
       "</style>\n",
       "<table border=\"1\" class=\"dataframe\">\n",
       "  <thead>\n",
       "    <tr style=\"text-align: right;\">\n",
       "      <th></th>\n",
       "      <th>a</th>\n",
       "      <th>b</th>\n",
       "      <th>c</th>\n",
       "      <th>d</th>\n",
       "      <th>e</th>\n",
       "    </tr>\n",
       "  </thead>\n",
       "  <tbody>\n",
       "    <tr>\n",
       "      <th>1</th>\n",
       "      <td>-1.964320</td>\n",
       "      <td>0.514278</td>\n",
       "      <td>-1.054725</td>\n",
       "      <td>-1.570952</td>\n",
       "      <td>1.729709</td>\n",
       "    </tr>\n",
       "    <tr>\n",
       "      <th>2</th>\n",
       "      <td>-0.546920</td>\n",
       "      <td>0.282691</td>\n",
       "      <td>0.447675</td>\n",
       "      <td>-0.130716</td>\n",
       "      <td>1.276434</td>\n",
       "    </tr>\n",
       "    <tr>\n",
       "      <th>3</th>\n",
       "      <td>-0.121654</td>\n",
       "      <td>0.963375</td>\n",
       "      <td>-0.923337</td>\n",
       "      <td>-0.300630</td>\n",
       "      <td>0.324582</td>\n",
       "    </tr>\n",
       "    <tr>\n",
       "      <th>4</th>\n",
       "      <td>0.561045</td>\n",
       "      <td>2.115402</td>\n",
       "      <td>0.513460</td>\n",
       "      <td>0.703363</td>\n",
       "      <td>0.176066</td>\n",
       "    </tr>\n",
       "    <tr>\n",
       "      <th>5</th>\n",
       "      <td>-0.223438</td>\n",
       "      <td>0.476790</td>\n",
       "      <td>0.875411</td>\n",
       "      <td>-0.680362</td>\n",
       "      <td>1.666600</td>\n",
       "    </tr>\n",
       "  </tbody>\n",
       "</table>\n",
       "</div>"
      ],
      "text/plain": [
       "          a         b         c         d         e\n",
       "1 -1.964320  0.514278 -1.054725 -1.570952  1.729709\n",
       "2 -0.546920  0.282691  0.447675 -0.130716  1.276434\n",
       "3 -0.121654  0.963375 -0.923337 -0.300630  0.324582\n",
       "4  0.561045  2.115402  0.513460  0.703363  0.176066\n",
       "5 -0.223438  0.476790  0.875411 -0.680362  1.666600"
      ]
     },
     "execution_count": 574,
     "metadata": {},
     "output_type": "execute_result"
    }
   ],
   "source": [
    "a.iloc[:5]"
   ]
  },
  {
   "cell_type": "code",
   "execution_count": 562,
   "metadata": {},
   "outputs": [
    {
     "data": {
      "text/html": [
       "<div>\n",
       "<style scoped>\n",
       "    .dataframe tbody tr th:only-of-type {\n",
       "        vertical-align: middle;\n",
       "    }\n",
       "\n",
       "    .dataframe tbody tr th {\n",
       "        vertical-align: top;\n",
       "    }\n",
       "\n",
       "    .dataframe thead th {\n",
       "        text-align: right;\n",
       "    }\n",
       "</style>\n",
       "<table border=\"1\" class=\"dataframe\">\n",
       "  <thead>\n",
       "    <tr style=\"text-align: right;\">\n",
       "      <th></th>\n",
       "      <th>a</th>\n",
       "      <th>d</th>\n",
       "    </tr>\n",
       "  </thead>\n",
       "  <tbody>\n",
       "    <tr>\n",
       "      <th>1</th>\n",
       "      <td>-1.964320</td>\n",
       "      <td>-1.570952</td>\n",
       "    </tr>\n",
       "    <tr>\n",
       "      <th>2</th>\n",
       "      <td>-0.546920</td>\n",
       "      <td>-0.130716</td>\n",
       "    </tr>\n",
       "    <tr>\n",
       "      <th>3</th>\n",
       "      <td>-0.121654</td>\n",
       "      <td>-0.300630</td>\n",
       "    </tr>\n",
       "    <tr>\n",
       "      <th>4</th>\n",
       "      <td>0.561045</td>\n",
       "      <td>0.703363</td>\n",
       "    </tr>\n",
       "    <tr>\n",
       "      <th>5</th>\n",
       "      <td>-0.223438</td>\n",
       "      <td>-0.680362</td>\n",
       "    </tr>\n",
       "    <tr>\n",
       "      <th>6</th>\n",
       "      <td>2.187313</td>\n",
       "      <td>-0.867333</td>\n",
       "    </tr>\n",
       "    <tr>\n",
       "      <th>7</th>\n",
       "      <td>-0.246811</td>\n",
       "      <td>0.733512</td>\n",
       "    </tr>\n",
       "    <tr>\n",
       "      <th>8</th>\n",
       "      <td>-0.978974</td>\n",
       "      <td>0.249243</td>\n",
       "    </tr>\n",
       "    <tr>\n",
       "      <th>9</th>\n",
       "      <td>0.572947</td>\n",
       "      <td>0.343079</td>\n",
       "    </tr>\n",
       "    <tr>\n",
       "      <th>10</th>\n",
       "      <td>0.238938</td>\n",
       "      <td>1.171250</td>\n",
       "    </tr>\n",
       "  </tbody>\n",
       "</table>\n",
       "</div>"
      ],
      "text/plain": [
       "           a         d\n",
       "1  -1.964320 -1.570952\n",
       "2  -0.546920 -0.130716\n",
       "3  -0.121654 -0.300630\n",
       "4   0.561045  0.703363\n",
       "5  -0.223438 -0.680362\n",
       "6   2.187313 -0.867333\n",
       "7  -0.246811  0.733512\n",
       "8  -0.978974  0.249243\n",
       "9   0.572947  0.343079\n",
       "10  0.238938  1.171250"
      ]
     },
     "execution_count": 562,
     "metadata": {},
     "output_type": "execute_result"
    }
   ],
   "source": [
    "a.loc[:,['a','d']]"
   ]
  },
  {
   "cell_type": "code",
   "execution_count": 320,
   "metadata": {},
   "outputs": [
    {
     "data": {
      "text/html": [
       "<div>\n",
       "<style scoped>\n",
       "    .dataframe tbody tr th:only-of-type {\n",
       "        vertical-align: middle;\n",
       "    }\n",
       "\n",
       "    .dataframe tbody tr th {\n",
       "        vertical-align: top;\n",
       "    }\n",
       "\n",
       "    .dataframe thead th {\n",
       "        text-align: right;\n",
       "    }\n",
       "</style>\n",
       "<table border=\"1\" class=\"dataframe\">\n",
       "  <thead>\n",
       "    <tr style=\"text-align: right;\">\n",
       "      <th></th>\n",
       "      <th>a</th>\n",
       "      <th>e</th>\n",
       "      <th>d</th>\n",
       "    </tr>\n",
       "  </thead>\n",
       "  <tbody>\n",
       "    <tr>\n",
       "      <th>1</th>\n",
       "      <td>-0.291974</td>\n",
       "      <td>0.600212</td>\n",
       "      <td>-1.586012</td>\n",
       "    </tr>\n",
       "    <tr>\n",
       "      <th>2</th>\n",
       "      <td>1.080091</td>\n",
       "      <td>-1.580894</td>\n",
       "      <td>-0.565678</td>\n",
       "    </tr>\n",
       "    <tr>\n",
       "      <th>3</th>\n",
       "      <td>-0.062647</td>\n",
       "      <td>-0.109413</td>\n",
       "      <td>0.654825</td>\n",
       "    </tr>\n",
       "    <tr>\n",
       "      <th>4</th>\n",
       "      <td>0.085786</td>\n",
       "      <td>-0.883428</td>\n",
       "      <td>-0.939112</td>\n",
       "    </tr>\n",
       "    <tr>\n",
       "      <th>5</th>\n",
       "      <td>-0.169879</td>\n",
       "      <td>0.681808</td>\n",
       "      <td>-0.282447</td>\n",
       "    </tr>\n",
       "    <tr>\n",
       "      <th>6</th>\n",
       "      <td>-0.286896</td>\n",
       "      <td>0.218458</td>\n",
       "      <td>-1.014527</td>\n",
       "    </tr>\n",
       "  </tbody>\n",
       "</table>\n",
       "</div>"
      ],
      "text/plain": [
       "          a         e         d\n",
       "1 -0.291974  0.600212 -1.586012\n",
       "2  1.080091 -1.580894 -0.565678\n",
       "3 -0.062647 -0.109413  0.654825\n",
       "4  0.085786 -0.883428 -0.939112\n",
       "5 -0.169879  0.681808 -0.282447\n",
       "6 -0.286896  0.218458 -1.014527"
      ]
     },
     "execution_count": 320,
     "metadata": {},
     "output_type": "execute_result"
    }
   ],
   "source": [
    "a.loc[[1,2,3,4,5,6],['a','e','d']]"
   ]
  },
  {
   "cell_type": "code",
   "execution_count": 567,
   "metadata": {},
   "outputs": [
    {
     "data": {
      "text/html": [
       "<div>\n",
       "<style scoped>\n",
       "    .dataframe tbody tr th:only-of-type {\n",
       "        vertical-align: middle;\n",
       "    }\n",
       "\n",
       "    .dataframe tbody tr th {\n",
       "        vertical-align: top;\n",
       "    }\n",
       "\n",
       "    .dataframe thead th {\n",
       "        text-align: right;\n",
       "    }\n",
       "</style>\n",
       "<table border=\"1\" class=\"dataframe\">\n",
       "  <thead>\n",
       "    <tr style=\"text-align: right;\">\n",
       "      <th></th>\n",
       "      <th>a</th>\n",
       "      <th>b</th>\n",
       "      <th>c</th>\n",
       "      <th>d</th>\n",
       "      <th>e</th>\n",
       "    </tr>\n",
       "  </thead>\n",
       "  <tbody>\n",
       "    <tr>\n",
       "      <th>1</th>\n",
       "      <td>-1.964320</td>\n",
       "      <td>0.514278</td>\n",
       "      <td>-1.054725</td>\n",
       "      <td>-1.570952</td>\n",
       "      <td>1.729709</td>\n",
       "    </tr>\n",
       "    <tr>\n",
       "      <th>2</th>\n",
       "      <td>-0.546920</td>\n",
       "      <td>0.282691</td>\n",
       "      <td>0.447675</td>\n",
       "      <td>-0.130716</td>\n",
       "      <td>1.276434</td>\n",
       "    </tr>\n",
       "    <tr>\n",
       "      <th>3</th>\n",
       "      <td>-0.121654</td>\n",
       "      <td>0.963375</td>\n",
       "      <td>-0.923337</td>\n",
       "      <td>-0.300630</td>\n",
       "      <td>0.324582</td>\n",
       "    </tr>\n",
       "    <tr>\n",
       "      <th>4</th>\n",
       "      <td>0.561045</td>\n",
       "      <td>2.115402</td>\n",
       "      <td>0.513460</td>\n",
       "      <td>0.703363</td>\n",
       "      <td>0.176066</td>\n",
       "    </tr>\n",
       "    <tr>\n",
       "      <th>5</th>\n",
       "      <td>-0.223438</td>\n",
       "      <td>0.476790</td>\n",
       "      <td>0.875411</td>\n",
       "      <td>-0.680362</td>\n",
       "      <td>1.666600</td>\n",
       "    </tr>\n",
       "    <tr>\n",
       "      <th>6</th>\n",
       "      <td>2.187313</td>\n",
       "      <td>1.536390</td>\n",
       "      <td>0.491022</td>\n",
       "      <td>-0.867333</td>\n",
       "      <td>1.097043</td>\n",
       "    </tr>\n",
       "    <tr>\n",
       "      <th>7</th>\n",
       "      <td>-0.246811</td>\n",
       "      <td>0.909252</td>\n",
       "      <td>0.098141</td>\n",
       "      <td>0.733512</td>\n",
       "      <td>-0.613944</td>\n",
       "    </tr>\n",
       "    <tr>\n",
       "      <th>8</th>\n",
       "      <td>-0.978974</td>\n",
       "      <td>0.462293</td>\n",
       "      <td>1.113315</td>\n",
       "      <td>0.249243</td>\n",
       "      <td>-0.882210</td>\n",
       "    </tr>\n",
       "    <tr>\n",
       "      <th>9</th>\n",
       "      <td>0.572947</td>\n",
       "      <td>-0.787155</td>\n",
       "      <td>1.265250</td>\n",
       "      <td>0.343079</td>\n",
       "      <td>-0.963360</td>\n",
       "    </tr>\n",
       "    <tr>\n",
       "      <th>10</th>\n",
       "      <td>0.238938</td>\n",
       "      <td>0.631219</td>\n",
       "      <td>-0.348932</td>\n",
       "      <td>1.171250</td>\n",
       "      <td>-0.611231</td>\n",
       "    </tr>\n",
       "  </tbody>\n",
       "</table>\n",
       "</div>"
      ],
      "text/plain": [
       "           a         b         c         d         e\n",
       "1  -1.964320  0.514278 -1.054725 -1.570952  1.729709\n",
       "2  -0.546920  0.282691  0.447675 -0.130716  1.276434\n",
       "3  -0.121654  0.963375 -0.923337 -0.300630  0.324582\n",
       "4   0.561045  2.115402  0.513460  0.703363  0.176066\n",
       "5  -0.223438  0.476790  0.875411 -0.680362  1.666600\n",
       "6   2.187313  1.536390  0.491022 -0.867333  1.097043\n",
       "7  -0.246811  0.909252  0.098141  0.733512 -0.613944\n",
       "8  -0.978974  0.462293  1.113315  0.249243 -0.882210\n",
       "9   0.572947 -0.787155  1.265250  0.343079 -0.963360\n",
       "10  0.238938  0.631219 -0.348932  1.171250 -0.611231"
      ]
     },
     "execution_count": 567,
     "metadata": {},
     "output_type": "execute_result"
    }
   ],
   "source": [
    "a.loc[1:10]"
   ]
  },
  {
   "cell_type": "code",
   "execution_count": 568,
   "metadata": {},
   "outputs": [
    {
     "data": {
      "text/plain": [
       "a    False\n",
       "b     True\n",
       "c    False\n",
       "d    False\n",
       "e     True\n",
       "Name: 1, dtype: bool"
      ]
     },
     "execution_count": 568,
     "metadata": {},
     "output_type": "execute_result"
    }
   ],
   "source": [
    "a.loc[1]>0"
   ]
  },
  {
   "cell_type": "code",
   "execution_count": 569,
   "metadata": {},
   "outputs": [
    {
     "data": {
      "text/plain": [
       "a     True\n",
       "b    False\n",
       "c     True\n",
       "d     True\n",
       "e    False\n",
       "Name: 1, dtype: bool"
      ]
     },
     "execution_count": 569,
     "metadata": {},
     "output_type": "execute_result"
    }
   ],
   "source": [
    "a.loc[1]<0"
   ]
  },
  {
   "cell_type": "code",
   "execution_count": 318,
   "metadata": {},
   "outputs": [
    {
     "data": {
      "text/html": [
       "<div>\n",
       "<style scoped>\n",
       "    .dataframe tbody tr th:only-of-type {\n",
       "        vertical-align: middle;\n",
       "    }\n",
       "\n",
       "    .dataframe tbody tr th {\n",
       "        vertical-align: top;\n",
       "    }\n",
       "\n",
       "    .dataframe thead th {\n",
       "        text-align: right;\n",
       "    }\n",
       "</style>\n",
       "<table border=\"1\" class=\"dataframe\">\n",
       "  <thead>\n",
       "    <tr style=\"text-align: right;\">\n",
       "      <th></th>\n",
       "      <th>a</th>\n",
       "      <th>b</th>\n",
       "      <th>c</th>\n",
       "      <th>d</th>\n",
       "      <th>e</th>\n",
       "    </tr>\n",
       "  </thead>\n",
       "  <tbody>\n",
       "    <tr>\n",
       "      <th>2</th>\n",
       "      <td>1.080091</td>\n",
       "      <td>1.584624</td>\n",
       "      <td>0.103014</td>\n",
       "      <td>-0.565678</td>\n",
       "      <td>-1.580894</td>\n",
       "    </tr>\n",
       "    <tr>\n",
       "      <th>3</th>\n",
       "      <td>-0.062647</td>\n",
       "      <td>0.042003</td>\n",
       "      <td>0.298301</td>\n",
       "      <td>0.654825</td>\n",
       "      <td>-0.109413</td>\n",
       "    </tr>\n",
       "    <tr>\n",
       "      <th>4</th>\n",
       "      <td>0.085786</td>\n",
       "      <td>-0.454790</td>\n",
       "      <td>-0.658926</td>\n",
       "      <td>-0.939112</td>\n",
       "      <td>-0.883428</td>\n",
       "    </tr>\n",
       "    <tr>\n",
       "      <th>5</th>\n",
       "      <td>-0.169879</td>\n",
       "      <td>0.427104</td>\n",
       "      <td>-1.517982</td>\n",
       "      <td>-0.282447</td>\n",
       "      <td>0.681808</td>\n",
       "    </tr>\n",
       "  </tbody>\n",
       "</table>\n",
       "</div>"
      ],
      "text/plain": [
       "          a         b         c         d         e\n",
       "2  1.080091  1.584624  0.103014 -0.565678 -1.580894\n",
       "3 -0.062647  0.042003  0.298301  0.654825 -0.109413\n",
       "4  0.085786 -0.454790 -0.658926 -0.939112 -0.883428\n",
       "5 -0.169879  0.427104 -1.517982 -0.282447  0.681808"
      ]
     },
     "execution_count": 318,
     "metadata": {},
     "output_type": "execute_result"
    }
   ],
   "source": [
    "a.iloc[1:5]"
   ]
  },
  {
   "cell_type": "code",
   "execution_count": 577,
   "metadata": {},
   "outputs": [
    {
     "data": {
      "text/html": [
       "<div>\n",
       "<style scoped>\n",
       "    .dataframe tbody tr th:only-of-type {\n",
       "        vertical-align: middle;\n",
       "    }\n",
       "\n",
       "    .dataframe tbody tr th {\n",
       "        vertical-align: top;\n",
       "    }\n",
       "\n",
       "    .dataframe thead th {\n",
       "        text-align: right;\n",
       "    }\n",
       "</style>\n",
       "<table border=\"1\" class=\"dataframe\">\n",
       "  <thead>\n",
       "    <tr style=\"text-align: right;\">\n",
       "      <th></th>\n",
       "      <th>a</th>\n",
       "      <th>b</th>\n",
       "      <th>c</th>\n",
       "      <th>d</th>\n",
       "      <th>e</th>\n",
       "    </tr>\n",
       "  </thead>\n",
       "  <tbody>\n",
       "    <tr>\n",
       "      <th>3</th>\n",
       "      <td>-0.121654</td>\n",
       "      <td>0.963375</td>\n",
       "      <td>-0.923337</td>\n",
       "      <td>-0.300630</td>\n",
       "      <td>0.324582</td>\n",
       "    </tr>\n",
       "    <tr>\n",
       "      <th>4</th>\n",
       "      <td>0.561045</td>\n",
       "      <td>2.115402</td>\n",
       "      <td>0.513460</td>\n",
       "      <td>0.703363</td>\n",
       "      <td>0.176066</td>\n",
       "    </tr>\n",
       "  </tbody>\n",
       "</table>\n",
       "</div>"
      ],
      "text/plain": [
       "          a         b         c         d         e\n",
       "3 -0.121654  0.963375 -0.923337 -0.300630  0.324582\n",
       "4  0.561045  2.115402  0.513460  0.703363  0.176066"
      ]
     },
     "execution_count": 577,
     "metadata": {},
     "output_type": "execute_result"
    }
   ],
   "source": [
    "a.iloc[ 2:4]"
   ]
  },
  {
   "cell_type": "code",
   "execution_count": 578,
   "metadata": {},
   "outputs": [
    {
     "data": {
      "text/html": [
       "<div>\n",
       "<style scoped>\n",
       "    .dataframe tbody tr th:only-of-type {\n",
       "        vertical-align: middle;\n",
       "    }\n",
       "\n",
       "    .dataframe tbody tr th {\n",
       "        vertical-align: top;\n",
       "    }\n",
       "\n",
       "    .dataframe thead th {\n",
       "        text-align: right;\n",
       "    }\n",
       "</style>\n",
       "<table border=\"1\" class=\"dataframe\">\n",
       "  <thead>\n",
       "    <tr style=\"text-align: right;\">\n",
       "      <th></th>\n",
       "      <th>a</th>\n",
       "      <th>b</th>\n",
       "      <th>c</th>\n",
       "      <th>d</th>\n",
       "      <th>e</th>\n",
       "    </tr>\n",
       "  </thead>\n",
       "  <tbody>\n",
       "    <tr>\n",
       "      <th>1</th>\n",
       "      <td>-1.964320</td>\n",
       "      <td>0.514278</td>\n",
       "      <td>-1.054725</td>\n",
       "      <td>-1.570952</td>\n",
       "      <td>1.729709</td>\n",
       "    </tr>\n",
       "    <tr>\n",
       "      <th>2</th>\n",
       "      <td>-0.546920</td>\n",
       "      <td>0.282691</td>\n",
       "      <td>0.447675</td>\n",
       "      <td>-0.130716</td>\n",
       "      <td>1.276434</td>\n",
       "    </tr>\n",
       "    <tr>\n",
       "      <th>3</th>\n",
       "      <td>-0.121654</td>\n",
       "      <td>0.963375</td>\n",
       "      <td>-0.923337</td>\n",
       "      <td>-0.300630</td>\n",
       "      <td>0.324582</td>\n",
       "    </tr>\n",
       "    <tr>\n",
       "      <th>4</th>\n",
       "      <td>0.561045</td>\n",
       "      <td>2.115402</td>\n",
       "      <td>0.513460</td>\n",
       "      <td>0.703363</td>\n",
       "      <td>0.176066</td>\n",
       "    </tr>\n",
       "    <tr>\n",
       "      <th>5</th>\n",
       "      <td>-0.223438</td>\n",
       "      <td>0.476790</td>\n",
       "      <td>0.875411</td>\n",
       "      <td>-0.680362</td>\n",
       "      <td>1.666600</td>\n",
       "    </tr>\n",
       "    <tr>\n",
       "      <th>6</th>\n",
       "      <td>2.187313</td>\n",
       "      <td>1.536390</td>\n",
       "      <td>0.491022</td>\n",
       "      <td>-0.867333</td>\n",
       "      <td>1.097043</td>\n",
       "    </tr>\n",
       "    <tr>\n",
       "      <th>7</th>\n",
       "      <td>-0.246811</td>\n",
       "      <td>0.909252</td>\n",
       "      <td>0.098141</td>\n",
       "      <td>0.733512</td>\n",
       "      <td>-0.613944</td>\n",
       "    </tr>\n",
       "    <tr>\n",
       "      <th>8</th>\n",
       "      <td>-0.978974</td>\n",
       "      <td>0.462293</td>\n",
       "      <td>1.113315</td>\n",
       "      <td>0.249243</td>\n",
       "      <td>-0.882210</td>\n",
       "    </tr>\n",
       "    <tr>\n",
       "      <th>9</th>\n",
       "      <td>0.572947</td>\n",
       "      <td>-0.787155</td>\n",
       "      <td>1.265250</td>\n",
       "      <td>0.343079</td>\n",
       "      <td>-0.963360</td>\n",
       "    </tr>\n",
       "    <tr>\n",
       "      <th>10</th>\n",
       "      <td>0.238938</td>\n",
       "      <td>0.631219</td>\n",
       "      <td>-0.348932</td>\n",
       "      <td>1.171250</td>\n",
       "      <td>-0.611231</td>\n",
       "    </tr>\n",
       "  </tbody>\n",
       "</table>\n",
       "</div>"
      ],
      "text/plain": [
       "           a         b         c         d         e\n",
       "1  -1.964320  0.514278 -1.054725 -1.570952  1.729709\n",
       "2  -0.546920  0.282691  0.447675 -0.130716  1.276434\n",
       "3  -0.121654  0.963375 -0.923337 -0.300630  0.324582\n",
       "4   0.561045  2.115402  0.513460  0.703363  0.176066\n",
       "5  -0.223438  0.476790  0.875411 -0.680362  1.666600\n",
       "6   2.187313  1.536390  0.491022 -0.867333  1.097043\n",
       "7  -0.246811  0.909252  0.098141  0.733512 -0.613944\n",
       "8  -0.978974  0.462293  1.113315  0.249243 -0.882210\n",
       "9   0.572947 -0.787155  1.265250  0.343079 -0.963360\n",
       "10  0.238938  0.631219 -0.348932  1.171250 -0.611231"
      ]
     },
     "execution_count": 578,
     "metadata": {},
     "output_type": "execute_result"
    }
   ],
   "source": [
    "a"
   ]
  },
  {
   "cell_type": "code",
   "execution_count": 580,
   "metadata": {},
   "outputs": [
    {
     "data": {
      "text/html": [
       "<div>\n",
       "<style scoped>\n",
       "    .dataframe tbody tr th:only-of-type {\n",
       "        vertical-align: middle;\n",
       "    }\n",
       "\n",
       "    .dataframe tbody tr th {\n",
       "        vertical-align: top;\n",
       "    }\n",
       "\n",
       "    .dataframe thead th {\n",
       "        text-align: right;\n",
       "    }\n",
       "</style>\n",
       "<table border=\"1\" class=\"dataframe\">\n",
       "  <thead>\n",
       "    <tr style=\"text-align: right;\">\n",
       "      <th></th>\n",
       "      <th>a</th>\n",
       "      <th>b</th>\n",
       "      <th>c</th>\n",
       "      <th>d</th>\n",
       "      <th>e</th>\n",
       "    </tr>\n",
       "  </thead>\n",
       "  <tbody>\n",
       "    <tr>\n",
       "      <th>1</th>\n",
       "      <td>-1.964320</td>\n",
       "      <td>0.514278</td>\n",
       "      <td>-1.054725</td>\n",
       "      <td>-1.570952</td>\n",
       "      <td>1.729709</td>\n",
       "    </tr>\n",
       "    <tr>\n",
       "      <th>2</th>\n",
       "      <td>-0.546920</td>\n",
       "      <td>0.282691</td>\n",
       "      <td>0.447675</td>\n",
       "      <td>-0.130716</td>\n",
       "      <td>1.276434</td>\n",
       "    </tr>\n",
       "    <tr>\n",
       "      <th>3</th>\n",
       "      <td>-0.121654</td>\n",
       "      <td>0.963375</td>\n",
       "      <td>-0.923337</td>\n",
       "      <td>-0.300630</td>\n",
       "      <td>0.324582</td>\n",
       "    </tr>\n",
       "    <tr>\n",
       "      <th>4</th>\n",
       "      <td>0.561045</td>\n",
       "      <td>2.115402</td>\n",
       "      <td>0.513460</td>\n",
       "      <td>0.703363</td>\n",
       "      <td>0.176066</td>\n",
       "    </tr>\n",
       "    <tr>\n",
       "      <th>5</th>\n",
       "      <td>-0.223438</td>\n",
       "      <td>0.476790</td>\n",
       "      <td>0.875411</td>\n",
       "      <td>-0.680362</td>\n",
       "      <td>1.666600</td>\n",
       "    </tr>\n",
       "    <tr>\n",
       "      <th>6</th>\n",
       "      <td>2.187313</td>\n",
       "      <td>1.536390</td>\n",
       "      <td>0.491022</td>\n",
       "      <td>-0.867333</td>\n",
       "      <td>1.097043</td>\n",
       "    </tr>\n",
       "  </tbody>\n",
       "</table>\n",
       "</div>"
      ],
      "text/plain": [
       "          a         b         c         d         e\n",
       "1 -1.964320  0.514278 -1.054725 -1.570952  1.729709\n",
       "2 -0.546920  0.282691  0.447675 -0.130716  1.276434\n",
       "3 -0.121654  0.963375 -0.923337 -0.300630  0.324582\n",
       "4  0.561045  2.115402  0.513460  0.703363  0.176066\n",
       "5 -0.223438  0.476790  0.875411 -0.680362  1.666600\n",
       "6  2.187313  1.536390  0.491022 -0.867333  1.097043"
      ]
     },
     "execution_count": 580,
     "metadata": {},
     "output_type": "execute_result"
    }
   ],
   "source": [
    "a.ix[:6]"
   ]
  },
  {
   "cell_type": "code",
   "execution_count": 581,
   "metadata": {},
   "outputs": [
    {
     "data": {
      "text/plain": [
       "1    -1.964320\n",
       "2    -0.546920\n",
       "3    -0.121654\n",
       "4     0.561045\n",
       "5    -0.223438\n",
       "6     2.187313\n",
       "7    -0.246811\n",
       "8    -0.978974\n",
       "9     0.572947\n",
       "10    0.238938\n",
       "Name: a, dtype: float64"
      ]
     },
     "execution_count": 581,
     "metadata": {},
     "output_type": "execute_result"
    }
   ],
   "source": [
    "a.ix[:,'a']"
   ]
  },
  {
   "cell_type": "code",
   "execution_count": 582,
   "metadata": {},
   "outputs": [],
   "source": [
    "#percent_change"
   ]
  },
  {
   "cell_type": "code",
   "execution_count": 322,
   "metadata": {},
   "outputs": [],
   "source": [
    "d=pd.DataFrame(np.random.randn(5,3),index=[1,2,3,4,5],columns=['a','b','c'])"
   ]
  },
  {
   "cell_type": "code",
   "execution_count": 323,
   "metadata": {},
   "outputs": [
    {
     "data": {
      "text/html": [
       "<div>\n",
       "<style scoped>\n",
       "    .dataframe tbody tr th:only-of-type {\n",
       "        vertical-align: middle;\n",
       "    }\n",
       "\n",
       "    .dataframe tbody tr th {\n",
       "        vertical-align: top;\n",
       "    }\n",
       "\n",
       "    .dataframe thead th {\n",
       "        text-align: right;\n",
       "    }\n",
       "</style>\n",
       "<table border=\"1\" class=\"dataframe\">\n",
       "  <thead>\n",
       "    <tr style=\"text-align: right;\">\n",
       "      <th></th>\n",
       "      <th>a</th>\n",
       "      <th>b</th>\n",
       "      <th>c</th>\n",
       "    </tr>\n",
       "  </thead>\n",
       "  <tbody>\n",
       "    <tr>\n",
       "      <th>1</th>\n",
       "      <td>-0.480328</td>\n",
       "      <td>0.063580</td>\n",
       "      <td>0.788057</td>\n",
       "    </tr>\n",
       "    <tr>\n",
       "      <th>2</th>\n",
       "      <td>-0.740562</td>\n",
       "      <td>-0.387315</td>\n",
       "      <td>0.675764</td>\n",
       "    </tr>\n",
       "    <tr>\n",
       "      <th>3</th>\n",
       "      <td>0.181451</td>\n",
       "      <td>0.487877</td>\n",
       "      <td>-0.744352</td>\n",
       "    </tr>\n",
       "    <tr>\n",
       "      <th>4</th>\n",
       "      <td>1.469533</td>\n",
       "      <td>0.135976</td>\n",
       "      <td>0.832602</td>\n",
       "    </tr>\n",
       "    <tr>\n",
       "      <th>5</th>\n",
       "      <td>-1.139424</td>\n",
       "      <td>-0.177863</td>\n",
       "      <td>-0.481655</td>\n",
       "    </tr>\n",
       "  </tbody>\n",
       "</table>\n",
       "</div>"
      ],
      "text/plain": [
       "          a         b         c\n",
       "1 -0.480328  0.063580  0.788057\n",
       "2 -0.740562 -0.387315  0.675764\n",
       "3  0.181451  0.487877 -0.744352\n",
       "4  1.469533  0.135976  0.832602\n",
       "5 -1.139424 -0.177863 -0.481655"
      ]
     },
     "execution_count": 323,
     "metadata": {},
     "output_type": "execute_result"
    }
   ],
   "source": [
    "d"
   ]
  },
  {
   "cell_type": "code",
   "execution_count": 324,
   "metadata": {},
   "outputs": [
    {
     "data": {
      "text/html": [
       "<div>\n",
       "<style scoped>\n",
       "    .dataframe tbody tr th:only-of-type {\n",
       "        vertical-align: middle;\n",
       "    }\n",
       "\n",
       "    .dataframe tbody tr th {\n",
       "        vertical-align: top;\n",
       "    }\n",
       "\n",
       "    .dataframe thead th {\n",
       "        text-align: right;\n",
       "    }\n",
       "</style>\n",
       "<table border=\"1\" class=\"dataframe\">\n",
       "  <thead>\n",
       "    <tr style=\"text-align: right;\">\n",
       "      <th></th>\n",
       "      <th>a</th>\n",
       "      <th>b</th>\n",
       "      <th>c</th>\n",
       "    </tr>\n",
       "  </thead>\n",
       "  <tbody>\n",
       "    <tr>\n",
       "      <th>1</th>\n",
       "      <td>NaN</td>\n",
       "      <td>NaN</td>\n",
       "      <td>NaN</td>\n",
       "    </tr>\n",
       "    <tr>\n",
       "      <th>2</th>\n",
       "      <td>0.541785</td>\n",
       "      <td>-7.091786</td>\n",
       "      <td>-0.142494</td>\n",
       "    </tr>\n",
       "    <tr>\n",
       "      <th>3</th>\n",
       "      <td>-1.245018</td>\n",
       "      <td>-2.259640</td>\n",
       "      <td>-2.101497</td>\n",
       "    </tr>\n",
       "    <tr>\n",
       "      <th>4</th>\n",
       "      <td>7.098777</td>\n",
       "      <td>-0.721291</td>\n",
       "      <td>-2.118559</td>\n",
       "    </tr>\n",
       "    <tr>\n",
       "      <th>5</th>\n",
       "      <td>-1.775365</td>\n",
       "      <td>-2.308049</td>\n",
       "      <td>-1.578494</td>\n",
       "    </tr>\n",
       "  </tbody>\n",
       "</table>\n",
       "</div>"
      ],
      "text/plain": [
       "          a         b         c\n",
       "1       NaN       NaN       NaN\n",
       "2  0.541785 -7.091786 -0.142494\n",
       "3 -1.245018 -2.259640 -2.101497\n",
       "4  7.098777 -0.721291 -2.118559\n",
       "5 -1.775365 -2.308049 -1.578494"
      ]
     },
     "execution_count": 324,
     "metadata": {},
     "output_type": "execute_result"
    }
   ],
   "source": [
    "d.pct_change()"
   ]
  },
  {
   "cell_type": "code",
   "execution_count": 325,
   "metadata": {},
   "outputs": [
    {
     "data": {
      "text/html": [
       "<div>\n",
       "<style scoped>\n",
       "    .dataframe tbody tr th:only-of-type {\n",
       "        vertical-align: middle;\n",
       "    }\n",
       "\n",
       "    .dataframe tbody tr th {\n",
       "        vertical-align: top;\n",
       "    }\n",
       "\n",
       "    .dataframe thead th {\n",
       "        text-align: right;\n",
       "    }\n",
       "</style>\n",
       "<table border=\"1\" class=\"dataframe\">\n",
       "  <thead>\n",
       "    <tr style=\"text-align: right;\">\n",
       "      <th></th>\n",
       "      <th>a</th>\n",
       "      <th>b</th>\n",
       "      <th>c</th>\n",
       "    </tr>\n",
       "  </thead>\n",
       "  <tbody>\n",
       "    <tr>\n",
       "      <th>1</th>\n",
       "      <td>NaN</td>\n",
       "      <td>NaN</td>\n",
       "      <td>NaN</td>\n",
       "    </tr>\n",
       "    <tr>\n",
       "      <th>2</th>\n",
       "      <td>0.541785</td>\n",
       "      <td>-7.091786</td>\n",
       "      <td>-0.142494</td>\n",
       "    </tr>\n",
       "    <tr>\n",
       "      <th>3</th>\n",
       "      <td>-1.245018</td>\n",
       "      <td>-2.259640</td>\n",
       "      <td>-2.101497</td>\n",
       "    </tr>\n",
       "    <tr>\n",
       "      <th>4</th>\n",
       "      <td>7.098777</td>\n",
       "      <td>-0.721291</td>\n",
       "      <td>-2.118559</td>\n",
       "    </tr>\n",
       "    <tr>\n",
       "      <th>5</th>\n",
       "      <td>-1.775365</td>\n",
       "      <td>-2.308049</td>\n",
       "      <td>-1.578494</td>\n",
       "    </tr>\n",
       "  </tbody>\n",
       "</table>\n",
       "</div>"
      ],
      "text/plain": [
       "          a         b         c\n",
       "1       NaN       NaN       NaN\n",
       "2  0.541785 -7.091786 -0.142494\n",
       "3 -1.245018 -2.259640 -2.101497\n",
       "4  7.098777 -0.721291 -2.118559\n",
       "5 -1.775365 -2.308049 -1.578494"
      ]
     },
     "execution_count": 325,
     "metadata": {},
     "output_type": "execute_result"
    }
   ],
   "source": [
    "d.pct_change(axis=0)"
   ]
  },
  {
   "cell_type": "code",
   "execution_count": 326,
   "metadata": {},
   "outputs": [],
   "source": [
    "a=pd.Series(np.random.rand(6))\n",
    "b=pd.Series(np.random.rand(6))"
   ]
  },
  {
   "cell_type": "code",
   "execution_count": 327,
   "metadata": {},
   "outputs": [
    {
     "data": {
      "text/plain": [
       "0.004547247081541263"
      ]
     },
     "execution_count": 327,
     "metadata": {},
     "output_type": "execute_result"
    }
   ],
   "source": [
    "a.cov(b)"
   ]
  },
  {
   "cell_type": "code",
   "execution_count": 328,
   "metadata": {},
   "outputs": [
    {
     "data": {
      "text/plain": [
       "0.004547247081541263"
      ]
     },
     "execution_count": 328,
     "metadata": {},
     "output_type": "execute_result"
    }
   ],
   "source": [
    "b.cov(a)"
   ]
  },
  {
   "cell_type": "code",
   "execution_count": 329,
   "metadata": {},
   "outputs": [
    {
     "data": {
      "text/plain": [
       "0    0.726975\n",
       "1    0.626203\n",
       "2    0.411970\n",
       "3    0.379720\n",
       "4    0.581938\n",
       "5    0.336938\n",
       "dtype: float64"
      ]
     },
     "execution_count": 329,
     "metadata": {},
     "output_type": "execute_result"
    }
   ],
   "source": [
    "a"
   ]
  },
  {
   "cell_type": "code",
   "execution_count": 330,
   "metadata": {},
   "outputs": [
    {
     "data": {
      "text/plain": [
       "0.19116084808498177"
      ]
     },
     "execution_count": 330,
     "metadata": {},
     "output_type": "execute_result"
    }
   ],
   "source": [
    "d['a'].cov(d['b'])"
   ]
  },
  {
   "cell_type": "code",
   "execution_count": 331,
   "metadata": {},
   "outputs": [
    {
     "data": {
      "text/html": [
       "<div>\n",
       "<style scoped>\n",
       "    .dataframe tbody tr th:only-of-type {\n",
       "        vertical-align: middle;\n",
       "    }\n",
       "\n",
       "    .dataframe tbody tr th {\n",
       "        vertical-align: top;\n",
       "    }\n",
       "\n",
       "    .dataframe thead th {\n",
       "        text-align: right;\n",
       "    }\n",
       "</style>\n",
       "<table border=\"1\" class=\"dataframe\">\n",
       "  <thead>\n",
       "    <tr style=\"text-align: right;\">\n",
       "      <th></th>\n",
       "      <th>a</th>\n",
       "      <th>b</th>\n",
       "      <th>c</th>\n",
       "    </tr>\n",
       "  </thead>\n",
       "  <tbody>\n",
       "    <tr>\n",
       "      <th>a</th>\n",
       "      <td>1.042314</td>\n",
       "      <td>0.191161</td>\n",
       "      <td>0.227542</td>\n",
       "    </tr>\n",
       "    <tr>\n",
       "      <th>b</th>\n",
       "      <td>0.191161</td>\n",
       "      <td>0.109804</td>\n",
       "      <td>-0.100518</td>\n",
       "    </tr>\n",
       "    <tr>\n",
       "      <th>c</th>\n",
       "      <td>0.227542</td>\n",
       "      <td>-0.100518</td>\n",
       "      <td>0.581953</td>\n",
       "    </tr>\n",
       "  </tbody>\n",
       "</table>\n",
       "</div>"
      ],
      "text/plain": [
       "          a         b         c\n",
       "a  1.042314  0.191161  0.227542\n",
       "b  0.191161  0.109804 -0.100518\n",
       "c  0.227542 -0.100518  0.581953"
      ]
     },
     "execution_count": 331,
     "metadata": {},
     "output_type": "execute_result"
    }
   ],
   "source": [
    "d.cov()"
   ]
  },
  {
   "cell_type": "code",
   "execution_count": 332,
   "metadata": {},
   "outputs": [
    {
     "data": {
      "text/plain": [
       "-0.3976411369602658"
      ]
     },
     "execution_count": 332,
     "metadata": {},
     "output_type": "execute_result"
    }
   ],
   "source": [
    "d['b'].corr(d['c'])"
   ]
  },
  {
   "cell_type": "code",
   "execution_count": 333,
   "metadata": {},
   "outputs": [
    {
     "data": {
      "text/html": [
       "<div>\n",
       "<style scoped>\n",
       "    .dataframe tbody tr th:only-of-type {\n",
       "        vertical-align: middle;\n",
       "    }\n",
       "\n",
       "    .dataframe tbody tr th {\n",
       "        vertical-align: top;\n",
       "    }\n",
       "\n",
       "    .dataframe thead th {\n",
       "        text-align: right;\n",
       "    }\n",
       "</style>\n",
       "<table border=\"1\" class=\"dataframe\">\n",
       "  <thead>\n",
       "    <tr style=\"text-align: right;\">\n",
       "      <th></th>\n",
       "      <th>a</th>\n",
       "      <th>b</th>\n",
       "      <th>c</th>\n",
       "    </tr>\n",
       "  </thead>\n",
       "  <tbody>\n",
       "    <tr>\n",
       "      <th>a</th>\n",
       "      <td>1.000000</td>\n",
       "      <td>0.565056</td>\n",
       "      <td>0.292158</td>\n",
       "    </tr>\n",
       "    <tr>\n",
       "      <th>b</th>\n",
       "      <td>0.565056</td>\n",
       "      <td>1.000000</td>\n",
       "      <td>-0.397641</td>\n",
       "    </tr>\n",
       "    <tr>\n",
       "      <th>c</th>\n",
       "      <td>0.292158</td>\n",
       "      <td>-0.397641</td>\n",
       "      <td>1.000000</td>\n",
       "    </tr>\n",
       "  </tbody>\n",
       "</table>\n",
       "</div>"
      ],
      "text/plain": [
       "          a         b         c\n",
       "a  1.000000  0.565056  0.292158\n",
       "b  0.565056  1.000000 -0.397641\n",
       "c  0.292158 -0.397641  1.000000"
      ]
     },
     "execution_count": 333,
     "metadata": {},
     "output_type": "execute_result"
    }
   ],
   "source": [
    "d.corr()"
   ]
  },
  {
   "cell_type": "code",
   "execution_count": 334,
   "metadata": {},
   "outputs": [
    {
     "data": {
      "text/html": [
       "<div>\n",
       "<style scoped>\n",
       "    .dataframe tbody tr th:only-of-type {\n",
       "        vertical-align: middle;\n",
       "    }\n",
       "\n",
       "    .dataframe tbody tr th {\n",
       "        vertical-align: top;\n",
       "    }\n",
       "\n",
       "    .dataframe thead th {\n",
       "        text-align: right;\n",
       "    }\n",
       "</style>\n",
       "<table border=\"1\" class=\"dataframe\">\n",
       "  <thead>\n",
       "    <tr style=\"text-align: right;\">\n",
       "      <th></th>\n",
       "      <th>a</th>\n",
       "      <th>b</th>\n",
       "      <th>c</th>\n",
       "    </tr>\n",
       "  </thead>\n",
       "  <tbody>\n",
       "    <tr>\n",
       "      <th>1</th>\n",
       "      <td>3.0</td>\n",
       "      <td>3.0</td>\n",
       "      <td>4.0</td>\n",
       "    </tr>\n",
       "    <tr>\n",
       "      <th>2</th>\n",
       "      <td>2.0</td>\n",
       "      <td>1.0</td>\n",
       "      <td>3.0</td>\n",
       "    </tr>\n",
       "    <tr>\n",
       "      <th>3</th>\n",
       "      <td>4.0</td>\n",
       "      <td>5.0</td>\n",
       "      <td>1.0</td>\n",
       "    </tr>\n",
       "    <tr>\n",
       "      <th>4</th>\n",
       "      <td>5.0</td>\n",
       "      <td>4.0</td>\n",
       "      <td>5.0</td>\n",
       "    </tr>\n",
       "    <tr>\n",
       "      <th>5</th>\n",
       "      <td>1.0</td>\n",
       "      <td>2.0</td>\n",
       "      <td>2.0</td>\n",
       "    </tr>\n",
       "  </tbody>\n",
       "</table>\n",
       "</div>"
      ],
      "text/plain": [
       "     a    b    c\n",
       "1  3.0  3.0  4.0\n",
       "2  2.0  1.0  3.0\n",
       "3  4.0  5.0  1.0\n",
       "4  5.0  4.0  5.0\n",
       "5  1.0  2.0  2.0"
      ]
     },
     "execution_count": 334,
     "metadata": {},
     "output_type": "execute_result"
    }
   ],
   "source": [
    "d.rank()"
   ]
  },
  {
   "cell_type": "code",
   "execution_count": 339,
   "metadata": {},
   "outputs": [],
   "source": [
    "d=pd.DataFrame(np.random.randn(20,6),index=pd.date_range('2018/04/01',periods=20),columns=['A','B','C','D','E','F'])"
   ]
  },
  {
   "cell_type": "code",
   "execution_count": 340,
   "metadata": {},
   "outputs": [
    {
     "data": {
      "text/html": [
       "<div>\n",
       "<style scoped>\n",
       "    .dataframe tbody tr th:only-of-type {\n",
       "        vertical-align: middle;\n",
       "    }\n",
       "\n",
       "    .dataframe tbody tr th {\n",
       "        vertical-align: top;\n",
       "    }\n",
       "\n",
       "    .dataframe thead th {\n",
       "        text-align: right;\n",
       "    }\n",
       "</style>\n",
       "<table border=\"1\" class=\"dataframe\">\n",
       "  <thead>\n",
       "    <tr style=\"text-align: right;\">\n",
       "      <th></th>\n",
       "      <th>A</th>\n",
       "      <th>B</th>\n",
       "      <th>C</th>\n",
       "      <th>D</th>\n",
       "      <th>E</th>\n",
       "      <th>F</th>\n",
       "    </tr>\n",
       "  </thead>\n",
       "  <tbody>\n",
       "    <tr>\n",
       "      <th>2018-04-01</th>\n",
       "      <td>-0.250431</td>\n",
       "      <td>-0.437898</td>\n",
       "      <td>-0.466929</td>\n",
       "      <td>-0.894698</td>\n",
       "      <td>-0.905237</td>\n",
       "      <td>-0.158722</td>\n",
       "    </tr>\n",
       "    <tr>\n",
       "      <th>2018-04-02</th>\n",
       "      <td>-0.585970</td>\n",
       "      <td>-0.733302</td>\n",
       "      <td>-0.775928</td>\n",
       "      <td>-0.284618</td>\n",
       "      <td>1.798261</td>\n",
       "      <td>-0.196354</td>\n",
       "    </tr>\n",
       "    <tr>\n",
       "      <th>2018-04-03</th>\n",
       "      <td>-0.231471</td>\n",
       "      <td>0.369055</td>\n",
       "      <td>0.419250</td>\n",
       "      <td>1.028719</td>\n",
       "      <td>0.296657</td>\n",
       "      <td>1.207389</td>\n",
       "    </tr>\n",
       "    <tr>\n",
       "      <th>2018-04-04</th>\n",
       "      <td>0.217692</td>\n",
       "      <td>-0.644868</td>\n",
       "      <td>-1.142133</td>\n",
       "      <td>1.975787</td>\n",
       "      <td>0.268666</td>\n",
       "      <td>-1.833142</td>\n",
       "    </tr>\n",
       "    <tr>\n",
       "      <th>2018-04-05</th>\n",
       "      <td>-1.403917</td>\n",
       "      <td>0.598356</td>\n",
       "      <td>-0.327496</td>\n",
       "      <td>1.641673</td>\n",
       "      <td>0.550239</td>\n",
       "      <td>0.315293</td>\n",
       "    </tr>\n",
       "    <tr>\n",
       "      <th>2018-04-06</th>\n",
       "      <td>-0.733794</td>\n",
       "      <td>0.890206</td>\n",
       "      <td>-1.808127</td>\n",
       "      <td>-2.238875</td>\n",
       "      <td>1.952433</td>\n",
       "      <td>-0.214003</td>\n",
       "    </tr>\n",
       "    <tr>\n",
       "      <th>2018-04-07</th>\n",
       "      <td>0.617510</td>\n",
       "      <td>1.179386</td>\n",
       "      <td>-0.375042</td>\n",
       "      <td>1.150995</td>\n",
       "      <td>1.724878</td>\n",
       "      <td>-1.868188</td>\n",
       "    </tr>\n",
       "    <tr>\n",
       "      <th>2018-04-08</th>\n",
       "      <td>0.320852</td>\n",
       "      <td>0.072134</td>\n",
       "      <td>1.422754</td>\n",
       "      <td>-0.408069</td>\n",
       "      <td>-0.178220</td>\n",
       "      <td>-0.094597</td>\n",
       "    </tr>\n",
       "    <tr>\n",
       "      <th>2018-04-09</th>\n",
       "      <td>-0.158301</td>\n",
       "      <td>0.284345</td>\n",
       "      <td>0.370160</td>\n",
       "      <td>-1.193879</td>\n",
       "      <td>-0.855298</td>\n",
       "      <td>0.344656</td>\n",
       "    </tr>\n",
       "    <tr>\n",
       "      <th>2018-04-10</th>\n",
       "      <td>-1.783167</td>\n",
       "      <td>0.734704</td>\n",
       "      <td>1.286016</td>\n",
       "      <td>0.804929</td>\n",
       "      <td>0.445831</td>\n",
       "      <td>-0.092903</td>\n",
       "    </tr>\n",
       "    <tr>\n",
       "      <th>2018-04-11</th>\n",
       "      <td>1.135865</td>\n",
       "      <td>-0.116126</td>\n",
       "      <td>-0.014042</td>\n",
       "      <td>-0.578702</td>\n",
       "      <td>-1.036283</td>\n",
       "      <td>-0.673199</td>\n",
       "    </tr>\n",
       "    <tr>\n",
       "      <th>2018-04-12</th>\n",
       "      <td>0.536232</td>\n",
       "      <td>-0.883459</td>\n",
       "      <td>0.973664</td>\n",
       "      <td>-0.569676</td>\n",
       "      <td>-0.578096</td>\n",
       "      <td>1.740443</td>\n",
       "    </tr>\n",
       "    <tr>\n",
       "      <th>2018-04-13</th>\n",
       "      <td>2.043635</td>\n",
       "      <td>-1.944659</td>\n",
       "      <td>-1.199245</td>\n",
       "      <td>-0.107752</td>\n",
       "      <td>-0.408047</td>\n",
       "      <td>-1.333240</td>\n",
       "    </tr>\n",
       "    <tr>\n",
       "      <th>2018-04-14</th>\n",
       "      <td>1.466298</td>\n",
       "      <td>-0.289835</td>\n",
       "      <td>-0.631252</td>\n",
       "      <td>-0.585588</td>\n",
       "      <td>0.357430</td>\n",
       "      <td>-1.377481</td>\n",
       "    </tr>\n",
       "    <tr>\n",
       "      <th>2018-04-15</th>\n",
       "      <td>-0.220833</td>\n",
       "      <td>0.538276</td>\n",
       "      <td>-0.893452</td>\n",
       "      <td>0.051580</td>\n",
       "      <td>-0.045429</td>\n",
       "      <td>-0.074019</td>\n",
       "    </tr>\n",
       "    <tr>\n",
       "      <th>2018-04-16</th>\n",
       "      <td>1.921479</td>\n",
       "      <td>0.977106</td>\n",
       "      <td>-0.156535</td>\n",
       "      <td>-0.752708</td>\n",
       "      <td>-0.464091</td>\n",
       "      <td>-1.274547</td>\n",
       "    </tr>\n",
       "    <tr>\n",
       "      <th>2018-04-17</th>\n",
       "      <td>-0.191298</td>\n",
       "      <td>3.291652</td>\n",
       "      <td>0.571289</td>\n",
       "      <td>-0.045755</td>\n",
       "      <td>1.107247</td>\n",
       "      <td>0.009688</td>\n",
       "    </tr>\n",
       "    <tr>\n",
       "      <th>2018-04-18</th>\n",
       "      <td>-1.303172</td>\n",
       "      <td>-0.380112</td>\n",
       "      <td>-0.330332</td>\n",
       "      <td>1.300287</td>\n",
       "      <td>1.580933</td>\n",
       "      <td>1.480029</td>\n",
       "    </tr>\n",
       "    <tr>\n",
       "      <th>2018-04-19</th>\n",
       "      <td>-1.884678</td>\n",
       "      <td>-0.613246</td>\n",
       "      <td>1.309966</td>\n",
       "      <td>1.015821</td>\n",
       "      <td>0.576520</td>\n",
       "      <td>0.813349</td>\n",
       "    </tr>\n",
       "    <tr>\n",
       "      <th>2018-04-20</th>\n",
       "      <td>0.070797</td>\n",
       "      <td>1.954825</td>\n",
       "      <td>-0.019665</td>\n",
       "      <td>-0.372755</td>\n",
       "      <td>-0.031251</td>\n",
       "      <td>-1.736652</td>\n",
       "    </tr>\n",
       "  </tbody>\n",
       "</table>\n",
       "</div>"
      ],
      "text/plain": [
       "                   A         B         C         D         E         F\n",
       "2018-04-01 -0.250431 -0.437898 -0.466929 -0.894698 -0.905237 -0.158722\n",
       "2018-04-02 -0.585970 -0.733302 -0.775928 -0.284618  1.798261 -0.196354\n",
       "2018-04-03 -0.231471  0.369055  0.419250  1.028719  0.296657  1.207389\n",
       "2018-04-04  0.217692 -0.644868 -1.142133  1.975787  0.268666 -1.833142\n",
       "2018-04-05 -1.403917  0.598356 -0.327496  1.641673  0.550239  0.315293\n",
       "2018-04-06 -0.733794  0.890206 -1.808127 -2.238875  1.952433 -0.214003\n",
       "2018-04-07  0.617510  1.179386 -0.375042  1.150995  1.724878 -1.868188\n",
       "2018-04-08  0.320852  0.072134  1.422754 -0.408069 -0.178220 -0.094597\n",
       "2018-04-09 -0.158301  0.284345  0.370160 -1.193879 -0.855298  0.344656\n",
       "2018-04-10 -1.783167  0.734704  1.286016  0.804929  0.445831 -0.092903\n",
       "2018-04-11  1.135865 -0.116126 -0.014042 -0.578702 -1.036283 -0.673199\n",
       "2018-04-12  0.536232 -0.883459  0.973664 -0.569676 -0.578096  1.740443\n",
       "2018-04-13  2.043635 -1.944659 -1.199245 -0.107752 -0.408047 -1.333240\n",
       "2018-04-14  1.466298 -0.289835 -0.631252 -0.585588  0.357430 -1.377481\n",
       "2018-04-15 -0.220833  0.538276 -0.893452  0.051580 -0.045429 -0.074019\n",
       "2018-04-16  1.921479  0.977106 -0.156535 -0.752708 -0.464091 -1.274547\n",
       "2018-04-17 -0.191298  3.291652  0.571289 -0.045755  1.107247  0.009688\n",
       "2018-04-18 -1.303172 -0.380112 -0.330332  1.300287  1.580933  1.480029\n",
       "2018-04-19 -1.884678 -0.613246  1.309966  1.015821  0.576520  0.813349\n",
       "2018-04-20  0.070797  1.954825 -0.019665 -0.372755 -0.031251 -1.736652"
      ]
     },
     "execution_count": 340,
     "metadata": {},
     "output_type": "execute_result"
    }
   ],
   "source": [
    "d"
   ]
  },
  {
   "cell_type": "code",
   "execution_count": 625,
   "metadata": {},
   "outputs": [
    {
     "data": {
      "text/html": [
       "<div>\n",
       "<style scoped>\n",
       "    .dataframe tbody tr th:only-of-type {\n",
       "        vertical-align: middle;\n",
       "    }\n",
       "\n",
       "    .dataframe tbody tr th {\n",
       "        vertical-align: top;\n",
       "    }\n",
       "\n",
       "    .dataframe thead th {\n",
       "        text-align: right;\n",
       "    }\n",
       "</style>\n",
       "<table border=\"1\" class=\"dataframe\">\n",
       "  <thead>\n",
       "    <tr style=\"text-align: right;\">\n",
       "      <th></th>\n",
       "      <th>A</th>\n",
       "      <th>B</th>\n",
       "      <th>C</th>\n",
       "      <th>D</th>\n",
       "      <th>E</th>\n",
       "      <th>F</th>\n",
       "    </tr>\n",
       "  </thead>\n",
       "  <tbody>\n",
       "    <tr>\n",
       "      <th>2018-04-01</th>\n",
       "      <td>-0.658195</td>\n",
       "      <td>-1.167079</td>\n",
       "      <td>0.230869</td>\n",
       "      <td>0.590635</td>\n",
       "      <td>1.633442</td>\n",
       "      <td>-0.711633</td>\n",
       "    </tr>\n",
       "    <tr>\n",
       "      <th>2018-04-02</th>\n",
       "      <td>-0.257525</td>\n",
       "      <td>0.970717</td>\n",
       "      <td>0.774917</td>\n",
       "      <td>1.078246</td>\n",
       "      <td>-1.790113</td>\n",
       "      <td>-1.776447</td>\n",
       "    </tr>\n",
       "    <tr>\n",
       "      <th>2018-04-03</th>\n",
       "      <td>2.078044</td>\n",
       "      <td>0.882944</td>\n",
       "      <td>-0.302131</td>\n",
       "      <td>-0.626076</td>\n",
       "      <td>0.922756</td>\n",
       "      <td>-1.114614</td>\n",
       "    </tr>\n",
       "    <tr>\n",
       "      <th>2018-04-04</th>\n",
       "      <td>0.061434</td>\n",
       "      <td>0.528306</td>\n",
       "      <td>-0.783404</td>\n",
       "      <td>0.469750</td>\n",
       "      <td>-0.621222</td>\n",
       "      <td>-0.312037</td>\n",
       "    </tr>\n",
       "    <tr>\n",
       "      <th>2018-04-05</th>\n",
       "      <td>-1.801873</td>\n",
       "      <td>-0.722625</td>\n",
       "      <td>-2.053292</td>\n",
       "      <td>-0.420315</td>\n",
       "      <td>-1.726424</td>\n",
       "      <td>0.827176</td>\n",
       "    </tr>\n",
       "    <tr>\n",
       "      <th>2018-04-06</th>\n",
       "      <td>1.727787</td>\n",
       "      <td>-0.017166</td>\n",
       "      <td>-0.879693</td>\n",
       "      <td>-0.134783</td>\n",
       "      <td>-0.152200</td>\n",
       "      <td>1.234671</td>\n",
       "    </tr>\n",
       "    <tr>\n",
       "      <th>2018-04-07</th>\n",
       "      <td>0.335384</td>\n",
       "      <td>-0.951193</td>\n",
       "      <td>-1.968465</td>\n",
       "      <td>-1.126251</td>\n",
       "      <td>0.012569</td>\n",
       "      <td>0.586530</td>\n",
       "    </tr>\n",
       "    <tr>\n",
       "      <th>2018-04-08</th>\n",
       "      <td>-1.300530</td>\n",
       "      <td>0.818101</td>\n",
       "      <td>-1.401865</td>\n",
       "      <td>0.339527</td>\n",
       "      <td>-0.840873</td>\n",
       "      <td>0.004293</td>\n",
       "    </tr>\n",
       "    <tr>\n",
       "      <th>2018-04-09</th>\n",
       "      <td>-0.956676</td>\n",
       "      <td>-0.655826</td>\n",
       "      <td>1.022977</td>\n",
       "      <td>-0.178058</td>\n",
       "      <td>0.613274</td>\n",
       "      <td>0.887540</td>\n",
       "    </tr>\n",
       "    <tr>\n",
       "      <th>2018-04-10</th>\n",
       "      <td>-1.664604</td>\n",
       "      <td>1.106483</td>\n",
       "      <td>-0.356553</td>\n",
       "      <td>1.576684</td>\n",
       "      <td>-0.872719</td>\n",
       "      <td>-2.539185</td>\n",
       "    </tr>\n",
       "    <tr>\n",
       "      <th>2018-04-11</th>\n",
       "      <td>1.629993</td>\n",
       "      <td>0.642743</td>\n",
       "      <td>0.536245</td>\n",
       "      <td>-1.235114</td>\n",
       "      <td>-0.132497</td>\n",
       "      <td>-0.956956</td>\n",
       "    </tr>\n",
       "    <tr>\n",
       "      <th>2018-04-12</th>\n",
       "      <td>-0.357173</td>\n",
       "      <td>-0.135213</td>\n",
       "      <td>-0.686775</td>\n",
       "      <td>0.815178</td>\n",
       "      <td>0.865142</td>\n",
       "      <td>0.265222</td>\n",
       "    </tr>\n",
       "    <tr>\n",
       "      <th>2018-04-13</th>\n",
       "      <td>0.339511</td>\n",
       "      <td>-0.620872</td>\n",
       "      <td>0.578739</td>\n",
       "      <td>0.831995</td>\n",
       "      <td>-1.169769</td>\n",
       "      <td>0.212998</td>\n",
       "    </tr>\n",
       "    <tr>\n",
       "      <th>2018-04-14</th>\n",
       "      <td>1.369282</td>\n",
       "      <td>0.782639</td>\n",
       "      <td>-0.316878</td>\n",
       "      <td>0.397391</td>\n",
       "      <td>0.610480</td>\n",
       "      <td>-0.227891</td>\n",
       "    </tr>\n",
       "    <tr>\n",
       "      <th>2018-04-15</th>\n",
       "      <td>-2.093752</td>\n",
       "      <td>-0.351699</td>\n",
       "      <td>0.857844</td>\n",
       "      <td>1.129827</td>\n",
       "      <td>-0.553030</td>\n",
       "      <td>-0.017427</td>\n",
       "    </tr>\n",
       "    <tr>\n",
       "      <th>2018-04-16</th>\n",
       "      <td>0.273395</td>\n",
       "      <td>-0.942020</td>\n",
       "      <td>-0.465189</td>\n",
       "      <td>-0.370014</td>\n",
       "      <td>-0.311630</td>\n",
       "      <td>0.896892</td>\n",
       "    </tr>\n",
       "    <tr>\n",
       "      <th>2018-04-17</th>\n",
       "      <td>2.718287</td>\n",
       "      <td>0.107518</td>\n",
       "      <td>1.398729</td>\n",
       "      <td>-0.531804</td>\n",
       "      <td>0.595243</td>\n",
       "      <td>-0.818712</td>\n",
       "    </tr>\n",
       "    <tr>\n",
       "      <th>2018-04-18</th>\n",
       "      <td>0.533812</td>\n",
       "      <td>2.087471</td>\n",
       "      <td>-0.709120</td>\n",
       "      <td>-1.362284</td>\n",
       "      <td>0.647771</td>\n",
       "      <td>0.148930</td>\n",
       "    </tr>\n",
       "    <tr>\n",
       "      <th>2018-04-19</th>\n",
       "      <td>-0.486348</td>\n",
       "      <td>1.494183</td>\n",
       "      <td>0.057191</td>\n",
       "      <td>1.080104</td>\n",
       "      <td>0.352539</td>\n",
       "      <td>0.402108</td>\n",
       "    </tr>\n",
       "    <tr>\n",
       "      <th>2018-04-20</th>\n",
       "      <td>0.914889</td>\n",
       "      <td>-0.935866</td>\n",
       "      <td>0.403983</td>\n",
       "      <td>-1.430373</td>\n",
       "      <td>-0.245982</td>\n",
       "      <td>-0.952339</td>\n",
       "    </tr>\n",
       "  </tbody>\n",
       "</table>\n",
       "</div>"
      ],
      "text/plain": [
       "                   A         B         C         D         E         F\n",
       "2018-04-01 -0.658195 -1.167079  0.230869  0.590635  1.633442 -0.711633\n",
       "2018-04-02 -0.257525  0.970717  0.774917  1.078246 -1.790113 -1.776447\n",
       "2018-04-03  2.078044  0.882944 -0.302131 -0.626076  0.922756 -1.114614\n",
       "2018-04-04  0.061434  0.528306 -0.783404  0.469750 -0.621222 -0.312037\n",
       "2018-04-05 -1.801873 -0.722625 -2.053292 -0.420315 -1.726424  0.827176\n",
       "2018-04-06  1.727787 -0.017166 -0.879693 -0.134783 -0.152200  1.234671\n",
       "2018-04-07  0.335384 -0.951193 -1.968465 -1.126251  0.012569  0.586530\n",
       "2018-04-08 -1.300530  0.818101 -1.401865  0.339527 -0.840873  0.004293\n",
       "2018-04-09 -0.956676 -0.655826  1.022977 -0.178058  0.613274  0.887540\n",
       "2018-04-10 -1.664604  1.106483 -0.356553  1.576684 -0.872719 -2.539185\n",
       "2018-04-11  1.629993  0.642743  0.536245 -1.235114 -0.132497 -0.956956\n",
       "2018-04-12 -0.357173 -0.135213 -0.686775  0.815178  0.865142  0.265222\n",
       "2018-04-13  0.339511 -0.620872  0.578739  0.831995 -1.169769  0.212998\n",
       "2018-04-14  1.369282  0.782639 -0.316878  0.397391  0.610480 -0.227891\n",
       "2018-04-15 -2.093752 -0.351699  0.857844  1.129827 -0.553030 -0.017427\n",
       "2018-04-16  0.273395 -0.942020 -0.465189 -0.370014 -0.311630  0.896892\n",
       "2018-04-17  2.718287  0.107518  1.398729 -0.531804  0.595243 -0.818712\n",
       "2018-04-18  0.533812  2.087471 -0.709120 -1.362284  0.647771  0.148930\n",
       "2018-04-19 -0.486348  1.494183  0.057191  1.080104  0.352539  0.402108\n",
       "2018-04-20  0.914889 -0.935866  0.403983 -1.430373 -0.245982 -0.952339"
      ]
     },
     "execution_count": 625,
     "metadata": {},
     "output_type": "execute_result"
    }
   ],
   "source": [
    "d.rolling(window=1).mean()"
   ]
  },
  {
   "cell_type": "code",
   "execution_count": 626,
   "metadata": {},
   "outputs": [
    {
     "data": {
      "text/html": [
       "<div>\n",
       "<style scoped>\n",
       "    .dataframe tbody tr th:only-of-type {\n",
       "        vertical-align: middle;\n",
       "    }\n",
       "\n",
       "    .dataframe tbody tr th {\n",
       "        vertical-align: top;\n",
       "    }\n",
       "\n",
       "    .dataframe thead th {\n",
       "        text-align: right;\n",
       "    }\n",
       "</style>\n",
       "<table border=\"1\" class=\"dataframe\">\n",
       "  <thead>\n",
       "    <tr style=\"text-align: right;\">\n",
       "      <th></th>\n",
       "      <th>A</th>\n",
       "      <th>B</th>\n",
       "      <th>C</th>\n",
       "      <th>D</th>\n",
       "      <th>E</th>\n",
       "      <th>F</th>\n",
       "    </tr>\n",
       "  </thead>\n",
       "  <tbody>\n",
       "    <tr>\n",
       "      <th>2018-04-01</th>\n",
       "      <td>NaN</td>\n",
       "      <td>NaN</td>\n",
       "      <td>NaN</td>\n",
       "      <td>NaN</td>\n",
       "      <td>NaN</td>\n",
       "      <td>NaN</td>\n",
       "    </tr>\n",
       "    <tr>\n",
       "      <th>2018-04-02</th>\n",
       "      <td>-0.457860</td>\n",
       "      <td>-0.098181</td>\n",
       "      <td>0.502893</td>\n",
       "      <td>0.834441</td>\n",
       "      <td>-0.078336</td>\n",
       "      <td>-1.244040</td>\n",
       "    </tr>\n",
       "    <tr>\n",
       "      <th>2018-04-03</th>\n",
       "      <td>0.387441</td>\n",
       "      <td>0.228861</td>\n",
       "      <td>0.234552</td>\n",
       "      <td>0.347602</td>\n",
       "      <td>0.255361</td>\n",
       "      <td>-1.200898</td>\n",
       "    </tr>\n",
       "    <tr>\n",
       "      <th>2018-04-04</th>\n",
       "      <td>0.305940</td>\n",
       "      <td>0.303722</td>\n",
       "      <td>-0.019937</td>\n",
       "      <td>0.378139</td>\n",
       "      <td>0.036215</td>\n",
       "      <td>-0.978683</td>\n",
       "    </tr>\n",
       "    <tr>\n",
       "      <th>2018-04-05</th>\n",
       "      <td>-0.115623</td>\n",
       "      <td>0.098453</td>\n",
       "      <td>-0.426608</td>\n",
       "      <td>0.218448</td>\n",
       "      <td>-0.316312</td>\n",
       "      <td>-0.617511</td>\n",
       "    </tr>\n",
       "    <tr>\n",
       "      <th>2018-04-06</th>\n",
       "      <td>0.191612</td>\n",
       "      <td>0.079183</td>\n",
       "      <td>-0.502122</td>\n",
       "      <td>0.159576</td>\n",
       "      <td>-0.288960</td>\n",
       "      <td>-0.308814</td>\n",
       "    </tr>\n",
       "    <tr>\n",
       "      <th>2018-04-07</th>\n",
       "      <td>0.212151</td>\n",
       "      <td>-0.068014</td>\n",
       "      <td>-0.711600</td>\n",
       "      <td>-0.024113</td>\n",
       "      <td>-0.245885</td>\n",
       "      <td>-0.180908</td>\n",
       "    </tr>\n",
       "    <tr>\n",
       "      <th>2018-04-08</th>\n",
       "      <td>0.023066</td>\n",
       "      <td>0.042751</td>\n",
       "      <td>-0.797883</td>\n",
       "      <td>0.021342</td>\n",
       "      <td>-0.320258</td>\n",
       "      <td>-0.157758</td>\n",
       "    </tr>\n",
       "    <tr>\n",
       "      <th>2018-04-09</th>\n",
       "      <td>-0.085794</td>\n",
       "      <td>-0.034869</td>\n",
       "      <td>-0.595565</td>\n",
       "      <td>-0.000814</td>\n",
       "      <td>-0.216532</td>\n",
       "      <td>-0.041614</td>\n",
       "    </tr>\n",
       "    <tr>\n",
       "      <th>2018-04-10</th>\n",
       "      <td>-0.243675</td>\n",
       "      <td>0.079266</td>\n",
       "      <td>-0.571664</td>\n",
       "      <td>0.156936</td>\n",
       "      <td>-0.282151</td>\n",
       "      <td>-0.291371</td>\n",
       "    </tr>\n",
       "    <tr>\n",
       "      <th>2018-04-11</th>\n",
       "      <td>-0.073342</td>\n",
       "      <td>0.130491</td>\n",
       "      <td>-0.470945</td>\n",
       "      <td>0.030386</td>\n",
       "      <td>-0.268546</td>\n",
       "      <td>-0.351878</td>\n",
       "    </tr>\n",
       "    <tr>\n",
       "      <th>2018-04-12</th>\n",
       "      <td>-0.096994</td>\n",
       "      <td>0.108349</td>\n",
       "      <td>-0.488931</td>\n",
       "      <td>0.095785</td>\n",
       "      <td>-0.174072</td>\n",
       "      <td>-0.300453</td>\n",
       "    </tr>\n",
       "    <tr>\n",
       "      <th>2018-04-13</th>\n",
       "      <td>-0.063417</td>\n",
       "      <td>0.052255</td>\n",
       "      <td>-0.406802</td>\n",
       "      <td>0.152417</td>\n",
       "      <td>-0.250664</td>\n",
       "      <td>-0.260957</td>\n",
       "    </tr>\n",
       "    <tr>\n",
       "      <th>2018-04-14</th>\n",
       "      <td>0.038919</td>\n",
       "      <td>0.104426</td>\n",
       "      <td>-0.400379</td>\n",
       "      <td>0.169915</td>\n",
       "      <td>-0.189154</td>\n",
       "      <td>-0.258595</td>\n",
       "    </tr>\n",
       "    <tr>\n",
       "      <th>2018-04-15</th>\n",
       "      <td>-0.103259</td>\n",
       "      <td>0.074017</td>\n",
       "      <td>-0.316498</td>\n",
       "      <td>0.233909</td>\n",
       "      <td>-0.213412</td>\n",
       "      <td>-0.242517</td>\n",
       "    </tr>\n",
       "    <tr>\n",
       "      <th>2018-04-16</th>\n",
       "      <td>-0.079719</td>\n",
       "      <td>0.010515</td>\n",
       "      <td>-0.325791</td>\n",
       "      <td>0.196164</td>\n",
       "      <td>-0.219551</td>\n",
       "      <td>-0.171304</td>\n",
       "    </tr>\n",
       "    <tr>\n",
       "      <th>2018-04-17</th>\n",
       "      <td>0.084870</td>\n",
       "      <td>0.016221</td>\n",
       "      <td>-0.224349</td>\n",
       "      <td>0.153342</td>\n",
       "      <td>-0.171622</td>\n",
       "      <td>-0.209387</td>\n",
       "    </tr>\n",
       "    <tr>\n",
       "      <th>2018-04-18</th>\n",
       "      <td>0.109811</td>\n",
       "      <td>0.131290</td>\n",
       "      <td>-0.251280</td>\n",
       "      <td>0.069141</td>\n",
       "      <td>-0.126100</td>\n",
       "      <td>-0.189481</td>\n",
       "    </tr>\n",
       "    <tr>\n",
       "      <th>2018-04-19</th>\n",
       "      <td>0.078434</td>\n",
       "      <td>0.203022</td>\n",
       "      <td>-0.235045</td>\n",
       "      <td>0.122349</td>\n",
       "      <td>-0.100909</td>\n",
       "      <td>-0.158344</td>\n",
       "    </tr>\n",
       "    <tr>\n",
       "      <th>2018-04-20</th>\n",
       "      <td>0.120257</td>\n",
       "      <td>0.146077</td>\n",
       "      <td>-0.203094</td>\n",
       "      <td>0.044713</td>\n",
       "      <td>-0.108162</td>\n",
       "      <td>-0.198044</td>\n",
       "    </tr>\n",
       "  </tbody>\n",
       "</table>\n",
       "</div>"
      ],
      "text/plain": [
       "                   A         B         C         D         E         F\n",
       "2018-04-01       NaN       NaN       NaN       NaN       NaN       NaN\n",
       "2018-04-02 -0.457860 -0.098181  0.502893  0.834441 -0.078336 -1.244040\n",
       "2018-04-03  0.387441  0.228861  0.234552  0.347602  0.255361 -1.200898\n",
       "2018-04-04  0.305940  0.303722 -0.019937  0.378139  0.036215 -0.978683\n",
       "2018-04-05 -0.115623  0.098453 -0.426608  0.218448 -0.316312 -0.617511\n",
       "2018-04-06  0.191612  0.079183 -0.502122  0.159576 -0.288960 -0.308814\n",
       "2018-04-07  0.212151 -0.068014 -0.711600 -0.024113 -0.245885 -0.180908\n",
       "2018-04-08  0.023066  0.042751 -0.797883  0.021342 -0.320258 -0.157758\n",
       "2018-04-09 -0.085794 -0.034869 -0.595565 -0.000814 -0.216532 -0.041614\n",
       "2018-04-10 -0.243675  0.079266 -0.571664  0.156936 -0.282151 -0.291371\n",
       "2018-04-11 -0.073342  0.130491 -0.470945  0.030386 -0.268546 -0.351878\n",
       "2018-04-12 -0.096994  0.108349 -0.488931  0.095785 -0.174072 -0.300453\n",
       "2018-04-13 -0.063417  0.052255 -0.406802  0.152417 -0.250664 -0.260957\n",
       "2018-04-14  0.038919  0.104426 -0.400379  0.169915 -0.189154 -0.258595\n",
       "2018-04-15 -0.103259  0.074017 -0.316498  0.233909 -0.213412 -0.242517\n",
       "2018-04-16 -0.079719  0.010515 -0.325791  0.196164 -0.219551 -0.171304\n",
       "2018-04-17  0.084870  0.016221 -0.224349  0.153342 -0.171622 -0.209387\n",
       "2018-04-18  0.109811  0.131290 -0.251280  0.069141 -0.126100 -0.189481\n",
       "2018-04-19  0.078434  0.203022 -0.235045  0.122349 -0.100909 -0.158344\n",
       "2018-04-20  0.120257  0.146077 -0.203094  0.044713 -0.108162 -0.198044"
      ]
     },
     "execution_count": 626,
     "metadata": {},
     "output_type": "execute_result"
    }
   ],
   "source": [
    "d.expanding(min_periods=2).mean()"
   ]
  },
  {
   "cell_type": "markdown",
   "metadata": {},
   "source": [
    "Window functions are majorly used in finding the trends within the data graphically by smoothing the curve.\n",
    "If there is lot of variation in the everyday data and a lot of data points are available, then taking the samples and \n",
    "plotting is one method and applying the window computations and plotting the graph on the results is another method.\n",
    "By these methods,we can smooth the curve or the trend."
   ]
  },
  {
   "cell_type": "code",
   "execution_count": 628,
   "metadata": {},
   "outputs": [
    {
     "data": {
      "text/html": [
       "<div>\n",
       "<style scoped>\n",
       "    .dataframe tbody tr th:only-of-type {\n",
       "        vertical-align: middle;\n",
       "    }\n",
       "\n",
       "    .dataframe tbody tr th {\n",
       "        vertical-align: top;\n",
       "    }\n",
       "\n",
       "    .dataframe thead th {\n",
       "        text-align: right;\n",
       "    }\n",
       "</style>\n",
       "<table border=\"1\" class=\"dataframe\">\n",
       "  <thead>\n",
       "    <tr style=\"text-align: right;\">\n",
       "      <th></th>\n",
       "      <th>A</th>\n",
       "      <th>B</th>\n",
       "      <th>C</th>\n",
       "      <th>D</th>\n",
       "      <th>E</th>\n",
       "      <th>F</th>\n",
       "    </tr>\n",
       "  </thead>\n",
       "  <tbody>\n",
       "    <tr>\n",
       "      <th>2018-04-01</th>\n",
       "      <td>-0.658195</td>\n",
       "      <td>-1.167079</td>\n",
       "      <td>0.230869</td>\n",
       "      <td>0.590635</td>\n",
       "      <td>1.633442</td>\n",
       "      <td>-0.711633</td>\n",
       "    </tr>\n",
       "    <tr>\n",
       "      <th>2018-04-02</th>\n",
       "      <td>-0.357692</td>\n",
       "      <td>0.436268</td>\n",
       "      <td>0.638905</td>\n",
       "      <td>0.956344</td>\n",
       "      <td>-0.934225</td>\n",
       "      <td>-1.510244</td>\n",
       "    </tr>\n",
       "    <tr>\n",
       "      <th>2018-04-03</th>\n",
       "      <td>1.328587</td>\n",
       "      <td>0.745505</td>\n",
       "      <td>-0.012581</td>\n",
       "      <td>-0.139177</td>\n",
       "      <td>0.351377</td>\n",
       "      <td>-1.236347</td>\n",
       "    </tr>\n",
       "    <tr>\n",
       "      <th>2018-04-04</th>\n",
       "      <td>0.473259</td>\n",
       "      <td>0.598895</td>\n",
       "      <td>-0.532887</td>\n",
       "      <td>0.271849</td>\n",
       "      <td>-0.305127</td>\n",
       "      <td>-0.612438</td>\n",
       "    </tr>\n",
       "    <tr>\n",
       "      <th>2018-04-05</th>\n",
       "      <td>-1.049763</td>\n",
       "      <td>-0.285759</td>\n",
       "      <td>-1.550679</td>\n",
       "      <td>-0.191500</td>\n",
       "      <td>-1.256574</td>\n",
       "      <td>0.351271</td>\n",
       "    </tr>\n",
       "    <tr>\n",
       "      <th>2018-04-06</th>\n",
       "      <td>0.804481</td>\n",
       "      <td>-0.106451</td>\n",
       "      <td>-1.102741</td>\n",
       "      <td>-0.153637</td>\n",
       "      <td>-0.519313</td>\n",
       "      <td>0.941013</td>\n",
       "    </tr>\n",
       "    <tr>\n",
       "      <th>2018-04-07</th>\n",
       "      <td>0.491607</td>\n",
       "      <td>-0.669870</td>\n",
       "      <td>-1.680154</td>\n",
       "      <td>-0.802343</td>\n",
       "      <td>-0.164563</td>\n",
       "      <td>0.704583</td>\n",
       "    </tr>\n",
       "    <tr>\n",
       "      <th>2018-04-08</th>\n",
       "      <td>-0.703333</td>\n",
       "      <td>0.322262</td>\n",
       "      <td>-1.494600</td>\n",
       "      <td>-0.040980</td>\n",
       "      <td>-0.615505</td>\n",
       "      <td>0.237652</td>\n",
       "    </tr>\n",
       "    <tr>\n",
       "      <th>2018-04-09</th>\n",
       "      <td>-0.872237</td>\n",
       "      <td>-0.329830</td>\n",
       "      <td>0.183870</td>\n",
       "      <td>-0.132370</td>\n",
       "      <td>0.203723</td>\n",
       "      <td>0.670933</td>\n",
       "    </tr>\n",
       "    <tr>\n",
       "      <th>2018-04-10</th>\n",
       "      <td>-1.400491</td>\n",
       "      <td>0.627728</td>\n",
       "      <td>-0.176418</td>\n",
       "      <td>1.007019</td>\n",
       "      <td>-0.513917</td>\n",
       "      <td>-1.469182</td>\n",
       "    </tr>\n",
       "    <tr>\n",
       "      <th>2018-04-11</th>\n",
       "      <td>0.619843</td>\n",
       "      <td>0.637738</td>\n",
       "      <td>0.298693</td>\n",
       "      <td>-0.487745</td>\n",
       "      <td>-0.259636</td>\n",
       "      <td>-1.127696</td>\n",
       "    </tr>\n",
       "    <tr>\n",
       "      <th>2018-04-12</th>\n",
       "      <td>-0.031502</td>\n",
       "      <td>0.122436</td>\n",
       "      <td>-0.358287</td>\n",
       "      <td>0.380872</td>\n",
       "      <td>0.490218</td>\n",
       "      <td>-0.199082</td>\n",
       "    </tr>\n",
       "    <tr>\n",
       "      <th>2018-04-13</th>\n",
       "      <td>0.215840</td>\n",
       "      <td>-0.373103</td>\n",
       "      <td>0.266397</td>\n",
       "      <td>0.681621</td>\n",
       "      <td>-0.616441</td>\n",
       "      <td>0.075638</td>\n",
       "    </tr>\n",
       "    <tr>\n",
       "      <th>2018-04-14</th>\n",
       "      <td>0.984802</td>\n",
       "      <td>0.397392</td>\n",
       "      <td>-0.122453</td>\n",
       "      <td>0.492134</td>\n",
       "      <td>0.201507</td>\n",
       "      <td>-0.126715</td>\n",
       "    </tr>\n",
       "    <tr>\n",
       "      <th>2018-04-15</th>\n",
       "      <td>-1.067568</td>\n",
       "      <td>-0.102002</td>\n",
       "      <td>0.531078</td>\n",
       "      <td>0.917263</td>\n",
       "      <td>-0.301518</td>\n",
       "      <td>-0.053856</td>\n",
       "    </tr>\n",
       "    <tr>\n",
       "      <th>2018-04-16</th>\n",
       "      <td>-0.173593</td>\n",
       "      <td>-0.662014</td>\n",
       "      <td>-0.133100</td>\n",
       "      <td>0.059078</td>\n",
       "      <td>-0.308260</td>\n",
       "      <td>0.579976</td>\n",
       "    </tr>\n",
       "    <tr>\n",
       "      <th>2018-04-17</th>\n",
       "      <td>1.754327</td>\n",
       "      <td>-0.148993</td>\n",
       "      <td>0.888119</td>\n",
       "      <td>-0.334843</td>\n",
       "      <td>0.294075</td>\n",
       "      <td>-0.352482</td>\n",
       "    </tr>\n",
       "    <tr>\n",
       "      <th>2018-04-18</th>\n",
       "      <td>0.940650</td>\n",
       "      <td>1.341983</td>\n",
       "      <td>-0.176707</td>\n",
       "      <td>-1.019804</td>\n",
       "      <td>0.529873</td>\n",
       "      <td>-0.018207</td>\n",
       "    </tr>\n",
       "    <tr>\n",
       "      <th>2018-04-19</th>\n",
       "      <td>-0.010682</td>\n",
       "      <td>1.443450</td>\n",
       "      <td>-0.020775</td>\n",
       "      <td>0.380135</td>\n",
       "      <td>0.411650</td>\n",
       "      <td>0.262003</td>\n",
       "    </tr>\n",
       "    <tr>\n",
       "      <th>2018-04-20</th>\n",
       "      <td>0.606365</td>\n",
       "      <td>-0.142761</td>\n",
       "      <td>0.262397</td>\n",
       "      <td>-0.826870</td>\n",
       "      <td>-0.026771</td>\n",
       "      <td>-0.547558</td>\n",
       "    </tr>\n",
       "  </tbody>\n",
       "</table>\n",
       "</div>"
      ],
      "text/plain": [
       "                   A         B         C         D         E         F\n",
       "2018-04-01 -0.658195 -1.167079  0.230869  0.590635  1.633442 -0.711633\n",
       "2018-04-02 -0.357692  0.436268  0.638905  0.956344 -0.934225 -1.510244\n",
       "2018-04-03  1.328587  0.745505 -0.012581 -0.139177  0.351377 -1.236347\n",
       "2018-04-04  0.473259  0.598895 -0.532887  0.271849 -0.305127 -0.612438\n",
       "2018-04-05 -1.049763 -0.285759 -1.550679 -0.191500 -1.256574  0.351271\n",
       "2018-04-06  0.804481 -0.106451 -1.102741 -0.153637 -0.519313  0.941013\n",
       "2018-04-07  0.491607 -0.669870 -1.680154 -0.802343 -0.164563  0.704583\n",
       "2018-04-08 -0.703333  0.322262 -1.494600 -0.040980 -0.615505  0.237652\n",
       "2018-04-09 -0.872237 -0.329830  0.183870 -0.132370  0.203723  0.670933\n",
       "2018-04-10 -1.400491  0.627728 -0.176418  1.007019 -0.513917 -1.469182\n",
       "2018-04-11  0.619843  0.637738  0.298693 -0.487745 -0.259636 -1.127696\n",
       "2018-04-12 -0.031502  0.122436 -0.358287  0.380872  0.490218 -0.199082\n",
       "2018-04-13  0.215840 -0.373103  0.266397  0.681621 -0.616441  0.075638\n",
       "2018-04-14  0.984802  0.397392 -0.122453  0.492134  0.201507 -0.126715\n",
       "2018-04-15 -1.067568 -0.102002  0.531078  0.917263 -0.301518 -0.053856\n",
       "2018-04-16 -0.173593 -0.662014 -0.133100  0.059078 -0.308260  0.579976\n",
       "2018-04-17  1.754327 -0.148993  0.888119 -0.334843  0.294075 -0.352482\n",
       "2018-04-18  0.940650  1.341983 -0.176707 -1.019804  0.529873 -0.018207\n",
       "2018-04-19 -0.010682  1.443450 -0.020775  0.380135  0.411650  0.262003\n",
       "2018-04-20  0.606365 -0.142761  0.262397 -0.826870 -0.026771 -0.547558"
      ]
     },
     "execution_count": 628,
     "metadata": {},
     "output_type": "execute_result"
    }
   ],
   "source": [
    "d.ewm(com=.5).mean()"
   ]
  },
  {
   "cell_type": "code",
   "execution_count": 632,
   "metadata": {},
   "outputs": [
    {
     "data": {
      "text/html": [
       "<div>\n",
       "<style scoped>\n",
       "    .dataframe tbody tr th:only-of-type {\n",
       "        vertical-align: middle;\n",
       "    }\n",
       "\n",
       "    .dataframe tbody tr th {\n",
       "        vertical-align: top;\n",
       "    }\n",
       "\n",
       "    .dataframe thead th {\n",
       "        text-align: right;\n",
       "    }\n",
       "</style>\n",
       "<table border=\"1\" class=\"dataframe\">\n",
       "  <thead>\n",
       "    <tr style=\"text-align: right;\">\n",
       "      <th></th>\n",
       "      <th>A</th>\n",
       "      <th>B</th>\n",
       "      <th>C</th>\n",
       "      <th>D</th>\n",
       "      <th>E</th>\n",
       "      <th>F</th>\n",
       "    </tr>\n",
       "  </thead>\n",
       "  <tbody>\n",
       "    <tr>\n",
       "      <th>2018-04-01</th>\n",
       "      <td>-0.658195</td>\n",
       "      <td>-1.167079</td>\n",
       "      <td>0.230869</td>\n",
       "      <td>0.590635</td>\n",
       "      <td>1.633442</td>\n",
       "      <td>-0.711633</td>\n",
       "    </tr>\n",
       "    <tr>\n",
       "      <th>2018-04-02</th>\n",
       "      <td>-0.391082</td>\n",
       "      <td>0.258118</td>\n",
       "      <td>0.593568</td>\n",
       "      <td>0.915709</td>\n",
       "      <td>-0.648928</td>\n",
       "      <td>-1.421509</td>\n",
       "    </tr>\n",
       "    <tr>\n",
       "      <th>2018-04-03</th>\n",
       "      <td>1.019847</td>\n",
       "      <td>0.615161</td>\n",
       "      <td>0.081740</td>\n",
       "      <td>0.034689</td>\n",
       "      <td>0.249177</td>\n",
       "      <td>-1.246141</td>\n",
       "    </tr>\n",
       "    <tr>\n",
       "      <th>2018-04-04</th>\n",
       "      <td>0.508694</td>\n",
       "      <td>0.568838</td>\n",
       "      <td>-0.379670</td>\n",
       "      <td>0.266722</td>\n",
       "      <td>-0.215036</td>\n",
       "      <td>-0.747952</td>\n",
       "    </tr>\n",
       "    <tr>\n",
       "      <th>2018-04-05</th>\n",
       "      <td>-0.683857</td>\n",
       "      <td>-0.097723</td>\n",
       "      <td>-1.243475</td>\n",
       "      <td>-0.087878</td>\n",
       "      <td>-0.995107</td>\n",
       "      <td>0.065017</td>\n",
       "    </tr>\n",
       "    <tr>\n",
       "      <th>2018-04-06</th>\n",
       "      <td>0.541105</td>\n",
       "      <td>-0.056805</td>\n",
       "      <td>-1.058697</td>\n",
       "      <td>-0.111703</td>\n",
       "      <td>-0.566964</td>\n",
       "      <td>0.659127</td>\n",
       "    </tr>\n",
       "    <tr>\n",
       "      <th>2018-04-07</th>\n",
       "      <td>0.437435</td>\n",
       "      <td>-0.507520</td>\n",
       "      <td>-1.517163</td>\n",
       "      <td>-0.622971</td>\n",
       "      <td>-0.274916</td>\n",
       "      <td>0.622543</td>\n",
       "    </tr>\n",
       "    <tr>\n",
       "      <th>2018-04-08</th>\n",
       "      <td>-0.434955</td>\n",
       "      <td>0.157889</td>\n",
       "      <td>-1.459288</td>\n",
       "      <td>-0.139835</td>\n",
       "      <td>-0.559004</td>\n",
       "      <td>0.312206</td>\n",
       "    </tr>\n",
       "    <tr>\n",
       "      <th>2018-04-09</th>\n",
       "      <td>-0.696326</td>\n",
       "      <td>-0.249764</td>\n",
       "      <td>-0.215727</td>\n",
       "      <td>-0.158984</td>\n",
       "      <td>0.028282</td>\n",
       "      <td>0.600436</td>\n",
       "    </tr>\n",
       "    <tr>\n",
       "      <th>2018-04-10</th>\n",
       "      <td>-1.180938</td>\n",
       "      <td>0.429022</td>\n",
       "      <td>-0.286209</td>\n",
       "      <td>0.709698</td>\n",
       "      <td>-0.422659</td>\n",
       "      <td>-0.970909</td>\n",
       "    </tr>\n",
       "    <tr>\n",
       "      <th>2018-04-11</th>\n",
       "      <td>0.225214</td>\n",
       "      <td>0.535935</td>\n",
       "      <td>0.125219</td>\n",
       "      <td>-0.263183</td>\n",
       "      <td>-0.277507</td>\n",
       "      <td>-0.963929</td>\n",
       "    </tr>\n",
       "    <tr>\n",
       "      <th>2018-04-12</th>\n",
       "      <td>-0.066051</td>\n",
       "      <td>0.200279</td>\n",
       "      <td>-0.280877</td>\n",
       "      <td>0.276129</td>\n",
       "      <td>0.293957</td>\n",
       "      <td>-0.349203</td>\n",
       "    </tr>\n",
       "    <tr>\n",
       "      <th>2018-04-13</th>\n",
       "      <td>0.136755</td>\n",
       "      <td>-0.210347</td>\n",
       "      <td>0.148983</td>\n",
       "      <td>0.554096</td>\n",
       "      <td>-0.437995</td>\n",
       "      <td>-0.068068</td>\n",
       "    </tr>\n",
       "    <tr>\n",
       "      <th>2018-04-14</th>\n",
       "      <td>0.753056</td>\n",
       "      <td>0.286177</td>\n",
       "      <td>-0.083962</td>\n",
       "      <td>0.475739</td>\n",
       "      <td>0.086274</td>\n",
       "      <td>-0.147985</td>\n",
       "    </tr>\n",
       "    <tr>\n",
       "      <th>2018-04-15</th>\n",
       "      <td>-0.670391</td>\n",
       "      <td>-0.032771</td>\n",
       "      <td>0.386955</td>\n",
       "      <td>0.802793</td>\n",
       "      <td>-0.233388</td>\n",
       "      <td>-0.082704</td>\n",
       "    </tr>\n",
       "    <tr>\n",
       "      <th>2018-04-16</th>\n",
       "      <td>-0.198491</td>\n",
       "      <td>-0.487402</td>\n",
       "      <td>-0.039123</td>\n",
       "      <td>0.216380</td>\n",
       "      <td>-0.272510</td>\n",
       "      <td>0.407101</td>\n",
       "    </tr>\n",
       "    <tr>\n",
       "      <th>2018-04-17</th>\n",
       "      <td>1.259909</td>\n",
       "      <td>-0.189940</td>\n",
       "      <td>0.679808</td>\n",
       "      <td>-0.157715</td>\n",
       "      <td>0.161370</td>\n",
       "      <td>-0.205810</td>\n",
       "    </tr>\n",
       "    <tr>\n",
       "      <th>2018-04-18</th>\n",
       "      <td>0.896859</td>\n",
       "      <td>0.948770</td>\n",
       "      <td>-0.014658</td>\n",
       "      <td>-0.760001</td>\n",
       "      <td>0.404572</td>\n",
       "      <td>-0.028439</td>\n",
       "    </tr>\n",
       "    <tr>\n",
       "      <th>2018-04-19</th>\n",
       "      <td>0.205254</td>\n",
       "      <td>1.221477</td>\n",
       "      <td>0.021266</td>\n",
       "      <td>0.160053</td>\n",
       "      <td>0.378555</td>\n",
       "      <td>0.186835</td>\n",
       "    </tr>\n",
       "    <tr>\n",
       "      <th>2018-04-20</th>\n",
       "      <td>0.560072</td>\n",
       "      <td>0.142804</td>\n",
       "      <td>0.212625</td>\n",
       "      <td>-0.635161</td>\n",
       "      <td>0.066286</td>\n",
       "      <td>-0.382753</td>\n",
       "    </tr>\n",
       "  </tbody>\n",
       "</table>\n",
       "</div>"
      ],
      "text/plain": [
       "                   A         B         C         D         E         F\n",
       "2018-04-01 -0.658195 -1.167079  0.230869  0.590635  1.633442 -0.711633\n",
       "2018-04-02 -0.391082  0.258118  0.593568  0.915709 -0.648928 -1.421509\n",
       "2018-04-03  1.019847  0.615161  0.081740  0.034689  0.249177 -1.246141\n",
       "2018-04-04  0.508694  0.568838 -0.379670  0.266722 -0.215036 -0.747952\n",
       "2018-04-05 -0.683857 -0.097723 -1.243475 -0.087878 -0.995107  0.065017\n",
       "2018-04-06  0.541105 -0.056805 -1.058697 -0.111703 -0.566964  0.659127\n",
       "2018-04-07  0.437435 -0.507520 -1.517163 -0.622971 -0.274916  0.622543\n",
       "2018-04-08 -0.434955  0.157889 -1.459288 -0.139835 -0.559004  0.312206\n",
       "2018-04-09 -0.696326 -0.249764 -0.215727 -0.158984  0.028282  0.600436\n",
       "2018-04-10 -1.180938  0.429022 -0.286209  0.709698 -0.422659 -0.970909\n",
       "2018-04-11  0.225214  0.535935  0.125219 -0.263183 -0.277507 -0.963929\n",
       "2018-04-12 -0.066051  0.200279 -0.280877  0.276129  0.293957 -0.349203\n",
       "2018-04-13  0.136755 -0.210347  0.148983  0.554096 -0.437995 -0.068068\n",
       "2018-04-14  0.753056  0.286177 -0.083962  0.475739  0.086274 -0.147985\n",
       "2018-04-15 -0.670391 -0.032771  0.386955  0.802793 -0.233388 -0.082704\n",
       "2018-04-16 -0.198491 -0.487402 -0.039123  0.216380 -0.272510  0.407101\n",
       "2018-04-17  1.259909 -0.189940  0.679808 -0.157715  0.161370 -0.205810\n",
       "2018-04-18  0.896859  0.948770 -0.014658 -0.760001  0.404572 -0.028439\n",
       "2018-04-19  0.205254  1.221477  0.021266  0.160053  0.378555  0.186835\n",
       "2018-04-20  0.560072  0.142804  0.212625 -0.635161  0.066286 -0.382753"
      ]
     },
     "execution_count": 632,
     "metadata": {},
     "output_type": "execute_result"
    }
   ],
   "source": [
    "d.ewm(halflife=1).mean()"
   ]
  },
  {
   "cell_type": "code",
   "execution_count": 633,
   "metadata": {},
   "outputs": [
    {
     "data": {
      "text/plain": [
       "Rolling [window=5,min_periods=5,center=False,axis=0]"
      ]
     },
     "execution_count": 633,
     "metadata": {},
     "output_type": "execute_result"
    }
   ],
   "source": [
    "d.rolling(window=5,min_periods=5)"
   ]
  },
  {
   "cell_type": "code",
   "execution_count": 634,
   "metadata": {},
   "outputs": [
    {
     "data": {
      "text/plain": [
       "A    2.405142\n",
       "B    2.921546\n",
       "C   -4.061872\n",
       "D    0.894267\n",
       "E   -2.163244\n",
       "F   -3.960882\n",
       "dtype: float64"
      ]
     },
     "execution_count": 634,
     "metadata": {},
     "output_type": "execute_result"
    }
   ],
   "source": [
    "d.aggregate(np.sum)"
   ]
  },
  {
   "cell_type": "code",
   "execution_count": 635,
   "metadata": {},
   "outputs": [
    {
     "data": {
      "text/html": [
       "<div>\n",
       "<style scoped>\n",
       "    .dataframe tbody tr th:only-of-type {\n",
       "        vertical-align: middle;\n",
       "    }\n",
       "\n",
       "    .dataframe tbody tr th {\n",
       "        vertical-align: top;\n",
       "    }\n",
       "\n",
       "    .dataframe thead th {\n",
       "        text-align: right;\n",
       "    }\n",
       "</style>\n",
       "<table border=\"1\" class=\"dataframe\">\n",
       "  <thead>\n",
       "    <tr style=\"text-align: right;\">\n",
       "      <th></th>\n",
       "      <th>A</th>\n",
       "      <th>B</th>\n",
       "      <th>C</th>\n",
       "      <th>D</th>\n",
       "      <th>E</th>\n",
       "      <th>F</th>\n",
       "    </tr>\n",
       "  </thead>\n",
       "  <tbody>\n",
       "    <tr>\n",
       "      <th>2018-04-01</th>\n",
       "      <td>-0.658195</td>\n",
       "      <td>-1.167079</td>\n",
       "      <td>0.230869</td>\n",
       "      <td>0.590635</td>\n",
       "      <td>1.633442</td>\n",
       "      <td>-0.711633</td>\n",
       "    </tr>\n",
       "    <tr>\n",
       "      <th>2018-04-02</th>\n",
       "      <td>-0.257525</td>\n",
       "      <td>0.970717</td>\n",
       "      <td>0.774917</td>\n",
       "      <td>1.078246</td>\n",
       "      <td>-1.790113</td>\n",
       "      <td>-1.776447</td>\n",
       "    </tr>\n",
       "    <tr>\n",
       "      <th>2018-04-03</th>\n",
       "      <td>2.078044</td>\n",
       "      <td>0.882944</td>\n",
       "      <td>-0.302131</td>\n",
       "      <td>-0.626076</td>\n",
       "      <td>0.922756</td>\n",
       "      <td>-1.114614</td>\n",
       "    </tr>\n",
       "    <tr>\n",
       "      <th>2018-04-04</th>\n",
       "      <td>0.061434</td>\n",
       "      <td>0.528306</td>\n",
       "      <td>-0.783404</td>\n",
       "      <td>0.469750</td>\n",
       "      <td>-0.621222</td>\n",
       "      <td>-0.312037</td>\n",
       "    </tr>\n",
       "    <tr>\n",
       "      <th>2018-04-05</th>\n",
       "      <td>-1.801873</td>\n",
       "      <td>-0.722625</td>\n",
       "      <td>-2.053292</td>\n",
       "      <td>-0.420315</td>\n",
       "      <td>-1.726424</td>\n",
       "      <td>0.827176</td>\n",
       "    </tr>\n",
       "    <tr>\n",
       "      <th>2018-04-06</th>\n",
       "      <td>1.727787</td>\n",
       "      <td>-0.017166</td>\n",
       "      <td>-0.879693</td>\n",
       "      <td>-0.134783</td>\n",
       "      <td>-0.152200</td>\n",
       "      <td>1.234671</td>\n",
       "    </tr>\n",
       "    <tr>\n",
       "      <th>2018-04-07</th>\n",
       "      <td>0.335384</td>\n",
       "      <td>-0.951193</td>\n",
       "      <td>-1.968465</td>\n",
       "      <td>-1.126251</td>\n",
       "      <td>0.012569</td>\n",
       "      <td>0.586530</td>\n",
       "    </tr>\n",
       "    <tr>\n",
       "      <th>2018-04-08</th>\n",
       "      <td>-1.300530</td>\n",
       "      <td>0.818101</td>\n",
       "      <td>-1.401865</td>\n",
       "      <td>0.339527</td>\n",
       "      <td>-0.840873</td>\n",
       "      <td>0.004293</td>\n",
       "    </tr>\n",
       "    <tr>\n",
       "      <th>2018-04-09</th>\n",
       "      <td>-0.956676</td>\n",
       "      <td>-0.655826</td>\n",
       "      <td>1.022977</td>\n",
       "      <td>-0.178058</td>\n",
       "      <td>0.613274</td>\n",
       "      <td>0.887540</td>\n",
       "    </tr>\n",
       "    <tr>\n",
       "      <th>2018-04-10</th>\n",
       "      <td>-1.664604</td>\n",
       "      <td>1.106483</td>\n",
       "      <td>-0.356553</td>\n",
       "      <td>1.576684</td>\n",
       "      <td>-0.872719</td>\n",
       "      <td>-2.539185</td>\n",
       "    </tr>\n",
       "    <tr>\n",
       "      <th>2018-04-11</th>\n",
       "      <td>1.629993</td>\n",
       "      <td>0.642743</td>\n",
       "      <td>0.536245</td>\n",
       "      <td>-1.235114</td>\n",
       "      <td>-0.132497</td>\n",
       "      <td>-0.956956</td>\n",
       "    </tr>\n",
       "    <tr>\n",
       "      <th>2018-04-12</th>\n",
       "      <td>-0.357173</td>\n",
       "      <td>-0.135213</td>\n",
       "      <td>-0.686775</td>\n",
       "      <td>0.815178</td>\n",
       "      <td>0.865142</td>\n",
       "      <td>0.265222</td>\n",
       "    </tr>\n",
       "    <tr>\n",
       "      <th>2018-04-13</th>\n",
       "      <td>0.339511</td>\n",
       "      <td>-0.620872</td>\n",
       "      <td>0.578739</td>\n",
       "      <td>0.831995</td>\n",
       "      <td>-1.169769</td>\n",
       "      <td>0.212998</td>\n",
       "    </tr>\n",
       "    <tr>\n",
       "      <th>2018-04-14</th>\n",
       "      <td>1.369282</td>\n",
       "      <td>0.782639</td>\n",
       "      <td>-0.316878</td>\n",
       "      <td>0.397391</td>\n",
       "      <td>0.610480</td>\n",
       "      <td>-0.227891</td>\n",
       "    </tr>\n",
       "    <tr>\n",
       "      <th>2018-04-15</th>\n",
       "      <td>-2.093752</td>\n",
       "      <td>-0.351699</td>\n",
       "      <td>0.857844</td>\n",
       "      <td>1.129827</td>\n",
       "      <td>-0.553030</td>\n",
       "      <td>-0.017427</td>\n",
       "    </tr>\n",
       "    <tr>\n",
       "      <th>2018-04-16</th>\n",
       "      <td>0.273395</td>\n",
       "      <td>-0.942020</td>\n",
       "      <td>-0.465189</td>\n",
       "      <td>-0.370014</td>\n",
       "      <td>-0.311630</td>\n",
       "      <td>0.896892</td>\n",
       "    </tr>\n",
       "    <tr>\n",
       "      <th>2018-04-17</th>\n",
       "      <td>2.718287</td>\n",
       "      <td>0.107518</td>\n",
       "      <td>1.398729</td>\n",
       "      <td>-0.531804</td>\n",
       "      <td>0.595243</td>\n",
       "      <td>-0.818712</td>\n",
       "    </tr>\n",
       "    <tr>\n",
       "      <th>2018-04-18</th>\n",
       "      <td>0.533812</td>\n",
       "      <td>2.087471</td>\n",
       "      <td>-0.709120</td>\n",
       "      <td>-1.362284</td>\n",
       "      <td>0.647771</td>\n",
       "      <td>0.148930</td>\n",
       "    </tr>\n",
       "    <tr>\n",
       "      <th>2018-04-19</th>\n",
       "      <td>-0.486348</td>\n",
       "      <td>1.494183</td>\n",
       "      <td>0.057191</td>\n",
       "      <td>1.080104</td>\n",
       "      <td>0.352539</td>\n",
       "      <td>0.402108</td>\n",
       "    </tr>\n",
       "    <tr>\n",
       "      <th>2018-04-20</th>\n",
       "      <td>0.914889</td>\n",
       "      <td>-0.935866</td>\n",
       "      <td>0.403983</td>\n",
       "      <td>-1.430373</td>\n",
       "      <td>-0.245982</td>\n",
       "      <td>-0.952339</td>\n",
       "    </tr>\n",
       "  </tbody>\n",
       "</table>\n",
       "</div>"
      ],
      "text/plain": [
       "                   A         B         C         D         E         F\n",
       "2018-04-01 -0.658195 -1.167079  0.230869  0.590635  1.633442 -0.711633\n",
       "2018-04-02 -0.257525  0.970717  0.774917  1.078246 -1.790113 -1.776447\n",
       "2018-04-03  2.078044  0.882944 -0.302131 -0.626076  0.922756 -1.114614\n",
       "2018-04-04  0.061434  0.528306 -0.783404  0.469750 -0.621222 -0.312037\n",
       "2018-04-05 -1.801873 -0.722625 -2.053292 -0.420315 -1.726424  0.827176\n",
       "2018-04-06  1.727787 -0.017166 -0.879693 -0.134783 -0.152200  1.234671\n",
       "2018-04-07  0.335384 -0.951193 -1.968465 -1.126251  0.012569  0.586530\n",
       "2018-04-08 -1.300530  0.818101 -1.401865  0.339527 -0.840873  0.004293\n",
       "2018-04-09 -0.956676 -0.655826  1.022977 -0.178058  0.613274  0.887540\n",
       "2018-04-10 -1.664604  1.106483 -0.356553  1.576684 -0.872719 -2.539185\n",
       "2018-04-11  1.629993  0.642743  0.536245 -1.235114 -0.132497 -0.956956\n",
       "2018-04-12 -0.357173 -0.135213 -0.686775  0.815178  0.865142  0.265222\n",
       "2018-04-13  0.339511 -0.620872  0.578739  0.831995 -1.169769  0.212998\n",
       "2018-04-14  1.369282  0.782639 -0.316878  0.397391  0.610480 -0.227891\n",
       "2018-04-15 -2.093752 -0.351699  0.857844  1.129827 -0.553030 -0.017427\n",
       "2018-04-16  0.273395 -0.942020 -0.465189 -0.370014 -0.311630  0.896892\n",
       "2018-04-17  2.718287  0.107518  1.398729 -0.531804  0.595243 -0.818712\n",
       "2018-04-18  0.533812  2.087471 -0.709120 -1.362284  0.647771  0.148930\n",
       "2018-04-19 -0.486348  1.494183  0.057191  1.080104  0.352539  0.402108\n",
       "2018-04-20  0.914889 -0.935866  0.403983 -1.430373 -0.245982 -0.952339"
      ]
     },
     "execution_count": 635,
     "metadata": {},
     "output_type": "execute_result"
    }
   ],
   "source": [
    "d"
   ]
  },
  {
   "cell_type": "markdown",
   "metadata": {},
   "source": [
    "missing data"
   ]
  },
  {
   "cell_type": "code",
   "execution_count": 636,
   "metadata": {},
   "outputs": [],
   "source": [
    "f=pd.DataFrame(np.random.rand(5,2),index=[1,2,3,4,5],columns=['k','i'])"
   ]
  },
  {
   "cell_type": "code",
   "execution_count": 637,
   "metadata": {},
   "outputs": [
    {
     "data": {
      "text/html": [
       "<div>\n",
       "<style scoped>\n",
       "    .dataframe tbody tr th:only-of-type {\n",
       "        vertical-align: middle;\n",
       "    }\n",
       "\n",
       "    .dataframe tbody tr th {\n",
       "        vertical-align: top;\n",
       "    }\n",
       "\n",
       "    .dataframe thead th {\n",
       "        text-align: right;\n",
       "    }\n",
       "</style>\n",
       "<table border=\"1\" class=\"dataframe\">\n",
       "  <thead>\n",
       "    <tr style=\"text-align: right;\">\n",
       "      <th></th>\n",
       "      <th>k</th>\n",
       "      <th>i</th>\n",
       "    </tr>\n",
       "  </thead>\n",
       "  <tbody>\n",
       "    <tr>\n",
       "      <th>1</th>\n",
       "      <td>0.093023</td>\n",
       "      <td>0.111170</td>\n",
       "    </tr>\n",
       "    <tr>\n",
       "      <th>2</th>\n",
       "      <td>0.917932</td>\n",
       "      <td>0.361688</td>\n",
       "    </tr>\n",
       "    <tr>\n",
       "      <th>3</th>\n",
       "      <td>0.905994</td>\n",
       "      <td>0.381397</td>\n",
       "    </tr>\n",
       "    <tr>\n",
       "      <th>4</th>\n",
       "      <td>0.460890</td>\n",
       "      <td>0.846554</td>\n",
       "    </tr>\n",
       "    <tr>\n",
       "      <th>5</th>\n",
       "      <td>0.840338</td>\n",
       "      <td>0.599193</td>\n",
       "    </tr>\n",
       "  </tbody>\n",
       "</table>\n",
       "</div>"
      ],
      "text/plain": [
       "          k         i\n",
       "1  0.093023  0.111170\n",
       "2  0.917932  0.361688\n",
       "3  0.905994  0.381397\n",
       "4  0.460890  0.846554\n",
       "5  0.840338  0.599193"
      ]
     },
     "execution_count": 637,
     "metadata": {},
     "output_type": "execute_result"
    }
   ],
   "source": [
    "f"
   ]
  },
  {
   "cell_type": "code",
   "execution_count": 640,
   "metadata": {},
   "outputs": [],
   "source": [
    "f=f.reindex([6,5,67,6,77])"
   ]
  },
  {
   "cell_type": "code",
   "execution_count": 641,
   "metadata": {},
   "outputs": [
    {
     "data": {
      "text/html": [
       "<div>\n",
       "<style scoped>\n",
       "    .dataframe tbody tr th:only-of-type {\n",
       "        vertical-align: middle;\n",
       "    }\n",
       "\n",
       "    .dataframe tbody tr th {\n",
       "        vertical-align: top;\n",
       "    }\n",
       "\n",
       "    .dataframe thead th {\n",
       "        text-align: right;\n",
       "    }\n",
       "</style>\n",
       "<table border=\"1\" class=\"dataframe\">\n",
       "  <thead>\n",
       "    <tr style=\"text-align: right;\">\n",
       "      <th></th>\n",
       "      <th>k</th>\n",
       "      <th>i</th>\n",
       "    </tr>\n",
       "  </thead>\n",
       "  <tbody>\n",
       "    <tr>\n",
       "      <th>6</th>\n",
       "      <td>NaN</td>\n",
       "      <td>NaN</td>\n",
       "    </tr>\n",
       "    <tr>\n",
       "      <th>5</th>\n",
       "      <td>0.840338</td>\n",
       "      <td>0.599193</td>\n",
       "    </tr>\n",
       "    <tr>\n",
       "      <th>67</th>\n",
       "      <td>NaN</td>\n",
       "      <td>NaN</td>\n",
       "    </tr>\n",
       "    <tr>\n",
       "      <th>6</th>\n",
       "      <td>NaN</td>\n",
       "      <td>NaN</td>\n",
       "    </tr>\n",
       "    <tr>\n",
       "      <th>77</th>\n",
       "      <td>NaN</td>\n",
       "      <td>NaN</td>\n",
       "    </tr>\n",
       "  </tbody>\n",
       "</table>\n",
       "</div>"
      ],
      "text/plain": [
       "           k         i\n",
       "6        NaN       NaN\n",
       "5   0.840338  0.599193\n",
       "67       NaN       NaN\n",
       "6        NaN       NaN\n",
       "77       NaN       NaN"
      ]
     },
     "execution_count": 641,
     "metadata": {},
     "output_type": "execute_result"
    }
   ],
   "source": [
    "f"
   ]
  },
  {
   "cell_type": "code",
   "execution_count": 642,
   "metadata": {},
   "outputs": [
    {
     "data": {
      "text/html": [
       "<div>\n",
       "<style scoped>\n",
       "    .dataframe tbody tr th:only-of-type {\n",
       "        vertical-align: middle;\n",
       "    }\n",
       "\n",
       "    .dataframe tbody tr th {\n",
       "        vertical-align: top;\n",
       "    }\n",
       "\n",
       "    .dataframe thead th {\n",
       "        text-align: right;\n",
       "    }\n",
       "</style>\n",
       "<table border=\"1\" class=\"dataframe\">\n",
       "  <thead>\n",
       "    <tr style=\"text-align: right;\">\n",
       "      <th></th>\n",
       "      <th>k</th>\n",
       "      <th>i</th>\n",
       "    </tr>\n",
       "  </thead>\n",
       "  <tbody>\n",
       "    <tr>\n",
       "      <th>6</th>\n",
       "      <td>True</td>\n",
       "      <td>True</td>\n",
       "    </tr>\n",
       "    <tr>\n",
       "      <th>5</th>\n",
       "      <td>False</td>\n",
       "      <td>False</td>\n",
       "    </tr>\n",
       "    <tr>\n",
       "      <th>67</th>\n",
       "      <td>True</td>\n",
       "      <td>True</td>\n",
       "    </tr>\n",
       "    <tr>\n",
       "      <th>6</th>\n",
       "      <td>True</td>\n",
       "      <td>True</td>\n",
       "    </tr>\n",
       "    <tr>\n",
       "      <th>77</th>\n",
       "      <td>True</td>\n",
       "      <td>True</td>\n",
       "    </tr>\n",
       "  </tbody>\n",
       "</table>\n",
       "</div>"
      ],
      "text/plain": [
       "        k      i\n",
       "6    True   True\n",
       "5   False  False\n",
       "67   True   True\n",
       "6    True   True\n",
       "77   True   True"
      ]
     },
     "execution_count": 642,
     "metadata": {},
     "output_type": "execute_result"
    }
   ],
   "source": [
    "f.isnull()"
   ]
  },
  {
   "cell_type": "code",
   "execution_count": 643,
   "metadata": {},
   "outputs": [
    {
     "data": {
      "text/html": [
       "<div>\n",
       "<style scoped>\n",
       "    .dataframe tbody tr th:only-of-type {\n",
       "        vertical-align: middle;\n",
       "    }\n",
       "\n",
       "    .dataframe tbody tr th {\n",
       "        vertical-align: top;\n",
       "    }\n",
       "\n",
       "    .dataframe thead th {\n",
       "        text-align: right;\n",
       "    }\n",
       "</style>\n",
       "<table border=\"1\" class=\"dataframe\">\n",
       "  <thead>\n",
       "    <tr style=\"text-align: right;\">\n",
       "      <th></th>\n",
       "      <th>k</th>\n",
       "      <th>i</th>\n",
       "    </tr>\n",
       "  </thead>\n",
       "  <tbody>\n",
       "    <tr>\n",
       "      <th>6</th>\n",
       "      <td>False</td>\n",
       "      <td>False</td>\n",
       "    </tr>\n",
       "    <tr>\n",
       "      <th>5</th>\n",
       "      <td>True</td>\n",
       "      <td>True</td>\n",
       "    </tr>\n",
       "    <tr>\n",
       "      <th>67</th>\n",
       "      <td>False</td>\n",
       "      <td>False</td>\n",
       "    </tr>\n",
       "    <tr>\n",
       "      <th>6</th>\n",
       "      <td>False</td>\n",
       "      <td>False</td>\n",
       "    </tr>\n",
       "    <tr>\n",
       "      <th>77</th>\n",
       "      <td>False</td>\n",
       "      <td>False</td>\n",
       "    </tr>\n",
       "  </tbody>\n",
       "</table>\n",
       "</div>"
      ],
      "text/plain": [
       "        k      i\n",
       "6   False  False\n",
       "5    True   True\n",
       "67  False  False\n",
       "6   False  False\n",
       "77  False  False"
      ]
     },
     "execution_count": 643,
     "metadata": {},
     "output_type": "execute_result"
    }
   ],
   "source": [
    "f.notnull()"
   ]
  },
  {
   "cell_type": "code",
   "execution_count": 645,
   "metadata": {},
   "outputs": [
    {
     "data": {
      "text/plain": [
       "k    0.840338\n",
       "i    0.599193\n",
       "dtype: float64"
      ]
     },
     "execution_count": 645,
     "metadata": {},
     "output_type": "execute_result"
    }
   ],
   "source": [
    "f.sum()"
   ]
  },
  {
   "cell_type": "code",
   "execution_count": 646,
   "metadata": {},
   "outputs": [
    {
     "data": {
      "text/plain": [
       "A    2.405142\n",
       "B    2.921546\n",
       "C   -4.061872\n",
       "D    0.894267\n",
       "E   -2.163244\n",
       "F   -3.960882\n",
       "dtype: float64"
      ]
     },
     "execution_count": 646,
     "metadata": {},
     "output_type": "execute_result"
    }
   ],
   "source": [
    "d.sum()"
   ]
  },
  {
   "cell_type": "code",
   "execution_count": 647,
   "metadata": {},
   "outputs": [
    {
     "data": {
      "text/html": [
       "<div>\n",
       "<style scoped>\n",
       "    .dataframe tbody tr th:only-of-type {\n",
       "        vertical-align: middle;\n",
       "    }\n",
       "\n",
       "    .dataframe tbody tr th {\n",
       "        vertical-align: top;\n",
       "    }\n",
       "\n",
       "    .dataframe thead th {\n",
       "        text-align: right;\n",
       "    }\n",
       "</style>\n",
       "<table border=\"1\" class=\"dataframe\">\n",
       "  <thead>\n",
       "    <tr style=\"text-align: right;\">\n",
       "      <th></th>\n",
       "      <th>k</th>\n",
       "      <th>i</th>\n",
       "    </tr>\n",
       "  </thead>\n",
       "  <tbody>\n",
       "    <tr>\n",
       "      <th>6</th>\n",
       "      <td>0.000000</td>\n",
       "      <td>0.000000</td>\n",
       "    </tr>\n",
       "    <tr>\n",
       "      <th>5</th>\n",
       "      <td>0.840338</td>\n",
       "      <td>0.599193</td>\n",
       "    </tr>\n",
       "    <tr>\n",
       "      <th>67</th>\n",
       "      <td>0.000000</td>\n",
       "      <td>0.000000</td>\n",
       "    </tr>\n",
       "    <tr>\n",
       "      <th>6</th>\n",
       "      <td>0.000000</td>\n",
       "      <td>0.000000</td>\n",
       "    </tr>\n",
       "    <tr>\n",
       "      <th>77</th>\n",
       "      <td>0.000000</td>\n",
       "      <td>0.000000</td>\n",
       "    </tr>\n",
       "  </tbody>\n",
       "</table>\n",
       "</div>"
      ],
      "text/plain": [
       "           k         i\n",
       "6   0.000000  0.000000\n",
       "5   0.840338  0.599193\n",
       "67  0.000000  0.000000\n",
       "6   0.000000  0.000000\n",
       "77  0.000000  0.000000"
      ]
     },
     "execution_count": 647,
     "metadata": {},
     "output_type": "execute_result"
    }
   ],
   "source": [
    "f.fillna(0)"
   ]
  },
  {
   "cell_type": "code",
   "execution_count": 650,
   "metadata": {},
   "outputs": [
    {
     "data": {
      "text/html": [
       "<div>\n",
       "<style scoped>\n",
       "    .dataframe tbody tr th:only-of-type {\n",
       "        vertical-align: middle;\n",
       "    }\n",
       "\n",
       "    .dataframe tbody tr th {\n",
       "        vertical-align: top;\n",
       "    }\n",
       "\n",
       "    .dataframe thead th {\n",
       "        text-align: right;\n",
       "    }\n",
       "</style>\n",
       "<table border=\"1\" class=\"dataframe\">\n",
       "  <thead>\n",
       "    <tr style=\"text-align: right;\">\n",
       "      <th></th>\n",
       "      <th>k</th>\n",
       "      <th>i</th>\n",
       "    </tr>\n",
       "  </thead>\n",
       "  <tbody>\n",
       "    <tr>\n",
       "      <th>6</th>\n",
       "      <td>NaN</td>\n",
       "      <td>NaN</td>\n",
       "    </tr>\n",
       "    <tr>\n",
       "      <th>5</th>\n",
       "      <td>0.840338</td>\n",
       "      <td>0.599193</td>\n",
       "    </tr>\n",
       "    <tr>\n",
       "      <th>67</th>\n",
       "      <td>0.840338</td>\n",
       "      <td>0.599193</td>\n",
       "    </tr>\n",
       "    <tr>\n",
       "      <th>6</th>\n",
       "      <td>0.840338</td>\n",
       "      <td>0.599193</td>\n",
       "    </tr>\n",
       "    <tr>\n",
       "      <th>77</th>\n",
       "      <td>0.840338</td>\n",
       "      <td>0.599193</td>\n",
       "    </tr>\n",
       "  </tbody>\n",
       "</table>\n",
       "</div>"
      ],
      "text/plain": [
       "           k         i\n",
       "6        NaN       NaN\n",
       "5   0.840338  0.599193\n",
       "67  0.840338  0.599193\n",
       "6   0.840338  0.599193\n",
       "77  0.840338  0.599193"
      ]
     },
     "execution_count": 650,
     "metadata": {},
     "output_type": "execute_result"
    }
   ],
   "source": [
    "f.fillna(method='pad')"
   ]
  },
  {
   "cell_type": "code",
   "execution_count": 654,
   "metadata": {},
   "outputs": [
    {
     "data": {
      "text/html": [
       "<div>\n",
       "<style scoped>\n",
       "    .dataframe tbody tr th:only-of-type {\n",
       "        vertical-align: middle;\n",
       "    }\n",
       "\n",
       "    .dataframe tbody tr th {\n",
       "        vertical-align: top;\n",
       "    }\n",
       "\n",
       "    .dataframe thead th {\n",
       "        text-align: right;\n",
       "    }\n",
       "</style>\n",
       "<table border=\"1\" class=\"dataframe\">\n",
       "  <thead>\n",
       "    <tr style=\"text-align: right;\">\n",
       "      <th></th>\n",
       "      <th>k</th>\n",
       "      <th>i</th>\n",
       "    </tr>\n",
       "  </thead>\n",
       "  <tbody>\n",
       "    <tr>\n",
       "      <th>6</th>\n",
       "      <td>0.840338</td>\n",
       "      <td>0.599193</td>\n",
       "    </tr>\n",
       "    <tr>\n",
       "      <th>5</th>\n",
       "      <td>0.840338</td>\n",
       "      <td>0.599193</td>\n",
       "    </tr>\n",
       "    <tr>\n",
       "      <th>67</th>\n",
       "      <td>NaN</td>\n",
       "      <td>NaN</td>\n",
       "    </tr>\n",
       "    <tr>\n",
       "      <th>6</th>\n",
       "      <td>NaN</td>\n",
       "      <td>NaN</td>\n",
       "    </tr>\n",
       "    <tr>\n",
       "      <th>77</th>\n",
       "      <td>NaN</td>\n",
       "      <td>NaN</td>\n",
       "    </tr>\n",
       "  </tbody>\n",
       "</table>\n",
       "</div>"
      ],
      "text/plain": [
       "           k         i\n",
       "6   0.840338  0.599193\n",
       "5   0.840338  0.599193\n",
       "67       NaN       NaN\n",
       "6        NaN       NaN\n",
       "77       NaN       NaN"
      ]
     },
     "execution_count": 654,
     "metadata": {},
     "output_type": "execute_result"
    }
   ],
   "source": [
    "f.fillna(method='backfill')"
   ]
  },
  {
   "cell_type": "code",
   "execution_count": 655,
   "metadata": {},
   "outputs": [
    {
     "data": {
      "text/html": [
       "<div>\n",
       "<style scoped>\n",
       "    .dataframe tbody tr th:only-of-type {\n",
       "        vertical-align: middle;\n",
       "    }\n",
       "\n",
       "    .dataframe tbody tr th {\n",
       "        vertical-align: top;\n",
       "    }\n",
       "\n",
       "    .dataframe thead th {\n",
       "        text-align: right;\n",
       "    }\n",
       "</style>\n",
       "<table border=\"1\" class=\"dataframe\">\n",
       "  <thead>\n",
       "    <tr style=\"text-align: right;\">\n",
       "      <th></th>\n",
       "      <th>k</th>\n",
       "      <th>i</th>\n",
       "    </tr>\n",
       "  </thead>\n",
       "  <tbody>\n",
       "    <tr>\n",
       "      <th>5</th>\n",
       "      <td>0.840338</td>\n",
       "      <td>0.599193</td>\n",
       "    </tr>\n",
       "  </tbody>\n",
       "</table>\n",
       "</div>"
      ],
      "text/plain": [
       "          k         i\n",
       "5  0.840338  0.599193"
      ]
     },
     "execution_count": 655,
     "metadata": {},
     "output_type": "execute_result"
    }
   ],
   "source": [
    "f.dropna()"
   ]
  },
  {
   "cell_type": "code",
   "execution_count": 664,
   "metadata": {},
   "outputs": [
    {
     "data": {
      "text/html": [
       "<div>\n",
       "<style scoped>\n",
       "    .dataframe tbody tr th:only-of-type {\n",
       "        vertical-align: middle;\n",
       "    }\n",
       "\n",
       "    .dataframe tbody tr th {\n",
       "        vertical-align: top;\n",
       "    }\n",
       "\n",
       "    .dataframe thead th {\n",
       "        text-align: right;\n",
       "    }\n",
       "</style>\n",
       "<table border=\"1\" class=\"dataframe\">\n",
       "  <thead>\n",
       "    <tr style=\"text-align: right;\">\n",
       "      <th></th>\n",
       "    </tr>\n",
       "  </thead>\n",
       "  <tbody>\n",
       "    <tr>\n",
       "      <th>6</th>\n",
       "    </tr>\n",
       "    <tr>\n",
       "      <th>5</th>\n",
       "    </tr>\n",
       "    <tr>\n",
       "      <th>67</th>\n",
       "    </tr>\n",
       "    <tr>\n",
       "      <th>6</th>\n",
       "    </tr>\n",
       "    <tr>\n",
       "      <th>77</th>\n",
       "    </tr>\n",
       "  </tbody>\n",
       "</table>\n",
       "</div>"
      ],
      "text/plain": [
       "Empty DataFrame\n",
       "Columns: []\n",
       "Index: [6, 5, 67, 6, 77]"
      ]
     },
     "execution_count": 664,
     "metadata": {},
     "output_type": "execute_result"
    }
   ],
   "source": [
    "f.dropna(axis=1)"
   ]
  },
  {
   "cell_type": "code",
   "execution_count": 665,
   "metadata": {},
   "outputs": [
    {
     "data": {
      "text/plain": [
       "k    1\n",
       "i    1\n",
       "dtype: int64"
      ]
     },
     "execution_count": 665,
     "metadata": {},
     "output_type": "execute_result"
    }
   ],
   "source": [
    "f.count()"
   ]
  },
  {
   "cell_type": "code",
   "execution_count": 666,
   "metadata": {},
   "outputs": [
    {
     "data": {
      "text/html": [
       "<div>\n",
       "<style scoped>\n",
       "    .dataframe tbody tr th:only-of-type {\n",
       "        vertical-align: middle;\n",
       "    }\n",
       "\n",
       "    .dataframe tbody tr th {\n",
       "        vertical-align: top;\n",
       "    }\n",
       "\n",
       "    .dataframe thead th {\n",
       "        text-align: right;\n",
       "    }\n",
       "</style>\n",
       "<table border=\"1\" class=\"dataframe\">\n",
       "  <thead>\n",
       "    <tr style=\"text-align: right;\">\n",
       "      <th></th>\n",
       "      <th>k</th>\n",
       "      <th>i</th>\n",
       "    </tr>\n",
       "  </thead>\n",
       "  <tbody>\n",
       "    <tr>\n",
       "      <th>6</th>\n",
       "      <td>NaN</td>\n",
       "      <td>NaN</td>\n",
       "    </tr>\n",
       "    <tr>\n",
       "      <th>5</th>\n",
       "      <td>0.840338</td>\n",
       "      <td>0.599193</td>\n",
       "    </tr>\n",
       "    <tr>\n",
       "      <th>67</th>\n",
       "      <td>NaN</td>\n",
       "      <td>NaN</td>\n",
       "    </tr>\n",
       "    <tr>\n",
       "      <th>6</th>\n",
       "      <td>NaN</td>\n",
       "      <td>NaN</td>\n",
       "    </tr>\n",
       "    <tr>\n",
       "      <th>77</th>\n",
       "      <td>NaN</td>\n",
       "      <td>NaN</td>\n",
       "    </tr>\n",
       "  </tbody>\n",
       "</table>\n",
       "</div>"
      ],
      "text/plain": [
       "           k         i\n",
       "6        NaN       NaN\n",
       "5   0.840338  0.599193\n",
       "67       NaN       NaN\n",
       "6        NaN       NaN\n",
       "77       NaN       NaN"
      ]
     },
     "execution_count": 666,
     "metadata": {},
     "output_type": "execute_result"
    }
   ],
   "source": [
    "f"
   ]
  },
  {
   "cell_type": "code",
   "execution_count": 669,
   "metadata": {},
   "outputs": [
    {
     "data": {
      "text/plain": [
       "k    1\n",
       "i    1\n",
       "dtype: int64"
      ]
     },
     "execution_count": 669,
     "metadata": {},
     "output_type": "execute_result"
    }
   ],
   "source": [
    "f.count()"
   ]
  },
  {
   "cell_type": "code",
   "execution_count": 670,
   "metadata": {},
   "outputs": [
    {
     "data": {
      "text/html": [
       "<div>\n",
       "<style scoped>\n",
       "    .dataframe tbody tr th:only-of-type {\n",
       "        vertical-align: middle;\n",
       "    }\n",
       "\n",
       "    .dataframe tbody tr th {\n",
       "        vertical-align: top;\n",
       "    }\n",
       "\n",
       "    .dataframe thead th {\n",
       "        text-align: right;\n",
       "    }\n",
       "</style>\n",
       "<table border=\"1\" class=\"dataframe\">\n",
       "  <thead>\n",
       "    <tr style=\"text-align: right;\">\n",
       "      <th></th>\n",
       "      <th>k</th>\n",
       "      <th>i</th>\n",
       "    </tr>\n",
       "  </thead>\n",
       "  <tbody>\n",
       "    <tr>\n",
       "      <th>count</th>\n",
       "      <td>1.000000</td>\n",
       "      <td>1.000000</td>\n",
       "    </tr>\n",
       "    <tr>\n",
       "      <th>mean</th>\n",
       "      <td>0.840338</td>\n",
       "      <td>0.599193</td>\n",
       "    </tr>\n",
       "    <tr>\n",
       "      <th>std</th>\n",
       "      <td>NaN</td>\n",
       "      <td>NaN</td>\n",
       "    </tr>\n",
       "    <tr>\n",
       "      <th>min</th>\n",
       "      <td>0.840338</td>\n",
       "      <td>0.599193</td>\n",
       "    </tr>\n",
       "    <tr>\n",
       "      <th>25%</th>\n",
       "      <td>0.840338</td>\n",
       "      <td>0.599193</td>\n",
       "    </tr>\n",
       "    <tr>\n",
       "      <th>50%</th>\n",
       "      <td>0.840338</td>\n",
       "      <td>0.599193</td>\n",
       "    </tr>\n",
       "    <tr>\n",
       "      <th>75%</th>\n",
       "      <td>0.840338</td>\n",
       "      <td>0.599193</td>\n",
       "    </tr>\n",
       "    <tr>\n",
       "      <th>max</th>\n",
       "      <td>0.840338</td>\n",
       "      <td>0.599193</td>\n",
       "    </tr>\n",
       "  </tbody>\n",
       "</table>\n",
       "</div>"
      ],
      "text/plain": [
       "              k         i\n",
       "count  1.000000  1.000000\n",
       "mean   0.840338  0.599193\n",
       "std         NaN       NaN\n",
       "min    0.840338  0.599193\n",
       "25%    0.840338  0.599193\n",
       "50%    0.840338  0.599193\n",
       "75%    0.840338  0.599193\n",
       "max    0.840338  0.599193"
      ]
     },
     "execution_count": 670,
     "metadata": {},
     "output_type": "execute_result"
    }
   ],
   "source": [
    "f.describe()"
   ]
  },
  {
   "cell_type": "code",
   "execution_count": 671,
   "metadata": {},
   "outputs": [
    {
     "data": {
      "text/plain": [
       "<generator object DataFrame.iteritems at 0x7fb73abcf0f8>"
      ]
     },
     "execution_count": 671,
     "metadata": {},
     "output_type": "execute_result"
    }
   ],
   "source": [
    "f.iteritems()"
   ]
  },
  {
   "cell_type": "code",
   "execution_count": 674,
   "metadata": {},
   "outputs": [
    {
     "data": {
      "text/plain": [
       "<generator object DataFrame.iterrows at 0x7fb73abc7fc0>"
      ]
     },
     "execution_count": 674,
     "metadata": {},
     "output_type": "execute_result"
    }
   ],
   "source": [
    "f.iterrows()"
   ]
  },
  {
   "cell_type": "markdown",
   "metadata": {},
   "source": [
    "# groupby"
   ]
  },
  {
   "cell_type": "code",
   "execution_count": 356,
   "metadata": {},
   "outputs": [],
   "source": [
    "ipl_data={'team':('kolkata knight riders','mumbai indians','sunrises','chennai superkings','bengaluru','delhi daredevils'),\n",
    "         'rank':(789,787,789,123,899,456),\n",
    "            'year':(2014,2015,2016,2017,2018,2013) ,\n",
    "             'points':(456,789,456,456,789,123)}"
   ]
  },
  {
   "cell_type": "code",
   "execution_count": 357,
   "metadata": {},
   "outputs": [],
   "source": [
    "data=pd.DataFrame(ipl_data)"
   ]
  },
  {
   "cell_type": "code",
   "execution_count": 358,
   "metadata": {},
   "outputs": [
    {
     "data": {
      "text/html": [
       "<div>\n",
       "<style scoped>\n",
       "    .dataframe tbody tr th:only-of-type {\n",
       "        vertical-align: middle;\n",
       "    }\n",
       "\n",
       "    .dataframe tbody tr th {\n",
       "        vertical-align: top;\n",
       "    }\n",
       "\n",
       "    .dataframe thead th {\n",
       "        text-align: right;\n",
       "    }\n",
       "</style>\n",
       "<table border=\"1\" class=\"dataframe\">\n",
       "  <thead>\n",
       "    <tr style=\"text-align: right;\">\n",
       "      <th></th>\n",
       "      <th>points</th>\n",
       "      <th>rank</th>\n",
       "      <th>team</th>\n",
       "      <th>year</th>\n",
       "    </tr>\n",
       "  </thead>\n",
       "  <tbody>\n",
       "    <tr>\n",
       "      <th>0</th>\n",
       "      <td>456</td>\n",
       "      <td>789</td>\n",
       "      <td>kolkata knight riders</td>\n",
       "      <td>2014</td>\n",
       "    </tr>\n",
       "    <tr>\n",
       "      <th>1</th>\n",
       "      <td>789</td>\n",
       "      <td>787</td>\n",
       "      <td>mumbai indians</td>\n",
       "      <td>2015</td>\n",
       "    </tr>\n",
       "    <tr>\n",
       "      <th>2</th>\n",
       "      <td>456</td>\n",
       "      <td>789</td>\n",
       "      <td>sunrises</td>\n",
       "      <td>2016</td>\n",
       "    </tr>\n",
       "    <tr>\n",
       "      <th>3</th>\n",
       "      <td>456</td>\n",
       "      <td>123</td>\n",
       "      <td>chennai superkings</td>\n",
       "      <td>2017</td>\n",
       "    </tr>\n",
       "    <tr>\n",
       "      <th>4</th>\n",
       "      <td>789</td>\n",
       "      <td>899</td>\n",
       "      <td>bengaluru</td>\n",
       "      <td>2018</td>\n",
       "    </tr>\n",
       "    <tr>\n",
       "      <th>5</th>\n",
       "      <td>123</td>\n",
       "      <td>456</td>\n",
       "      <td>delhi daredevils</td>\n",
       "      <td>2013</td>\n",
       "    </tr>\n",
       "  </tbody>\n",
       "</table>\n",
       "</div>"
      ],
      "text/plain": [
       "   points  rank                   team  year\n",
       "0     456   789  kolkata knight riders  2014\n",
       "1     789   787         mumbai indians  2015\n",
       "2     456   789               sunrises  2016\n",
       "3     456   123     chennai superkings  2017\n",
       "4     789   899              bengaluru  2018\n",
       "5     123   456       delhi daredevils  2013"
      ]
     },
     "execution_count": 358,
     "metadata": {},
     "output_type": "execute_result"
    }
   ],
   "source": [
    "data"
   ]
  },
  {
   "cell_type": "code",
   "execution_count": null,
   "metadata": {},
   "outputs": [],
   "source": []
  },
  {
   "cell_type": "code",
   "execution_count": 365,
   "metadata": {},
   "outputs": [
    {
     "data": {
      "text/plain": [
       "{2013: Int64Index([5], dtype='int64'),\n",
       " 2014: Int64Index([0], dtype='int64'),\n",
       " 2015: Int64Index([1], dtype='int64'),\n",
       " 2016: Int64Index([2], dtype='int64'),\n",
       " 2017: Int64Index([3], dtype='int64'),\n",
       " 2018: Int64Index([4], dtype='int64')}"
      ]
     },
     "execution_count": 365,
     "metadata": {},
     "output_type": "execute_result"
    }
   ],
   "source": [
    "data.groupby('year').groups"
   ]
  },
  {
   "cell_type": "code",
   "execution_count": 362,
   "metadata": {},
   "outputs": [
    {
     "data": {
      "text/plain": [
       "int64     3\n",
       "object    1\n",
       "dtype: int64"
      ]
     },
     "execution_count": 362,
     "metadata": {},
     "output_type": "execute_result"
    }
   ],
   "source": [
    "data.get_dtype_counts()"
   ]
  },
  {
   "cell_type": "code",
   "execution_count": 366,
   "metadata": {},
   "outputs": [
    {
     "data": {
      "text/plain": [
       "{(123, 'delhi daredevils'): Int64Index([5], dtype='int64'),\n",
       " (456, 'chennai superkings'): Int64Index([3], dtype='int64'),\n",
       " (456, 'kolkata knight riders'): Int64Index([0], dtype='int64'),\n",
       " (456, 'sunrises'): Int64Index([2], dtype='int64'),\n",
       " (789, 'bengaluru'): Int64Index([4], dtype='int64'),\n",
       " (789, 'mumbai indians'): Int64Index([1], dtype='int64')}"
      ]
     },
     "execution_count": 366,
     "metadata": {},
     "output_type": "execute_result"
    }
   ],
   "source": [
    "data.groupby(['points','team']).groups"
   ]
  },
  {
   "cell_type": "code",
   "execution_count": 369,
   "metadata": {},
   "outputs": [
    {
     "data": {
      "text/plain": [
       "{'bengaluru': Int64Index([4], dtype='int64'),\n",
       " 'chennai superkings': Int64Index([3], dtype='int64'),\n",
       " 'delhi daredevils': Int64Index([5], dtype='int64'),\n",
       " 'kolkata knight riders': Int64Index([0], dtype='int64'),\n",
       " 'mumbai indians': Int64Index([1], dtype='int64'),\n",
       " 'sunrises': Int64Index([2], dtype='int64')}"
      ]
     },
     "execution_count": 369,
     "metadata": {},
     "output_type": "execute_result"
    }
   ],
   "source": [
    "data.groupby('team',axis=0).groups"
   ]
  },
  {
   "cell_type": "code",
   "execution_count": 370,
   "metadata": {},
   "outputs": [
    {
     "data": {
      "text/plain": [
       "{}"
      ]
     },
     "execution_count": 370,
     "metadata": {},
     "output_type": "execute_result"
    }
   ],
   "source": [
    "data.groupby('team',axis=1).groups"
   ]
  },
  {
   "cell_type": "code",
   "execution_count": 378,
   "metadata": {},
   "outputs": [],
   "source": [
    "f=pd.DataFrame(data)"
   ]
  },
  {
   "cell_type": "code",
   "execution_count": 383,
   "metadata": {},
   "outputs": [
    {
     "data": {
      "text/html": [
       "<div>\n",
       "<style scoped>\n",
       "    .dataframe tbody tr th:only-of-type {\n",
       "        vertical-align: middle;\n",
       "    }\n",
       "\n",
       "    .dataframe tbody tr th {\n",
       "        vertical-align: top;\n",
       "    }\n",
       "\n",
       "    .dataframe thead th {\n",
       "        text-align: right;\n",
       "    }\n",
       "</style>\n",
       "<table border=\"1\" class=\"dataframe\">\n",
       "  <thead>\n",
       "    <tr style=\"text-align: right;\">\n",
       "      <th></th>\n",
       "      <th>points</th>\n",
       "      <th>rank</th>\n",
       "      <th>team</th>\n",
       "      <th>year</th>\n",
       "    </tr>\n",
       "  </thead>\n",
       "  <tbody>\n",
       "    <tr>\n",
       "      <th>0</th>\n",
       "      <td>456</td>\n",
       "      <td>789</td>\n",
       "      <td>kolkata knight riders</td>\n",
       "      <td>2014</td>\n",
       "    </tr>\n",
       "    <tr>\n",
       "      <th>1</th>\n",
       "      <td>789</td>\n",
       "      <td>787</td>\n",
       "      <td>mumbai indians</td>\n",
       "      <td>2015</td>\n",
       "    </tr>\n",
       "    <tr>\n",
       "      <th>2</th>\n",
       "      <td>456</td>\n",
       "      <td>789</td>\n",
       "      <td>sunrises</td>\n",
       "      <td>2016</td>\n",
       "    </tr>\n",
       "    <tr>\n",
       "      <th>3</th>\n",
       "      <td>456</td>\n",
       "      <td>123</td>\n",
       "      <td>chennai superkings</td>\n",
       "      <td>2017</td>\n",
       "    </tr>\n",
       "    <tr>\n",
       "      <th>4</th>\n",
       "      <td>789</td>\n",
       "      <td>899</td>\n",
       "      <td>bengaluru</td>\n",
       "      <td>2018</td>\n",
       "    </tr>\n",
       "    <tr>\n",
       "      <th>5</th>\n",
       "      <td>123</td>\n",
       "      <td>456</td>\n",
       "      <td>delhi daredevils</td>\n",
       "      <td>2013</td>\n",
       "    </tr>\n",
       "  </tbody>\n",
       "</table>\n",
       "</div>"
      ],
      "text/plain": [
       "   points  rank                   team  year\n",
       "0     456   789  kolkata knight riders  2014\n",
       "1     789   787         mumbai indians  2015\n",
       "2     456   789               sunrises  2016\n",
       "3     456   123     chennai superkings  2017\n",
       "4     789   899              bengaluru  2018\n",
       "5     123   456       delhi daredevils  2013"
      ]
     },
     "execution_count": 383,
     "metadata": {},
     "output_type": "execute_result"
    }
   ],
   "source": [
    "f"
   ]
  },
  {
   "cell_type": "code",
   "execution_count": 379,
   "metadata": {},
   "outputs": [],
   "source": [
    "k=f.groupby('year')"
   ]
  },
  {
   "cell_type": "code",
   "execution_count": 384,
   "metadata": {},
   "outputs": [
    {
     "data": {
      "text/plain": [
       "<pandas.core.groupby.DataFrameGroupBy object at 0x7fd092047d68>"
      ]
     },
     "execution_count": 384,
     "metadata": {},
     "output_type": "execute_result"
    }
   ],
   "source": [
    "k"
   ]
  },
  {
   "cell_type": "code",
   "execution_count": 388,
   "metadata": {},
   "outputs": [
    {
     "name": "stdout",
     "output_type": "stream",
     "text": [
      "2013\n",
      "   points  rank              team  year\n",
      "5     123   456  delhi daredevils  2013\n",
      "2014\n",
      "   points  rank                   team  year\n",
      "0     456   789  kolkata knight riders  2014\n",
      "2015\n",
      "   points  rank            team  year\n",
      "1     789   787  mumbai indians  2015\n",
      "2016\n",
      "   points  rank      team  year\n",
      "2     456   789  sunrises  2016\n",
      "2017\n",
      "   points  rank                team  year\n",
      "3     456   123  chennai superkings  2017\n",
      "2018\n",
      "   points  rank       team  year\n",
      "4     789   899  bengaluru  2018\n"
     ]
    }
   ],
   "source": [
    "for name,group in k:\n",
    "    print (name)\n",
    "    print (group)"
   ]
  },
  {
   "cell_type": "code",
   "execution_count": 389,
   "metadata": {},
   "outputs": [
    {
     "data": {
      "text/html": [
       "<div>\n",
       "<style scoped>\n",
       "    .dataframe tbody tr th:only-of-type {\n",
       "        vertical-align: middle;\n",
       "    }\n",
       "\n",
       "    .dataframe tbody tr th {\n",
       "        vertical-align: top;\n",
       "    }\n",
       "\n",
       "    .dataframe thead th {\n",
       "        text-align: right;\n",
       "    }\n",
       "</style>\n",
       "<table border=\"1\" class=\"dataframe\">\n",
       "  <thead>\n",
       "    <tr style=\"text-align: right;\">\n",
       "      <th></th>\n",
       "      <th>points</th>\n",
       "      <th>rank</th>\n",
       "      <th>team</th>\n",
       "      <th>year</th>\n",
       "    </tr>\n",
       "  </thead>\n",
       "  <tbody>\n",
       "    <tr>\n",
       "      <th>0</th>\n",
       "      <td>456</td>\n",
       "      <td>789</td>\n",
       "      <td>kolkata knight riders</td>\n",
       "      <td>2014</td>\n",
       "    </tr>\n",
       "    <tr>\n",
       "      <th>1</th>\n",
       "      <td>789</td>\n",
       "      <td>787</td>\n",
       "      <td>mumbai indians</td>\n",
       "      <td>2015</td>\n",
       "    </tr>\n",
       "    <tr>\n",
       "      <th>2</th>\n",
       "      <td>456</td>\n",
       "      <td>789</td>\n",
       "      <td>sunrises</td>\n",
       "      <td>2016</td>\n",
       "    </tr>\n",
       "    <tr>\n",
       "      <th>3</th>\n",
       "      <td>456</td>\n",
       "      <td>123</td>\n",
       "      <td>chennai superkings</td>\n",
       "      <td>2017</td>\n",
       "    </tr>\n",
       "    <tr>\n",
       "      <th>4</th>\n",
       "      <td>789</td>\n",
       "      <td>899</td>\n",
       "      <td>bengaluru</td>\n",
       "      <td>2018</td>\n",
       "    </tr>\n",
       "    <tr>\n",
       "      <th>5</th>\n",
       "      <td>123</td>\n",
       "      <td>456</td>\n",
       "      <td>delhi daredevils</td>\n",
       "      <td>2013</td>\n",
       "    </tr>\n",
       "  </tbody>\n",
       "</table>\n",
       "</div>"
      ],
      "text/plain": [
       "   points  rank                   team  year\n",
       "0     456   789  kolkata knight riders  2014\n",
       "1     789   787         mumbai indians  2015\n",
       "2     456   789               sunrises  2016\n",
       "3     456   123     chennai superkings  2017\n",
       "4     789   899              bengaluru  2018\n",
       "5     123   456       delhi daredevils  2013"
      ]
     },
     "execution_count": 389,
     "metadata": {},
     "output_type": "execute_result"
    }
   ],
   "source": [
    "f"
   ]
  },
  {
   "cell_type": "code",
   "execution_count": 390,
   "metadata": {},
   "outputs": [
    {
     "data": {
      "text/plain": [
       "{2013: Int64Index([5], dtype='int64'),\n",
       " 2014: Int64Index([0], dtype='int64'),\n",
       " 2015: Int64Index([1], dtype='int64'),\n",
       " 2016: Int64Index([2], dtype='int64'),\n",
       " 2017: Int64Index([3], dtype='int64'),\n",
       " 2018: Int64Index([4], dtype='int64')}"
      ]
     },
     "execution_count": 390,
     "metadata": {},
     "output_type": "execute_result"
    }
   ],
   "source": [
    "k.groups"
   ]
  },
  {
   "cell_type": "code",
   "execution_count": 391,
   "metadata": {},
   "outputs": [
    {
     "data": {
      "text/html": [
       "<div>\n",
       "<style scoped>\n",
       "    .dataframe tbody tr th:only-of-type {\n",
       "        vertical-align: middle;\n",
       "    }\n",
       "\n",
       "    .dataframe tbody tr th {\n",
       "        vertical-align: top;\n",
       "    }\n",
       "\n",
       "    .dataframe thead th {\n",
       "        text-align: right;\n",
       "    }\n",
       "</style>\n",
       "<table border=\"1\" class=\"dataframe\">\n",
       "  <thead>\n",
       "    <tr style=\"text-align: right;\">\n",
       "      <th></th>\n",
       "      <th>points</th>\n",
       "      <th>rank</th>\n",
       "      <th>team</th>\n",
       "      <th>year</th>\n",
       "    </tr>\n",
       "  </thead>\n",
       "  <tbody>\n",
       "    <tr>\n",
       "      <th>4</th>\n",
       "      <td>789</td>\n",
       "      <td>899</td>\n",
       "      <td>bengaluru</td>\n",
       "      <td>2018</td>\n",
       "    </tr>\n",
       "  </tbody>\n",
       "</table>\n",
       "</div>"
      ],
      "text/plain": [
       "   points  rank       team  year\n",
       "4     789   899  bengaluru  2018"
      ]
     },
     "execution_count": 391,
     "metadata": {},
     "output_type": "execute_result"
    }
   ],
   "source": [
    "k.get_group(2018)"
   ]
  },
  {
   "cell_type": "code",
   "execution_count": 394,
   "metadata": {},
   "outputs": [
    {
     "data": {
      "text/html": [
       "<div>\n",
       "<style scoped>\n",
       "    .dataframe tbody tr th:only-of-type {\n",
       "        vertical-align: middle;\n",
       "    }\n",
       "\n",
       "    .dataframe tbody tr th {\n",
       "        vertical-align: top;\n",
       "    }\n",
       "\n",
       "    .dataframe thead th {\n",
       "        text-align: right;\n",
       "    }\n",
       "</style>\n",
       "<table border=\"1\" class=\"dataframe\">\n",
       "  <thead>\n",
       "    <tr style=\"text-align: right;\">\n",
       "      <th></th>\n",
       "      <th>points</th>\n",
       "      <th>rank</th>\n",
       "      <th>team</th>\n",
       "    </tr>\n",
       "    <tr>\n",
       "      <th>year</th>\n",
       "      <th></th>\n",
       "      <th></th>\n",
       "      <th></th>\n",
       "    </tr>\n",
       "  </thead>\n",
       "  <tbody>\n",
       "    <tr>\n",
       "      <th>2013</th>\n",
       "      <td>1</td>\n",
       "      <td>1</td>\n",
       "      <td>1</td>\n",
       "    </tr>\n",
       "    <tr>\n",
       "      <th>2014</th>\n",
       "      <td>1</td>\n",
       "      <td>1</td>\n",
       "      <td>1</td>\n",
       "    </tr>\n",
       "    <tr>\n",
       "      <th>2015</th>\n",
       "      <td>1</td>\n",
       "      <td>1</td>\n",
       "      <td>1</td>\n",
       "    </tr>\n",
       "    <tr>\n",
       "      <th>2016</th>\n",
       "      <td>1</td>\n",
       "      <td>1</td>\n",
       "      <td>1</td>\n",
       "    </tr>\n",
       "    <tr>\n",
       "      <th>2017</th>\n",
       "      <td>1</td>\n",
       "      <td>1</td>\n",
       "      <td>1</td>\n",
       "    </tr>\n",
       "    <tr>\n",
       "      <th>2018</th>\n",
       "      <td>1</td>\n",
       "      <td>1</td>\n",
       "      <td>1</td>\n",
       "    </tr>\n",
       "  </tbody>\n",
       "</table>\n",
       "</div>"
      ],
      "text/plain": [
       "      points  rank  team\n",
       "year                    \n",
       "2013       1     1     1\n",
       "2014       1     1     1\n",
       "2015       1     1     1\n",
       "2016       1     1     1\n",
       "2017       1     1     1\n",
       "2018       1     1     1"
      ]
     },
     "execution_count": 394,
     "metadata": {},
     "output_type": "execute_result"
    }
   ],
   "source": [
    "k.agg(np.size)"
   ]
  },
  {
   "cell_type": "code",
   "execution_count": 393,
   "metadata": {},
   "outputs": [
    {
     "data": {
      "text/plain": [
       "year\n",
       "2013    123\n",
       "2014    456\n",
       "2015    789\n",
       "2016    456\n",
       "2017    456\n",
       "2018    789\n",
       "Name: points, dtype: int64"
      ]
     },
     "execution_count": 393,
     "metadata": {},
     "output_type": "execute_result"
    }
   ],
   "source": [
    "k['points'].agg(np.mean)"
   ]
  },
  {
   "cell_type": "code",
   "execution_count": 395,
   "metadata": {},
   "outputs": [],
   "source": [
    "score=lambda x:(x-x.mean())/x.std()*10"
   ]
  },
  {
   "cell_type": "code",
   "execution_count": 396,
   "metadata": {},
   "outputs": [
    {
     "data": {
      "text/html": [
       "<div>\n",
       "<style scoped>\n",
       "    .dataframe tbody tr th:only-of-type {\n",
       "        vertical-align: middle;\n",
       "    }\n",
       "\n",
       "    .dataframe tbody tr th {\n",
       "        vertical-align: top;\n",
       "    }\n",
       "\n",
       "    .dataframe thead th {\n",
       "        text-align: right;\n",
       "    }\n",
       "</style>\n",
       "<table border=\"1\" class=\"dataframe\">\n",
       "  <thead>\n",
       "    <tr style=\"text-align: right;\">\n",
       "      <th></th>\n",
       "      <th>points</th>\n",
       "      <th>rank</th>\n",
       "    </tr>\n",
       "  </thead>\n",
       "  <tbody>\n",
       "    <tr>\n",
       "      <th>0</th>\n",
       "      <td>NaN</td>\n",
       "      <td>NaN</td>\n",
       "    </tr>\n",
       "    <tr>\n",
       "      <th>1</th>\n",
       "      <td>NaN</td>\n",
       "      <td>NaN</td>\n",
       "    </tr>\n",
       "    <tr>\n",
       "      <th>2</th>\n",
       "      <td>NaN</td>\n",
       "      <td>NaN</td>\n",
       "    </tr>\n",
       "    <tr>\n",
       "      <th>3</th>\n",
       "      <td>NaN</td>\n",
       "      <td>NaN</td>\n",
       "    </tr>\n",
       "    <tr>\n",
       "      <th>4</th>\n",
       "      <td>NaN</td>\n",
       "      <td>NaN</td>\n",
       "    </tr>\n",
       "    <tr>\n",
       "      <th>5</th>\n",
       "      <td>NaN</td>\n",
       "      <td>NaN</td>\n",
       "    </tr>\n",
       "  </tbody>\n",
       "</table>\n",
       "</div>"
      ],
      "text/plain": [
       "   points  rank\n",
       "0     NaN   NaN\n",
       "1     NaN   NaN\n",
       "2     NaN   NaN\n",
       "3     NaN   NaN\n",
       "4     NaN   NaN\n",
       "5     NaN   NaN"
      ]
     },
     "execution_count": 396,
     "metadata": {},
     "output_type": "execute_result"
    }
   ],
   "source": [
    "k.transform(score)"
   ]
  },
  {
   "cell_type": "code",
   "execution_count": 1,
   "metadata": {},
   "outputs": [],
   "source": [
    "import pandas as pd"
   ]
  },
  {
   "cell_type": "code",
   "execution_count": 6,
   "metadata": {},
   "outputs": [],
   "source": [
    "left=pd.DataFrame({'id':[1,2,3,4,5,6,7],\n",
    "                'names':['kiran','kumar','rani','yeshwith','bhikshalarao','nagaraju','vijayalakshmi'],\n",
    "                'subjects':['sub1','sub2','sub4','sub5','sub8','sub9','sub6']})\n",
    "right=pd.DataFrame({'id':[1,2,3,4,5,6,7],\n",
    "                   'names':['Billy', 'Brian', 'Bran', 'Bryce', 'Betty','devil','god'],\n",
    "                   'subjects':['sub2','sub4','sub3','sub6','sub5','sub9','sub8']})"
   ]
  },
  {
   "cell_type": "code",
   "execution_count": 7,
   "metadata": {},
   "outputs": [
    {
     "data": {
      "text/html": [
       "<div>\n",
       "<style scoped>\n",
       "    .dataframe tbody tr th:only-of-type {\n",
       "        vertical-align: middle;\n",
       "    }\n",
       "\n",
       "    .dataframe tbody tr th {\n",
       "        vertical-align: top;\n",
       "    }\n",
       "\n",
       "    .dataframe thead th {\n",
       "        text-align: right;\n",
       "    }\n",
       "</style>\n",
       "<table border=\"1\" class=\"dataframe\">\n",
       "  <thead>\n",
       "    <tr style=\"text-align: right;\">\n",
       "      <th></th>\n",
       "      <th>id</th>\n",
       "      <th>names</th>\n",
       "      <th>subjects</th>\n",
       "    </tr>\n",
       "  </thead>\n",
       "  <tbody>\n",
       "    <tr>\n",
       "      <th>0</th>\n",
       "      <td>1</td>\n",
       "      <td>kiran</td>\n",
       "      <td>sub1</td>\n",
       "    </tr>\n",
       "    <tr>\n",
       "      <th>1</th>\n",
       "      <td>2</td>\n",
       "      <td>kumar</td>\n",
       "      <td>sub2</td>\n",
       "    </tr>\n",
       "    <tr>\n",
       "      <th>2</th>\n",
       "      <td>3</td>\n",
       "      <td>rani</td>\n",
       "      <td>sub4</td>\n",
       "    </tr>\n",
       "    <tr>\n",
       "      <th>3</th>\n",
       "      <td>4</td>\n",
       "      <td>yeshwith</td>\n",
       "      <td>sub5</td>\n",
       "    </tr>\n",
       "    <tr>\n",
       "      <th>4</th>\n",
       "      <td>5</td>\n",
       "      <td>bhikshalarao</td>\n",
       "      <td>sub8</td>\n",
       "    </tr>\n",
       "    <tr>\n",
       "      <th>5</th>\n",
       "      <td>6</td>\n",
       "      <td>nagaraju</td>\n",
       "      <td>sub9</td>\n",
       "    </tr>\n",
       "    <tr>\n",
       "      <th>6</th>\n",
       "      <td>7</td>\n",
       "      <td>vijayalakshmi</td>\n",
       "      <td>sub6</td>\n",
       "    </tr>\n",
       "  </tbody>\n",
       "</table>\n",
       "</div>"
      ],
      "text/plain": [
       "   id          names subjects\n",
       "0   1          kiran     sub1\n",
       "1   2          kumar     sub2\n",
       "2   3           rani     sub4\n",
       "3   4       yeshwith     sub5\n",
       "4   5   bhikshalarao     sub8\n",
       "5   6       nagaraju     sub9\n",
       "6   7  vijayalakshmi     sub6"
      ]
     },
     "execution_count": 7,
     "metadata": {},
     "output_type": "execute_result"
    }
   ],
   "source": [
    "left"
   ]
  },
  {
   "cell_type": "code",
   "execution_count": 8,
   "metadata": {},
   "outputs": [
    {
     "data": {
      "text/html": [
       "<div>\n",
       "<style scoped>\n",
       "    .dataframe tbody tr th:only-of-type {\n",
       "        vertical-align: middle;\n",
       "    }\n",
       "\n",
       "    .dataframe tbody tr th {\n",
       "        vertical-align: top;\n",
       "    }\n",
       "\n",
       "    .dataframe thead th {\n",
       "        text-align: right;\n",
       "    }\n",
       "</style>\n",
       "<table border=\"1\" class=\"dataframe\">\n",
       "  <thead>\n",
       "    <tr style=\"text-align: right;\">\n",
       "      <th></th>\n",
       "      <th>id</th>\n",
       "      <th>names</th>\n",
       "      <th>subjects</th>\n",
       "    </tr>\n",
       "  </thead>\n",
       "  <tbody>\n",
       "    <tr>\n",
       "      <th>0</th>\n",
       "      <td>1</td>\n",
       "      <td>Billy</td>\n",
       "      <td>sub2</td>\n",
       "    </tr>\n",
       "    <tr>\n",
       "      <th>1</th>\n",
       "      <td>2</td>\n",
       "      <td>Brian</td>\n",
       "      <td>sub4</td>\n",
       "    </tr>\n",
       "    <tr>\n",
       "      <th>2</th>\n",
       "      <td>3</td>\n",
       "      <td>Bran</td>\n",
       "      <td>sub3</td>\n",
       "    </tr>\n",
       "    <tr>\n",
       "      <th>3</th>\n",
       "      <td>4</td>\n",
       "      <td>Bryce</td>\n",
       "      <td>sub6</td>\n",
       "    </tr>\n",
       "    <tr>\n",
       "      <th>4</th>\n",
       "      <td>5</td>\n",
       "      <td>Betty</td>\n",
       "      <td>sub5</td>\n",
       "    </tr>\n",
       "    <tr>\n",
       "      <th>5</th>\n",
       "      <td>6</td>\n",
       "      <td>devil</td>\n",
       "      <td>sub9</td>\n",
       "    </tr>\n",
       "    <tr>\n",
       "      <th>6</th>\n",
       "      <td>7</td>\n",
       "      <td>god</td>\n",
       "      <td>sub8</td>\n",
       "    </tr>\n",
       "  </tbody>\n",
       "</table>\n",
       "</div>"
      ],
      "text/plain": [
       "   id  names subjects\n",
       "0   1  Billy     sub2\n",
       "1   2  Brian     sub4\n",
       "2   3   Bran     sub3\n",
       "3   4  Bryce     sub6\n",
       "4   5  Betty     sub5\n",
       "5   6  devil     sub9\n",
       "6   7    god     sub8"
      ]
     },
     "execution_count": 8,
     "metadata": {},
     "output_type": "execute_result"
    }
   ],
   "source": [
    "right"
   ]
  },
  {
   "cell_type": "code",
   "execution_count": 9,
   "metadata": {},
   "outputs": [
    {
     "data": {
      "text/html": [
       "<div>\n",
       "<style scoped>\n",
       "    .dataframe tbody tr th:only-of-type {\n",
       "        vertical-align: middle;\n",
       "    }\n",
       "\n",
       "    .dataframe tbody tr th {\n",
       "        vertical-align: top;\n",
       "    }\n",
       "\n",
       "    .dataframe thead th {\n",
       "        text-align: right;\n",
       "    }\n",
       "</style>\n",
       "<table border=\"1\" class=\"dataframe\">\n",
       "  <thead>\n",
       "    <tr style=\"text-align: right;\">\n",
       "      <th></th>\n",
       "      <th>id</th>\n",
       "      <th>names_x</th>\n",
       "      <th>subjects_x</th>\n",
       "      <th>names_y</th>\n",
       "      <th>subjects_y</th>\n",
       "    </tr>\n",
       "  </thead>\n",
       "  <tbody>\n",
       "    <tr>\n",
       "      <th>0</th>\n",
       "      <td>1</td>\n",
       "      <td>kiran</td>\n",
       "      <td>sub1</td>\n",
       "      <td>Billy</td>\n",
       "      <td>sub2</td>\n",
       "    </tr>\n",
       "    <tr>\n",
       "      <th>1</th>\n",
       "      <td>2</td>\n",
       "      <td>kumar</td>\n",
       "      <td>sub2</td>\n",
       "      <td>Brian</td>\n",
       "      <td>sub4</td>\n",
       "    </tr>\n",
       "    <tr>\n",
       "      <th>2</th>\n",
       "      <td>3</td>\n",
       "      <td>rani</td>\n",
       "      <td>sub4</td>\n",
       "      <td>Bran</td>\n",
       "      <td>sub3</td>\n",
       "    </tr>\n",
       "    <tr>\n",
       "      <th>3</th>\n",
       "      <td>4</td>\n",
       "      <td>yeshwith</td>\n",
       "      <td>sub5</td>\n",
       "      <td>Bryce</td>\n",
       "      <td>sub6</td>\n",
       "    </tr>\n",
       "    <tr>\n",
       "      <th>4</th>\n",
       "      <td>5</td>\n",
       "      <td>bhikshalarao</td>\n",
       "      <td>sub8</td>\n",
       "      <td>Betty</td>\n",
       "      <td>sub5</td>\n",
       "    </tr>\n",
       "    <tr>\n",
       "      <th>5</th>\n",
       "      <td>6</td>\n",
       "      <td>nagaraju</td>\n",
       "      <td>sub9</td>\n",
       "      <td>devil</td>\n",
       "      <td>sub9</td>\n",
       "    </tr>\n",
       "    <tr>\n",
       "      <th>6</th>\n",
       "      <td>7</td>\n",
       "      <td>vijayalakshmi</td>\n",
       "      <td>sub6</td>\n",
       "      <td>god</td>\n",
       "      <td>sub8</td>\n",
       "    </tr>\n",
       "  </tbody>\n",
       "</table>\n",
       "</div>"
      ],
      "text/plain": [
       "   id        names_x subjects_x names_y subjects_y\n",
       "0   1          kiran       sub1   Billy       sub2\n",
       "1   2          kumar       sub2   Brian       sub4\n",
       "2   3           rani       sub4    Bran       sub3\n",
       "3   4       yeshwith       sub5   Bryce       sub6\n",
       "4   5   bhikshalarao       sub8   Betty       sub5\n",
       "5   6       nagaraju       sub9   devil       sub9\n",
       "6   7  vijayalakshmi       sub6     god       sub8"
      ]
     },
     "execution_count": 9,
     "metadata": {},
     "output_type": "execute_result"
    }
   ],
   "source": [
    "pd.merge(left,right,on='id')"
   ]
  },
  {
   "cell_type": "code",
   "execution_count": 11,
   "metadata": {},
   "outputs": [
    {
     "data": {
      "text/html": [
       "<div>\n",
       "<style scoped>\n",
       "    .dataframe tbody tr th:only-of-type {\n",
       "        vertical-align: middle;\n",
       "    }\n",
       "\n",
       "    .dataframe tbody tr th {\n",
       "        vertical-align: top;\n",
       "    }\n",
       "\n",
       "    .dataframe thead th {\n",
       "        text-align: right;\n",
       "    }\n",
       "</style>\n",
       "<table border=\"1\" class=\"dataframe\">\n",
       "  <thead>\n",
       "    <tr style=\"text-align: right;\">\n",
       "      <th></th>\n",
       "      <th>id</th>\n",
       "      <th>names_x</th>\n",
       "      <th>subjects</th>\n",
       "      <th>names_y</th>\n",
       "    </tr>\n",
       "  </thead>\n",
       "  <tbody>\n",
       "    <tr>\n",
       "      <th>0</th>\n",
       "      <td>6</td>\n",
       "      <td>nagaraju</td>\n",
       "      <td>sub9</td>\n",
       "      <td>devil</td>\n",
       "    </tr>\n",
       "  </tbody>\n",
       "</table>\n",
       "</div>"
      ],
      "text/plain": [
       "   id   names_x subjects names_y\n",
       "0   6  nagaraju     sub9   devil"
      ]
     },
     "execution_count": 11,
     "metadata": {},
     "output_type": "execute_result"
    }
   ],
   "source": [
    "pd.merge(left,right,on=('id','subjects'))"
   ]
  },
  {
   "cell_type": "code",
   "execution_count": 14,
   "metadata": {},
   "outputs": [
    {
     "data": {
      "text/html": [
       "<div>\n",
       "<style scoped>\n",
       "    .dataframe tbody tr th:only-of-type {\n",
       "        vertical-align: middle;\n",
       "    }\n",
       "\n",
       "    .dataframe tbody tr th {\n",
       "        vertical-align: top;\n",
       "    }\n",
       "\n",
       "    .dataframe thead th {\n",
       "        text-align: right;\n",
       "    }\n",
       "</style>\n",
       "<table border=\"1\" class=\"dataframe\">\n",
       "  <thead>\n",
       "    <tr style=\"text-align: right;\">\n",
       "      <th></th>\n",
       "      <th>id</th>\n",
       "      <th>names_x</th>\n",
       "      <th>subjects_x</th>\n",
       "      <th>names_y</th>\n",
       "      <th>subjects_y</th>\n",
       "    </tr>\n",
       "  </thead>\n",
       "  <tbody>\n",
       "    <tr>\n",
       "      <th>0</th>\n",
       "      <td>1</td>\n",
       "      <td>kiran</td>\n",
       "      <td>sub1</td>\n",
       "      <td>Billy</td>\n",
       "      <td>sub2</td>\n",
       "    </tr>\n",
       "    <tr>\n",
       "      <th>1</th>\n",
       "      <td>2</td>\n",
       "      <td>kumar</td>\n",
       "      <td>sub2</td>\n",
       "      <td>Brian</td>\n",
       "      <td>sub4</td>\n",
       "    </tr>\n",
       "    <tr>\n",
       "      <th>2</th>\n",
       "      <td>3</td>\n",
       "      <td>rani</td>\n",
       "      <td>sub4</td>\n",
       "      <td>Bran</td>\n",
       "      <td>sub3</td>\n",
       "    </tr>\n",
       "    <tr>\n",
       "      <th>3</th>\n",
       "      <td>4</td>\n",
       "      <td>yeshwith</td>\n",
       "      <td>sub5</td>\n",
       "      <td>Bryce</td>\n",
       "      <td>sub6</td>\n",
       "    </tr>\n",
       "    <tr>\n",
       "      <th>4</th>\n",
       "      <td>5</td>\n",
       "      <td>bhikshalarao</td>\n",
       "      <td>sub8</td>\n",
       "      <td>Betty</td>\n",
       "      <td>sub5</td>\n",
       "    </tr>\n",
       "    <tr>\n",
       "      <th>5</th>\n",
       "      <td>6</td>\n",
       "      <td>nagaraju</td>\n",
       "      <td>sub9</td>\n",
       "      <td>devil</td>\n",
       "      <td>sub9</td>\n",
       "    </tr>\n",
       "    <tr>\n",
       "      <th>6</th>\n",
       "      <td>7</td>\n",
       "      <td>vijayalakshmi</td>\n",
       "      <td>sub6</td>\n",
       "      <td>god</td>\n",
       "      <td>sub8</td>\n",
       "    </tr>\n",
       "  </tbody>\n",
       "</table>\n",
       "</div>"
      ],
      "text/plain": [
       "   id        names_x subjects_x names_y subjects_y\n",
       "0   1          kiran       sub1   Billy       sub2\n",
       "1   2          kumar       sub2   Brian       sub4\n",
       "2   3           rani       sub4    Bran       sub3\n",
       "3   4       yeshwith       sub5   Bryce       sub6\n",
       "4   5   bhikshalarao       sub8   Betty       sub5\n",
       "5   6       nagaraju       sub9   devil       sub9\n",
       "6   7  vijayalakshmi       sub6     god       sub8"
      ]
     },
     "execution_count": 14,
     "metadata": {},
     "output_type": "execute_result"
    }
   ],
   "source": [
    "pd.merge(left,right,on='id',how='left')"
   ]
  },
  {
   "cell_type": "code",
   "execution_count": 15,
   "metadata": {},
   "outputs": [
    {
     "data": {
      "text/html": [
       "<div>\n",
       "<style scoped>\n",
       "    .dataframe tbody tr th:only-of-type {\n",
       "        vertical-align: middle;\n",
       "    }\n",
       "\n",
       "    .dataframe tbody tr th {\n",
       "        vertical-align: top;\n",
       "    }\n",
       "\n",
       "    .dataframe thead th {\n",
       "        text-align: right;\n",
       "    }\n",
       "</style>\n",
       "<table border=\"1\" class=\"dataframe\">\n",
       "  <thead>\n",
       "    <tr style=\"text-align: right;\">\n",
       "      <th></th>\n",
       "      <th>id_x</th>\n",
       "      <th>names_x</th>\n",
       "      <th>subjects</th>\n",
       "      <th>id_y</th>\n",
       "      <th>names_y</th>\n",
       "    </tr>\n",
       "  </thead>\n",
       "  <tbody>\n",
       "    <tr>\n",
       "      <th>0</th>\n",
       "      <td>2.0</td>\n",
       "      <td>kumar</td>\n",
       "      <td>sub2</td>\n",
       "      <td>1</td>\n",
       "      <td>Billy</td>\n",
       "    </tr>\n",
       "    <tr>\n",
       "      <th>1</th>\n",
       "      <td>3.0</td>\n",
       "      <td>rani</td>\n",
       "      <td>sub4</td>\n",
       "      <td>2</td>\n",
       "      <td>Brian</td>\n",
       "    </tr>\n",
       "    <tr>\n",
       "      <th>2</th>\n",
       "      <td>4.0</td>\n",
       "      <td>yeshwith</td>\n",
       "      <td>sub5</td>\n",
       "      <td>5</td>\n",
       "      <td>Betty</td>\n",
       "    </tr>\n",
       "    <tr>\n",
       "      <th>3</th>\n",
       "      <td>5.0</td>\n",
       "      <td>bhikshalarao</td>\n",
       "      <td>sub8</td>\n",
       "      <td>7</td>\n",
       "      <td>god</td>\n",
       "    </tr>\n",
       "    <tr>\n",
       "      <th>4</th>\n",
       "      <td>6.0</td>\n",
       "      <td>nagaraju</td>\n",
       "      <td>sub9</td>\n",
       "      <td>6</td>\n",
       "      <td>devil</td>\n",
       "    </tr>\n",
       "    <tr>\n",
       "      <th>5</th>\n",
       "      <td>7.0</td>\n",
       "      <td>vijayalakshmi</td>\n",
       "      <td>sub6</td>\n",
       "      <td>4</td>\n",
       "      <td>Bryce</td>\n",
       "    </tr>\n",
       "    <tr>\n",
       "      <th>6</th>\n",
       "      <td>NaN</td>\n",
       "      <td>NaN</td>\n",
       "      <td>sub3</td>\n",
       "      <td>3</td>\n",
       "      <td>Bran</td>\n",
       "    </tr>\n",
       "  </tbody>\n",
       "</table>\n",
       "</div>"
      ],
      "text/plain": [
       "   id_x        names_x subjects  id_y names_y\n",
       "0   2.0          kumar     sub2     1   Billy\n",
       "1   3.0           rani     sub4     2   Brian\n",
       "2   4.0       yeshwith     sub5     5   Betty\n",
       "3   5.0   bhikshalarao     sub8     7     god\n",
       "4   6.0       nagaraju     sub9     6   devil\n",
       "5   7.0  vijayalakshmi     sub6     4   Bryce\n",
       "6   NaN            NaN     sub3     3    Bran"
      ]
     },
     "execution_count": 15,
     "metadata": {},
     "output_type": "execute_result"
    }
   ],
   "source": [
    "pd.merge(left,right,on='subjects',how='right')"
   ]
  },
  {
   "cell_type": "code",
   "execution_count": 21,
   "metadata": {},
   "outputs": [
    {
     "data": {
      "text/html": [
       "<div>\n",
       "<style scoped>\n",
       "    .dataframe tbody tr th:only-of-type {\n",
       "        vertical-align: middle;\n",
       "    }\n",
       "\n",
       "    .dataframe tbody tr th {\n",
       "        vertical-align: top;\n",
       "    }\n",
       "\n",
       "    .dataframe thead th {\n",
       "        text-align: right;\n",
       "    }\n",
       "</style>\n",
       "<table border=\"1\" class=\"dataframe\">\n",
       "  <thead>\n",
       "    <tr style=\"text-align: right;\">\n",
       "      <th></th>\n",
       "      <th>id_x</th>\n",
       "      <th>names_x</th>\n",
       "      <th>subjects</th>\n",
       "      <th>id_y</th>\n",
       "      <th>names_y</th>\n",
       "    </tr>\n",
       "  </thead>\n",
       "  <tbody>\n",
       "    <tr>\n",
       "      <th>0</th>\n",
       "      <td>2</td>\n",
       "      <td>kumar</td>\n",
       "      <td>sub2</td>\n",
       "      <td>1</td>\n",
       "      <td>Billy</td>\n",
       "    </tr>\n",
       "    <tr>\n",
       "      <th>1</th>\n",
       "      <td>3</td>\n",
       "      <td>rani</td>\n",
       "      <td>sub4</td>\n",
       "      <td>2</td>\n",
       "      <td>Brian</td>\n",
       "    </tr>\n",
       "    <tr>\n",
       "      <th>2</th>\n",
       "      <td>4</td>\n",
       "      <td>yeshwith</td>\n",
       "      <td>sub5</td>\n",
       "      <td>5</td>\n",
       "      <td>Betty</td>\n",
       "    </tr>\n",
       "    <tr>\n",
       "      <th>3</th>\n",
       "      <td>5</td>\n",
       "      <td>bhikshalarao</td>\n",
       "      <td>sub8</td>\n",
       "      <td>7</td>\n",
       "      <td>god</td>\n",
       "    </tr>\n",
       "    <tr>\n",
       "      <th>4</th>\n",
       "      <td>6</td>\n",
       "      <td>nagaraju</td>\n",
       "      <td>sub9</td>\n",
       "      <td>6</td>\n",
       "      <td>devil</td>\n",
       "    </tr>\n",
       "    <tr>\n",
       "      <th>5</th>\n",
       "      <td>7</td>\n",
       "      <td>vijayalakshmi</td>\n",
       "      <td>sub6</td>\n",
       "      <td>4</td>\n",
       "      <td>Bryce</td>\n",
       "    </tr>\n",
       "  </tbody>\n",
       "</table>\n",
       "</div>"
      ],
      "text/plain": [
       "   id_x        names_x subjects  id_y names_y\n",
       "0     2          kumar     sub2     1   Billy\n",
       "1     3           rani     sub4     2   Brian\n",
       "2     4       yeshwith     sub5     5   Betty\n",
       "3     5   bhikshalarao     sub8     7     god\n",
       "4     6       nagaraju     sub9     6   devil\n",
       "5     7  vijayalakshmi     sub6     4   Bryce"
      ]
     },
     "execution_count": 21,
     "metadata": {},
     "output_type": "execute_result"
    }
   ],
   "source": [
    "pd.merge(left,right,how='inner',on='subjects')"
   ]
  },
  {
   "cell_type": "code",
   "execution_count": 23,
   "metadata": {},
   "outputs": [
    {
     "data": {
      "text/html": [
       "<div>\n",
       "<style scoped>\n",
       "    .dataframe tbody tr th:only-of-type {\n",
       "        vertical-align: middle;\n",
       "    }\n",
       "\n",
       "    .dataframe tbody tr th {\n",
       "        vertical-align: top;\n",
       "    }\n",
       "\n",
       "    .dataframe thead th {\n",
       "        text-align: right;\n",
       "    }\n",
       "</style>\n",
       "<table border=\"1\" class=\"dataframe\">\n",
       "  <thead>\n",
       "    <tr style=\"text-align: right;\">\n",
       "      <th></th>\n",
       "      <th>id</th>\n",
       "      <th>names</th>\n",
       "      <th>subjects</th>\n",
       "    </tr>\n",
       "  </thead>\n",
       "  <tbody>\n",
       "    <tr>\n",
       "      <th>0</th>\n",
       "      <td>1</td>\n",
       "      <td>Billy</td>\n",
       "      <td>sub2</td>\n",
       "    </tr>\n",
       "    <tr>\n",
       "      <th>1</th>\n",
       "      <td>2</td>\n",
       "      <td>Brian</td>\n",
       "      <td>sub4</td>\n",
       "    </tr>\n",
       "    <tr>\n",
       "      <th>2</th>\n",
       "      <td>3</td>\n",
       "      <td>Bran</td>\n",
       "      <td>sub3</td>\n",
       "    </tr>\n",
       "    <tr>\n",
       "      <th>3</th>\n",
       "      <td>4</td>\n",
       "      <td>Bryce</td>\n",
       "      <td>sub6</td>\n",
       "    </tr>\n",
       "    <tr>\n",
       "      <th>4</th>\n",
       "      <td>5</td>\n",
       "      <td>Betty</td>\n",
       "      <td>sub5</td>\n",
       "    </tr>\n",
       "    <tr>\n",
       "      <th>5</th>\n",
       "      <td>6</td>\n",
       "      <td>devil</td>\n",
       "      <td>sub9</td>\n",
       "    </tr>\n",
       "    <tr>\n",
       "      <th>6</th>\n",
       "      <td>7</td>\n",
       "      <td>god</td>\n",
       "      <td>sub8</td>\n",
       "    </tr>\n",
       "    <tr>\n",
       "      <th>0</th>\n",
       "      <td>1</td>\n",
       "      <td>kiran</td>\n",
       "      <td>sub1</td>\n",
       "    </tr>\n",
       "    <tr>\n",
       "      <th>1</th>\n",
       "      <td>2</td>\n",
       "      <td>kumar</td>\n",
       "      <td>sub2</td>\n",
       "    </tr>\n",
       "    <tr>\n",
       "      <th>2</th>\n",
       "      <td>3</td>\n",
       "      <td>rani</td>\n",
       "      <td>sub4</td>\n",
       "    </tr>\n",
       "    <tr>\n",
       "      <th>3</th>\n",
       "      <td>4</td>\n",
       "      <td>yeshwith</td>\n",
       "      <td>sub5</td>\n",
       "    </tr>\n",
       "    <tr>\n",
       "      <th>4</th>\n",
       "      <td>5</td>\n",
       "      <td>bhikshalarao</td>\n",
       "      <td>sub8</td>\n",
       "    </tr>\n",
       "    <tr>\n",
       "      <th>5</th>\n",
       "      <td>6</td>\n",
       "      <td>nagaraju</td>\n",
       "      <td>sub9</td>\n",
       "    </tr>\n",
       "    <tr>\n",
       "      <th>6</th>\n",
       "      <td>7</td>\n",
       "      <td>vijayalakshmi</td>\n",
       "      <td>sub6</td>\n",
       "    </tr>\n",
       "  </tbody>\n",
       "</table>\n",
       "</div>"
      ],
      "text/plain": [
       "   id          names subjects\n",
       "0   1          Billy     sub2\n",
       "1   2          Brian     sub4\n",
       "2   3           Bran     sub3\n",
       "3   4          Bryce     sub6\n",
       "4   5          Betty     sub5\n",
       "5   6          devil     sub9\n",
       "6   7            god     sub8\n",
       "0   1          kiran     sub1\n",
       "1   2          kumar     sub2\n",
       "2   3           rani     sub4\n",
       "3   4       yeshwith     sub5\n",
       "4   5   bhikshalarao     sub8\n",
       "5   6       nagaraju     sub9\n",
       "6   7  vijayalakshmi     sub6"
      ]
     },
     "execution_count": 23,
     "metadata": {},
     "output_type": "execute_result"
    }
   ],
   "source": [
    "pd.concat([right,left])"
   ]
  },
  {
   "cell_type": "code",
   "execution_count": 26,
   "metadata": {},
   "outputs": [
    {
     "data": {
      "text/html": [
       "<div>\n",
       "<style scoped>\n",
       "    .dataframe tbody tr th:only-of-type {\n",
       "        vertical-align: middle;\n",
       "    }\n",
       "\n",
       "    .dataframe tbody tr th {\n",
       "        vertical-align: top;\n",
       "    }\n",
       "\n",
       "    .dataframe thead th {\n",
       "        text-align: right;\n",
       "    }\n",
       "</style>\n",
       "<table border=\"1\" class=\"dataframe\">\n",
       "  <thead>\n",
       "    <tr style=\"text-align: right;\">\n",
       "      <th></th>\n",
       "      <th></th>\n",
       "      <th>id</th>\n",
       "      <th>names</th>\n",
       "      <th>subjects</th>\n",
       "    </tr>\n",
       "  </thead>\n",
       "  <tbody>\n",
       "    <tr>\n",
       "      <th rowspan=\"7\" valign=\"top\">y</th>\n",
       "      <th>0</th>\n",
       "      <td>1</td>\n",
       "      <td>Billy</td>\n",
       "      <td>sub2</td>\n",
       "    </tr>\n",
       "    <tr>\n",
       "      <th>1</th>\n",
       "      <td>2</td>\n",
       "      <td>Brian</td>\n",
       "      <td>sub4</td>\n",
       "    </tr>\n",
       "    <tr>\n",
       "      <th>2</th>\n",
       "      <td>3</td>\n",
       "      <td>Bran</td>\n",
       "      <td>sub3</td>\n",
       "    </tr>\n",
       "    <tr>\n",
       "      <th>3</th>\n",
       "      <td>4</td>\n",
       "      <td>Bryce</td>\n",
       "      <td>sub6</td>\n",
       "    </tr>\n",
       "    <tr>\n",
       "      <th>4</th>\n",
       "      <td>5</td>\n",
       "      <td>Betty</td>\n",
       "      <td>sub5</td>\n",
       "    </tr>\n",
       "    <tr>\n",
       "      <th>5</th>\n",
       "      <td>6</td>\n",
       "      <td>devil</td>\n",
       "      <td>sub9</td>\n",
       "    </tr>\n",
       "    <tr>\n",
       "      <th>6</th>\n",
       "      <td>7</td>\n",
       "      <td>god</td>\n",
       "      <td>sub8</td>\n",
       "    </tr>\n",
       "    <tr>\n",
       "      <th rowspan=\"7\" valign=\"top\">z</th>\n",
       "      <th>0</th>\n",
       "      <td>1</td>\n",
       "      <td>kiran</td>\n",
       "      <td>sub1</td>\n",
       "    </tr>\n",
       "    <tr>\n",
       "      <th>1</th>\n",
       "      <td>2</td>\n",
       "      <td>kumar</td>\n",
       "      <td>sub2</td>\n",
       "    </tr>\n",
       "    <tr>\n",
       "      <th>2</th>\n",
       "      <td>3</td>\n",
       "      <td>rani</td>\n",
       "      <td>sub4</td>\n",
       "    </tr>\n",
       "    <tr>\n",
       "      <th>3</th>\n",
       "      <td>4</td>\n",
       "      <td>yeshwith</td>\n",
       "      <td>sub5</td>\n",
       "    </tr>\n",
       "    <tr>\n",
       "      <th>4</th>\n",
       "      <td>5</td>\n",
       "      <td>bhikshalarao</td>\n",
       "      <td>sub8</td>\n",
       "    </tr>\n",
       "    <tr>\n",
       "      <th>5</th>\n",
       "      <td>6</td>\n",
       "      <td>nagaraju</td>\n",
       "      <td>sub9</td>\n",
       "    </tr>\n",
       "    <tr>\n",
       "      <th>6</th>\n",
       "      <td>7</td>\n",
       "      <td>vijayalakshmi</td>\n",
       "      <td>sub6</td>\n",
       "    </tr>\n",
       "  </tbody>\n",
       "</table>\n",
       "</div>"
      ],
      "text/plain": [
       "     id          names subjects\n",
       "y 0   1          Billy     sub2\n",
       "  1   2          Brian     sub4\n",
       "  2   3           Bran     sub3\n",
       "  3   4          Bryce     sub6\n",
       "  4   5          Betty     sub5\n",
       "  5   6          devil     sub9\n",
       "  6   7            god     sub8\n",
       "z 0   1          kiran     sub1\n",
       "  1   2          kumar     sub2\n",
       "  2   3           rani     sub4\n",
       "  3   4       yeshwith     sub5\n",
       "  4   5   bhikshalarao     sub8\n",
       "  5   6       nagaraju     sub9\n",
       "  6   7  vijayalakshmi     sub6"
      ]
     },
     "execution_count": 26,
     "metadata": {},
     "output_type": "execute_result"
    }
   ],
   "source": [
    "pd.concat([right,left],keys=['y','z'])"
   ]
  },
  {
   "cell_type": "code",
   "execution_count": 27,
   "metadata": {},
   "outputs": [
    {
     "data": {
      "text/html": [
       "<div>\n",
       "<style scoped>\n",
       "    .dataframe tbody tr th:only-of-type {\n",
       "        vertical-align: middle;\n",
       "    }\n",
       "\n",
       "    .dataframe tbody tr th {\n",
       "        vertical-align: top;\n",
       "    }\n",
       "\n",
       "    .dataframe thead th {\n",
       "        text-align: right;\n",
       "    }\n",
       "</style>\n",
       "<table border=\"1\" class=\"dataframe\">\n",
       "  <thead>\n",
       "    <tr style=\"text-align: right;\">\n",
       "      <th></th>\n",
       "      <th></th>\n",
       "      <th>id</th>\n",
       "      <th>names</th>\n",
       "      <th>subjects</th>\n",
       "    </tr>\n",
       "  </thead>\n",
       "  <tbody>\n",
       "    <tr>\n",
       "      <th rowspan=\"7\" valign=\"top\">l</th>\n",
       "      <th>0</th>\n",
       "      <td>1</td>\n",
       "      <td>Billy</td>\n",
       "      <td>sub2</td>\n",
       "    </tr>\n",
       "    <tr>\n",
       "      <th>1</th>\n",
       "      <td>2</td>\n",
       "      <td>Brian</td>\n",
       "      <td>sub4</td>\n",
       "    </tr>\n",
       "    <tr>\n",
       "      <th>2</th>\n",
       "      <td>3</td>\n",
       "      <td>Bran</td>\n",
       "      <td>sub3</td>\n",
       "    </tr>\n",
       "    <tr>\n",
       "      <th>3</th>\n",
       "      <td>4</td>\n",
       "      <td>Bryce</td>\n",
       "      <td>sub6</td>\n",
       "    </tr>\n",
       "    <tr>\n",
       "      <th>4</th>\n",
       "      <td>5</td>\n",
       "      <td>Betty</td>\n",
       "      <td>sub5</td>\n",
       "    </tr>\n",
       "    <tr>\n",
       "      <th>5</th>\n",
       "      <td>6</td>\n",
       "      <td>devil</td>\n",
       "      <td>sub9</td>\n",
       "    </tr>\n",
       "    <tr>\n",
       "      <th>6</th>\n",
       "      <td>7</td>\n",
       "      <td>god</td>\n",
       "      <td>sub8</td>\n",
       "    </tr>\n",
       "    <tr>\n",
       "      <th rowspan=\"7\" valign=\"top\">r</th>\n",
       "      <th>0</th>\n",
       "      <td>1</td>\n",
       "      <td>kiran</td>\n",
       "      <td>sub1</td>\n",
       "    </tr>\n",
       "    <tr>\n",
       "      <th>1</th>\n",
       "      <td>2</td>\n",
       "      <td>kumar</td>\n",
       "      <td>sub2</td>\n",
       "    </tr>\n",
       "    <tr>\n",
       "      <th>2</th>\n",
       "      <td>3</td>\n",
       "      <td>rani</td>\n",
       "      <td>sub4</td>\n",
       "    </tr>\n",
       "    <tr>\n",
       "      <th>3</th>\n",
       "      <td>4</td>\n",
       "      <td>yeshwith</td>\n",
       "      <td>sub5</td>\n",
       "    </tr>\n",
       "    <tr>\n",
       "      <th>4</th>\n",
       "      <td>5</td>\n",
       "      <td>bhikshalarao</td>\n",
       "      <td>sub8</td>\n",
       "    </tr>\n",
       "    <tr>\n",
       "      <th>5</th>\n",
       "      <td>6</td>\n",
       "      <td>nagaraju</td>\n",
       "      <td>sub9</td>\n",
       "    </tr>\n",
       "    <tr>\n",
       "      <th>6</th>\n",
       "      <td>7</td>\n",
       "      <td>vijayalakshmi</td>\n",
       "      <td>sub6</td>\n",
       "    </tr>\n",
       "  </tbody>\n",
       "</table>\n",
       "</div>"
      ],
      "text/plain": [
       "     id          names subjects\n",
       "l 0   1          Billy     sub2\n",
       "  1   2          Brian     sub4\n",
       "  2   3           Bran     sub3\n",
       "  3   4          Bryce     sub6\n",
       "  4   5          Betty     sub5\n",
       "  5   6          devil     sub9\n",
       "  6   7            god     sub8\n",
       "r 0   1          kiran     sub1\n",
       "  1   2          kumar     sub2\n",
       "  2   3           rani     sub4\n",
       "  3   4       yeshwith     sub5\n",
       "  4   5   bhikshalarao     sub8\n",
       "  5   6       nagaraju     sub9\n",
       "  6   7  vijayalakshmi     sub6"
      ]
     },
     "execution_count": 27,
     "metadata": {},
     "output_type": "execute_result"
    }
   ],
   "source": [
    "pd.concat([right,left],keys=['l','r'],ignore_index=False)"
   ]
  },
  {
   "cell_type": "code",
   "execution_count": 28,
   "metadata": {},
   "outputs": [
    {
     "data": {
      "text/html": [
       "<div>\n",
       "<style scoped>\n",
       "    .dataframe tbody tr th:only-of-type {\n",
       "        vertical-align: middle;\n",
       "    }\n",
       "\n",
       "    .dataframe tbody tr th {\n",
       "        vertical-align: top;\n",
       "    }\n",
       "\n",
       "    .dataframe thead th {\n",
       "        text-align: right;\n",
       "    }\n",
       "</style>\n",
       "<table border=\"1\" class=\"dataframe\">\n",
       "  <thead>\n",
       "    <tr style=\"text-align: right;\">\n",
       "      <th></th>\n",
       "      <th>id</th>\n",
       "      <th>names</th>\n",
       "      <th>subjects</th>\n",
       "    </tr>\n",
       "  </thead>\n",
       "  <tbody>\n",
       "    <tr>\n",
       "      <th>0</th>\n",
       "      <td>1</td>\n",
       "      <td>Billy</td>\n",
       "      <td>sub2</td>\n",
       "    </tr>\n",
       "    <tr>\n",
       "      <th>1</th>\n",
       "      <td>2</td>\n",
       "      <td>Brian</td>\n",
       "      <td>sub4</td>\n",
       "    </tr>\n",
       "    <tr>\n",
       "      <th>2</th>\n",
       "      <td>3</td>\n",
       "      <td>Bran</td>\n",
       "      <td>sub3</td>\n",
       "    </tr>\n",
       "    <tr>\n",
       "      <th>3</th>\n",
       "      <td>4</td>\n",
       "      <td>Bryce</td>\n",
       "      <td>sub6</td>\n",
       "    </tr>\n",
       "    <tr>\n",
       "      <th>4</th>\n",
       "      <td>5</td>\n",
       "      <td>Betty</td>\n",
       "      <td>sub5</td>\n",
       "    </tr>\n",
       "    <tr>\n",
       "      <th>5</th>\n",
       "      <td>6</td>\n",
       "      <td>devil</td>\n",
       "      <td>sub9</td>\n",
       "    </tr>\n",
       "    <tr>\n",
       "      <th>6</th>\n",
       "      <td>7</td>\n",
       "      <td>god</td>\n",
       "      <td>sub8</td>\n",
       "    </tr>\n",
       "    <tr>\n",
       "      <th>7</th>\n",
       "      <td>1</td>\n",
       "      <td>kiran</td>\n",
       "      <td>sub1</td>\n",
       "    </tr>\n",
       "    <tr>\n",
       "      <th>8</th>\n",
       "      <td>2</td>\n",
       "      <td>kumar</td>\n",
       "      <td>sub2</td>\n",
       "    </tr>\n",
       "    <tr>\n",
       "      <th>9</th>\n",
       "      <td>3</td>\n",
       "      <td>rani</td>\n",
       "      <td>sub4</td>\n",
       "    </tr>\n",
       "    <tr>\n",
       "      <th>10</th>\n",
       "      <td>4</td>\n",
       "      <td>yeshwith</td>\n",
       "      <td>sub5</td>\n",
       "    </tr>\n",
       "    <tr>\n",
       "      <th>11</th>\n",
       "      <td>5</td>\n",
       "      <td>bhikshalarao</td>\n",
       "      <td>sub8</td>\n",
       "    </tr>\n",
       "    <tr>\n",
       "      <th>12</th>\n",
       "      <td>6</td>\n",
       "      <td>nagaraju</td>\n",
       "      <td>sub9</td>\n",
       "    </tr>\n",
       "    <tr>\n",
       "      <th>13</th>\n",
       "      <td>7</td>\n",
       "      <td>vijayalakshmi</td>\n",
       "      <td>sub6</td>\n",
       "    </tr>\n",
       "  </tbody>\n",
       "</table>\n",
       "</div>"
      ],
      "text/plain": [
       "    id          names subjects\n",
       "0    1          Billy     sub2\n",
       "1    2          Brian     sub4\n",
       "2    3           Bran     sub3\n",
       "3    4          Bryce     sub6\n",
       "4    5          Betty     sub5\n",
       "5    6          devil     sub9\n",
       "6    7            god     sub8\n",
       "7    1          kiran     sub1\n",
       "8    2          kumar     sub2\n",
       "9    3           rani     sub4\n",
       "10   4       yeshwith     sub5\n",
       "11   5   bhikshalarao     sub8\n",
       "12   6       nagaraju     sub9\n",
       "13   7  vijayalakshmi     sub6"
      ]
     },
     "execution_count": 28,
     "metadata": {},
     "output_type": "execute_result"
    }
   ],
   "source": [
    "pd.concat([right,left],keys=['l','r'],ignore_index=True)"
   ]
  },
  {
   "cell_type": "code",
   "execution_count": 29,
   "metadata": {},
   "outputs": [
    {
     "data": {
      "text/html": [
       "<div>\n",
       "<style scoped>\n",
       "    .dataframe tbody tr th:only-of-type {\n",
       "        vertical-align: middle;\n",
       "    }\n",
       "\n",
       "    .dataframe tbody tr th {\n",
       "        vertical-align: top;\n",
       "    }\n",
       "\n",
       "    .dataframe thead th {\n",
       "        text-align: right;\n",
       "    }\n",
       "</style>\n",
       "<table border=\"1\" class=\"dataframe\">\n",
       "  <thead>\n",
       "    <tr style=\"text-align: right;\">\n",
       "      <th></th>\n",
       "      <th></th>\n",
       "      <th>id</th>\n",
       "      <th>names</th>\n",
       "      <th>subjects</th>\n",
       "    </tr>\n",
       "  </thead>\n",
       "  <tbody>\n",
       "    <tr>\n",
       "      <th rowspan=\"7\" valign=\"top\">l</th>\n",
       "      <th>0</th>\n",
       "      <td>1</td>\n",
       "      <td>Billy</td>\n",
       "      <td>sub2</td>\n",
       "    </tr>\n",
       "    <tr>\n",
       "      <th>1</th>\n",
       "      <td>2</td>\n",
       "      <td>Brian</td>\n",
       "      <td>sub4</td>\n",
       "    </tr>\n",
       "    <tr>\n",
       "      <th>2</th>\n",
       "      <td>3</td>\n",
       "      <td>Bran</td>\n",
       "      <td>sub3</td>\n",
       "    </tr>\n",
       "    <tr>\n",
       "      <th>3</th>\n",
       "      <td>4</td>\n",
       "      <td>Bryce</td>\n",
       "      <td>sub6</td>\n",
       "    </tr>\n",
       "    <tr>\n",
       "      <th>4</th>\n",
       "      <td>5</td>\n",
       "      <td>Betty</td>\n",
       "      <td>sub5</td>\n",
       "    </tr>\n",
       "    <tr>\n",
       "      <th>5</th>\n",
       "      <td>6</td>\n",
       "      <td>devil</td>\n",
       "      <td>sub9</td>\n",
       "    </tr>\n",
       "    <tr>\n",
       "      <th>6</th>\n",
       "      <td>7</td>\n",
       "      <td>god</td>\n",
       "      <td>sub8</td>\n",
       "    </tr>\n",
       "    <tr>\n",
       "      <th rowspan=\"7\" valign=\"top\">r</th>\n",
       "      <th>0</th>\n",
       "      <td>1</td>\n",
       "      <td>kiran</td>\n",
       "      <td>sub1</td>\n",
       "    </tr>\n",
       "    <tr>\n",
       "      <th>1</th>\n",
       "      <td>2</td>\n",
       "      <td>kumar</td>\n",
       "      <td>sub2</td>\n",
       "    </tr>\n",
       "    <tr>\n",
       "      <th>2</th>\n",
       "      <td>3</td>\n",
       "      <td>rani</td>\n",
       "      <td>sub4</td>\n",
       "    </tr>\n",
       "    <tr>\n",
       "      <th>3</th>\n",
       "      <td>4</td>\n",
       "      <td>yeshwith</td>\n",
       "      <td>sub5</td>\n",
       "    </tr>\n",
       "    <tr>\n",
       "      <th>4</th>\n",
       "      <td>5</td>\n",
       "      <td>bhikshalarao</td>\n",
       "      <td>sub8</td>\n",
       "    </tr>\n",
       "    <tr>\n",
       "      <th>5</th>\n",
       "      <td>6</td>\n",
       "      <td>nagaraju</td>\n",
       "      <td>sub9</td>\n",
       "    </tr>\n",
       "    <tr>\n",
       "      <th>6</th>\n",
       "      <td>7</td>\n",
       "      <td>vijayalakshmi</td>\n",
       "      <td>sub6</td>\n",
       "    </tr>\n",
       "  </tbody>\n",
       "</table>\n",
       "</div>"
      ],
      "text/plain": [
       "     id          names subjects\n",
       "l 0   1          Billy     sub2\n",
       "  1   2          Brian     sub4\n",
       "  2   3           Bran     sub3\n",
       "  3   4          Bryce     sub6\n",
       "  4   5          Betty     sub5\n",
       "  5   6          devil     sub9\n",
       "  6   7            god     sub8\n",
       "r 0   1          kiran     sub1\n",
       "  1   2          kumar     sub2\n",
       "  2   3           rani     sub4\n",
       "  3   4       yeshwith     sub5\n",
       "  4   5   bhikshalarao     sub8\n",
       "  5   6       nagaraju     sub9\n",
       "  6   7  vijayalakshmi     sub6"
      ]
     },
     "execution_count": 29,
     "metadata": {},
     "output_type": "execute_result"
    }
   ],
   "source": [
    "pd.concat([right,left],keys=['l','r'],ignore_index=False,axis=0)"
   ]
  },
  {
   "cell_type": "code",
   "execution_count": 30,
   "metadata": {},
   "outputs": [
    {
     "data": {
      "text/html": [
       "<div>\n",
       "<style scoped>\n",
       "    .dataframe tbody tr th:only-of-type {\n",
       "        vertical-align: middle;\n",
       "    }\n",
       "\n",
       "    .dataframe tbody tr th {\n",
       "        vertical-align: top;\n",
       "    }\n",
       "\n",
       "    .dataframe thead tr th {\n",
       "        text-align: left;\n",
       "    }\n",
       "</style>\n",
       "<table border=\"1\" class=\"dataframe\">\n",
       "  <thead>\n",
       "    <tr>\n",
       "      <th></th>\n",
       "      <th colspan=\"3\" halign=\"left\">l</th>\n",
       "      <th colspan=\"3\" halign=\"left\">r</th>\n",
       "    </tr>\n",
       "    <tr>\n",
       "      <th></th>\n",
       "      <th>id</th>\n",
       "      <th>names</th>\n",
       "      <th>subjects</th>\n",
       "      <th>id</th>\n",
       "      <th>names</th>\n",
       "      <th>subjects</th>\n",
       "    </tr>\n",
       "  </thead>\n",
       "  <tbody>\n",
       "    <tr>\n",
       "      <th>0</th>\n",
       "      <td>1</td>\n",
       "      <td>Billy</td>\n",
       "      <td>sub2</td>\n",
       "      <td>1</td>\n",
       "      <td>kiran</td>\n",
       "      <td>sub1</td>\n",
       "    </tr>\n",
       "    <tr>\n",
       "      <th>1</th>\n",
       "      <td>2</td>\n",
       "      <td>Brian</td>\n",
       "      <td>sub4</td>\n",
       "      <td>2</td>\n",
       "      <td>kumar</td>\n",
       "      <td>sub2</td>\n",
       "    </tr>\n",
       "    <tr>\n",
       "      <th>2</th>\n",
       "      <td>3</td>\n",
       "      <td>Bran</td>\n",
       "      <td>sub3</td>\n",
       "      <td>3</td>\n",
       "      <td>rani</td>\n",
       "      <td>sub4</td>\n",
       "    </tr>\n",
       "    <tr>\n",
       "      <th>3</th>\n",
       "      <td>4</td>\n",
       "      <td>Bryce</td>\n",
       "      <td>sub6</td>\n",
       "      <td>4</td>\n",
       "      <td>yeshwith</td>\n",
       "      <td>sub5</td>\n",
       "    </tr>\n",
       "    <tr>\n",
       "      <th>4</th>\n",
       "      <td>5</td>\n",
       "      <td>Betty</td>\n",
       "      <td>sub5</td>\n",
       "      <td>5</td>\n",
       "      <td>bhikshalarao</td>\n",
       "      <td>sub8</td>\n",
       "    </tr>\n",
       "    <tr>\n",
       "      <th>5</th>\n",
       "      <td>6</td>\n",
       "      <td>devil</td>\n",
       "      <td>sub9</td>\n",
       "      <td>6</td>\n",
       "      <td>nagaraju</td>\n",
       "      <td>sub9</td>\n",
       "    </tr>\n",
       "    <tr>\n",
       "      <th>6</th>\n",
       "      <td>7</td>\n",
       "      <td>god</td>\n",
       "      <td>sub8</td>\n",
       "      <td>7</td>\n",
       "      <td>vijayalakshmi</td>\n",
       "      <td>sub6</td>\n",
       "    </tr>\n",
       "  </tbody>\n",
       "</table>\n",
       "</div>"
      ],
      "text/plain": [
       "   l                  r                        \n",
       "  id  names subjects id          names subjects\n",
       "0  1  Billy     sub2  1          kiran     sub1\n",
       "1  2  Brian     sub4  2          kumar     sub2\n",
       "2  3   Bran     sub3  3           rani     sub4\n",
       "3  4  Bryce     sub6  4       yeshwith     sub5\n",
       "4  5  Betty     sub5  5   bhikshalarao     sub8\n",
       "5  6  devil     sub9  6       nagaraju     sub9\n",
       "6  7    god     sub8  7  vijayalakshmi     sub6"
      ]
     },
     "execution_count": 30,
     "metadata": {},
     "output_type": "execute_result"
    }
   ],
   "source": [
    "pd.concat([right,left],keys=['l','r'],ignore_index=False,axis=1)"
   ]
  },
  {
   "cell_type": "code",
   "execution_count": 32,
   "metadata": {},
   "outputs": [
    {
     "data": {
      "text/html": [
       "<div>\n",
       "<style scoped>\n",
       "    .dataframe tbody tr th:only-of-type {\n",
       "        vertical-align: middle;\n",
       "    }\n",
       "\n",
       "    .dataframe tbody tr th {\n",
       "        vertical-align: top;\n",
       "    }\n",
       "\n",
       "    .dataframe thead th {\n",
       "        text-align: right;\n",
       "    }\n",
       "</style>\n",
       "<table border=\"1\" class=\"dataframe\">\n",
       "  <thead>\n",
       "    <tr style=\"text-align: right;\">\n",
       "      <th></th>\n",
       "      <th>id</th>\n",
       "      <th>names</th>\n",
       "      <th>subjects</th>\n",
       "    </tr>\n",
       "  </thead>\n",
       "  <tbody>\n",
       "    <tr>\n",
       "      <th>0</th>\n",
       "      <td>1</td>\n",
       "      <td>Billy</td>\n",
       "      <td>sub2</td>\n",
       "    </tr>\n",
       "    <tr>\n",
       "      <th>1</th>\n",
       "      <td>2</td>\n",
       "      <td>Brian</td>\n",
       "      <td>sub4</td>\n",
       "    </tr>\n",
       "    <tr>\n",
       "      <th>2</th>\n",
       "      <td>3</td>\n",
       "      <td>Bran</td>\n",
       "      <td>sub3</td>\n",
       "    </tr>\n",
       "    <tr>\n",
       "      <th>3</th>\n",
       "      <td>4</td>\n",
       "      <td>Bryce</td>\n",
       "      <td>sub6</td>\n",
       "    </tr>\n",
       "    <tr>\n",
       "      <th>4</th>\n",
       "      <td>5</td>\n",
       "      <td>Betty</td>\n",
       "      <td>sub5</td>\n",
       "    </tr>\n",
       "    <tr>\n",
       "      <th>5</th>\n",
       "      <td>6</td>\n",
       "      <td>devil</td>\n",
       "      <td>sub9</td>\n",
       "    </tr>\n",
       "    <tr>\n",
       "      <th>6</th>\n",
       "      <td>7</td>\n",
       "      <td>god</td>\n",
       "      <td>sub8</td>\n",
       "    </tr>\n",
       "    <tr>\n",
       "      <th>0</th>\n",
       "      <td>1</td>\n",
       "      <td>kiran</td>\n",
       "      <td>sub1</td>\n",
       "    </tr>\n",
       "    <tr>\n",
       "      <th>1</th>\n",
       "      <td>2</td>\n",
       "      <td>kumar</td>\n",
       "      <td>sub2</td>\n",
       "    </tr>\n",
       "    <tr>\n",
       "      <th>2</th>\n",
       "      <td>3</td>\n",
       "      <td>rani</td>\n",
       "      <td>sub4</td>\n",
       "    </tr>\n",
       "    <tr>\n",
       "      <th>3</th>\n",
       "      <td>4</td>\n",
       "      <td>yeshwith</td>\n",
       "      <td>sub5</td>\n",
       "    </tr>\n",
       "    <tr>\n",
       "      <th>4</th>\n",
       "      <td>5</td>\n",
       "      <td>bhikshalarao</td>\n",
       "      <td>sub8</td>\n",
       "    </tr>\n",
       "    <tr>\n",
       "      <th>5</th>\n",
       "      <td>6</td>\n",
       "      <td>nagaraju</td>\n",
       "      <td>sub9</td>\n",
       "    </tr>\n",
       "    <tr>\n",
       "      <th>6</th>\n",
       "      <td>7</td>\n",
       "      <td>vijayalakshmi</td>\n",
       "      <td>sub6</td>\n",
       "    </tr>\n",
       "  </tbody>\n",
       "</table>\n",
       "</div>"
      ],
      "text/plain": [
       "   id          names subjects\n",
       "0   1          Billy     sub2\n",
       "1   2          Brian     sub4\n",
       "2   3           Bran     sub3\n",
       "3   4          Bryce     sub6\n",
       "4   5          Betty     sub5\n",
       "5   6          devil     sub9\n",
       "6   7            god     sub8\n",
       "0   1          kiran     sub1\n",
       "1   2          kumar     sub2\n",
       "2   3           rani     sub4\n",
       "3   4       yeshwith     sub5\n",
       "4   5   bhikshalarao     sub8\n",
       "5   6       nagaraju     sub9\n",
       "6   7  vijayalakshmi     sub6"
      ]
     },
     "execution_count": 32,
     "metadata": {},
     "output_type": "execute_result"
    }
   ],
   "source": [
    "right.append(left)"
   ]
  },
  {
   "cell_type": "code",
   "execution_count": 33,
   "metadata": {},
   "outputs": [
    {
     "data": {
      "text/html": [
       "<div>\n",
       "<style scoped>\n",
       "    .dataframe tbody tr th:only-of-type {\n",
       "        vertical-align: middle;\n",
       "    }\n",
       "\n",
       "    .dataframe tbody tr th {\n",
       "        vertical-align: top;\n",
       "    }\n",
       "\n",
       "    .dataframe thead th {\n",
       "        text-align: right;\n",
       "    }\n",
       "</style>\n",
       "<table border=\"1\" class=\"dataframe\">\n",
       "  <thead>\n",
       "    <tr style=\"text-align: right;\">\n",
       "      <th></th>\n",
       "      <th>id</th>\n",
       "      <th>names</th>\n",
       "      <th>subjects</th>\n",
       "    </tr>\n",
       "  </thead>\n",
       "  <tbody>\n",
       "    <tr>\n",
       "      <th>0</th>\n",
       "      <td>1</td>\n",
       "      <td>kiran</td>\n",
       "      <td>sub1</td>\n",
       "    </tr>\n",
       "    <tr>\n",
       "      <th>1</th>\n",
       "      <td>2</td>\n",
       "      <td>kumar</td>\n",
       "      <td>sub2</td>\n",
       "    </tr>\n",
       "    <tr>\n",
       "      <th>2</th>\n",
       "      <td>3</td>\n",
       "      <td>rani</td>\n",
       "      <td>sub4</td>\n",
       "    </tr>\n",
       "    <tr>\n",
       "      <th>3</th>\n",
       "      <td>4</td>\n",
       "      <td>yeshwith</td>\n",
       "      <td>sub5</td>\n",
       "    </tr>\n",
       "    <tr>\n",
       "      <th>4</th>\n",
       "      <td>5</td>\n",
       "      <td>bhikshalarao</td>\n",
       "      <td>sub8</td>\n",
       "    </tr>\n",
       "    <tr>\n",
       "      <th>5</th>\n",
       "      <td>6</td>\n",
       "      <td>nagaraju</td>\n",
       "      <td>sub9</td>\n",
       "    </tr>\n",
       "    <tr>\n",
       "      <th>6</th>\n",
       "      <td>7</td>\n",
       "      <td>vijayalakshmi</td>\n",
       "      <td>sub6</td>\n",
       "    </tr>\n",
       "    <tr>\n",
       "      <th>0</th>\n",
       "      <td>1</td>\n",
       "      <td>Billy</td>\n",
       "      <td>sub2</td>\n",
       "    </tr>\n",
       "    <tr>\n",
       "      <th>1</th>\n",
       "      <td>2</td>\n",
       "      <td>Brian</td>\n",
       "      <td>sub4</td>\n",
       "    </tr>\n",
       "    <tr>\n",
       "      <th>2</th>\n",
       "      <td>3</td>\n",
       "      <td>Bran</td>\n",
       "      <td>sub3</td>\n",
       "    </tr>\n",
       "    <tr>\n",
       "      <th>3</th>\n",
       "      <td>4</td>\n",
       "      <td>Bryce</td>\n",
       "      <td>sub6</td>\n",
       "    </tr>\n",
       "    <tr>\n",
       "      <th>4</th>\n",
       "      <td>5</td>\n",
       "      <td>Betty</td>\n",
       "      <td>sub5</td>\n",
       "    </tr>\n",
       "    <tr>\n",
       "      <th>5</th>\n",
       "      <td>6</td>\n",
       "      <td>devil</td>\n",
       "      <td>sub9</td>\n",
       "    </tr>\n",
       "    <tr>\n",
       "      <th>6</th>\n",
       "      <td>7</td>\n",
       "      <td>god</td>\n",
       "      <td>sub8</td>\n",
       "    </tr>\n",
       "    <tr>\n",
       "      <th>0</th>\n",
       "      <td>1</td>\n",
       "      <td>kiran</td>\n",
       "      <td>sub1</td>\n",
       "    </tr>\n",
       "    <tr>\n",
       "      <th>1</th>\n",
       "      <td>2</td>\n",
       "      <td>kumar</td>\n",
       "      <td>sub2</td>\n",
       "    </tr>\n",
       "    <tr>\n",
       "      <th>2</th>\n",
       "      <td>3</td>\n",
       "      <td>rani</td>\n",
       "      <td>sub4</td>\n",
       "    </tr>\n",
       "    <tr>\n",
       "      <th>3</th>\n",
       "      <td>4</td>\n",
       "      <td>yeshwith</td>\n",
       "      <td>sub5</td>\n",
       "    </tr>\n",
       "    <tr>\n",
       "      <th>4</th>\n",
       "      <td>5</td>\n",
       "      <td>bhikshalarao</td>\n",
       "      <td>sub8</td>\n",
       "    </tr>\n",
       "    <tr>\n",
       "      <th>5</th>\n",
       "      <td>6</td>\n",
       "      <td>nagaraju</td>\n",
       "      <td>sub9</td>\n",
       "    </tr>\n",
       "    <tr>\n",
       "      <th>6</th>\n",
       "      <td>7</td>\n",
       "      <td>vijayalakshmi</td>\n",
       "      <td>sub6</td>\n",
       "    </tr>\n",
       "    <tr>\n",
       "      <th>0</th>\n",
       "      <td>1</td>\n",
       "      <td>Billy</td>\n",
       "      <td>sub2</td>\n",
       "    </tr>\n",
       "    <tr>\n",
       "      <th>1</th>\n",
       "      <td>2</td>\n",
       "      <td>Brian</td>\n",
       "      <td>sub4</td>\n",
       "    </tr>\n",
       "    <tr>\n",
       "      <th>2</th>\n",
       "      <td>3</td>\n",
       "      <td>Bran</td>\n",
       "      <td>sub3</td>\n",
       "    </tr>\n",
       "    <tr>\n",
       "      <th>3</th>\n",
       "      <td>4</td>\n",
       "      <td>Bryce</td>\n",
       "      <td>sub6</td>\n",
       "    </tr>\n",
       "    <tr>\n",
       "      <th>4</th>\n",
       "      <td>5</td>\n",
       "      <td>Betty</td>\n",
       "      <td>sub5</td>\n",
       "    </tr>\n",
       "    <tr>\n",
       "      <th>5</th>\n",
       "      <td>6</td>\n",
       "      <td>devil</td>\n",
       "      <td>sub9</td>\n",
       "    </tr>\n",
       "    <tr>\n",
       "      <th>6</th>\n",
       "      <td>7</td>\n",
       "      <td>god</td>\n",
       "      <td>sub8</td>\n",
       "    </tr>\n",
       "  </tbody>\n",
       "</table>\n",
       "</div>"
      ],
      "text/plain": [
       "   id          names subjects\n",
       "0   1          kiran     sub1\n",
       "1   2          kumar     sub2\n",
       "2   3           rani     sub4\n",
       "3   4       yeshwith     sub5\n",
       "4   5   bhikshalarao     sub8\n",
       "5   6       nagaraju     sub9\n",
       "6   7  vijayalakshmi     sub6\n",
       "0   1          Billy     sub2\n",
       "1   2          Brian     sub4\n",
       "2   3           Bran     sub3\n",
       "3   4          Bryce     sub6\n",
       "4   5          Betty     sub5\n",
       "5   6          devil     sub9\n",
       "6   7            god     sub8\n",
       "0   1          kiran     sub1\n",
       "1   2          kumar     sub2\n",
       "2   3           rani     sub4\n",
       "3   4       yeshwith     sub5\n",
       "4   5   bhikshalarao     sub8\n",
       "5   6       nagaraju     sub9\n",
       "6   7  vijayalakshmi     sub6\n",
       "0   1          Billy     sub2\n",
       "1   2          Brian     sub4\n",
       "2   3           Bran     sub3\n",
       "3   4          Bryce     sub6\n",
       "4   5          Betty     sub5\n",
       "5   6          devil     sub9\n",
       "6   7            god     sub8"
      ]
     },
     "execution_count": 33,
     "metadata": {},
     "output_type": "execute_result"
    }
   ],
   "source": [
    "left.append([right,left,right])"
   ]
  },
  {
   "cell_type": "code",
   "execution_count": 36,
   "metadata": {},
   "outputs": [
    {
     "data": {
      "text/plain": [
       "datetime.datetime(2018, 4, 14, 19, 44, 52, 441036)"
      ]
     },
     "execution_count": 36,
     "metadata": {},
     "output_type": "execute_result"
    }
   ],
   "source": [
    "pd.datetime.now()"
   ]
  },
  {
   "cell_type": "code",
   "execution_count": 53,
   "metadata": {},
   "outputs": [
    {
     "data": {
      "text/plain": [
       "Timestamp('2018-04-15 00:00:00')"
      ]
     },
     "execution_count": 53,
     "metadata": {},
     "output_type": "execute_result"
    }
   ],
   "source": [
    "pd.Timestamp('2018-04-15')"
   ]
  },
  {
   "cell_type": "code",
   "execution_count": 54,
   "metadata": {},
   "outputs": [
    {
     "data": {
      "text/plain": [
       "DatetimeIndex(['2018-12-04', '2018-12-05', '2018-12-06', '2018-12-07',\n",
       "               '2018-12-08', '2018-12-09', '2018-12-10', '2018-12-11',\n",
       "               '2018-12-12', '2018-12-13',\n",
       "               ...\n",
       "               '2019-03-14', '2019-03-15', '2019-03-16', '2019-03-17',\n",
       "               '2019-03-18', '2019-03-19', '2019-03-20', '2019-03-21',\n",
       "               '2019-03-22', '2019-03-23'],\n",
       "              dtype='datetime64[ns]', length=110, freq='D')"
      ]
     },
     "execution_count": 54,
     "metadata": {},
     "output_type": "execute_result"
    }
   ],
   "source": [
    "pd.date_range('12/04/2018',periods=110)"
   ]
  },
  {
   "cell_type": "code",
   "execution_count": 56,
   "metadata": {},
   "outputs": [
    {
     "data": {
      "text/plain": [
       "DatetimeIndex(['2018-12-04 00:00:00', '2018-12-04 00:30:00',\n",
       "               '2018-12-04 01:00:00', '2018-12-04 01:30:00',\n",
       "               '2018-12-04 02:00:00', '2018-12-04 02:30:00',\n",
       "               '2018-12-04 03:00:00', '2018-12-04 03:30:00',\n",
       "               '2018-12-04 04:00:00', '2018-12-04 04:30:00',\n",
       "               ...\n",
       "               '2018-12-06 02:00:00', '2018-12-06 02:30:00',\n",
       "               '2018-12-06 03:00:00', '2018-12-06 03:30:00',\n",
       "               '2018-12-06 04:00:00', '2018-12-06 04:30:00',\n",
       "               '2018-12-06 05:00:00', '2018-12-06 05:30:00',\n",
       "               '2018-12-06 06:00:00', '2018-12-06 06:30:00'],\n",
       "              dtype='datetime64[ns]', length=110, freq='30T')"
      ]
     },
     "execution_count": 56,
     "metadata": {},
     "output_type": "execute_result"
    }
   ],
   "source": [
    "pd.date_range('12/04/2018',periods=110,freq='30min')"
   ]
  },
  {
   "cell_type": "code",
   "execution_count": 65,
   "metadata": {},
   "outputs": [],
   "source": [
    "s = pd.Series(pd.date_range('2012-1-1', periods=30, freq='M'))\n",
    "td = pd.Series([ pd.Timedelta(days=k) for k in range(30) ])\n",
    "df = pd.DataFrame(dict(A = s, B = td))"
   ]
  },
  {
   "cell_type": "code",
   "execution_count": 66,
   "metadata": {},
   "outputs": [
    {
     "data": {
      "text/html": [
       "<div>\n",
       "<style scoped>\n",
       "    .dataframe tbody tr th:only-of-type {\n",
       "        vertical-align: middle;\n",
       "    }\n",
       "\n",
       "    .dataframe tbody tr th {\n",
       "        vertical-align: top;\n",
       "    }\n",
       "\n",
       "    .dataframe thead th {\n",
       "        text-align: right;\n",
       "    }\n",
       "</style>\n",
       "<table border=\"1\" class=\"dataframe\">\n",
       "  <thead>\n",
       "    <tr style=\"text-align: right;\">\n",
       "      <th></th>\n",
       "      <th>A</th>\n",
       "      <th>B</th>\n",
       "    </tr>\n",
       "  </thead>\n",
       "  <tbody>\n",
       "    <tr>\n",
       "      <th>0</th>\n",
       "      <td>2012-01-31</td>\n",
       "      <td>0 days</td>\n",
       "    </tr>\n",
       "    <tr>\n",
       "      <th>1</th>\n",
       "      <td>2012-02-29</td>\n",
       "      <td>1 days</td>\n",
       "    </tr>\n",
       "    <tr>\n",
       "      <th>2</th>\n",
       "      <td>2012-03-31</td>\n",
       "      <td>2 days</td>\n",
       "    </tr>\n",
       "    <tr>\n",
       "      <th>3</th>\n",
       "      <td>2012-04-30</td>\n",
       "      <td>3 days</td>\n",
       "    </tr>\n",
       "    <tr>\n",
       "      <th>4</th>\n",
       "      <td>2012-05-31</td>\n",
       "      <td>4 days</td>\n",
       "    </tr>\n",
       "    <tr>\n",
       "      <th>5</th>\n",
       "      <td>2012-06-30</td>\n",
       "      <td>5 days</td>\n",
       "    </tr>\n",
       "    <tr>\n",
       "      <th>6</th>\n",
       "      <td>2012-07-31</td>\n",
       "      <td>6 days</td>\n",
       "    </tr>\n",
       "    <tr>\n",
       "      <th>7</th>\n",
       "      <td>2012-08-31</td>\n",
       "      <td>7 days</td>\n",
       "    </tr>\n",
       "    <tr>\n",
       "      <th>8</th>\n",
       "      <td>2012-09-30</td>\n",
       "      <td>8 days</td>\n",
       "    </tr>\n",
       "    <tr>\n",
       "      <th>9</th>\n",
       "      <td>2012-10-31</td>\n",
       "      <td>9 days</td>\n",
       "    </tr>\n",
       "    <tr>\n",
       "      <th>10</th>\n",
       "      <td>2012-11-30</td>\n",
       "      <td>10 days</td>\n",
       "    </tr>\n",
       "    <tr>\n",
       "      <th>11</th>\n",
       "      <td>2012-12-31</td>\n",
       "      <td>11 days</td>\n",
       "    </tr>\n",
       "    <tr>\n",
       "      <th>12</th>\n",
       "      <td>2013-01-31</td>\n",
       "      <td>12 days</td>\n",
       "    </tr>\n",
       "    <tr>\n",
       "      <th>13</th>\n",
       "      <td>2013-02-28</td>\n",
       "      <td>13 days</td>\n",
       "    </tr>\n",
       "    <tr>\n",
       "      <th>14</th>\n",
       "      <td>2013-03-31</td>\n",
       "      <td>14 days</td>\n",
       "    </tr>\n",
       "    <tr>\n",
       "      <th>15</th>\n",
       "      <td>2013-04-30</td>\n",
       "      <td>15 days</td>\n",
       "    </tr>\n",
       "    <tr>\n",
       "      <th>16</th>\n",
       "      <td>2013-05-31</td>\n",
       "      <td>16 days</td>\n",
       "    </tr>\n",
       "    <tr>\n",
       "      <th>17</th>\n",
       "      <td>2013-06-30</td>\n",
       "      <td>17 days</td>\n",
       "    </tr>\n",
       "    <tr>\n",
       "      <th>18</th>\n",
       "      <td>2013-07-31</td>\n",
       "      <td>18 days</td>\n",
       "    </tr>\n",
       "    <tr>\n",
       "      <th>19</th>\n",
       "      <td>2013-08-31</td>\n",
       "      <td>19 days</td>\n",
       "    </tr>\n",
       "    <tr>\n",
       "      <th>20</th>\n",
       "      <td>2013-09-30</td>\n",
       "      <td>20 days</td>\n",
       "    </tr>\n",
       "    <tr>\n",
       "      <th>21</th>\n",
       "      <td>2013-10-31</td>\n",
       "      <td>21 days</td>\n",
       "    </tr>\n",
       "    <tr>\n",
       "      <th>22</th>\n",
       "      <td>2013-11-30</td>\n",
       "      <td>22 days</td>\n",
       "    </tr>\n",
       "    <tr>\n",
       "      <th>23</th>\n",
       "      <td>2013-12-31</td>\n",
       "      <td>23 days</td>\n",
       "    </tr>\n",
       "    <tr>\n",
       "      <th>24</th>\n",
       "      <td>2014-01-31</td>\n",
       "      <td>24 days</td>\n",
       "    </tr>\n",
       "    <tr>\n",
       "      <th>25</th>\n",
       "      <td>2014-02-28</td>\n",
       "      <td>25 days</td>\n",
       "    </tr>\n",
       "    <tr>\n",
       "      <th>26</th>\n",
       "      <td>2014-03-31</td>\n",
       "      <td>26 days</td>\n",
       "    </tr>\n",
       "    <tr>\n",
       "      <th>27</th>\n",
       "      <td>2014-04-30</td>\n",
       "      <td>27 days</td>\n",
       "    </tr>\n",
       "    <tr>\n",
       "      <th>28</th>\n",
       "      <td>2014-05-31</td>\n",
       "      <td>28 days</td>\n",
       "    </tr>\n",
       "    <tr>\n",
       "      <th>29</th>\n",
       "      <td>2014-06-30</td>\n",
       "      <td>29 days</td>\n",
       "    </tr>\n",
       "  </tbody>\n",
       "</table>\n",
       "</div>"
      ],
      "text/plain": [
       "            A       B\n",
       "0  2012-01-31  0 days\n",
       "1  2012-02-29  1 days\n",
       "2  2012-03-31  2 days\n",
       "3  2012-04-30  3 days\n",
       "4  2012-05-31  4 days\n",
       "5  2012-06-30  5 days\n",
       "6  2012-07-31  6 days\n",
       "7  2012-08-31  7 days\n",
       "8  2012-09-30  8 days\n",
       "9  2012-10-31  9 days\n",
       "10 2012-11-30 10 days\n",
       "11 2012-12-31 11 days\n",
       "12 2013-01-31 12 days\n",
       "13 2013-02-28 13 days\n",
       "14 2013-03-31 14 days\n",
       "15 2013-04-30 15 days\n",
       "16 2013-05-31 16 days\n",
       "17 2013-06-30 17 days\n",
       "18 2013-07-31 18 days\n",
       "19 2013-08-31 19 days\n",
       "20 2013-09-30 20 days\n",
       "21 2013-10-31 21 days\n",
       "22 2013-11-30 22 days\n",
       "23 2013-12-31 23 days\n",
       "24 2014-01-31 24 days\n",
       "25 2014-02-28 25 days\n",
       "26 2014-03-31 26 days\n",
       "27 2014-04-30 27 days\n",
       "28 2014-05-31 28 days\n",
       "29 2014-06-30 29 days"
      ]
     },
     "execution_count": 66,
     "metadata": {},
     "output_type": "execute_result"
    }
   ],
   "source": [
    "df"
   ]
  },
  {
   "cell_type": "code",
   "execution_count": 67,
   "metadata": {},
   "outputs": [],
   "source": [
    "s = pd.Series(pd.date_range('2012-1-1', periods=3, freq='D'))\n",
    "td = pd.Series([ pd.Timedelta(days=i) for i in range(3) ])\n",
    "df = pd.DataFrame(dict(A = s, B = td))\n",
    "df['C']=df['A']+df['B']"
   ]
  },
  {
   "cell_type": "code",
   "execution_count": 68,
   "metadata": {},
   "outputs": [
    {
     "data": {
      "text/html": [
       "<div>\n",
       "<style scoped>\n",
       "    .dataframe tbody tr th:only-of-type {\n",
       "        vertical-align: middle;\n",
       "    }\n",
       "\n",
       "    .dataframe tbody tr th {\n",
       "        vertical-align: top;\n",
       "    }\n",
       "\n",
       "    .dataframe thead th {\n",
       "        text-align: right;\n",
       "    }\n",
       "</style>\n",
       "<table border=\"1\" class=\"dataframe\">\n",
       "  <thead>\n",
       "    <tr style=\"text-align: right;\">\n",
       "      <th></th>\n",
       "      <th>A</th>\n",
       "      <th>B</th>\n",
       "      <th>C</th>\n",
       "    </tr>\n",
       "  </thead>\n",
       "  <tbody>\n",
       "    <tr>\n",
       "      <th>0</th>\n",
       "      <td>2012-01-01</td>\n",
       "      <td>0 days</td>\n",
       "      <td>2012-01-01</td>\n",
       "    </tr>\n",
       "    <tr>\n",
       "      <th>1</th>\n",
       "      <td>2012-01-02</td>\n",
       "      <td>1 days</td>\n",
       "      <td>2012-01-03</td>\n",
       "    </tr>\n",
       "    <tr>\n",
       "      <th>2</th>\n",
       "      <td>2012-01-03</td>\n",
       "      <td>2 days</td>\n",
       "      <td>2012-01-05</td>\n",
       "    </tr>\n",
       "  </tbody>\n",
       "</table>\n",
       "</div>"
      ],
      "text/plain": [
       "           A      B          C\n",
       "0 2012-01-01 0 days 2012-01-01\n",
       "1 2012-01-02 1 days 2012-01-03\n",
       "2 2012-01-03 2 days 2012-01-05"
      ]
     },
     "execution_count": 68,
     "metadata": {},
     "output_type": "execute_result"
    }
   ],
   "source": [
    "df"
   ]
  },
  {
   "cell_type": "code",
   "execution_count": 69,
   "metadata": {},
   "outputs": [],
   "source": [
    "import numpy as np"
   ]
  },
  {
   "cell_type": "code",
   "execution_count": 92,
   "metadata": {},
   "outputs": [],
   "source": [
    "df=pd.DataFrame(np.random.rand(10,3),pd.date_range('2018/4/15',periods=10),columns=(['a','b','c']))"
   ]
  },
  {
   "cell_type": "code",
   "execution_count": 93,
   "metadata": {},
   "outputs": [
    {
     "data": {
      "text/html": [
       "<div>\n",
       "<style scoped>\n",
       "    .dataframe tbody tr th:only-of-type {\n",
       "        vertical-align: middle;\n",
       "    }\n",
       "\n",
       "    .dataframe tbody tr th {\n",
       "        vertical-align: top;\n",
       "    }\n",
       "\n",
       "    .dataframe thead th {\n",
       "        text-align: right;\n",
       "    }\n",
       "</style>\n",
       "<table border=\"1\" class=\"dataframe\">\n",
       "  <thead>\n",
       "    <tr style=\"text-align: right;\">\n",
       "      <th></th>\n",
       "      <th>a</th>\n",
       "      <th>b</th>\n",
       "      <th>c</th>\n",
       "    </tr>\n",
       "  </thead>\n",
       "  <tbody>\n",
       "    <tr>\n",
       "      <th>2018-04-15</th>\n",
       "      <td>0.574889</td>\n",
       "      <td>0.782001</td>\n",
       "      <td>0.985806</td>\n",
       "    </tr>\n",
       "    <tr>\n",
       "      <th>2018-04-16</th>\n",
       "      <td>0.057274</td>\n",
       "      <td>0.508672</td>\n",
       "      <td>0.702057</td>\n",
       "    </tr>\n",
       "    <tr>\n",
       "      <th>2018-04-17</th>\n",
       "      <td>0.674721</td>\n",
       "      <td>0.096502</td>\n",
       "      <td>0.775425</td>\n",
       "    </tr>\n",
       "    <tr>\n",
       "      <th>2018-04-18</th>\n",
       "      <td>0.186464</td>\n",
       "      <td>0.068018</td>\n",
       "      <td>0.023319</td>\n",
       "    </tr>\n",
       "    <tr>\n",
       "      <th>2018-04-19</th>\n",
       "      <td>0.315498</td>\n",
       "      <td>0.291544</td>\n",
       "      <td>0.363623</td>\n",
       "    </tr>\n",
       "    <tr>\n",
       "      <th>2018-04-20</th>\n",
       "      <td>0.542441</td>\n",
       "      <td>0.495588</td>\n",
       "      <td>0.563331</td>\n",
       "    </tr>\n",
       "    <tr>\n",
       "      <th>2018-04-21</th>\n",
       "      <td>0.330298</td>\n",
       "      <td>0.218629</td>\n",
       "      <td>0.920178</td>\n",
       "    </tr>\n",
       "    <tr>\n",
       "      <th>2018-04-22</th>\n",
       "      <td>0.364185</td>\n",
       "      <td>0.575997</td>\n",
       "      <td>0.114325</td>\n",
       "    </tr>\n",
       "    <tr>\n",
       "      <th>2018-04-23</th>\n",
       "      <td>0.373461</td>\n",
       "      <td>0.481016</td>\n",
       "      <td>0.106852</td>\n",
       "    </tr>\n",
       "    <tr>\n",
       "      <th>2018-04-24</th>\n",
       "      <td>0.219616</td>\n",
       "      <td>0.201488</td>\n",
       "      <td>0.308697</td>\n",
       "    </tr>\n",
       "  </tbody>\n",
       "</table>\n",
       "</div>"
      ],
      "text/plain": [
       "                   a         b         c\n",
       "2018-04-15  0.574889  0.782001  0.985806\n",
       "2018-04-16  0.057274  0.508672  0.702057\n",
       "2018-04-17  0.674721  0.096502  0.775425\n",
       "2018-04-18  0.186464  0.068018  0.023319\n",
       "2018-04-19  0.315498  0.291544  0.363623\n",
       "2018-04-20  0.542441  0.495588  0.563331\n",
       "2018-04-21  0.330298  0.218629  0.920178\n",
       "2018-04-22  0.364185  0.575997  0.114325\n",
       "2018-04-23  0.373461  0.481016  0.106852\n",
       "2018-04-24  0.219616  0.201488  0.308697"
      ]
     },
     "execution_count": 93,
     "metadata": {},
     "output_type": "execute_result"
    }
   ],
   "source": [
    "df"
   ]
  },
  {
   "cell_type": "code",
   "execution_count": 94,
   "metadata": {},
   "outputs": [
    {
     "data": {
      "text/plain": [
       "<matplotlib.axes._subplots.AxesSubplot at 0x7ffa9ec81b38>"
      ]
     },
     "execution_count": 94,
     "metadata": {},
     "output_type": "execute_result"
    },
    {
     "data": {
      "image/png": "[encoded data removed]",
      "text/plain": [
       "<Figure size 432x288 with 1 Axes>"
      ]
     },
     "metadata": {},
     "output_type": "display_data"
    }
   ],
   "source": [
    "import matplotlib.pyplot as plt\n",
    "df.plot()"
   ]
  },
  {
   "cell_type": "code",
   "execution_count": 95,
   "metadata": {},
   "outputs": [],
   "source": [
    "df=pd.DataFrame(np.random.rand(10,5), columns=('a','b','c','d','e'))"
   ]
  },
  {
   "cell_type": "code",
   "execution_count": 96,
   "metadata": {},
   "outputs": [
    {
     "data": {
      "text/plain": [
       "<matplotlib.axes._subplots.AxesSubplot at 0x7ffa9e4833c8>"
      ]
     },
     "execution_count": 96,
     "metadata": {},
     "output_type": "execute_result"
    },
    {
     "data": {
      "image/png": "[encoded data removed]",
      "text/plain": [
       "<Figure size 432x288 with 1 Axes>"
      ]
     },
     "metadata": {},
     "output_type": "display_data"
    }
   ],
   "source": [
    "df.plot.bar()"
   ]
  },
  {
   "cell_type": "code",
   "execution_count": 97,
   "metadata": {},
   "outputs": [
    {
     "data": {
      "text/plain": [
       "<matplotlib.axes._subplots.AxesSubplot at 0x7ffa9e43ecc0>"
      ]
     },
     "execution_count": 97,
     "metadata": {},
     "output_type": "execute_result"
    },
    {
     "data": {
      "image/png": "[encoded data removed]",
      "text/plain": [
       "<Figure size 432x288 with 1 Axes>"
      ]
     },
     "metadata": {},
     "output_type": "display_data"
    }
   ],
   "source": [
    "df.plot.hist()"
   ]
  },
  {
   "cell_type": "code",
   "execution_count": 98,
   "metadata": {},
   "outputs": [
    {
     "data": {
      "text/plain": [
       "<matplotlib.axes._subplots.AxesSubplot at 0x7ffa9e498780>"
      ]
     },
     "execution_count": 98,
     "metadata": {},
     "output_type": "execute_result"
    },
    {
     "data": {
      "image/png": "[encoded data removed]",
      "text/plain": [
       "<Figure size 432x288 with 1 Axes>"
      ]
     },
     "metadata": {},
     "output_type": "display_data"
    }
   ],
   "source": [
    "df.plot.box()"
   ]
  },
  {
   "cell_type": "code",
   "execution_count": 100,
   "metadata": {},
   "outputs": [
    {
     "data": {
      "text/plain": [
       "<matplotlib.axes._subplots.AxesSubplot at 0x7ffa9e3f6828>"
      ]
     },
     "execution_count": 100,
     "metadata": {},
     "output_type": "execute_result"
    },
    {
     "data": {
      "image/png": "[encoded data removed]",
      "text/plain": [
       "<Figure size 432x288 with 1 Axes>"
      ]
     },
     "metadata": {},
     "output_type": "display_data"
    }
   ],
   "source": [
    "df.plot.area()"
   ]
  },
  {
   "cell_type": "code",
   "execution_count": 103,
   "metadata": {},
   "outputs": [
    {
     "data": {
      "text/plain": [
       "<matplotlib.axes._subplots.AxesSubplot at 0x7ffa9e340518>"
      ]
     },
     "execution_count": 103,
     "metadata": {},
     "output_type": "execute_result"
    },
    {
     "data": {
      "image/png": "[encoded data removed]",
      "text/plain": [
       "<Figure size 432x288 with 1 Axes>"
      ]
     },
     "metadata": {},
     "output_type": "display_data"
    }
   ],
   "source": [
    "df.plot.scatter(x='a',y='b')"
   ]
  },
  {
   "cell_type": "code",
   "execution_count": 105,
   "metadata": {},
   "outputs": [
    {
     "data": {
      "text/plain": [
       "array([<matplotlib.axes._subplots.AxesSubplot object at 0x7ffa9e28aa20>],\n",
       "      dtype=object)"
      ]
     },
     "execution_count": 105,
     "metadata": {},
     "output_type": "execute_result"
    },
    {
     "data": {
      "image/png": "[encoded data removed]",
      "text/plain": [
       "<Figure size 432x288 with 1 Axes>"
      ]
     },
     "metadata": {},
     "output_type": "display_data"
    }
   ],
   "source": [
    "df = pd.DataFrame(3 * np.random.rand(4), index=['a', 'b', 'c', 'd'], columns=['x'])\n",
    "\n",
    "df.plot.pie(subplots=True)\n"
   ]
  },
  {
   "cell_type": "code",
   "execution_count": null,
   "metadata": {},
   "outputs": [],
   "source": []
  }
 ],
 "metadata": {
  "kernelspec": {
   "display_name": "Python 3",
   "language": "python",
   "name": "python3"
  },
  "language_info": {
   "codemirror_mode": {
    "name": "ipython",
    "version": 3
   },
   "file_extension": ".py",
   "mimetype": "text/x-python",
   "name": "python",
   "nbconvert_exporter": "python",
   "pygments_lexer": "ipython3",
   "version": "3.5.2"
  }
 },
 "nbformat": 4,
 "nbformat_minor": 2
}
